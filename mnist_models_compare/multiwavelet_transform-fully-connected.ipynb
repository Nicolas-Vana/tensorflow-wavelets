{
 "cells": [
  {
   "cell_type": "code",
   "execution_count": 1,
   "id": "a177ec7d",
   "metadata": {},
   "outputs": [],
   "source": [
    "import numpy as np\n",
    "import tensorflow as tf\n",
    "from tensorflow import keras\n",
    "from tensorflow.keras import layers, Model\n",
    "from tensorflow.keras.utils import to_categorical\n",
    "\n",
    "import os\n",
    "import sys  \n",
    "sys.path.insert(0, 'G:\\\\My Drive\\\\Colab Notebooks\\\\MWCNN')\n",
    "\n",
    "from Layers.DMWT import *\n",
    "from tensorflow.keras.datasets import mnist\n",
    "from tensorflow.keras.optimizers import Adam, SGD"
   ]
  },
  {
   "cell_type": "code",
   "execution_count": 2,
   "id": "ba52173b",
   "metadata": {},
   "outputs": [],
   "source": [
    "nb_classes = 10\n",
    "batch_size = 32\n",
    "epochs = 40\n",
    "\n",
    "lr = 1e-4  # learning rate\n",
    "beta_1 = 0.9         # beta 1 - for adam optimizer\n",
    "beta_2 = 0.96        # beta 2 - for adam optimizer\n",
    "epsilon = 1e-7        # epsilon - for adam optimizer\n",
    "\n",
    "trainFactor = 0.8\n",
    "input_shape = (28, 28, 1)\n",
    "\n",
    "# optimizer = Adam(learning_rate=lr, beta_1=beta_1, beta_2=beta_2, epsilon=epsilon)\n",
    "optimizer = SGD(lr=lr, momentum=beta_1)\n",
    "\n",
    "(x_train, y_train), (x_test, y_test) = mnist.load_data()\n",
    "\n",
    "y_train = to_categorical(y_train)\n",
    "y_test = to_categorical(y_test)\n",
    "x_train = x_train.astype('float32') / 255.0\n",
    "x_train = np.expand_dims(x_train, axis=-1)\n",
    "\n",
    "x_test = x_test.astype('float32') / 255.0\n",
    "x_test = np.expand_dims(x_test, axis=-1)\n"
   ]
  },
  {
   "cell_type": "code",
   "execution_count": 3,
   "id": "33273bbf",
   "metadata": {},
   "outputs": [
    {
     "name": "stdout",
     "output_type": "stream",
     "text": [
      "WARNING:tensorflow:From C:\\Users\\Olya\\Anaconda3\\envs\\dwtcnn\\lib\\site-packages\\tensorflow_core\\python\\ops\\resource_variable_ops.py:1630: calling BaseResourceVariable.__init__ (from tensorflow.python.ops.resource_variable_ops) with constraint is deprecated and will be removed in a future version.\n",
      "Instructions for updating:\n",
      "If using Keras pass *_constraint arguments to layers.\n",
      "Model: \"mymodel\"\n",
      "_________________________________________________________________\n",
      "Layer (type)                 Output Shape              Param #   \n",
      "=================================================================\n",
      "input_1 (InputLayer)         [(None, 28, 28, 1)]       0         \n",
      "_________________________________________________________________\n",
      "dmwt (DMWT)                  (None, 56, 56, 1)         0         \n",
      "_________________________________________________________________\n",
      "flatten (Flatten)            (None, 3136)              0         \n",
      "_________________________________________________________________\n",
      "dense (Dense)                (None, 10)                31370     \n",
      "=================================================================\n",
      "Total params: 31,370\n",
      "Trainable params: 31,370\n",
      "Non-trainable params: 0\n",
      "_________________________________________________________________\n"
     ]
    }
   ],
   "source": [
    "# load DWT db2 model\n",
    "input_shape = (28, 28, 1) \n",
    "\n",
    "x_input = layers.Input(shape=input_shape)\n",
    "x = DMWT()(x_input)\n",
    "x = layers.Flatten()(x)\n",
    "x = layers.Dense(nb_classes, activation=\"softmax\")(x)\n",
    "\n",
    "model = Model(x_input, x, name=\"mymodel\")\n",
    "model.summary()\n",
    "\n"
   ]
  },
  {
   "cell_type": "code",
   "execution_count": 4,
   "id": "30715c34",
   "metadata": {},
   "outputs": [],
   "source": [
    "model.compile(loss=\"categorical_crossentropy\",\n",
    "              optimizer=optimizer, metrics=[\"accuracy\"])"
   ]
  },
  {
   "cell_type": "code",
   "execution_count": null,
   "id": "178e4e7d",
   "metadata": {},
   "outputs": [
    {
     "name": "stdout",
     "output_type": "stream",
     "text": [
      "Train on 48000 samples, validate on 12000 samples\n",
      "Epoch 1/40\n",
      "48000/48000 - 3s - loss: 1.4364 - acc: 0.6693 - val_loss: 0.9370 - val_acc: 0.8273\n",
      "Epoch 2/40\n",
      "48000/48000 - 3s - loss: 0.8270 - acc: 0.8254 - val_loss: 0.6844 - val_acc: 0.8582\n",
      "Epoch 3/40\n",
      "48000/48000 - 3s - loss: 0.6676 - acc: 0.8491 - val_loss: 0.5824 - val_acc: 0.8702\n",
      "Epoch 4/40\n",
      "48000/48000 - 3s - loss: 0.5904 - acc: 0.8603 - val_loss: 0.5259 - val_acc: 0.8774\n",
      "Epoch 5/40\n",
      "48000/48000 - 3s - loss: 0.5434 - acc: 0.8668 - val_loss: 0.4895 - val_acc: 0.8818\n",
      "Epoch 6/40\n",
      "48000/48000 - 3s - loss: 0.5113 - acc: 0.8720 - val_loss: 0.4637 - val_acc: 0.8858\n",
      "Epoch 7/40\n",
      "48000/48000 - 3s - loss: 0.4876 - acc: 0.8757 - val_loss: 0.4444 - val_acc: 0.8883\n",
      "Epoch 8/40\n",
      "48000/48000 - 3s - loss: 0.4693 - acc: 0.8792 - val_loss: 0.4293 - val_acc: 0.8909\n",
      "Epoch 9/40\n",
      "48000/48000 - 3s - loss: 0.4545 - acc: 0.8816 - val_loss: 0.4171 - val_acc: 0.8923\n",
      "Epoch 10/40\n",
      "48000/48000 - 3s - loss: 0.4424 - acc: 0.8840 - val_loss: 0.4070 - val_acc: 0.8940\n",
      "Epoch 11/40\n",
      "48000/48000 - 3s - loss: 0.4321 - acc: 0.8855 - val_loss: 0.3984 - val_acc: 0.8958\n",
      "Epoch 12/40\n",
      "48000/48000 - 3s - loss: 0.4233 - acc: 0.8871 - val_loss: 0.3912 - val_acc: 0.8970\n",
      "Epoch 13/40\n",
      "48000/48000 - 3s - loss: 0.4156 - acc: 0.8889 - val_loss: 0.3847 - val_acc: 0.8996\n",
      "Epoch 14/40\n",
      "48000/48000 - 3s - loss: 0.4088 - acc: 0.8898 - val_loss: 0.3792 - val_acc: 0.8995\n",
      "Epoch 15/40\n",
      "48000/48000 - 3s - loss: 0.4028 - acc: 0.8915 - val_loss: 0.3741 - val_acc: 0.9015\n",
      "Epoch 16/40\n",
      "48000/48000 - 3s - loss: 0.3974 - acc: 0.8925 - val_loss: 0.3696 - val_acc: 0.9027\n",
      "Epoch 17/40\n",
      "48000/48000 - 3s - loss: 0.3925 - acc: 0.8938 - val_loss: 0.3654 - val_acc: 0.9030\n",
      "Epoch 18/40\n",
      "48000/48000 - 3s - loss: 0.3881 - acc: 0.8950 - val_loss: 0.3618 - val_acc: 0.9027\n",
      "Epoch 19/40\n",
      "48000/48000 - 3s - loss: 0.3840 - acc: 0.8953 - val_loss: 0.3585 - val_acc: 0.9039\n",
      "Epoch 20/40\n",
      "48000/48000 - 3s - loss: 0.3802 - acc: 0.8962 - val_loss: 0.3553 - val_acc: 0.9043\n",
      "Epoch 21/40\n",
      "48000/48000 - 3s - loss: 0.3768 - acc: 0.8965 - val_loss: 0.3525 - val_acc: 0.9043\n",
      "Epoch 22/40\n",
      "48000/48000 - 3s - loss: 0.3735 - acc: 0.8974 - val_loss: 0.3499 - val_acc: 0.9047\n",
      "Epoch 23/40\n",
      "48000/48000 - 3s - loss: 0.3705 - acc: 0.8979 - val_loss: 0.3474 - val_acc: 0.9054\n",
      "Epoch 24/40\n",
      "48000/48000 - 3s - loss: 0.3677 - acc: 0.8984 - val_loss: 0.3450 - val_acc: 0.9061\n",
      "Epoch 25/40\n",
      "48000/48000 - 3s - loss: 0.3651 - acc: 0.8994 - val_loss: 0.3431 - val_acc: 0.9062\n",
      "Epoch 26/40\n",
      "48000/48000 - 3s - loss: 0.3626 - acc: 0.8996 - val_loss: 0.3409 - val_acc: 0.9065\n",
      "Epoch 27/40\n",
      "48000/48000 - 3s - loss: 0.3603 - acc: 0.9009 - val_loss: 0.3390 - val_acc: 0.9074\n",
      "Epoch 28/40\n",
      "48000/48000 - 3s - loss: 0.3581 - acc: 0.9012 - val_loss: 0.3372 - val_acc: 0.9077\n",
      "Epoch 29/40\n",
      "48000/48000 - 3s - loss: 0.3560 - acc: 0.9014 - val_loss: 0.3354 - val_acc: 0.9080\n",
      "Epoch 30/40\n",
      "48000/48000 - 3s - loss: 0.3541 - acc: 0.9020 - val_loss: 0.3338 - val_acc: 0.9086\n",
      "Epoch 31/40\n",
      "48000/48000 - 3s - loss: 0.3521 - acc: 0.9025 - val_loss: 0.3323 - val_acc: 0.9086\n",
      "Epoch 32/40\n",
      "48000/48000 - 3s - loss: 0.3504 - acc: 0.9027 - val_loss: 0.3309 - val_acc: 0.9095\n",
      "Epoch 33/40\n",
      "48000/48000 - 3s - loss: 0.3487 - acc: 0.9031 - val_loss: 0.3295 - val_acc: 0.9096\n",
      "Epoch 34/40\n",
      "48000/48000 - 3s - loss: 0.3470 - acc: 0.9040 - val_loss: 0.3281 - val_acc: 0.9098\n",
      "Epoch 35/40\n",
      "48000/48000 - 3s - loss: 0.3454 - acc: 0.9041 - val_loss: 0.3269 - val_acc: 0.9105\n",
      "Epoch 36/40\n"
     ]
    }
   ],
   "source": [
    "history = model.fit(x_train, y_train,\n",
    "                    validation_split=1 - trainFactor,\n",
    "                    epochs=epochs,\n",
    "                    batch_size=batch_size,\n",
    "                    verbose=2,\n",
    "                    )"
   ]
  },
  {
   "cell_type": "code",
   "execution_count": null,
   "id": "376a481a",
   "metadata": {},
   "outputs": [],
   "source": [
    "import matplotlib.pyplot as plt\n",
    "plt.plot(history.history['loss'])\n",
    "plt.plot(history.history['val_loss'])\n",
    "plt.title('model loss')\n",
    "plt.ylabel('loss')\n",
    "plt.xlabel('epoch')\n",
    "plt.legend(['train', 'validation'], loc='upper left')\n",
    "\n",
    "plt.show()"
   ]
  },
  {
   "cell_type": "code",
   "execution_count": null,
   "id": "cc79c06b",
   "metadata": {},
   "outputs": [],
   "source": []
  }
 ],
 "metadata": {
  "kernelspec": {
   "display_name": "Python 3",
   "language": "python",
   "name": "python3"
  },
  "language_info": {
   "codemirror_mode": {
    "name": "ipython",
    "version": 3
   },
   "file_extension": ".py",
   "mimetype": "text/x-python",
   "name": "python",
   "nbconvert_exporter": "python",
   "pygments_lexer": "ipython3",
   "version": "3.6.13"
  }
 },
 "nbformat": 4,
 "nbformat_minor": 5
}
