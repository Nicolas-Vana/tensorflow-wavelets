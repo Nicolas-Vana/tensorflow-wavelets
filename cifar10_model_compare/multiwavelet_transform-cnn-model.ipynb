{
 "cells": [
  {
   "cell_type": "code",
   "execution_count": 16,
   "id": "a177ec7d",
   "metadata": {},
   "outputs": [],
   "source": [
    "import numpy as np\n",
    "import tensorflow as tf\n",
    "from tensorflow import keras\n",
    "from tensorflow.keras import layers, Model\n",
    "from tensorflow.keras.utils import to_categorical\n",
    "\n",
    "import os\n",
    "import sys  \n",
    "sys.path.insert(0, 'G:\\\\My Drive\\\\Colab Notebooks\\\\MWCNN')\n",
    "\n",
    "from Layers.DMWT import *\n",
    "from tensorflow.keras.datasets import cifar10\n",
    "from tensorflow.keras.optimizers import Adam, SGD"
   ]
  },
  {
   "cell_type": "code",
   "execution_count": 17,
   "id": "ba52173b",
   "metadata": {},
   "outputs": [],
   "source": [
    "nb_classes = 10\n",
    "batch_size = 32\n",
    "epochs = 40\n",
    "\n",
    "lr = 1e-4  # learning rate\n",
    "beta_1 = 0.9         # beta 1 - for adam optimizer\n",
    "beta_2 = 0.96        # beta 2 - for adam optimizer\n",
    "epsilon = 1e-7        # epsilon - for adam optimizer\n",
    "\n",
    "trainFactor = 0.8\n",
    "input_shape = (32, 32, 3) \n",
    "\n",
    "# optimizer = Adam(learning_rate=lr, beta_1=beta_1, beta_2=beta_2, epsilon=epsilon)\n",
    "optimizer = SGD(lr=lr, momentum=beta_1)\n",
    "\n",
    "(x_train, y_train), (x_test, y_test) = cifar10.load_data()\n",
    "\n",
    "y_train = to_categorical(y_train)\n",
    "y_test = to_categorical(y_test)\n",
    "x_train = x_train.astype('float32') / 255.0\n",
    "\n",
    "x_test = x_test.astype('float32') / 255.0\n"
   ]
  },
  {
   "cell_type": "code",
   "execution_count": 18,
   "id": "33273bbf",
   "metadata": {},
   "outputs": [
    {
     "name": "stdout",
     "output_type": "stream",
     "text": [
      "Model: \"mymodel\"\n",
      "_________________________________________________________________\n",
      "Layer (type)                 Output Shape              Param #   \n",
      "=================================================================\n",
      "input_5 (InputLayer)         [(None, 32, 32, 3)]       0         \n",
      "_________________________________________________________________\n",
      "conv2d_8 (Conv2D)            (None, 32, 32, 32)        896       \n",
      "_________________________________________________________________\n",
      "dmwt_4 (DMWT)                (None, 64, 64, 32)        0         \n",
      "_________________________________________________________________\n",
      "conv2d_9 (Conv2D)            (None, 64, 64, 64)        18496     \n",
      "_________________________________________________________________\n",
      "dropout_4 (Dropout)          (None, 64, 64, 64)        0         \n",
      "_________________________________________________________________\n",
      "flatten_4 (Flatten)          (None, 262144)            0         \n",
      "_________________________________________________________________\n",
      "dense_4 (Dense)              (None, 10)                2621450   \n",
      "=================================================================\n",
      "Total params: 2,640,842\n",
      "Trainable params: 2,640,842\n",
      "Non-trainable params: 0\n",
      "_________________________________________________________________\n"
     ]
    }
   ],
   "source": [
    "\n",
    "x_input = layers.Input(shape=input_shape)\n",
    "x = layers.Conv2D(32, (3, 3), padding='same', activation=\"relu\")(x_input)\n",
    "x = DMWT()(x)\n",
    "x = layers.Conv2D(64, (3, 3), padding='same', activation=\"relu\")(x)\n",
    "x = layers.Dropout(0.5)(x)\n",
    "x = layers.Flatten()(x)\n",
    "x = layers.Dense(nb_classes, activation=\"softmax\")(x)\n",
    "\n",
    "model = Model(x_input, x, name=\"mymodel\")\n",
    "model.summary()\n",
    "\n"
   ]
  },
  {
   "cell_type": "code",
   "execution_count": 19,
   "id": "30715c34",
   "metadata": {},
   "outputs": [],
   "source": [
    "model.compile(loss=\"categorical_crossentropy\",\n",
    "              optimizer=optimizer, metrics=[\"accuracy\"])"
   ]
  },
  {
   "cell_type": "code",
   "execution_count": null,
   "id": "178e4e7d",
   "metadata": {},
   "outputs": [
    {
     "name": "stdout",
     "output_type": "stream",
     "text": [
      "Train on 40000 samples, validate on 10000 samples\n",
      "Epoch 1/40\n",
      "40000/40000 - 96s - loss: 2.0297 - acc: 0.2810 - val_loss: 1.8751 - val_acc: 0.3486\n",
      "Epoch 2/40\n",
      "40000/40000 - 93s - loss: 1.8128 - acc: 0.3706 - val_loss: 1.7687 - val_acc: 0.3867\n",
      "Epoch 3/40\n",
      "40000/40000 - 93s - loss: 1.7181 - acc: 0.4051 - val_loss: 1.6923 - val_acc: 0.4185\n",
      "Epoch 4/40\n",
      "40000/40000 - 93s - loss: 1.6349 - acc: 0.4356 - val_loss: 1.6185 - val_acc: 0.4421\n",
      "Epoch 5/40\n",
      "40000/40000 - 95s - loss: 1.5608 - acc: 0.4591 - val_loss: 1.5449 - val_acc: 0.4617\n",
      "Epoch 6/40\n",
      "40000/40000 - 96s - loss: 1.4929 - acc: 0.4816 - val_loss: 1.4812 - val_acc: 0.4851\n",
      "Epoch 7/40\n",
      "40000/40000 - 93s - loss: 1.4362 - acc: 0.4959 - val_loss: 1.4581 - val_acc: 0.4903\n",
      "Epoch 8/40\n",
      "40000/40000 - 94s - loss: 1.3907 - acc: 0.5120 - val_loss: 1.3932 - val_acc: 0.5143\n",
      "Epoch 9/40\n",
      "40000/40000 - 94s - loss: 1.3549 - acc: 0.5261 - val_loss: 1.3835 - val_acc: 0.5118\n",
      "Epoch 10/40\n",
      "40000/40000 - 93s - loss: 1.3268 - acc: 0.5318 - val_loss: 1.3461 - val_acc: 0.5316\n",
      "Epoch 11/40\n",
      "40000/40000 - 93s - loss: 1.3092 - acc: 0.5409 - val_loss: 1.3470 - val_acc: 0.5274\n",
      "Epoch 12/40\n",
      "40000/40000 - 94s - loss: 1.2888 - acc: 0.5494 - val_loss: 1.3246 - val_acc: 0.5366\n",
      "Epoch 13/40\n",
      "40000/40000 - 94s - loss: 1.2699 - acc: 0.5580 - val_loss: 1.3062 - val_acc: 0.5433\n",
      "Epoch 14/40\n",
      "40000/40000 - 95s - loss: 1.2553 - acc: 0.5586 - val_loss: 1.3084 - val_acc: 0.5411\n",
      "Epoch 15/40\n",
      "40000/40000 - 94s - loss: 1.2408 - acc: 0.5658 - val_loss: 1.2891 - val_acc: 0.5513\n",
      "Epoch 16/40\n",
      "40000/40000 - 93s - loss: 1.2269 - acc: 0.5723 - val_loss: 1.2806 - val_acc: 0.5532\n",
      "Epoch 17/40\n",
      "40000/40000 - 94s - loss: 1.2120 - acc: 0.5752 - val_loss: 1.2900 - val_acc: 0.5467\n",
      "Epoch 18/40\n",
      "40000/40000 - 94s - loss: 1.1964 - acc: 0.5826 - val_loss: 1.2610 - val_acc: 0.5605\n",
      "Epoch 19/40\n",
      "40000/40000 - 94s - loss: 1.1839 - acc: 0.5872 - val_loss: 1.2395 - val_acc: 0.5703\n",
      "Epoch 20/40\n",
      "40000/40000 - 94s - loss: 1.1705 - acc: 0.5919 - val_loss: 1.2345 - val_acc: 0.5683\n",
      "Epoch 21/40\n",
      "40000/40000 - 506s - loss: 1.1566 - acc: 0.5983 - val_loss: 1.2246 - val_acc: 0.5765\n",
      "Epoch 22/40\n"
     ]
    }
   ],
   "source": [
    "history = model.fit(x_train, y_train,\n",
    "                    validation_split=1 - trainFactor,\n",
    "                    epochs=epochs,\n",
    "                    batch_size=batch_size,\n",
    "                    verbose=2,\n",
    "                    )"
   ]
  },
  {
   "cell_type": "code",
   "execution_count": null,
   "id": "376a481a",
   "metadata": {},
   "outputs": [],
   "source": [
    "import matplotlib.pyplot as plt\n",
    "plt.plot(history.history['loss'])\n",
    "plt.plot(history.history['val_loss'])\n",
    "plt.title('model loss')\n",
    "plt.ylabel('loss')\n",
    "plt.xlabel('epoch')\n",
    "plt.legend(['train', 'validation'], loc='upper left')\n",
    "\n",
    "plt.show()"
   ]
  },
  {
   "cell_type": "code",
   "execution_count": null,
   "id": "cc79c06b",
   "metadata": {},
   "outputs": [],
   "source": []
  },
  {
   "cell_type": "code",
   "execution_count": null,
   "id": "cc7c80bd",
   "metadata": {},
   "outputs": [],
   "source": []
  }
 ],
 "metadata": {
  "kernelspec": {
   "display_name": "Python 3",
   "language": "python",
   "name": "python3"
  },
  "language_info": {
   "codemirror_mode": {
    "name": "ipython",
    "version": 3
   },
   "file_extension": ".py",
   "mimetype": "text/x-python",
   "name": "python",
   "nbconvert_exporter": "python",
   "pygments_lexer": "ipython3",
   "version": "3.6.13"
  }
 },
 "nbformat": 4,
 "nbformat_minor": 5
}
