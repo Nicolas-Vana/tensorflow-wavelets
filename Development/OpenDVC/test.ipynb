{
 "cells": [
  {
   "cell_type": "code",
   "execution_count": null,
   "metadata": {},
   "outputs": [],
   "source": [
    "import numpy as np\n",
    "\n",
    "import load\n",
    "import tensorflow as tf\n",
    "import motion\n",
    "import numpy as np\n",
    "from motion import OpticalFlow\n",
    "import tensorflow_compression as tfc\n",
    "import tensorflow_addons as tfa\n",
    "\n",
    "batch_size = 4\n",
    "Height = 256\n",
    "Width = 256\n",
    "Channel = 3\n",
    "lr_init = 1e-4\n",
    "frames=2\n",
    "I_QP = 27\n",
    "l = 256\n",
    "\n",
    "\n",
    "folder = np.load(\"/mnt/WindowsDev/Developer/tensorflow-wavelets/folder_cloud.npy\")\n",
    "#a = load.load_data()\n",
    "data = np.zeros([frames, batch_size, Height, Width, Channel])\n",
    "data = load.load_data(data, frames, batch_size, Height, Width, Channel, folder, I_QP)\n",
    "print(\"Data Load done! ...\")"
   ]
  },
  {
   "cell_type": "code",
   "execution_count": null,
   "metadata": {},
   "outputs": [],
   "source": [
    "data.shape"
   ]
  },
  {
   "cell_type": "code",
   "execution_count": null,
   "metadata": {},
   "outputs": [],
   "source": [
    "%matplotlib inline\n",
    "import matplotlib.pyplot as plt\n"
   ]
  },
  {
   "cell_type": "code",
   "execution_count": null,
   "metadata": {},
   "outputs": [],
   "source": [
    "cnt = 1\n",
    "fig = plt.figure()\n",
    "for idx in range(frames):\n",
    "    for b in range(batch_size):\n",
    "        ax = fig.add_subplot(frames, batch_size, cnt)\n",
    "        imgplot = plt.imshow(data[idx, b, :, :, :].astype(np.uint8))\n",
    "        plt.axis(\"off\")\n",
    "        cnt +=1\n",
    "    "
   ]
  },
  {
   "cell_type": "code",
   "execution_count": null,
   "metadata": {},
   "outputs": [],
   "source": [
    "\n",
    "\n",
    "\n",
    "num_filters = 128\n",
    "kernel_size = 3\n",
    "M = 2\n",
    "\n",
    "inputs_y0_com = tf.keras.Input(shape=(Width, Height, Channel,))\n",
    "inputs_y1_raw = tf.keras.Input(shape=(Width, Height, Channel,))\n",
    "\n",
    "x = OpticalFlow()([inputs_y0_com, inputs_y1_raw])\n",
    "\n",
    "mt = motion.encoder(x , num_filters=num_filters, kernel_size=kernel_size, M=M)\n",
    "\n",
    "# Entropy bottelneck\n",
    "noisy = tfc.NoisyNormal(loc=.5, scale=8.)\n",
    "entropy_quantizer_mv = tfc.ContinuousBatchedEntropyModel(noisy, 1, compression=True)\n",
    "mt_hat, MV_likelihoods = entropy_quantizer_mv(mt, training=True)\n",
    "vt_hat = motion.decoder(mt_hat, num_filters=128, kernel_size=3, M=2)\n",
    "\n",
    "model = tf.keras.Model([inputs_y0_com, inputs_y1_raw], vt_hat)\n",
    "# Y1_warp = tfa.image.dense_image_warp(inputs_y0_com, vt_hat )\n",
    "# MC_input = tf.concat([vt_hat, inputs_y0_com, Y1_warp], axis=-1)\n",
    "# Y1_MC = motion.MotionCompensation(MC_input)\n",
    "# Res = inputs_y1_raw - Y1_MC\n",
    "# res_latent = motion.encoder(Res, num_filters=128, kernel_size=5, M=128)\n",
    "# \n"
   ]
  },
  {
   "cell_type": "code",
   "execution_count": null,
   "metadata": {},
   "outputs": [],
   "source": [
    "epochs = 15\n",
    "(x_train, y_train), (x_test, y_test) = load_mnist(remove_n_samples=1000)\n",
    "\n",
    "model.compile(optimizer=\"rmsprop\", loss=\"categorical_crossentropy\")\n",
    "model.fit([x_train, x_train], x_train, validation_split=0.2, epochs=20, batch_size=32, verbose=1,)\n",
    "\n",
    "# model.fit(train_gen, epochs=epochs, validation_data=val_gen, callbacks=callbacks)"
   ]
  },
  {
   "cell_type": "code",
   "execution_count": null,
   "metadata": {},
   "outputs": [],
   "source": [
    "from tensorflow.keras.datasets import mnist\n",
    "from tensorflow.keras.utils import to_categorical\n",
    "def load_mnist(categorical=True, remove_n_samples=1000, expand_d=False):\n",
    "    (x_train, y_train), (x_test, y_test) = mnist.load_data()\n",
    "\n",
    "    # Remove images to get smaller dataset\n",
    "    if remove_n_samples != 0:\n",
    "        x_train = x_train[:remove_n_samples, :, :]\n",
    "        y_train = y_train[:remove_n_samples]\n",
    "        x_test = x_test[:remove_n_samples//2, :, :]\n",
    "        y_test = y_test[:remove_n_samples//2]\n",
    "\n",
    "    if categorical:\n",
    "        y_train = to_categorical(y_train)\n",
    "        y_test = to_categorical(y_test)\n",
    "\n",
    "    x_train = x_train.astype('float32') / 255.0\n",
    "    x_test = x_test.astype('float32') / 255.0\n",
    "\n",
    "    x_train = np.expand_dims(x_train, axis=-1)\n",
    "    x_test = np.expand_dims(x_test, axis=-1)\n",
    "\n",
    "    x_train = np.repeat(x_train, 3, axis=-1)\n",
    "    x_test = np.repeat(x_test, 3, axis=-1)\n",
    "\n",
    "    x_train = tf.image.resize(x_train, [256,256]) # if we want to resize\n",
    "    x_test = tf.image.resize(x_test, [256,256]) # if we want to resize\n",
    "\n",
    "    if expand_d:\n",
    "        x_train = np.expand_dims(x_train, axis=-1)\n",
    "        x_test = np.expand_dims(x_test, axis=-1)\n",
    "\n",
    "    return (x_train, y_train), (x_test, y_test)"
   ]
  },
  {
   "cell_type": "code",
   "execution_count": null,
   "metadata": {},
   "outputs": [],
   "source": [
    "(x_train, y_train), (x_test, y_test) = load_mnist(remove_n_samples=1000)"
   ]
  },
  {
   "cell_type": "code",
   "execution_count": null,
   "metadata": {},
   "outputs": [],
   "source": [
    "import numpy as np\n",
    "\n",
    "import load\n",
    "import tensorflow as tf\n",
    "import motion\n",
    "import numpy as np\n",
    "from motion import OpticalFlow\n",
    "import tensorflow_compression as tfc\n",
    "import tensorflow_addons as tfa\n",
    "\n",
    "batch_size = 4\n",
    "Height = 256\n",
    "Width = 256\n",
    "Channel = 3\n",
    "lr_init = 1e-4\n",
    "frames=2\n",
    "I_QP = 27\n",
    "l = 256\n",
    "\n",
    "\n",
    "folder = np.load(\"/mnt/WindowsDev/Developer/tensorflow-wavelets/folder_cloud.npy\")\n",
    "#a = load.load_data()\n",
    "data = np.zeros([frames, batch_size, Height, Width, Channel])\n",
    "data = load.load_data(data, frames, batch_size, Height, Width, Channel, folder, I_QP)\n",
    "print(\"Data Load done! ...\")\n",
    "\n",
    "import tensorflow as tf\n",
    "from motion import OpticalFlow\n",
    "\n",
    "\n",
    "inputs_y0_com = tf.keras.Input(shape=(Width, Height, Channel,))\n",
    "inputs_y1_raw = tf.keras.Input(shape=(Width, Height, Channel,))\n",
    "\n",
    "x = OpticalFlow()([inputs_y0_com, inputs_y1_raw])\n",
    "\n",
    "model = tf.keras.Model([inputs_y0_com, inputs_y1_raw], x)\n",
    "\n",
    "model.compile(optimizer=\"rmsprop\", loss=\"categorical_crossentropy\")\n",
    "model.fit([data[0], data[1]], data[0], validation_split=0.2, epochs=20, batch_size=32, verbose=1,)\n",
    "\n",
    "\n",
    "\n",
    "\n"
   ]
  },
  {
   "cell_type": "code",
   "execution_count": null,
   "metadata": {},
   "outputs": [],
   "source": []
  },
  {
   "cell_type": "code",
   "execution_count": null,
   "metadata": {},
   "outputs": [],
   "source": [
    "import tensorflow as tf\n",
    "import numpy as np\n",
    "import tensorflow_addons as tfa\n",
    "import matplotlib.pyplot as plt\n",
    "\n",
    "img_path = tf.keras.utils.get_file('tensorflow.png','https://tensorflow.org/images/tf_logo.png')\n",
    "img_raw = tf.io.read_file(img_path)\n",
    "img = tf.io.decode_image(img_raw)\n",
    "img = tf.image.convert_image_dtype(img, tf.float32)\n",
    "img = tf.image.resize(img, [500,500])\n",
    "\n",
    "plt.title(\"TensorFlow Logo with shape {}\".format(img.shape))\n",
    "_ = plt.imshow(img)\n",
    "\n",
    "\n"
   ]
  },
  {
   "cell_type": "code",
   "execution_count": null,
   "metadata": {},
   "outputs": [],
   "source": [
    "input_img = tf.image.convert_image_dtype(tf.expand_dims(img, 0), tf.dtypes.float32)\n",
    "print(input_img.shape)\n",
    "flow_shape = [1, input_img.shape[1], input_img.shape[2], 2]\n",
    "init_flows = np.float32(np.random.normal(size=flow_shape) *1.0)\n",
    "print(init_flows.shape)\n",
    "\n",
    "dense_img_warp = tfa.image.dense_image_warp(input_img, init_flows)\n",
    "dense_img_warp = tf.squeeze(dense_img_warp, 0)\n",
    "_ = plt.imshow(dense_img_warp)"
   ]
  },
  {
   "cell_type": "code",
   "execution_count": 5,
   "metadata": {},
   "outputs": [
    {
     "name": "stdout",
     "output_type": "stream",
     "text": [
      "Data Load done! ...\n"
     ]
    }
   ],
   "source": [
    "import numpy as np\n",
    "from tensorflow.python.keras.engine import training\n",
    "\n",
    "import load\n",
    "import tensorflow as tf\n",
    "import motion\n",
    "import numpy as np\n",
    "import tensorflow_compression as tfc\n",
    "import tensorflow_addons as tfa\n",
    "\n",
    "# tf.config.run_functions_eagerly(True)\n",
    "\n",
    "batch_size = 4\n",
    "Height = 256\n",
    "Width = 256\n",
    "Channel = 3\n",
    "lr_init = 1e-4\n",
    "frames=2\n",
    "I_QP = 27\n",
    "l = 256\n",
    "\n",
    "\n",
    "folder = np.load(\"/mnt/WindowsDev/Developer/tensorflow-wavelets/folder_cloud.npy\")\n",
    "#a = load.load_data()\n",
    "data = np.zeros([frames, batch_size, Height, Width, Channel])\n",
    "data = load.load_data(data, frames, batch_size, Height, Width, Channel, folder, I_QP)\n",
    "print(\"Data Load done! ...\")\n",
    "\n",
    "noisy = tfc.NoisyNormal(loc=.5, scale=8.)\n",
    "entropy_quantizer_mv = tfc.ContinuousBatchedEntropyModel(noisy, 1, compression=True)\n",
    "\n",
    "inputs_y0_com = tf.keras.Input(shape=(Width, Height, Channel,))\n",
    "inputs_y1_raw = tf.keras.Input(shape=(Width, Height, Channel,))\n",
    "flow_4 = motion.optical_flow(inputs_y0_com, inputs_y1_raw, batch_size, Height, Width)\n",
    "mt = motion.encoder(flow_4, num_filters=128, kernel_size=3, M=128)\n",
    "mt_hat, MV_likelihoods = entropy_quantizer_mv(mt, training=True)\n",
    "vt_hat = motion.decoder(mt_hat, num_filters=128, kernel_size=3, M=2)\n",
    "Y1_warp = tf.keras.layers.Lambda(lambda a: tfa.image.dense_image_warp(a[0], a[1]))((inputs_y0_com, vt_hat))\n",
    "\n",
    "# motion compenstation\n",
    "MC_input = tf.concat([vt_hat, inputs_y0_com, Y1_warp], axis=-1)\n",
    "# shape (1, 240 416, 8)\n",
    "Y1_MC = motion.MotionCompensation(MC_input)\n",
    "\n",
    "Res = inputs_y1_raw - Y1_MC\n",
    "\n",
    "\n",
    "model = tf.keras.Model([inputs_y0_com, inputs_y1_raw], Y1_warp)\n",
    "\n",
    "model.compile(optimizer='adam', loss=tf.keras.losses.MeanSquaredError())\n",
    "\n",
    "\n"
   ]
  },
  {
   "cell_type": "code",
   "execution_count": 6,
   "metadata": {},
   "outputs": [
    {
     "name": "stderr",
     "output_type": "stream",
     "text": [
      "/home/ubu-admin/anaconda3/envs/py38/lib/python3.8/site-packages/tensorflow/python/data/ops/dataset_ops.py:3703: UserWarning: Even though the `tf.config.experimental_run_functions_eagerly` option is set, this option does not apply to tf.data functions. To force eager execution of tf.data functions, please use `tf.data.experimental.enable.debug_mode()`.\n",
      "  warnings.warn(\n"
     ]
    },
    {
     "name": "stdout",
     "output_type": "stream",
     "text": [
      "Epoch 1/5\n",
      "1/1 [==============================] - 72s 72s/step - loss: 6.1838\n",
      "Epoch 2/5\n",
      "1/1 [==============================] - 17s 17s/step - loss: 4.3066\n",
      "Epoch 3/5\n",
      "1/1 [==============================] - 18s 18s/step - loss: 4.3146\n",
      "Epoch 4/5\n",
      "1/1 [==============================] - 17s 17s/step - loss: 3.3611\n",
      "Epoch 5/5\n",
      "1/1 [==============================] - 18s 18s/step - loss: 4.5714\n"
     ]
    },
    {
     "data": {
      "text/plain": [
       "<tensorflow.python.keras.callbacks.History at 0x7fdbf7b97d00>"
      ]
     },
     "execution_count": 6,
     "metadata": {},
     "output_type": "execute_result"
    }
   ],
   "source": [
    "model.fit([data[0], data[1]], data[0],\n",
    "                epochs=5,\n",
    "                batch_size=4,)"
   ]
  },
  {
   "cell_type": "code",
   "execution_count": null,
   "metadata": {},
   "outputs": [],
   "source": []
  }
 ],
 "metadata": {
  "interpreter": {
   "hash": "adfa9f957340ff7bf5508cb0d5b9a75be89dcf8b468fd5e633776b1d5718f2f8"
  },
  "kernelspec": {
   "display_name": "Python 3.8.12 64-bit ('py38': conda)",
   "language": "python",
   "name": "python3"
  },
  "language_info": {
   "codemirror_mode": {
    "name": "ipython",
    "version": 3
   },
   "file_extension": ".py",
   "mimetype": "text/x-python",
   "name": "python",
   "nbconvert_exporter": "python",
   "pygments_lexer": "ipython3",
   "version": "3.8.12"
  },
  "orig_nbformat": 4
 },
 "nbformat": 4,
 "nbformat_minor": 2
}
