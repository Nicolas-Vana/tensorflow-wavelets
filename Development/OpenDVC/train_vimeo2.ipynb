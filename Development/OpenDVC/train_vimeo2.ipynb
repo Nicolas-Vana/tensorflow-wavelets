{
 "cells": [
  {
   "cell_type": "code",
   "execution_count": 1,
   "metadata": {},
   "outputs": [
    {
     "name": "stdout",
     "output_type": "stream",
     "text": [
      "/workspaces/tensorflow-wavelets\n"
     ]
    },
    {
     "name": "stderr",
     "output_type": "stream",
     "text": [
      "2022-01-28 21:09:17.711329: I tensorflow/stream_executor/platform/default/dso_loader.cc:53] Successfully opened dynamic library libcudart.so.11.0\n"
     ]
    }
   ],
   "source": [
    "%pwd \n",
    "%cd /workspaces/tensorflow-wavelets\n",
    "import OpenDVC\n",
    "import numpy as np\n",
    "import load\n",
    "import tensorflow as tf\n",
    "import matplotlib.pyplot as plt"
   ]
  },
  {
   "cell_type": "code",
   "execution_count": 2,
   "metadata": {},
   "outputs": [
    {
     "name": "stderr",
     "output_type": "stream",
     "text": [
      "2022-01-28 21:09:19.936818: I tensorflow/stream_executor/platform/default/dso_loader.cc:53] Successfully opened dynamic library libcuda.so.1\n",
      "2022-01-28 21:09:19.968481: I tensorflow/stream_executor/cuda/cuda_gpu_executor.cc:937] successful NUMA node read from SysFS had negative value (-1), but there must be at least one NUMA node, so returning NUMA node zero\n",
      "2022-01-28 21:09:19.969151: I tensorflow/core/common_runtime/gpu/gpu_device.cc:1733] Found device 0 with properties: \n",
      "pciBusID: 0000:00:09.0 name: NVIDIA GeForce RTX 3060 computeCapability: 8.6\n",
      "coreClock: 1.852GHz coreCount: 28 deviceMemorySize: 11.77GiB deviceMemoryBandwidth: 335.32GiB/s\n",
      "2022-01-28 21:09:19.969187: I tensorflow/stream_executor/platform/default/dso_loader.cc:53] Successfully opened dynamic library libcudart.so.11.0\n",
      "2022-01-28 21:09:19.974553: I tensorflow/stream_executor/platform/default/dso_loader.cc:53] Successfully opened dynamic library libcublas.so.11\n",
      "2022-01-28 21:09:19.974615: I tensorflow/stream_executor/platform/default/dso_loader.cc:53] Successfully opened dynamic library libcublasLt.so.11\n",
      "2022-01-28 21:09:19.975999: I tensorflow/stream_executor/platform/default/dso_loader.cc:53] Successfully opened dynamic library libcufft.so.10\n",
      "2022-01-28 21:09:19.976322: I tensorflow/stream_executor/platform/default/dso_loader.cc:53] Successfully opened dynamic library libcurand.so.10\n",
      "2022-01-28 21:09:19.977483: I tensorflow/stream_executor/platform/default/dso_loader.cc:53] Successfully opened dynamic library libcusolver.so.11\n",
      "2022-01-28 21:09:19.978607: I tensorflow/stream_executor/platform/default/dso_loader.cc:53] Successfully opened dynamic library libcusparse.so.11\n",
      "2022-01-28 21:09:19.978818: I tensorflow/stream_executor/platform/default/dso_loader.cc:53] Successfully opened dynamic library libcudnn.so.8\n",
      "2022-01-28 21:09:19.978948: I tensorflow/stream_executor/cuda/cuda_gpu_executor.cc:937] successful NUMA node read from SysFS had negative value (-1), but there must be at least one NUMA node, so returning NUMA node zero\n",
      "2022-01-28 21:09:19.979677: I tensorflow/stream_executor/cuda/cuda_gpu_executor.cc:937] successful NUMA node read from SysFS had negative value (-1), but there must be at least one NUMA node, so returning NUMA node zero\n",
      "2022-01-28 21:09:19.980289: I tensorflow/core/common_runtime/gpu/gpu_device.cc:1871] Adding visible gpu devices: 0\n",
      "2022-01-28 21:09:19.981219: I tensorflow/core/platform/cpu_feature_guard.cc:142] This TensorFlow binary is optimized with oneAPI Deep Neural Network Library (oneDNN) to use the following CPU instructions in performance-critical operations:  AVX2 FMA\n",
      "To enable them in other operations, rebuild TensorFlow with the appropriate compiler flags.\n",
      "2022-01-28 21:09:19.982115: I tensorflow/stream_executor/cuda/cuda_gpu_executor.cc:937] successful NUMA node read from SysFS had negative value (-1), but there must be at least one NUMA node, so returning NUMA node zero\n",
      "2022-01-28 21:09:19.982734: I tensorflow/core/common_runtime/gpu/gpu_device.cc:1733] Found device 0 with properties: \n",
      "pciBusID: 0000:00:09.0 name: NVIDIA GeForce RTX 3060 computeCapability: 8.6\n",
      "coreClock: 1.852GHz coreCount: 28 deviceMemorySize: 11.77GiB deviceMemoryBandwidth: 335.32GiB/s\n",
      "2022-01-28 21:09:19.982815: I tensorflow/stream_executor/cuda/cuda_gpu_executor.cc:937] successful NUMA node read from SysFS had negative value (-1), but there must be at least one NUMA node, so returning NUMA node zero\n",
      "2022-01-28 21:09:19.983454: I tensorflow/stream_executor/cuda/cuda_gpu_executor.cc:937] successful NUMA node read from SysFS had negative value (-1), but there must be at least one NUMA node, so returning NUMA node zero\n",
      "2022-01-28 21:09:19.984007: I tensorflow/core/common_runtime/gpu/gpu_device.cc:1871] Adding visible gpu devices: 0\n",
      "2022-01-28 21:09:19.984051: I tensorflow/stream_executor/platform/default/dso_loader.cc:53] Successfully opened dynamic library libcudart.so.11.0\n",
      "2022-01-28 21:09:20.784813: I tensorflow/core/common_runtime/gpu/gpu_device.cc:1258] Device interconnect StreamExecutor with strength 1 edge matrix:\n",
      "2022-01-28 21:09:20.784879: I tensorflow/core/common_runtime/gpu/gpu_device.cc:1264]      0 \n",
      "2022-01-28 21:09:20.784891: I tensorflow/core/common_runtime/gpu/gpu_device.cc:1277] 0:   N \n",
      "2022-01-28 21:09:20.785177: I tensorflow/stream_executor/cuda/cuda_gpu_executor.cc:937] successful NUMA node read from SysFS had negative value (-1), but there must be at least one NUMA node, so returning NUMA node zero\n",
      "2022-01-28 21:09:20.785880: I tensorflow/stream_executor/cuda/cuda_gpu_executor.cc:937] successful NUMA node read from SysFS had negative value (-1), but there must be at least one NUMA node, so returning NUMA node zero\n",
      "2022-01-28 21:09:20.786528: I tensorflow/stream_executor/cuda/cuda_gpu_executor.cc:937] successful NUMA node read from SysFS had negative value (-1), but there must be at least one NUMA node, so returning NUMA node zero\n",
      "2022-01-28 21:09:20.787181: I tensorflow/core/common_runtime/gpu/gpu_device.cc:1418] Created TensorFlow device (/job:localhost/replica:0/task:0/device:GPU:0 with 10250 MB memory) -> physical GPU (device: 0, name: NVIDIA GeForce RTX 3060, pci bus id: 0000:00:09.0, compute capability: 8.6)\n"
     ]
    },
    {
     "name": "stdout",
     "output_type": "stream",
     "text": [
      "WARNING:tensorflow:From /usr/local/lib/python3.8/dist-packages/tensorflow/python/ops/array_ops.py:5043: calling gather (from tensorflow.python.ops.array_ops) with validate_indices is deprecated and will be removed in a future version.\n",
      "Instructions for updating:\n",
      "The `validate_indices` argument has no effect. Indices are always validated on CPU and never validated on GPU.\n"
     ]
    },
    {
     "name": "stderr",
     "output_type": "stream",
     "text": [
      "2022-01-28 21:09:23.169594: I tensorflow/stream_executor/platform/default/dso_loader.cc:53] Successfully opened dynamic library libcufft.so.10\n"
     ]
    },
    {
     "name": "stdout",
     "output_type": "stream",
     "text": [
      "* [Model compiled]...\n",
      "* [Loading dataset]...\n",
      "Loading weights\n"
     ]
    },
    {
     "name": "stderr",
     "output_type": "stream",
     "text": [
      "2022-01-28 21:09:29.518554: W tensorflow/python/util/util.cc:348] Sets are not currently considered sequences, but this may change in the future, so consider avoiding using them.\n"
     ]
    },
    {
     "name": "stdout",
     "output_type": "stream",
     "text": [
      "Going to fit\n"
     ]
    },
    {
     "name": "stderr",
     "output_type": "stream",
     "text": [
      "2022-01-28 21:09:30.003131: I tensorflow/core/profiler/lib/profiler_session.cc:126] Profiler session initializing.\n",
      "2022-01-28 21:09:30.003173: I tensorflow/core/profiler/lib/profiler_session.cc:141] Profiler session started.\n",
      "2022-01-28 21:09:30.003232: I tensorflow/core/profiler/internal/gpu/cupti_tracer.cc:1611] Profiler found 1 GPUs\n",
      "2022-01-28 21:09:30.004975: I tensorflow/stream_executor/platform/default/dso_loader.cc:53] Successfully opened dynamic library libcupti.so.11.2\n",
      "2022-01-28 21:09:30.288496: I tensorflow/core/profiler/lib/profiler_session.cc:159] Profiler session tear down.\n",
      "2022-01-28 21:09:30.291584: I tensorflow/core/profiler/internal/gpu/cupti_tracer.cc:1743] CUPTI activity buffer flushed\n"
     ]
    },
    {
     "name": "stdout",
     "output_type": "stream",
     "text": [
      "Epoch 1/10\n"
     ]
    },
    {
     "name": "stderr",
     "output_type": "stream",
     "text": [
      "2022-01-28 21:09:45.407815: I tensorflow/compiler/mlir/mlir_graph_optimization_pass.cc:176] None of the MLIR Optimization Passes are enabled (registered 2)\n",
      "2022-01-28 21:09:45.776727: I tensorflow/core/platform/profile_utils/cpu_utils.cc:114] CPU Frequency: 2499995000 Hz\n",
      "2022-01-28 21:09:50.280963: I tensorflow/stream_executor/platform/default/dso_loader.cc:53] Successfully opened dynamic library libcudnn.so.8\n",
      "2022-01-28 21:09:51.463093: I tensorflow/stream_executor/cuda/cuda_dnn.cc:359] Loaded cuDNN version 8100\n",
      "2022-01-28 21:09:51.464180: I tensorflow/stream_executor/platform/default/dso_loader.cc:53] Successfully opened dynamic library libcublas.so.11\n",
      "2022-01-28 21:09:52.474646: I tensorflow/stream_executor/platform/default/dso_loader.cc:53] Successfully opened dynamic library libcublasLt.so.11\n"
     ]
    },
    {
     "name": "stdout",
     "output_type": "stream",
     "text": [
      "  1/100 [..............................] - ETA: 43:30 - loss: 91899.4219 - bpp: 1.1329 - mse: 358.9777"
     ]
    },
    {
     "name": "stderr",
     "output_type": "stream",
     "text": [
      "2022-01-28 21:09:57.603842: I tensorflow/core/profiler/lib/profiler_session.cc:126] Profiler session initializing.\n",
      "2022-01-28 21:09:57.603905: I tensorflow/core/profiler/lib/profiler_session.cc:141] Profiler session started.\n"
     ]
    },
    {
     "name": "stdout",
     "output_type": "stream",
     "text": [
      "  2/100 [..............................] - ETA: 4:20 - loss: 66892.6875 - bpp: 1.1048 - mse: 261.2952 "
     ]
    },
    {
     "name": "stderr",
     "output_type": "stream",
     "text": [
      "2022-01-28 21:09:59.380760: I tensorflow/core/profiler/lib/profiler_session.cc:66] Profiler session collecting data.\n",
      "2022-01-28 21:09:59.392390: I tensorflow/core/profiler/internal/gpu/cupti_tracer.cc:1743] CUPTI activity buffer flushed\n",
      "2022-01-28 21:09:59.476599: I tensorflow/core/profiler/internal/gpu/cupti_collector.cc:673]  GpuTracer has collected 3372 callback api events and 3336 activity events. \n",
      "2022-01-28 21:09:59.562539: I tensorflow/core/profiler/lib/profiler_session.cc:159] Profiler session tear down.\n",
      "2022-01-28 21:09:59.673917: I tensorflow/core/profiler/rpc/client/save_profile.cc:137] Creating directory: backup/train/plugins/profile/2022_01_28_21_09_59\n",
      "2022-01-28 21:09:59.742592: I tensorflow/core/profiler/rpc/client/save_profile.cc:143] Dumped gzipped tool data for trace.json.gz to backup/train/plugins/profile/2022_01_28_21_09_59/ab0180b02496.trace.json.gz\n"
     ]
    },
    {
     "name": "stdout",
     "output_type": "stream",
     "text": [
      "  3/100 [..............................] - ETA: 2:40 - loss: 61097.7188 - bpp: 1.0913 - mse: 238.6587"
     ]
    },
    {
     "name": "stderr",
     "output_type": "stream",
     "text": [
      "2022-01-28 21:09:59.886751: I tensorflow/core/profiler/rpc/client/save_profile.cc:137] Creating directory: backup/train/plugins/profile/2022_01_28_21_09_59\n",
      "2022-01-28 21:09:59.896560: I tensorflow/core/profiler/rpc/client/save_profile.cc:143] Dumped gzipped tool data for memory_profile.json.gz to backup/train/plugins/profile/2022_01_28_21_09_59/ab0180b02496.memory_profile.json.gz\n",
      "2022-01-28 21:09:59.903258: I tensorflow/core/profiler/rpc/client/capture_profile.cc:251] Creating directory: backup/train/plugins/profile/2022_01_28_21_09_59Dumped tool data for xplane.pb to backup/train/plugins/profile/2022_01_28_21_09_59/ab0180b02496.xplane.pb\n",
      "Dumped tool data for overview_page.pb to backup/train/plugins/profile/2022_01_28_21_09_59/ab0180b02496.overview_page.pb\n",
      "Dumped tool data for input_pipeline.pb to backup/train/plugins/profile/2022_01_28_21_09_59/ab0180b02496.input_pipeline.pb\n",
      "Dumped tool data for tensorflow_stats.pb to backup/train/plugins/profile/2022_01_28_21_09_59/ab0180b02496.tensorflow_stats.pb\n",
      "Dumped tool data for kernel_stats.pb to backup/train/plugins/profile/2022_01_28_21_09_59/ab0180b02496.kernel_stats.pb\n",
      "\n"
     ]
    },
    {
     "name": "stdout",
     "output_type": "stream",
     "text": [
      "  6/100 [>.............................] - ETA: 1:07 - loss: 56924.0039 - bpp: 1.0779 - mse: 222.3552WARNING:tensorflow:Callback method `on_train_batch_begin` is slow compared to the batch time (batch time: 0.0985s vs `on_train_batch_begin` time: 0.2727s). Check your callbacks.\n",
      "WARNING:tensorflow:Callback method `on_train_batch_end` is slow compared to the batch time (batch time: 0.0985s vs `on_train_batch_end` time: 0.2466s). Check your callbacks.\n",
      "100/100 [==============================] - 40s 141ms/step - loss: 15534.1416 - bpp: 0.9681 - mse: 60.6765\n",
      "[MemoryCallback]:  6000000\n",
      "\n",
      "Epoch 00001: loss improved from inf to 15534.14160, saving model to checkpoints_testME4_no_norm8/\n",
      "Epoch 2/10\n",
      "100/100 [==============================] - 10s 102ms/step - loss: 6749.7002 - bpp: 0.9722 - mse: 26.3622\n",
      "[MemoryCallback]:  6000000\n",
      "\n",
      "Epoch 00002: loss improved from 15534.14160 to 6749.70020, saving model to checkpoints_testME4_no_norm8/\n",
      "Epoch 3/10\n",
      "100/100 [==============================] - 10s 98ms/step - loss: 5454.6855 - bpp: 1.0181 - mse: 21.3034 \n",
      "[MemoryCallback]:  6000000\n",
      "\n",
      "Epoch 00003: loss improved from 6749.70020 to 5454.68555, saving model to checkpoints_testME4_no_norm8/\n",
      "Epoch 4/10\n",
      "100/100 [==============================] - 10s 98ms/step - loss: 4762.9761 - bpp: 1.0558 - mse: 18.6013\n",
      "[MemoryCallback]:  6000000\n",
      "\n",
      "Epoch 00004: loss improved from 5454.68555 to 4762.97607, saving model to checkpoints_testME4_no_norm8/\n",
      "Epoch 5/10\n",
      "100/100 [==============================] - 9s 90ms/step - loss: 4258.8330 - bpp: 1.0901 - mse: 16.6318\n",
      "[MemoryCallback]:  6000000\n",
      "\n",
      "Epoch 00005: loss improved from 4762.97607 to 4258.83301, saving model to checkpoints_testME4_no_norm8/\n",
      "Epoch 6/10\n",
      "100/100 [==============================] - 10s 100ms/step - loss: 4042.4150 - bpp: 1.1181 - mse: 15.7863\n",
      "[MemoryCallback]:  6000000\n",
      "\n",
      "Epoch 00006: loss improved from 4258.83301 to 4042.41504, saving model to checkpoints_testME4_no_norm8/\n",
      "Epoch 7/10\n",
      "100/100 [==============================] - 10s 101ms/step - loss: 3747.6260 - bpp: 1.1443 - mse: 14.6347\n",
      "[MemoryCallback]:  6000000\n",
      "\n",
      "Epoch 00007: loss improved from 4042.41504 to 3747.62598, saving model to checkpoints_testME4_no_norm8/\n",
      "Epoch 8/10\n",
      "100/100 [==============================] - 11s 107ms/step - loss: 3463.1414 - bpp: 1.1605 - mse: 13.5234\n",
      "[MemoryCallback]:  6000000\n",
      "\n",
      "Epoch 00008: loss improved from 3747.62598 to 3463.14136, saving model to checkpoints_testME4_no_norm8/\n",
      "Epoch 9/10\n",
      "100/100 [==============================] - 10s 99ms/step - loss: 3326.9172 - bpp: 1.1754 - mse: 12.9912\n",
      "[MemoryCallback]:  6000000\n",
      "\n",
      "Epoch 00009: loss improved from 3463.14136 to 3326.91724, saving model to checkpoints_testME4_no_norm8/\n",
      "Epoch 10/10\n",
      "100/100 [==============================] - 10s 100ms/step - loss: 3175.2166 - bpp: 1.1905 - mse: 12.3985\n",
      "[MemoryCallback]:  6000000\n",
      "\n",
      "Epoch 00010: loss improved from 3326.91724 to 3175.21655, saving model to checkpoints_testME4_no_norm8/\n",
      "/mnt/WindowsDev/DataSets/vimeo_septuplet/sequences/00030/0046/im1.png\n",
      "compress\n",
      "in the compress\n",
      "WARNING:tensorflow:From /usr/local/lib/python3.8/dist-packages/tensorflow/python/util/deprecation.py:602: calling map_fn_v2 (from tensorflow.python.ops.map_fn) with dtype is deprecated and will be removed in a future version.\n",
      "Instructions for updating:\n",
      "Use fn_output_signature instead\n",
      "in decompress\n",
      "* [Model compiled]...\n",
      "* [Loading dataset]...\n",
      "Loading weights\n",
      "Going to fit\n"
     ]
    },
    {
     "name": "stderr",
     "output_type": "stream",
     "text": [
      "2022-01-28 21:12:16.844307: I tensorflow/core/profiler/lib/profiler_session.cc:126] Profiler session initializing.\n",
      "2022-01-28 21:12:16.844363: I tensorflow/core/profiler/lib/profiler_session.cc:141] Profiler session started.\n",
      "2022-01-28 21:12:18.146630: I tensorflow/core/profiler/lib/profiler_session.cc:159] Profiler session tear down.\n",
      "2022-01-28 21:12:18.151078: I tensorflow/core/profiler/internal/gpu/cupti_tracer.cc:1743] CUPTI activity buffer flushed\n"
     ]
    },
    {
     "name": "stdout",
     "output_type": "stream",
     "text": [
      "Epoch 1/10\n",
      "  1/100 [..............................] - ETA: 30:25 - loss: 351779.3125 - bpp: 1.8883 - mse: 1374.1306"
     ]
    },
    {
     "name": "stderr",
     "output_type": "stream",
     "text": [
      "2022-01-28 21:12:37.392325: I tensorflow/core/profiler/lib/profiler_session.cc:126] Profiler session initializing.\n",
      "2022-01-28 21:12:37.392384: I tensorflow/core/profiler/lib/profiler_session.cc:141] Profiler session started.\n"
     ]
    },
    {
     "name": "stdout",
     "output_type": "stream",
     "text": [
      "  2/100 [..............................] - ETA: 2:32 - loss: 289901.6562 - bpp: 1.8975 - mse: 1132.4209 "
     ]
    },
    {
     "name": "stderr",
     "output_type": "stream",
     "text": [
      "2022-01-28 21:12:39.990633: I tensorflow/core/profiler/lib/profiler_session.cc:66] Profiler session collecting data.\n",
      "2022-01-28 21:12:40.010777: I tensorflow/core/profiler/internal/gpu/cupti_tracer.cc:1743] CUPTI activity buffer flushed\n",
      "2022-01-28 21:12:40.099503: I tensorflow/core/profiler/internal/gpu/cupti_collector.cc:673]  GpuTracer has collected 3372 callback api events and 3336 activity events. \n",
      "2022-01-28 21:12:40.249364: I tensorflow/core/profiler/lib/profiler_session.cc:159] Profiler session tear down.\n",
      "2022-01-28 21:12:40.393626: I tensorflow/core/profiler/rpc/client/save_profile.cc:137] Creating directory: backup/train/plugins/profile/2022_01_28_21_12_40\n",
      "2022-01-28 21:12:40.460966: I tensorflow/core/profiler/rpc/client/save_profile.cc:143] Dumped gzipped tool data for trace.json.gz to backup/train/plugins/profile/2022_01_28_21_12_40/ab0180b02496.trace.json.gz\n"
     ]
    },
    {
     "name": "stdout",
     "output_type": "stream",
     "text": [
      "  3/100 [..............................] - ETA: 3:22 - loss: 270831.6562 - bpp: 1.8910 - mse: 1057.9288"
     ]
    },
    {
     "name": "stderr",
     "output_type": "stream",
     "text": [
      "2022-01-28 21:12:40.669072: I tensorflow/core/profiler/rpc/client/save_profile.cc:137] Creating directory: backup/train/plugins/profile/2022_01_28_21_12_40\n",
      "2022-01-28 21:12:40.679829: I tensorflow/core/profiler/rpc/client/save_profile.cc:143] Dumped gzipped tool data for memory_profile.json.gz to backup/train/plugins/profile/2022_01_28_21_12_40/ab0180b02496.memory_profile.json.gz\n",
      "2022-01-28 21:12:40.688562: I tensorflow/core/profiler/rpc/client/capture_profile.cc:251] Creating directory: backup/train/plugins/profile/2022_01_28_21_12_40Dumped tool data for xplane.pb to backup/train/plugins/profile/2022_01_28_21_12_40/ab0180b02496.xplane.pb\n",
      "Dumped tool data for overview_page.pb to backup/train/plugins/profile/2022_01_28_21_12_40/ab0180b02496.overview_page.pb\n",
      "Dumped tool data for input_pipeline.pb to backup/train/plugins/profile/2022_01_28_21_12_40/ab0180b02496.input_pipeline.pb\n",
      "Dumped tool data for tensorflow_stats.pb to backup/train/plugins/profile/2022_01_28_21_12_40/ab0180b02496.tensorflow_stats.pb\n",
      "Dumped tool data for kernel_stats.pb to backup/train/plugins/profile/2022_01_28_21_12_40/ab0180b02496.kernel_stats.pb\n",
      "\n"
     ]
    },
    {
     "name": "stdout",
     "output_type": "stream",
     "text": [
      "  6/100 [>.............................] - ETA: 1:24 - loss: 210311.3125 - bpp: 1.7955 - mse: 821.5217WARNING:tensorflow:Callback method `on_train_batch_begin` is slow compared to the batch time (batch time: 0.1033s vs `on_train_batch_begin` time: 0.1161s). Check your callbacks.\n",
      "WARNING:tensorflow:Callback method `on_train_batch_end` is slow compared to the batch time (batch time: 0.1033s vs `on_train_batch_end` time: 0.5471s). Check your callbacks.\n",
      "100/100 [==============================] - 33s 144ms/step - loss: 66979.9375 - bpp: 1.4445 - mse: 261.6347\n",
      "[MemoryCallback]:  6879728\n",
      "\n",
      "Epoch 00001: loss improved from inf to 66979.93750, saving model to checkpoints_testME4_no_norm9/\n",
      "Epoch 2/10\n",
      "100/100 [==============================] - 10s 101ms/step - loss: 30446.6719 - bpp: 1.5875 - mse: 118.9262\n",
      "[MemoryCallback]:  6879728\n",
      "\n",
      "Epoch 00002: loss improved from 66979.93750 to 30446.67188, saving model to checkpoints_testME4_no_norm9/\n",
      "Epoch 3/10\n",
      "100/100 [==============================] - 10s 100ms/step - loss: 23604.8828 - bpp: 1.6864 - mse: 92.2000\n",
      "[MemoryCallback]:  6879728\n",
      "\n",
      "Epoch 00003: loss improved from 30446.67188 to 23604.88281, saving model to checkpoints_testME4_no_norm9/\n",
      "Epoch 4/10\n",
      "100/100 [==============================] - 10s 98ms/step - loss: 20123.2617 - bpp: 1.7395 - mse: 78.5997\n",
      "[MemoryCallback]:  6879728\n",
      "\n",
      "Epoch 00004: loss improved from 23604.88281 to 20123.26172, saving model to checkpoints_testME4_no_norm9/\n",
      "Epoch 5/10\n",
      "100/100 [==============================] - 10s 98ms/step - loss: 17119.1094 - bpp: 1.7770 - mse: 66.8646\n",
      "[MemoryCallback]:  6879728\n",
      "\n",
      "Epoch 00005: loss improved from 20123.26172 to 17119.10938, saving model to checkpoints_testME4_no_norm9/\n",
      "Epoch 6/10\n",
      "100/100 [==============================] - 10s 100ms/step - loss: 15506.1904 - bpp: 1.7908 - mse: 60.5641\n",
      "[MemoryCallback]:  6879728\n",
      "\n",
      "Epoch 00006: loss improved from 17119.10938 to 15506.19043, saving model to checkpoints_testME4_no_norm9/\n",
      "Epoch 7/10\n",
      "100/100 [==============================] - 10s 100ms/step - loss: 13883.6338 - bpp: 1.7943 - mse: 54.2259\n",
      "[MemoryCallback]:  6879728\n",
      "\n",
      "Epoch 00007: loss improved from 15506.19043 to 13883.63379, saving model to checkpoints_testME4_no_norm9/\n",
      "Epoch 8/10\n",
      "100/100 [==============================] - 10s 100ms/step - loss: 14086.4346 - bpp: 1.8024 - mse: 55.0181\n",
      "[MemoryCallback]:  6879728\n",
      "\n",
      "Epoch 00008: loss did not improve from 13883.63379\n",
      "Epoch 9/10\n",
      "100/100 [==============================] - 9s 91ms/step - loss: 13034.0273 - bpp: 1.8021 - mse: 50.9071\n",
      "[MemoryCallback]:  6879728\n",
      "\n",
      "Epoch 00009: loss improved from 13883.63379 to 13034.02734, saving model to checkpoints_testME4_no_norm9/\n",
      "Epoch 10/10\n",
      "100/100 [==============================] - 10s 98ms/step - loss: 11925.2627 - bpp: 1.7968 - mse: 46.5760\n",
      "[MemoryCallback]:  6879728\n",
      "\n",
      "Epoch 00010: loss improved from 13034.02734 to 11925.26270, saving model to checkpoints_testME4_no_norm9/\n",
      "/mnt/WindowsDev/DataSets/vimeo_septuplet/sequences/00083/0615/im1.png\n",
      "compress\n",
      "in the compress\n",
      "in decompress\n",
      "* [Model compiled]...\n",
      "* [Loading dataset]...\n",
      "Loading weights\n",
      "Going to fit\n"
     ]
    },
    {
     "name": "stderr",
     "output_type": "stream",
     "text": [
      "2022-01-28 21:14:44.623477: I tensorflow/core/profiler/lib/profiler_session.cc:126] Profiler session initializing.\n",
      "2022-01-28 21:14:44.623524: I tensorflow/core/profiler/lib/profiler_session.cc:141] Profiler session started.\n",
      "2022-01-28 21:14:45.563550: I tensorflow/core/profiler/lib/profiler_session.cc:159] Profiler session tear down.\n",
      "2022-01-28 21:14:45.566375: I tensorflow/core/profiler/internal/gpu/cupti_tracer.cc:1743] CUPTI activity buffer flushed\n"
     ]
    },
    {
     "name": "stdout",
     "output_type": "stream",
     "text": [
      "Epoch 1/10\n",
      "  1/100 [..............................] - ETA: 32:20 - loss: 259069.0469 - bpp: 0.9343 - mse: 1011.9848"
     ]
    },
    {
     "name": "stderr",
     "output_type": "stream",
     "text": [
      "2022-01-28 21:15:06.026856: I tensorflow/core/profiler/lib/profiler_session.cc:126] Profiler session initializing.\n",
      "2022-01-28 21:15:06.026933: I tensorflow/core/profiler/lib/profiler_session.cc:141] Profiler session started.\n"
     ]
    },
    {
     "name": "stdout",
     "output_type": "stream",
     "text": [
      "  2/100 [..............................] - ETA: 2:26 - loss: 252355.5938 - bpp: 0.9427 - mse: 985.7604  "
     ]
    },
    {
     "name": "stderr",
     "output_type": "stream",
     "text": [
      "2022-01-28 21:15:08.553495: I tensorflow/core/profiler/lib/profiler_session.cc:66] Profiler session collecting data.\n",
      "2022-01-28 21:15:08.574575: I tensorflow/core/profiler/internal/gpu/cupti_tracer.cc:1743] CUPTI activity buffer flushed\n",
      "2022-01-28 21:15:08.665870: I tensorflow/core/profiler/internal/gpu/cupti_collector.cc:673]  GpuTracer has collected 3372 callback api events and 3336 activity events. \n",
      "2022-01-28 21:15:08.780882: I tensorflow/core/profiler/lib/profiler_session.cc:159] Profiler session tear down.\n",
      "2022-01-28 21:15:08.917120: I tensorflow/core/profiler/rpc/client/save_profile.cc:137] Creating directory: backup/train/plugins/profile/2022_01_28_21_15_08\n",
      "2022-01-28 21:15:08.985412: I tensorflow/core/profiler/rpc/client/save_profile.cc:143] Dumped gzipped tool data for trace.json.gz to backup/train/plugins/profile/2022_01_28_21_15_08/ab0180b02496.trace.json.gz\n"
     ]
    },
    {
     "name": "stdout",
     "output_type": "stream",
     "text": [
      "  3/100 [..............................] - ETA: 3:19 - loss: 238958.0156 - bpp: 0.9359 - mse: 933.4261"
     ]
    },
    {
     "name": "stderr",
     "output_type": "stream",
     "text": [
      "2022-01-28 21:15:09.186341: I tensorflow/core/profiler/rpc/client/save_profile.cc:137] Creating directory: backup/train/plugins/profile/2022_01_28_21_15_08\n",
      "2022-01-28 21:15:09.196200: I tensorflow/core/profiler/rpc/client/save_profile.cc:143] Dumped gzipped tool data for memory_profile.json.gz to backup/train/plugins/profile/2022_01_28_21_15_08/ab0180b02496.memory_profile.json.gz\n",
      "2022-01-28 21:15:09.205686: I tensorflow/core/profiler/rpc/client/capture_profile.cc:251] Creating directory: backup/train/plugins/profile/2022_01_28_21_15_08Dumped tool data for xplane.pb to backup/train/plugins/profile/2022_01_28_21_15_08/ab0180b02496.xplane.pb\n",
      "Dumped tool data for overview_page.pb to backup/train/plugins/profile/2022_01_28_21_15_08/ab0180b02496.overview_page.pb\n",
      "Dumped tool data for input_pipeline.pb to backup/train/plugins/profile/2022_01_28_21_15_08/ab0180b02496.input_pipeline.pb\n",
      "Dumped tool data for tensorflow_stats.pb to backup/train/plugins/profile/2022_01_28_21_15_08/ab0180b02496.tensorflow_stats.pb\n",
      "Dumped tool data for kernel_stats.pb to backup/train/plugins/profile/2022_01_28_21_15_08/ab0180b02496.kernel_stats.pb\n",
      "\n"
     ]
    },
    {
     "name": "stdout",
     "output_type": "stream",
     "text": [
      "  6/100 [>.............................] - ETA: 1:23 - loss: 206617.2656 - bpp: 0.9151 - mse: 807.0952WARNING:tensorflow:Callback method `on_train_batch_end` is slow compared to the batch time (batch time: 0.1047s vs `on_train_batch_end` time: 0.5616s). Check your callbacks.\n",
      "100/100 [==============================] - 34s 146ms/step - loss: 30670.1426 - bpp: 0.7219 - mse: 119.8024\n",
      "[MemoryCallback]:  7104944\n",
      "\n",
      "Epoch 00001: loss improved from inf to 30670.14258, saving model to checkpoints_testME4_no_norm10/\n",
      "Epoch 2/10\n",
      "100/100 [==============================] - 10s 103ms/step - loss: 6042.6895 - bpp: 0.6573 - mse: 23.6017\n",
      "[MemoryCallback]:  7104944\n",
      "\n",
      "Epoch 00002: loss improved from 30670.14258 to 6042.68945, saving model to checkpoints_testME4_no_norm10/\n",
      "Epoch 3/10\n",
      "100/100 [==============================] - 10s 101ms/step - loss: 4417.4512 - bpp: 0.6553 - mse: 17.2531\n",
      "[MemoryCallback]:  7104944\n",
      "\n",
      "Epoch 00003: loss improved from 6042.68945 to 4417.45117, saving model to checkpoints_testME4_no_norm10/\n",
      "Epoch 4/10\n",
      "100/100 [==============================] - 10s 101ms/step - loss: 4007.5237 - bpp: 0.6526 - mse: 15.6518\n",
      "[MemoryCallback]:  7104944\n",
      "\n",
      "Epoch 00004: loss improved from 4417.45117 to 4007.52368, saving model to checkpoints_testME4_no_norm10/\n",
      "Epoch 5/10\n",
      "100/100 [==============================] - 10s 102ms/step - loss: 3397.9268 - bpp: 0.6481 - mse: 13.2706\n",
      "[MemoryCallback]:  7104944\n",
      "\n",
      "Epoch 00005: loss improved from 4007.52368 to 3397.92676, saving model to checkpoints_testME4_no_norm10/\n",
      "Epoch 6/10\n",
      "100/100 [==============================] - 10s 103ms/step - loss: 3069.9021 - bpp: 0.6464 - mse: 11.9893\n",
      "[MemoryCallback]:  7104944\n",
      "\n",
      "Epoch 00006: loss improved from 3397.92676 to 3069.90210, saving model to checkpoints_testME4_no_norm10/\n",
      "Epoch 7/10\n",
      "100/100 [==============================] - 10s 102ms/step - loss: 2931.3118 - bpp: 0.6448 - mse: 11.4479\n",
      "[MemoryCallback]:  7104944\n",
      "\n",
      "Epoch 00007: loss improved from 3069.90210 to 2931.31177, saving model to checkpoints_testME4_no_norm10/\n",
      "Epoch 8/10\n",
      "100/100 [==============================] - 10s 100ms/step - loss: 2682.2615 - bpp: 0.6436 - mse: 10.4751\n",
      "[MemoryCallback]:  7104944\n",
      "\n",
      "Epoch 00008: loss improved from 2931.31177 to 2682.26147, saving model to checkpoints_testME4_no_norm10/\n",
      "Epoch 9/10\n",
      "100/100 [==============================] - 10s 100ms/step - loss: 2617.6648 - bpp: 0.6440 - mse: 10.2227\n",
      "[MemoryCallback]:  7104944\n",
      "\n",
      "Epoch 00009: loss improved from 2682.26147 to 2617.66479, saving model to checkpoints_testME4_no_norm10/\n",
      "Epoch 10/10\n",
      "100/100 [==============================] - 9s 92ms/step - loss: 2743.3430 - bpp: 0.6441 - mse: 10.7137\n",
      "[MemoryCallback]:  7104944\n",
      "\n",
      "Epoch 00010: loss did not improve from 2617.66479\n",
      "/mnt/WindowsDev/DataSets/vimeo_septuplet/sequences/00074/0647/im1.png\n",
      "compress\n",
      "in the compress\n",
      "in decompress\n",
      "* [Model compiled]...\n",
      "* [Loading dataset]...\n",
      "Loading weights\n",
      "Going to fit\n"
     ]
    },
    {
     "name": "stderr",
     "output_type": "stream",
     "text": [
      "2022-01-28 21:17:26.281490: I tensorflow/core/profiler/lib/profiler_session.cc:126] Profiler session initializing.\n",
      "2022-01-28 21:17:26.281556: I tensorflow/core/profiler/lib/profiler_session.cc:141] Profiler session started.\n",
      "2022-01-28 21:17:26.893268: I tensorflow/core/profiler/lib/profiler_session.cc:159] Profiler session tear down.\n",
      "2022-01-28 21:17:26.908341: I tensorflow/core/profiler/internal/gpu/cupti_tracer.cc:1743] CUPTI activity buffer flushed\n"
     ]
    },
    {
     "name": "stdout",
     "output_type": "stream",
     "text": [
      "Epoch 1/10\n",
      "  1/100 [..............................] - ETA: 31:00 - loss: 138166.2500 - bpp: 1.1310 - mse: 539.7075"
     ]
    },
    {
     "name": "stderr",
     "output_type": "stream",
     "text": [
      "2022-01-28 21:17:46.543877: I tensorflow/core/profiler/lib/profiler_session.cc:126] Profiler session initializing.\n",
      "2022-01-28 21:17:46.543929: I tensorflow/core/profiler/lib/profiler_session.cc:141] Profiler session started.\n"
     ]
    },
    {
     "name": "stdout",
     "output_type": "stream",
     "text": [
      "  2/100 [..............................] - ETA: 1:58 - loss: 118104.4453 - bpp: 1.1213 - mse: 461.3411 "
     ]
    },
    {
     "name": "stderr",
     "output_type": "stream",
     "text": [
      "2022-01-28 21:17:48.617280: I tensorflow/core/profiler/lib/profiler_session.cc:66] Profiler session collecting data.\n",
      "2022-01-28 21:17:48.636030: I tensorflow/core/profiler/internal/gpu/cupti_tracer.cc:1743] CUPTI activity buffer flushed\n",
      "2022-01-28 21:17:48.711391: I tensorflow/core/profiler/internal/gpu/cupti_collector.cc:673]  GpuTracer has collected 3372 callback api events and 3336 activity events. \n",
      "2022-01-28 21:17:48.815450: I tensorflow/core/profiler/lib/profiler_session.cc:159] Profiler session tear down.\n",
      "2022-01-28 21:17:48.940498: I tensorflow/core/profiler/rpc/client/save_profile.cc:137] Creating directory: backup/train/plugins/profile/2022_01_28_21_17_48\n",
      "2022-01-28 21:17:49.007364: I tensorflow/core/profiler/rpc/client/save_profile.cc:143] Dumped gzipped tool data for trace.json.gz to backup/train/plugins/profile/2022_01_28_21_17_48/ab0180b02496.trace.json.gz\n"
     ]
    },
    {
     "name": "stdout",
     "output_type": "stream",
     "text": [
      "  3/100 [..............................] - ETA: 2:49 - loss: 107142.7734 - bpp: 1.1267 - mse: 418.5221"
     ]
    },
    {
     "name": "stderr",
     "output_type": "stream",
     "text": [
      "2022-01-28 21:17:49.178512: I tensorflow/core/profiler/rpc/client/save_profile.cc:137] Creating directory: backup/train/plugins/profile/2022_01_28_21_17_48\n",
      "2022-01-28 21:17:49.188229: I tensorflow/core/profiler/rpc/client/save_profile.cc:143] Dumped gzipped tool data for memory_profile.json.gz to backup/train/plugins/profile/2022_01_28_21_17_48/ab0180b02496.memory_profile.json.gz\n",
      "2022-01-28 21:17:49.196824: I tensorflow/core/profiler/rpc/client/capture_profile.cc:251] Creating directory: backup/train/plugins/profile/2022_01_28_21_17_48Dumped tool data for xplane.pb to backup/train/plugins/profile/2022_01_28_21_17_48/ab0180b02496.xplane.pb\n",
      "Dumped tool data for overview_page.pb to backup/train/plugins/profile/2022_01_28_21_17_48/ab0180b02496.overview_page.pb\n",
      "Dumped tool data for input_pipeline.pb to backup/train/plugins/profile/2022_01_28_21_17_48/ab0180b02496.input_pipeline.pb\n",
      "Dumped tool data for tensorflow_stats.pb to backup/train/plugins/profile/2022_01_28_21_17_48/ab0180b02496.tensorflow_stats.pb\n",
      "Dumped tool data for kernel_stats.pb to backup/train/plugins/profile/2022_01_28_21_17_48/ab0180b02496.kernel_stats.pb\n",
      "\n"
     ]
    },
    {
     "name": "stdout",
     "output_type": "stream",
     "text": [
      "  6/100 [>.............................] - ETA: 1:11 - loss: 94898.9297 - bpp: 1.1246 - mse: 370.6945WARNING:tensorflow:Callback method `on_train_batch_end` is slow compared to the batch time (batch time: 0.1016s vs `on_train_batch_end` time: 0.4929s). Check your callbacks.\n",
      "100/100 [==============================] - 33s 146ms/step - loss: 24463.3574 - bpp: 1.0114 - mse: 95.5560\n",
      "[MemoryCallback]:  7196492\n",
      "\n",
      "Epoch 00001: loss improved from inf to 24463.35742, saving model to checkpoints_testME4_no_norm11/\n",
      "Epoch 2/10\n",
      "100/100 [==============================] - 11s 106ms/step - loss: 9995.8936 - bpp: 1.0566 - mse: 39.0423\n",
      "[MemoryCallback]:  7196492\n",
      "\n",
      "Epoch 00002: loss improved from 24463.35742 to 9995.89355, saving model to checkpoints_testME4_no_norm11/\n",
      "Epoch 3/10\n",
      "100/100 [==============================] - 10s 100ms/step - loss: 8119.1157 - bpp: 1.0882 - mse: 31.7111\n",
      "[MemoryCallback]:  7196492\n",
      "\n",
      "Epoch 00003: loss improved from 9995.89355 to 8119.11572, saving model to checkpoints_testME4_no_norm11/\n",
      "Epoch 4/10\n",
      "100/100 [==============================] - 9s 90ms/step - loss: 7519.3506 - bpp: 1.1061 - mse: 29.3681\n",
      "[MemoryCallback]:  7196492\n",
      "\n",
      "Epoch 00004: loss improved from 8119.11572 to 7519.35059, saving model to checkpoints_testME4_no_norm11/\n",
      "Epoch 5/10\n",
      "100/100 [==============================] - 10s 100ms/step - loss: 6645.9375 - bpp: 1.1202 - mse: 25.9563\n",
      "[MemoryCallback]:  7196492\n",
      "\n",
      "Epoch 00005: loss improved from 7519.35059 to 6645.93750, saving model to checkpoints_testME4_no_norm11/\n",
      "Epoch 6/10\n",
      "100/100 [==============================] - 10s 100ms/step - loss: 6443.7007 - bpp: 1.1247 - mse: 25.1663\n",
      "[MemoryCallback]:  7196492\n",
      "\n",
      "Epoch 00006: loss improved from 6645.93750 to 6443.70068, saving model to checkpoints_testME4_no_norm11/\n",
      "Epoch 7/10\n",
      "100/100 [==============================] - 11s 107ms/step - loss: 6018.1436 - bpp: 1.1307 - mse: 23.5040\n",
      "[MemoryCallback]:  7196492\n",
      "\n",
      "Epoch 00007: loss improved from 6443.70068 to 6018.14355, saving model to checkpoints_testME4_no_norm11/\n",
      "Epoch 8/10\n",
      "100/100 [==============================] - 10s 101ms/step - loss: 5957.4927 - bpp: 1.1305 - mse: 23.2670\n",
      "[MemoryCallback]:  7196492\n",
      "\n",
      "Epoch 00008: loss improved from 6018.14355 to 5957.49268, saving model to checkpoints_testME4_no_norm11/\n",
      "Epoch 9/10\n",
      "100/100 [==============================] - 10s 100ms/step - loss: 5843.9033 - bpp: 1.1278 - mse: 22.8233\n",
      "[MemoryCallback]:  7196492\n",
      "\n",
      "Epoch 00009: loss improved from 5957.49268 to 5843.90332, saving model to checkpoints_testME4_no_norm11/\n",
      "Epoch 10/10\n",
      "100/100 [==============================] - 9s 90ms/step - loss: 5222.8784 - bpp: 1.1208 - mse: 20.3975\n",
      "[MemoryCallback]:  7196492\n",
      "\n",
      "Epoch 00010: loss improved from 5843.90332 to 5222.87842, saving model to checkpoints_testME4_no_norm11/\n",
      "/mnt/WindowsDev/DataSets/vimeo_septuplet/sequences/00003/0471/im1.png\n",
      "compress\n",
      "in the compress\n",
      "in decompress\n",
      "* [Model compiled]...\n",
      "* [Loading dataset]...\n",
      "Loading weights\n",
      "Going to fit\n"
     ]
    },
    {
     "name": "stderr",
     "output_type": "stream",
     "text": [
      "2022-01-28 21:20:17.101161: I tensorflow/core/profiler/lib/profiler_session.cc:126] Profiler session initializing.\n",
      "2022-01-28 21:20:17.101229: I tensorflow/core/profiler/lib/profiler_session.cc:141] Profiler session started.\n",
      "2022-01-28 21:20:18.106065: I tensorflow/core/profiler/lib/profiler_session.cc:159] Profiler session tear down.\n",
      "2022-01-28 21:20:18.111288: I tensorflow/core/profiler/internal/gpu/cupti_tracer.cc:1743] CUPTI activity buffer flushed\n"
     ]
    },
    {
     "name": "stdout",
     "output_type": "stream",
     "text": [
      "Epoch 1/10\n",
      "  1/100 [..............................] - ETA: 34:27 - loss: 315343.4062 - bpp: 1.2917 - mse: 1231.8052"
     ]
    },
    {
     "name": "stderr",
     "output_type": "stream",
     "text": [
      "2022-01-28 21:20:39.897711: I tensorflow/core/profiler/lib/profiler_session.cc:126] Profiler session initializing.\n",
      "2022-01-28 21:20:39.897764: I tensorflow/core/profiler/lib/profiler_session.cc:141] Profiler session started.\n"
     ]
    },
    {
     "name": "stdout",
     "output_type": "stream",
     "text": [
      "  2/100 [..............................] - ETA: 2:38 - loss: 194192.3594 - bpp: 1.2509 - mse: 758.5591  "
     ]
    },
    {
     "name": "stderr",
     "output_type": "stream",
     "text": [
      "2022-01-28 21:20:42.630924: I tensorflow/core/profiler/lib/profiler_session.cc:66] Profiler session collecting data.\n",
      "2022-01-28 21:20:42.658942: I tensorflow/core/profiler/internal/gpu/cupti_tracer.cc:1743] CUPTI activity buffer flushed\n",
      "2022-01-28 21:20:42.750844: I tensorflow/core/profiler/internal/gpu/cupti_collector.cc:673]  GpuTracer has collected 3372 callback api events and 3336 activity events. \n",
      "2022-01-28 21:20:42.874280: I tensorflow/core/profiler/lib/profiler_session.cc:159] Profiler session tear down.\n",
      "2022-01-28 21:20:43.032639: I tensorflow/core/profiler/rpc/client/save_profile.cc:137] Creating directory: backup/train/plugins/profile/2022_01_28_21_20_42\n",
      "2022-01-28 21:20:43.103987: I tensorflow/core/profiler/rpc/client/save_profile.cc:143] Dumped gzipped tool data for trace.json.gz to backup/train/plugins/profile/2022_01_28_21_20_42/ab0180b02496.trace.json.gz\n"
     ]
    },
    {
     "name": "stdout",
     "output_type": "stream",
     "text": [
      "  3/100 [..............................] - ETA: 3:35 - loss: 183275.4844 - bpp: 1.2068 - mse: 715.9152"
     ]
    },
    {
     "name": "stderr",
     "output_type": "stream",
     "text": [
      "2022-01-28 21:20:43.332804: I tensorflow/core/profiler/rpc/client/save_profile.cc:137] Creating directory: backup/train/plugins/profile/2022_01_28_21_20_42\n",
      "2022-01-28 21:20:43.343195: I tensorflow/core/profiler/rpc/client/save_profile.cc:143] Dumped gzipped tool data for memory_profile.json.gz to backup/train/plugins/profile/2022_01_28_21_20_42/ab0180b02496.memory_profile.json.gz\n",
      "2022-01-28 21:20:43.355101: I tensorflow/core/profiler/rpc/client/capture_profile.cc:251] Creating directory: backup/train/plugins/profile/2022_01_28_21_20_42Dumped tool data for xplane.pb to backup/train/plugins/profile/2022_01_28_21_20_42/ab0180b02496.xplane.pb\n",
      "Dumped tool data for overview_page.pb to backup/train/plugins/profile/2022_01_28_21_20_42/ab0180b02496.overview_page.pb\n",
      "Dumped tool data for input_pipeline.pb to backup/train/plugins/profile/2022_01_28_21_20_42/ab0180b02496.input_pipeline.pb\n",
      "Dumped tool data for tensorflow_stats.pb to backup/train/plugins/profile/2022_01_28_21_20_42/ab0180b02496.tensorflow_stats.pb\n",
      "Dumped tool data for kernel_stats.pb to backup/train/plugins/profile/2022_01_28_21_20_42/ab0180b02496.kernel_stats.pb\n",
      "\n"
     ]
    },
    {
     "name": "stdout",
     "output_type": "stream",
     "text": [
      "  6/100 [>.............................] - ETA: 1:30 - loss: 170215.5469 - bpp: 1.1390 - mse: 664.9001WARNING:tensorflow:Callback method `on_train_batch_end` is slow compared to the batch time (batch time: 0.1136s vs `on_train_batch_end` time: 0.5950s). Check your callbacks.\n",
      "100/100 [==============================] - 36s 149ms/step - loss: 29705.7051 - bpp: 0.9473 - mse: 116.0342\n",
      "[MemoryCallback]:  7196492\n",
      "\n",
      "Epoch 00001: loss improved from inf to 29705.70508, saving model to checkpoints_testME4_no_norm12/\n",
      "Epoch 2/10\n",
      "100/100 [==============================] - 11s 106ms/step - loss: 5688.4048 - bpp: 0.9367 - mse: 22.2167\n",
      "[MemoryCallback]:  7196492\n",
      "\n",
      "Epoch 00002: loss improved from 29705.70508 to 5688.40479, saving model to checkpoints_testME4_no_norm12/\n",
      "Epoch 3/10\n",
      "100/100 [==============================] - 10s 102ms/step - loss: 4312.3530 - bpp: 0.9419 - mse: 16.8415\n",
      "[MemoryCallback]:  7196492\n",
      "\n",
      "Epoch 00003: loss improved from 5688.40479 to 4312.35303, saving model to checkpoints_testME4_no_norm12/\n",
      "Epoch 4/10\n",
      "100/100 [==============================] - 10s 101ms/step - loss: 3615.2231 - bpp: 0.9469 - mse: 14.1183\n",
      "[MemoryCallback]:  7196492\n",
      "\n",
      "Epoch 00004: loss improved from 4312.35303 to 3615.22314, saving model to checkpoints_testME4_no_norm12/\n",
      "Epoch 5/10\n",
      "100/100 [==============================] - 10s 101ms/step - loss: 3110.3684 - bpp: 0.9469 - mse: 12.1462\n",
      "[MemoryCallback]:  7196492\n",
      "\n",
      "Epoch 00005: loss improved from 3615.22314 to 3110.36841, saving model to checkpoints_testME4_no_norm12/\n",
      "Epoch 6/10\n",
      "100/100 [==============================] - 10s 101ms/step - loss: 2863.2515 - bpp: 0.9465 - mse: 11.1809\n",
      "[MemoryCallback]:  7196492\n",
      "\n",
      "Epoch 00006: loss improved from 3110.36841 to 2863.25146, saving model to checkpoints_testME4_no_norm12/\n",
      "Epoch 7/10\n",
      "100/100 [==============================] - 10s 100ms/step - loss: 2605.8032 - bpp: 0.9463 - mse: 10.1752\n",
      "[MemoryCallback]:  7196492\n",
      "\n",
      "Epoch 00007: loss improved from 2863.25146 to 2605.80322, saving model to checkpoints_testME4_no_norm12/\n",
      "Epoch 8/10\n",
      "100/100 [==============================] - 10s 98ms/step - loss: 2490.1965 - bpp: 0.9424 - mse: 9.7236\n",
      "[MemoryCallback]:  7196492\n",
      "\n",
      "Epoch 00008: loss improved from 2605.80322 to 2490.19653, saving model to checkpoints_testME4_no_norm12/\n",
      "Epoch 9/10\n",
      "100/100 [==============================] - 10s 101ms/step - loss: 2279.0918 - bpp: 0.9389 - mse: 8.8990\n",
      "[MemoryCallback]:  7196492\n",
      "\n",
      "Epoch 00009: loss improved from 2490.19653 to 2279.09180, saving model to checkpoints_testME4_no_norm12/\n",
      "Epoch 10/10\n",
      "100/100 [==============================] - 10s 100ms/step - loss: 2251.7397 - bpp: 0.9352 - mse: 8.7922\n",
      "[MemoryCallback]:  7196492\n",
      "\n",
      "Epoch 00010: loss improved from 2279.09180 to 2251.73975, saving model to checkpoints_testME4_no_norm12/\n",
      "/mnt/WindowsDev/DataSets/vimeo_septuplet/sequences/00061/0452/im1.png\n",
      "compress\n",
      "in the compress\n",
      "WARNING:tensorflow:5 out of the last 5 calls to <function OpenDVC.compress at 0x7f0fa4299e50> triggered tf.function retracing. Tracing is expensive and the excessive number of tracings could be due to (1) creating @tf.function repeatedly in a loop, (2) passing tensors with different shapes, (3) passing Python objects instead of tensors. For (1), please define your @tf.function outside of the loop. For (2), @tf.function has experimental_relax_shapes=True option that relaxes argument shapes that can avoid unnecessary retracing. For (3), please refer to https://www.tensorflow.org/guide/function#controlling_retracing and https://www.tensorflow.org/api_docs/python/tf/function for  more details.\n",
      "in decompress\n",
      "WARNING:tensorflow:5 out of the last 5 calls to <function OpenDVC.decompress at 0x7f0fa41a9940> triggered tf.function retracing. Tracing is expensive and the excessive number of tracings could be due to (1) creating @tf.function repeatedly in a loop, (2) passing tensors with different shapes, (3) passing Python objects instead of tensors. For (1), please define your @tf.function outside of the loop. For (2), @tf.function has experimental_relax_shapes=True option that relaxes argument shapes that can avoid unnecessary retracing. For (3), please refer to https://www.tensorflow.org/guide/function#controlling_retracing and https://www.tensorflow.org/api_docs/python/tf/function for  more details.\n",
      "* [Model compiled]...\n",
      "* [Loading dataset]...\n",
      "Loading weights\n",
      "Going to fit\n"
     ]
    },
    {
     "name": "stderr",
     "output_type": "stream",
     "text": [
      "2022-01-28 21:22:51.503379: I tensorflow/core/profiler/lib/profiler_session.cc:126] Profiler session initializing.\n",
      "2022-01-28 21:22:51.503432: I tensorflow/core/profiler/lib/profiler_session.cc:141] Profiler session started.\n",
      "2022-01-28 21:22:52.372945: I tensorflow/core/profiler/lib/profiler_session.cc:159] Profiler session tear down.\n",
      "2022-01-28 21:22:52.376125: I tensorflow/core/profiler/internal/gpu/cupti_tracer.cc:1743] CUPTI activity buffer flushed\n"
     ]
    },
    {
     "name": "stdout",
     "output_type": "stream",
     "text": [
      "Epoch 1/10\n",
      "  1/100 [..............................] - ETA: 35:00 - loss: 50696.4609 - bpp: 0.6907 - mse: 198.0303"
     ]
    },
    {
     "name": "stderr",
     "output_type": "stream",
     "text": [
      "2022-01-28 21:23:14.437567: I tensorflow/core/profiler/lib/profiler_session.cc:126] Profiler session initializing.\n",
      "2022-01-28 21:23:14.437636: I tensorflow/core/profiler/lib/profiler_session.cc:141] Profiler session started.\n"
     ]
    },
    {
     "name": "stdout",
     "output_type": "stream",
     "text": [
      "  2/100 [..............................] - ETA: 2:16 - loss: 46772.2578 - bpp: 0.6931 - mse: 182.7014 "
     ]
    },
    {
     "name": "stderr",
     "output_type": "stream",
     "text": [
      "2022-01-28 21:23:17.037622: I tensorflow/core/profiler/lib/profiler_session.cc:66] Profiler session collecting data.\n",
      "2022-01-28 21:23:17.060561: I tensorflow/core/profiler/internal/gpu/cupti_tracer.cc:1743] CUPTI activity buffer flushed\n",
      "2022-01-28 21:23:17.151366: I tensorflow/core/profiler/internal/gpu/cupti_collector.cc:673]  GpuTracer has collected 3372 callback api events and 3336 activity events. \n",
      "2022-01-28 21:23:17.268534: I tensorflow/core/profiler/lib/profiler_session.cc:159] Profiler session tear down.\n",
      "2022-01-28 21:23:17.414995: I tensorflow/core/profiler/rpc/client/save_profile.cc:137] Creating directory: backup/train/plugins/profile/2022_01_28_21_23_17\n",
      "2022-01-28 21:23:17.490717: I tensorflow/core/profiler/rpc/client/save_profile.cc:143] Dumped gzipped tool data for trace.json.gz to backup/train/plugins/profile/2022_01_28_21_23_17/ab0180b02496.trace.json.gz\n"
     ]
    },
    {
     "name": "stdout",
     "output_type": "stream",
     "text": [
      "  3/100 [..............................] - ETA: 3:27 - loss: 42193.3945 - bpp: 0.6904 - mse: 164.8153"
     ]
    },
    {
     "name": "stderr",
     "output_type": "stream",
     "text": [
      "2022-01-28 21:23:17.753347: I tensorflow/core/profiler/rpc/client/save_profile.cc:137] Creating directory: backup/train/plugins/profile/2022_01_28_21_23_17\n",
      "2022-01-28 21:23:17.763250: I tensorflow/core/profiler/rpc/client/save_profile.cc:143] Dumped gzipped tool data for memory_profile.json.gz to backup/train/plugins/profile/2022_01_28_21_23_17/ab0180b02496.memory_profile.json.gz\n",
      "2022-01-28 21:23:17.775142: I tensorflow/core/profiler/rpc/client/capture_profile.cc:251] Creating directory: backup/train/plugins/profile/2022_01_28_21_23_17Dumped tool data for xplane.pb to backup/train/plugins/profile/2022_01_28_21_23_17/ab0180b02496.xplane.pb\n",
      "Dumped tool data for overview_page.pb to backup/train/plugins/profile/2022_01_28_21_23_17/ab0180b02496.overview_page.pb\n",
      "Dumped tool data for input_pipeline.pb to backup/train/plugins/profile/2022_01_28_21_23_17/ab0180b02496.input_pipeline.pb\n",
      "Dumped tool data for tensorflow_stats.pb to backup/train/plugins/profile/2022_01_28_21_23_17/ab0180b02496.tensorflow_stats.pb\n",
      "Dumped tool data for kernel_stats.pb to backup/train/plugins/profile/2022_01_28_21_23_17/ab0180b02496.kernel_stats.pb\n",
      "\n"
     ]
    },
    {
     "name": "stdout",
     "output_type": "stream",
     "text": [
      "  6/100 [>.............................] - ETA: 1:27 - loss: 35696.9219 - bpp: 0.6795 - mse: 139.4384WARNING:tensorflow:Callback method `on_train_batch_end` is slow compared to the batch time (batch time: 0.1138s vs `on_train_batch_end` time: 0.6032s). Check your callbacks.\n",
      "100/100 [==============================] - 36s 154ms/step - loss: 10344.2061 - bpp: 0.6400 - mse: 40.4046\n",
      "[MemoryCallback]:  7345236\n",
      "\n",
      "Epoch 00001: loss improved from inf to 10344.20605, saving model to checkpoints_testME4_no_norm13/\n",
      "Epoch 2/10\n",
      "100/100 [==============================] - 10s 102ms/step - loss: 3505.5657 - bpp: 0.6258 - mse: 13.6912\n",
      "[MemoryCallback]:  7345236\n",
      "\n",
      "Epoch 00002: loss improved from 10344.20605 to 3505.56567, saving model to checkpoints_testME4_no_norm13/\n",
      "Epoch 3/10\n",
      "100/100 [==============================] - 10s 102ms/step - loss: 2616.8547 - bpp: 0.6274 - mse: 10.2196\n",
      "[MemoryCallback]:  7345236\n",
      "\n",
      "Epoch 00003: loss improved from 3505.56567 to 2616.85474, saving model to checkpoints_testME4_no_norm13/\n",
      "Epoch 4/10\n",
      "100/100 [==============================] - 10s 100ms/step - loss: 2104.2769 - bpp: 0.6317 - mse: 8.2174\n",
      "[MemoryCallback]:  7345236\n",
      "\n",
      "Epoch 00004: loss improved from 2616.85474 to 2104.27686, saving model to checkpoints_testME4_no_norm13/\n",
      "Epoch 5/10\n",
      "100/100 [==============================] - 10s 102ms/step - loss: 1814.2605 - bpp: 0.6330 - mse: 7.0845\n",
      "[MemoryCallback]:  7345236\n",
      "\n",
      "Epoch 00005: loss improved from 2104.27686 to 1814.26050, saving model to checkpoints_testME4_no_norm13/\n",
      "Epoch 6/10\n",
      "100/100 [==============================] - 10s 100ms/step - loss: 1615.1128 - bpp: 0.6335 - mse: 6.3066\n",
      "[MemoryCallback]:  7345236\n",
      "\n",
      "Epoch 00006: loss improved from 1814.26050 to 1615.11279, saving model to checkpoints_testME4_no_norm13/\n",
      "Epoch 7/10\n",
      "100/100 [==============================] - 10s 100ms/step - loss: 1538.2671 - bpp: 0.6350 - mse: 6.0064\n",
      "[MemoryCallback]:  7345236\n",
      "\n",
      "Epoch 00007: loss improved from 1615.11279 to 1538.26709, saving model to checkpoints_testME4_no_norm13/\n",
      "Epoch 8/10\n",
      "100/100 [==============================] - 10s 100ms/step - loss: 1387.8411 - bpp: 0.6357 - mse: 5.4188\n",
      "[MemoryCallback]:  7345236\n",
      "\n",
      "Epoch 00008: loss improved from 1538.26709 to 1387.84106, saving model to checkpoints_testME4_no_norm13/\n",
      "Epoch 9/10\n",
      "100/100 [==============================] - 10s 99ms/step - loss: 1317.0056 - bpp: 0.6359 - mse: 5.1421\n",
      "[MemoryCallback]:  7345236\n",
      "\n",
      "Epoch 00009: loss improved from 1387.84106 to 1317.00562, saving model to checkpoints_testME4_no_norm13/\n",
      "Epoch 10/10\n",
      "100/100 [==============================] - 10s 101ms/step - loss: 1262.0325 - bpp: 0.6362 - mse: 4.9273\n",
      "[MemoryCallback]:  7345236\n",
      "\n",
      "Epoch 00010: loss improved from 1317.00562 to 1262.03247, saving model to checkpoints_testME4_no_norm13/\n",
      "/mnt/WindowsDev/DataSets/vimeo_septuplet/sequences/00017/0690/im1.png\n",
      "compress\n",
      "in the compress\n",
      "WARNING:tensorflow:6 out of the last 6 calls to <function OpenDVC.compress at 0x7f0cb9f21820> triggered tf.function retracing. Tracing is expensive and the excessive number of tracings could be due to (1) creating @tf.function repeatedly in a loop, (2) passing tensors with different shapes, (3) passing Python objects instead of tensors. For (1), please define your @tf.function outside of the loop. For (2), @tf.function has experimental_relax_shapes=True option that relaxes argument shapes that can avoid unnecessary retracing. For (3), please refer to https://www.tensorflow.org/guide/function#controlling_retracing and https://www.tensorflow.org/api_docs/python/tf/function for  more details.\n",
      "in decompress\n",
      "WARNING:tensorflow:6 out of the last 6 calls to <function OpenDVC.decompress at 0x7f0f7c298430> triggered tf.function retracing. Tracing is expensive and the excessive number of tracings could be due to (1) creating @tf.function repeatedly in a loop, (2) passing tensors with different shapes, (3) passing Python objects instead of tensors. For (1), please define your @tf.function outside of the loop. For (2), @tf.function has experimental_relax_shapes=True option that relaxes argument shapes that can avoid unnecessary retracing. For (3), please refer to https://www.tensorflow.org/guide/function#controlling_retracing and https://www.tensorflow.org/api_docs/python/tf/function for  more details.\n",
      "* [Model compiled]...\n",
      "* [Loading dataset]...\n",
      "Loading weights\n",
      "Going to fit\n"
     ]
    },
    {
     "name": "stderr",
     "output_type": "stream",
     "text": [
      "2022-01-28 21:25:25.670771: I tensorflow/core/profiler/lib/profiler_session.cc:126] Profiler session initializing.\n",
      "2022-01-28 21:25:25.670820: I tensorflow/core/profiler/lib/profiler_session.cc:141] Profiler session started.\n",
      "2022-01-28 21:25:26.863707: I tensorflow/core/profiler/lib/profiler_session.cc:159] Profiler session tear down.\n",
      "2022-01-28 21:25:26.867349: I tensorflow/core/profiler/internal/gpu/cupti_tracer.cc:1743] CUPTI activity buffer flushed\n"
     ]
    },
    {
     "name": "stdout",
     "output_type": "stream",
     "text": [
      "Epoch 1/10\n",
      "  1/100 [..............................] - ETA: 33:00 - loss: 194565.4219 - bpp: 1.2046 - mse: 760.0165"
     ]
    },
    {
     "name": "stderr",
     "output_type": "stream",
     "text": [
      "2022-01-28 21:25:47.639378: I tensorflow/core/profiler/lib/profiler_session.cc:126] Profiler session initializing.\n",
      "2022-01-28 21:25:47.639426: I tensorflow/core/profiler/lib/profiler_session.cc:141] Profiler session started.\n"
     ]
    },
    {
     "name": "stdout",
     "output_type": "stream",
     "text": [
      "  2/100 [..............................] - ETA: 1:47 - loss: 155045.0938 - bpp: 1.1964 - mse: 605.6403 "
     ]
    },
    {
     "name": "stderr",
     "output_type": "stream",
     "text": [
      "2022-01-28 21:25:49.637691: I tensorflow/core/profiler/lib/profiler_session.cc:66] Profiler session collecting data.\n",
      "2022-01-28 21:25:49.655913: I tensorflow/core/profiler/internal/gpu/cupti_tracer.cc:1743] CUPTI activity buffer flushed\n",
      "2022-01-28 21:25:49.738108: I tensorflow/core/profiler/internal/gpu/cupti_collector.cc:673]  GpuTracer has collected 3372 callback api events and 3336 activity events. \n",
      "2022-01-28 21:25:49.843924: I tensorflow/core/profiler/lib/profiler_session.cc:159] Profiler session tear down.\n",
      "2022-01-28 21:25:49.974590: I tensorflow/core/profiler/rpc/client/save_profile.cc:137] Creating directory: backup/train/plugins/profile/2022_01_28_21_25_49\n",
      "2022-01-28 21:25:50.040416: I tensorflow/core/profiler/rpc/client/save_profile.cc:143] Dumped gzipped tool data for trace.json.gz to backup/train/plugins/profile/2022_01_28_21_25_49/ab0180b02496.trace.json.gz\n"
     ]
    },
    {
     "name": "stdout",
     "output_type": "stream",
     "text": [
      "  3/100 [..............................] - ETA: 2:46 - loss: 151663.3750 - bpp: 1.1956 - mse: 592.4304"
     ]
    },
    {
     "name": "stderr",
     "output_type": "stream",
     "text": [
      "2022-01-28 21:25:50.222292: I tensorflow/core/profiler/rpc/client/save_profile.cc:137] Creating directory: backup/train/plugins/profile/2022_01_28_21_25_49\n",
      "2022-01-28 21:25:50.232036: I tensorflow/core/profiler/rpc/client/save_profile.cc:143] Dumped gzipped tool data for memory_profile.json.gz to backup/train/plugins/profile/2022_01_28_21_25_49/ab0180b02496.memory_profile.json.gz\n",
      "2022-01-28 21:25:50.240597: I tensorflow/core/profiler/rpc/client/capture_profile.cc:251] Creating directory: backup/train/plugins/profile/2022_01_28_21_25_49Dumped tool data for xplane.pb to backup/train/plugins/profile/2022_01_28_21_25_49/ab0180b02496.xplane.pb\n",
      "Dumped tool data for overview_page.pb to backup/train/plugins/profile/2022_01_28_21_25_49/ab0180b02496.overview_page.pb\n",
      "Dumped tool data for input_pipeline.pb to backup/train/plugins/profile/2022_01_28_21_25_49/ab0180b02496.input_pipeline.pb\n",
      "Dumped tool data for tensorflow_stats.pb to backup/train/plugins/profile/2022_01_28_21_25_49/ab0180b02496.tensorflow_stats.pb\n",
      "Dumped tool data for kernel_stats.pb to backup/train/plugins/profile/2022_01_28_21_25_49/ab0180b02496.kernel_stats.pb\n",
      "\n"
     ]
    },
    {
     "name": "stdout",
     "output_type": "stream",
     "text": [
      "  6/100 [>.............................] - ETA: 1:10 - loss: 125696.0703 - bpp: 1.1662 - mse: 490.9958WARNING:tensorflow:Callback method `on_train_batch_end` is slow compared to the batch time (batch time: 0.0967s vs `on_train_batch_end` time: 0.4987s). Check your callbacks.\n",
      "100/100 [==============================] - 33s 136ms/step - loss: 47229.0586 - bpp: 0.9537 - mse: 184.4848\n",
      "[MemoryCallback]:  7438608\n",
      "\n",
      "Epoch 00001: loss improved from inf to 47229.05859, saving model to checkpoints_testME4_no_norm14/\n",
      "Epoch 2/10\n",
      "100/100 [==============================] - 10s 104ms/step - loss: 24269.5703 - bpp: 1.0187 - mse: 94.7990\n",
      "[MemoryCallback]:  7438608\n",
      "\n",
      "Epoch 00002: loss improved from 47229.05859 to 24269.57031, saving model to checkpoints_testME4_no_norm14/\n",
      "Epoch 3/10\n",
      "100/100 [==============================] - 10s 100ms/step - loss: 17887.7305 - bpp: 1.0718 - mse: 69.8698\n",
      "[MemoryCallback]:  7438608\n",
      "\n",
      "Epoch 00003: loss improved from 24269.57031 to 17887.73047, saving model to checkpoints_testME4_no_norm14/\n",
      "Epoch 4/10\n",
      "100/100 [==============================] - 9s 92ms/step - loss: 15376.5410 - bpp: 1.0983 - mse: 60.0603\n",
      "[MemoryCallback]:  7438608\n",
      "\n",
      "Epoch 00004: loss improved from 17887.73047 to 15376.54102, saving model to checkpoints_testME4_no_norm14/\n",
      "Epoch 5/10\n",
      "100/100 [==============================] - 10s 101ms/step - loss: 12474.3965 - bpp: 1.1115 - mse: 48.7238\n",
      "[MemoryCallback]:  7438608\n",
      "\n",
      "Epoch 00005: loss improved from 15376.54102 to 12474.39648, saving model to checkpoints_testME4_no_norm14/\n",
      "Epoch 6/10\n",
      "100/100 [==============================] - 10s 102ms/step - loss: 10850.4775 - bpp: 1.1177 - mse: 42.3803\n",
      "[MemoryCallback]:  7438608\n",
      "\n",
      "Epoch 00006: loss improved from 12474.39648 to 10850.47754, saving model to checkpoints_testME4_no_norm14/\n",
      "Epoch 7/10\n",
      "100/100 [==============================] - 10s 100ms/step - loss: 10373.1943 - bpp: 1.1188 - mse: 40.5159\n",
      "[MemoryCallback]:  7438608\n",
      "\n",
      "Epoch 00007: loss improved from 10850.47754 to 10373.19434, saving model to checkpoints_testME4_no_norm14/\n",
      "Epoch 8/10\n",
      "100/100 [==============================] - 10s 102ms/step - loss: 8785.1221 - bpp: 1.1169 - mse: 34.3125\n",
      "[MemoryCallback]:  7438608\n",
      "\n",
      "Epoch 00008: loss improved from 10373.19434 to 8785.12207, saving model to checkpoints_testME4_no_norm14/\n",
      "Epoch 9/10\n",
      "100/100 [==============================] - 10s 101ms/step - loss: 8368.5117 - bpp: 1.1140 - mse: 32.6851\n",
      "[MemoryCallback]:  7438608\n",
      "\n",
      "Epoch 00009: loss improved from 8785.12207 to 8368.51172, saving model to checkpoints_testME4_no_norm14/\n",
      "Epoch 10/10\n",
      "100/100 [==============================] - 9s 93ms/step - loss: 8624.6445 - bpp: 1.1043 - mse: 33.6857\n",
      "[MemoryCallback]:  7438608\n",
      "\n",
      "Epoch 00010: loss did not improve from 8368.51172\n",
      "/mnt/WindowsDev/DataSets/vimeo_septuplet/sequences/00033/0611/im1.png\n",
      "compress\n",
      "in the compress\n",
      "in decompress\n",
      "* [Model compiled]...\n",
      "* [Loading dataset]...\n",
      "Loading weights\n",
      "Going to fit\n"
     ]
    },
    {
     "name": "stderr",
     "output_type": "stream",
     "text": [
      "2022-01-28 21:28:16.274692: I tensorflow/core/profiler/lib/profiler_session.cc:126] Profiler session initializing.\n",
      "2022-01-28 21:28:16.274746: I tensorflow/core/profiler/lib/profiler_session.cc:141] Profiler session started.\n",
      "2022-01-28 21:28:17.341515: I tensorflow/core/profiler/lib/profiler_session.cc:159] Profiler session tear down.\n",
      "2022-01-28 21:28:17.344222: I tensorflow/core/profiler/internal/gpu/cupti_tracer.cc:1743] CUPTI activity buffer flushed\n"
     ]
    },
    {
     "name": "stdout",
     "output_type": "stream",
     "text": [
      "Epoch 1/10\n",
      "  1/100 [..............................] - ETA: 36:48 - loss: 400718.1875 - bpp: 1.0721 - mse: 1565.3013"
     ]
    },
    {
     "name": "stderr",
     "output_type": "stream",
     "text": [
      "2022-01-28 21:28:40.559490: I tensorflow/core/profiler/lib/profiler_session.cc:126] Profiler session initializing.\n",
      "2022-01-28 21:28:40.559558: I tensorflow/core/profiler/lib/profiler_session.cc:141] Profiler session started.\n"
     ]
    },
    {
     "name": "stdout",
     "output_type": "stream",
     "text": [
      "  2/100 [..............................] - ETA: 2:17 - loss: 270473.6562 - bpp: 1.0574 - mse: 1056.5337 "
     ]
    },
    {
     "name": "stderr",
     "output_type": "stream",
     "text": [
      "2022-01-28 21:28:42.986744: I tensorflow/core/profiler/lib/profiler_session.cc:66] Profiler session collecting data.\n",
      "2022-01-28 21:28:43.010753: I tensorflow/core/profiler/internal/gpu/cupti_tracer.cc:1743] CUPTI activity buffer flushed\n",
      "2022-01-28 21:28:43.114759: I tensorflow/core/profiler/internal/gpu/cupti_collector.cc:673]  GpuTracer has collected 3372 callback api events and 3336 activity events. \n",
      "2022-01-28 21:28:43.244743: I tensorflow/core/profiler/lib/profiler_session.cc:159] Profiler session tear down.\n",
      "2022-01-28 21:28:43.401018: I tensorflow/core/profiler/rpc/client/save_profile.cc:137] Creating directory: backup/train/plugins/profile/2022_01_28_21_28_43\n",
      "2022-01-28 21:28:43.474940: I tensorflow/core/profiler/rpc/client/save_profile.cc:143] Dumped gzipped tool data for trace.json.gz to backup/train/plugins/profile/2022_01_28_21_28_43/ab0180b02496.trace.json.gz\n"
     ]
    },
    {
     "name": "stdout",
     "output_type": "stream",
     "text": [
      "  3/100 [..............................] - ETA: 3:21 - loss: 312489.5938 - bpp: 1.0583 - mse: 1220.6583"
     ]
    },
    {
     "name": "stderr",
     "output_type": "stream",
     "text": [
      "2022-01-28 21:28:43.689344: I tensorflow/core/profiler/rpc/client/save_profile.cc:137] Creating directory: backup/train/plugins/profile/2022_01_28_21_28_43\n",
      "2022-01-28 21:28:43.700386: I tensorflow/core/profiler/rpc/client/save_profile.cc:143] Dumped gzipped tool data for memory_profile.json.gz to backup/train/plugins/profile/2022_01_28_21_28_43/ab0180b02496.memory_profile.json.gz\n",
      "2022-01-28 21:28:43.710212: I tensorflow/core/profiler/rpc/client/capture_profile.cc:251] Creating directory: backup/train/plugins/profile/2022_01_28_21_28_43Dumped tool data for xplane.pb to backup/train/plugins/profile/2022_01_28_21_28_43/ab0180b02496.xplane.pb\n",
      "Dumped tool data for overview_page.pb to backup/train/plugins/profile/2022_01_28_21_28_43/ab0180b02496.overview_page.pb\n",
      "Dumped tool data for input_pipeline.pb to backup/train/plugins/profile/2022_01_28_21_28_43/ab0180b02496.input_pipeline.pb\n",
      "Dumped tool data for tensorflow_stats.pb to backup/train/plugins/profile/2022_01_28_21_28_43/ab0180b02496.tensorflow_stats.pb\n",
      "Dumped tool data for kernel_stats.pb to backup/train/plugins/profile/2022_01_28_21_28_43/ab0180b02496.kernel_stats.pb\n",
      "\n"
     ]
    },
    {
     "name": "stdout",
     "output_type": "stream",
     "text": [
      "  6/100 [>.............................] - ETA: 1:23 - loss: 262514.1562 - bpp: 0.9963 - mse: 1025.4421WARNING:tensorflow:Callback method `on_train_batch_end` is slow compared to the batch time (batch time: 0.1011s vs `on_train_batch_end` time: 0.5893s). Check your callbacks.\n",
      "100/100 [==============================] - 37s 149ms/step - loss: 51141.9648 - bpp: 0.8567 - mse: 199.7699\n",
      "[MemoryCallback]:  7511508\n",
      "\n",
      "Epoch 00001: loss improved from inf to 51141.96484, saving model to checkpoints_testME4_no_norm15/\n",
      "Epoch 2/10\n",
      "100/100 [==============================] - 9s 93ms/step - loss: 17290.1094 - bpp: 0.8582 - mse: 67.5361\n",
      "[MemoryCallback]:  7511508\n",
      "\n",
      "Epoch 00002: loss improved from 51141.96484 to 17290.10938, saving model to checkpoints_testME4_no_norm15/\n",
      "Epoch 3/10\n",
      "100/100 [==============================] - 10s 100ms/step - loss: 14031.6748 - bpp: 0.8766 - mse: 54.8078\n",
      "[MemoryCallback]:  7511508\n",
      "\n",
      "Epoch 00003: loss improved from 17290.10938 to 14031.67480, saving model to checkpoints_testME4_no_norm15/\n",
      "Epoch 4/10\n",
      "100/100 [==============================] - 10s 101ms/step - loss: 11695.8984 - bpp: 0.8880 - mse: 45.6836\n",
      "[MemoryCallback]:  7511508\n",
      "\n",
      "Epoch 00004: loss improved from 14031.67480 to 11695.89844, saving model to checkpoints_testME4_no_norm15/\n",
      "Epoch 5/10\n",
      "100/100 [==============================] - 10s 99ms/step - loss: 10209.9766 - bpp: 0.8911 - mse: 39.8792\n",
      "[MemoryCallback]:  7511508\n",
      "\n",
      "Epoch 00005: loss improved from 11695.89844 to 10209.97656, saving model to checkpoints_testME4_no_norm15/\n",
      "Epoch 6/10\n",
      "100/100 [==============================] - 10s 100ms/step - loss: 9520.4502 - bpp: 0.8930 - mse: 37.1858\n",
      "[MemoryCallback]:  7511508\n",
      "\n",
      "Epoch 00006: loss improved from 10209.97656 to 9520.45020, saving model to checkpoints_testME4_no_norm15/\n",
      "Epoch 7/10\n",
      "100/100 [==============================] - 10s 99ms/step - loss: 9107.9990 - bpp: 0.8914 - mse: 35.5746\n",
      "[MemoryCallback]:  7511508\n",
      "\n",
      "Epoch 00007: loss improved from 9520.45020 to 9107.99902, saving model to checkpoints_testME4_no_norm15/\n",
      "Epoch 8/10\n",
      "100/100 [==============================] - 10s 101ms/step - loss: 8117.2764 - bpp: 0.8891 - mse: 31.7046\n",
      "[MemoryCallback]:  7511508\n",
      "\n",
      "Epoch 00008: loss improved from 9107.99902 to 8117.27637, saving model to checkpoints_testME4_no_norm15/\n",
      "Epoch 9/10\n",
      "100/100 [==============================] - 10s 99ms/step - loss: 8229.1240 - bpp: 0.8859 - mse: 32.1416\n",
      "[MemoryCallback]:  7511508\n",
      "\n",
      "Epoch 00009: loss did not improve from 8117.27637\n",
      "Epoch 10/10\n",
      "100/100 [==============================] - 9s 90ms/step - loss: 7469.9751 - bpp: 0.8817 - mse: 29.1761\n",
      "[MemoryCallback]:  7511508\n",
      "\n",
      "Epoch 00010: loss improved from 8117.27637 to 7469.97510, saving model to checkpoints_testME4_no_norm15/\n",
      "/mnt/WindowsDev/DataSets/vimeo_septuplet/sequences/00065/0143/im1.png\n",
      "compress\n",
      "in the compress\n",
      "in decompress\n",
      "* [Model compiled]...\n",
      "* [Loading dataset]...\n",
      "Loading weights\n",
      "Going to fit\n"
     ]
    },
    {
     "name": "stderr",
     "output_type": "stream",
     "text": [
      "2022-01-28 21:30:56.134127: I tensorflow/core/profiler/lib/profiler_session.cc:126] Profiler session initializing.\n",
      "2022-01-28 21:30:56.134196: I tensorflow/core/profiler/lib/profiler_session.cc:141] Profiler session started.\n",
      "2022-01-28 21:30:57.210191: I tensorflow/core/profiler/lib/profiler_session.cc:159] Profiler session tear down.\n",
      "2022-01-28 21:30:57.229306: I tensorflow/core/profiler/internal/gpu/cupti_tracer.cc:1743] CUPTI activity buffer flushed\n"
     ]
    },
    {
     "name": "stdout",
     "output_type": "stream",
     "text": [
      "Epoch 1/10\n",
      "  1/100 [..............................] - ETA: 31:56 - loss: 193175.8906 - bpp: 0.8164 - mse: 754.5901"
     ]
    },
    {
     "name": "stderr",
     "output_type": "stream",
     "text": [
      "2022-01-28 21:31:17.506940: I tensorflow/core/profiler/lib/profiler_session.cc:126] Profiler session initializing.\n",
      "2022-01-28 21:31:17.506998: I tensorflow/core/profiler/lib/profiler_session.cc:141] Profiler session started.\n"
     ]
    },
    {
     "name": "stdout",
     "output_type": "stream",
     "text": [
      "  2/100 [..............................] - ETA: 1:52 - loss: 161466.7656 - bpp: 0.8058 - mse: 630.7264 "
     ]
    },
    {
     "name": "stderr",
     "output_type": "stream",
     "text": [
      "2022-01-28 21:31:19.502567: I tensorflow/core/profiler/lib/profiler_session.cc:66] Profiler session collecting data.\n",
      "2022-01-28 21:31:19.523630: I tensorflow/core/profiler/internal/gpu/cupti_tracer.cc:1743] CUPTI activity buffer flushed\n",
      "2022-01-28 21:31:19.605754: I tensorflow/core/profiler/internal/gpu/cupti_collector.cc:673]  GpuTracer has collected 3372 callback api events and 3336 activity events. \n",
      "2022-01-28 21:31:19.712701: I tensorflow/core/profiler/lib/profiler_session.cc:159] Profiler session tear down.\n",
      "2022-01-28 21:31:19.840692: I tensorflow/core/profiler/rpc/client/save_profile.cc:137] Creating directory: backup/train/plugins/profile/2022_01_28_21_31_19\n",
      "2022-01-28 21:31:19.909678: I tensorflow/core/profiler/rpc/client/save_profile.cc:143] Dumped gzipped tool data for trace.json.gz to backup/train/plugins/profile/2022_01_28_21_31_19/ab0180b02496.trace.json.gz\n"
     ]
    },
    {
     "name": "stdout",
     "output_type": "stream",
     "text": [
      "  3/100 [..............................] - ETA: 2:51 - loss: 148445.3125 - bpp: 0.7994 - mse: 579.8614"
     ]
    },
    {
     "name": "stderr",
     "output_type": "stream",
     "text": [
      "2022-01-28 21:31:20.104244: I tensorflow/core/profiler/rpc/client/save_profile.cc:137] Creating directory: backup/train/plugins/profile/2022_01_28_21_31_19\n",
      "2022-01-28 21:31:20.114632: I tensorflow/core/profiler/rpc/client/save_profile.cc:143] Dumped gzipped tool data for memory_profile.json.gz to backup/train/plugins/profile/2022_01_28_21_31_19/ab0180b02496.memory_profile.json.gz\n",
      "2022-01-28 21:31:20.125170: I tensorflow/core/profiler/rpc/client/capture_profile.cc:251] Creating directory: backup/train/plugins/profile/2022_01_28_21_31_19Dumped tool data for xplane.pb to backup/train/plugins/profile/2022_01_28_21_31_19/ab0180b02496.xplane.pb\n",
      "Dumped tool data for overview_page.pb to backup/train/plugins/profile/2022_01_28_21_31_19/ab0180b02496.overview_page.pb\n",
      "Dumped tool data for input_pipeline.pb to backup/train/plugins/profile/2022_01_28_21_31_19/ab0180b02496.input_pipeline.pb\n",
      "Dumped tool data for tensorflow_stats.pb to backup/train/plugins/profile/2022_01_28_21_31_19/ab0180b02496.tensorflow_stats.pb\n",
      "Dumped tool data for kernel_stats.pb to backup/train/plugins/profile/2022_01_28_21_31_19/ab0180b02496.kernel_stats.pb\n",
      "\n"
     ]
    },
    {
     "name": "stdout",
     "output_type": "stream",
     "text": [
      "  6/100 [>.............................] - ETA: 1:12 - loss: 121190.6641 - bpp: 0.7865 - mse: 473.3980WARNING:tensorflow:Callback method `on_train_batch_end` is slow compared to the batch time (batch time: 0.1096s vs `on_train_batch_end` time: 0.5098s). Check your callbacks.\n",
      "100/100 [==============================] - 34s 144ms/step - loss: 27862.4180 - bpp: 0.6387 - mse: 108.8351\n",
      "[MemoryCallback]:  7585804\n",
      "\n",
      "Epoch 00001: loss improved from inf to 27862.41797, saving model to checkpoints_testME4_no_norm16/\n",
      "Epoch 2/10\n",
      "100/100 [==============================] - 10s 103ms/step - loss: 12203.4814 - bpp: 0.6377 - mse: 47.6674\n",
      "[MemoryCallback]:  7585804\n",
      "\n",
      "Epoch 00002: loss improved from 27862.41797 to 12203.48145, saving model to checkpoints_testME4_no_norm16/\n",
      "Epoch 3/10\n",
      "100/100 [==============================] - 10s 104ms/step - loss: 9931.3760 - bpp: 0.6572 - mse: 38.7919\n",
      "[MemoryCallback]:  7585804\n",
      "\n",
      "Epoch 00003: loss improved from 12203.48145 to 9931.37598, saving model to checkpoints_testME4_no_norm16/\n",
      "Epoch 4/10\n",
      "100/100 [==============================] - 10s 102ms/step - loss: 8861.8994 - bpp: 0.6714 - mse: 34.6142\n",
      "[MemoryCallback]:  7585804\n",
      "\n",
      "Epoch 00004: loss improved from 9931.37598 to 8861.89941, saving model to checkpoints_testME4_no_norm16/\n",
      "Epoch 5/10\n",
      "100/100 [==============================] - 10s 101ms/step - loss: 8119.9536 - bpp: 0.6792 - mse: 31.7159\n",
      "[MemoryCallback]:  7585804\n",
      "\n",
      "Epoch 00005: loss improved from 8861.89941 to 8119.95361, saving model to checkpoints_testME4_no_norm16/\n",
      "Epoch 6/10\n",
      "100/100 [==============================] - 10s 101ms/step - loss: 7846.5273 - bpp: 0.6880 - mse: 30.6478\n",
      "[MemoryCallback]:  7585804\n",
      "\n",
      "Epoch 00006: loss improved from 8119.95361 to 7846.52734, saving model to checkpoints_testME4_no_norm16/\n",
      "Epoch 7/10\n",
      "100/100 [==============================] - 10s 103ms/step - loss: 7238.3599 - bpp: 0.6917 - mse: 28.2722\n",
      "[MemoryCallback]:  7585804\n",
      "\n",
      "Epoch 00007: loss improved from 7846.52734 to 7238.35986, saving model to checkpoints_testME4_no_norm16/\n",
      "Epoch 8/10\n",
      "100/100 [==============================] - 11s 105ms/step - loss: 6616.2373 - bpp: 0.6937 - mse: 25.8420\n",
      "[MemoryCallback]:  7585804\n",
      "\n",
      "Epoch 00008: loss improved from 7238.35986 to 6616.23730, saving model to checkpoints_testME4_no_norm16/\n",
      "Epoch 9/10\n",
      "100/100 [==============================] - 11s 111ms/step - loss: 6105.4038 - bpp: 0.6938 - mse: 23.8465\n",
      "[MemoryCallback]:  7585804\n",
      "\n",
      "Epoch 00009: loss improved from 6616.23730 to 6105.40381, saving model to checkpoints_testME4_no_norm16/\n",
      "Epoch 10/10\n",
      "100/100 [==============================] - 10s 102ms/step - loss: 6241.0586 - bpp: 0.6940 - mse: 24.3764\n",
      "[MemoryCallback]:  7585804\n",
      "\n",
      "Epoch 00010: loss did not improve from 6105.40381\n",
      "/mnt/WindowsDev/DataSets/vimeo_septuplet/sequences/00056/0243/im1.png\n",
      "compress\n",
      "in the compress\n",
      "in decompress\n",
      "* [Model compiled]...\n",
      "* [Loading dataset]...\n",
      "Loading weights\n",
      "Going to fit\n"
     ]
    },
    {
     "name": "stderr",
     "output_type": "stream",
     "text": [
      "2022-01-28 21:33:32.612061: I tensorflow/core/profiler/lib/profiler_session.cc:126] Profiler session initializing.\n",
      "2022-01-28 21:33:32.612162: I tensorflow/core/profiler/lib/profiler_session.cc:141] Profiler session started.\n",
      "2022-01-28 21:33:33.912606: I tensorflow/core/profiler/lib/profiler_session.cc:159] Profiler session tear down.\n",
      "2022-01-28 21:33:33.936977: I tensorflow/core/profiler/internal/gpu/cupti_tracer.cc:1743] CUPTI activity buffer flushed\n"
     ]
    },
    {
     "name": "stdout",
     "output_type": "stream",
     "text": [
      "Epoch 1/10\n",
      "  1/100 [..............................] - ETA: 31:19 - loss: 631230.7500 - bpp: 0.8611 - mse: 2465.7417"
     ]
    },
    {
     "name": "stderr",
     "output_type": "stream",
     "text": [
      "2022-01-28 21:33:53.918685: I tensorflow/core/profiler/lib/profiler_session.cc:126] Profiler session initializing.\n",
      "2022-01-28 21:33:53.918738: I tensorflow/core/profiler/lib/profiler_session.cc:141] Profiler session started.\n"
     ]
    },
    {
     "name": "stdout",
     "output_type": "stream",
     "text": [
      "  2/100 [..............................] - ETA: 1:50 - loss: 593450.1250 - bpp: 0.8679 - mse: 2318.1611 "
     ]
    },
    {
     "name": "stderr",
     "output_type": "stream",
     "text": [
      "2022-01-28 21:33:55.956709: I tensorflow/core/profiler/lib/profiler_session.cc:66] Profiler session collecting data.\n",
      "2022-01-28 21:33:55.978327: I tensorflow/core/profiler/internal/gpu/cupti_tracer.cc:1743] CUPTI activity buffer flushed\n",
      "2022-01-28 21:33:56.057970: I tensorflow/core/profiler/internal/gpu/cupti_collector.cc:673]  GpuTracer has collected 3372 callback api events and 3336 activity events. \n",
      "2022-01-28 21:33:56.166079: I tensorflow/core/profiler/lib/profiler_session.cc:159] Profiler session tear down.\n",
      "2022-01-28 21:33:56.297785: I tensorflow/core/profiler/rpc/client/save_profile.cc:137] Creating directory: backup/train/plugins/profile/2022_01_28_21_33_56\n",
      "2022-01-28 21:33:56.363827: I tensorflow/core/profiler/rpc/client/save_profile.cc:143] Dumped gzipped tool data for trace.json.gz to backup/train/plugins/profile/2022_01_28_21_33_56/ab0180b02496.trace.json.gz\n"
     ]
    },
    {
     "name": "stdout",
     "output_type": "stream",
     "text": [
      "  3/100 [..............................] - ETA: 2:49 - loss: 508406.0938 - bpp: 0.8631 - mse: 1985.9579"
     ]
    },
    {
     "name": "stderr",
     "output_type": "stream",
     "text": [
      "2022-01-28 21:33:56.541990: I tensorflow/core/profiler/rpc/client/save_profile.cc:137] Creating directory: backup/train/plugins/profile/2022_01_28_21_33_56\n",
      "2022-01-28 21:33:56.551751: I tensorflow/core/profiler/rpc/client/save_profile.cc:143] Dumped gzipped tool data for memory_profile.json.gz to backup/train/plugins/profile/2022_01_28_21_33_56/ab0180b02496.memory_profile.json.gz\n",
      "2022-01-28 21:33:56.560287: I tensorflow/core/profiler/rpc/client/capture_profile.cc:251] Creating directory: backup/train/plugins/profile/2022_01_28_21_33_56Dumped tool data for xplane.pb to backup/train/plugins/profile/2022_01_28_21_33_56/ab0180b02496.xplane.pb\n",
      "Dumped tool data for overview_page.pb to backup/train/plugins/profile/2022_01_28_21_33_56/ab0180b02496.overview_page.pb\n",
      "Dumped tool data for input_pipeline.pb to backup/train/plugins/profile/2022_01_28_21_33_56/ab0180b02496.input_pipeline.pb\n",
      "Dumped tool data for tensorflow_stats.pb to backup/train/plugins/profile/2022_01_28_21_33_56/ab0180b02496.tensorflow_stats.pb\n",
      "Dumped tool data for kernel_stats.pb to backup/train/plugins/profile/2022_01_28_21_33_56/ab0180b02496.kernel_stats.pb\n",
      "\n"
     ]
    },
    {
     "name": "stdout",
     "output_type": "stream",
     "text": [
      "  6/100 [>.............................] - ETA: 1:11 - loss: 435239.7812 - bpp: 0.8307 - mse: 1700.1522WARNING:tensorflow:Callback method `on_train_batch_end` is slow compared to the batch time (batch time: 0.0989s vs `on_train_batch_end` time: 0.5005s). Check your callbacks.\n",
      "100/100 [==============================] - 33s 142ms/step - loss: 182461.2969 - bpp: 0.7065 - mse: 712.7367\n",
      "[MemoryCallback]:  7656456\n",
      "\n",
      "Epoch 00001: loss improved from inf to 182461.29688, saving model to checkpoints_testME4_no_norm17/\n",
      "Epoch 2/10\n",
      "100/100 [==============================] - 10s 105ms/step - loss: 89254.9062 - bpp: 0.7710 - mse: 348.6490\n",
      "[MemoryCallback]:  7656456\n",
      "\n",
      "Epoch 00002: loss improved from 182461.29688 to 89254.90625, saving model to checkpoints_testME4_no_norm17/\n",
      "Epoch 3/10\n",
      "100/100 [==============================] - 10s 102ms/step - loss: 64793.7500 - bpp: 0.8064 - mse: 253.0974\n",
      "[MemoryCallback]:  7656456\n",
      "\n",
      "Epoch 00003: loss improved from 89254.90625 to 64793.75000, saving model to checkpoints_testME4_no_norm17/\n",
      "Epoch 4/10\n",
      "100/100 [==============================] - 10s 103ms/step - loss: 53405.8984 - bpp: 0.8202 - mse: 208.6136\n",
      "[MemoryCallback]:  7656456\n",
      "\n",
      "Epoch 00004: loss improved from 64793.75000 to 53405.89844, saving model to checkpoints_testME4_no_norm17/\n",
      "Epoch 5/10\n",
      "100/100 [==============================] - 10s 100ms/step - loss: 45055.3945 - bpp: 0.8285 - mse: 175.9944\n",
      "[MemoryCallback]:  7656456\n",
      "\n",
      "Epoch 00005: loss improved from 53405.89844 to 45055.39453, saving model to checkpoints_testME4_no_norm17/\n",
      "Epoch 6/10\n",
      "100/100 [==============================] - 10s 100ms/step - loss: 40233.5664 - bpp: 0.8312 - mse: 157.1591\n",
      "[MemoryCallback]:  7656456\n",
      "\n",
      "Epoch 00006: loss improved from 45055.39453 to 40233.56641, saving model to checkpoints_testME4_no_norm17/\n",
      "Epoch 7/10\n",
      "100/100 [==============================] - 9s 92ms/step - loss: 36688.2656 - bpp: 0.8313 - mse: 143.3104\n",
      "[MemoryCallback]:  7656456\n",
      "\n",
      "Epoch 00007: loss improved from 40233.56641 to 36688.26562, saving model to checkpoints_testME4_no_norm17/\n",
      "Epoch 8/10\n",
      "100/100 [==============================] - 10s 101ms/step - loss: 34318.6445 - bpp: 0.8287 - mse: 134.0540\n",
      "[MemoryCallback]:  7656456\n",
      "\n",
      "Epoch 00008: loss improved from 36688.26562 to 34318.64453, saving model to checkpoints_testME4_no_norm17/\n",
      "Epoch 9/10\n",
      "100/100 [==============================] - 10s 102ms/step - loss: 33171.5156 - bpp: 0.8245 - mse: 129.5730\n",
      "[MemoryCallback]:  7656456\n",
      "\n",
      "Epoch 00009: loss improved from 34318.64453 to 33171.51562, saving model to checkpoints_testME4_no_norm17/\n",
      "Epoch 10/10\n",
      "100/100 [==============================] - 10s 101ms/step - loss: 29664.5566 - bpp: 0.8200 - mse: 115.8740\n",
      "[MemoryCallback]:  7656456\n",
      "\n",
      "Epoch 00010: loss improved from 33171.51562 to 29664.55664, saving model to checkpoints_testME4_no_norm17/\n",
      "/mnt/WindowsDev/DataSets/vimeo_septuplet/sequences/00003/0991/im1.png\n",
      "compress\n",
      "in the compress\n",
      "in decompress\n",
      "* [Model compiled]...\n",
      "* [Loading dataset]...\n",
      "Loading weights\n",
      "Going to fit\n"
     ]
    },
    {
     "name": "stderr",
     "output_type": "stream",
     "text": [
      "2022-01-28 21:36:16.220468: I tensorflow/core/profiler/lib/profiler_session.cc:126] Profiler session initializing.\n",
      "2022-01-28 21:36:16.220522: I tensorflow/core/profiler/lib/profiler_session.cc:141] Profiler session started.\n",
      "2022-01-28 21:36:17.180821: I tensorflow/core/profiler/lib/profiler_session.cc:159] Profiler session tear down.\n",
      "2022-01-28 21:36:17.199474: I tensorflow/core/profiler/internal/gpu/cupti_tracer.cc:1743] CUPTI activity buffer flushed\n"
     ]
    },
    {
     "name": "stdout",
     "output_type": "stream",
     "text": [
      "Epoch 1/10\n",
      "  1/100 [..............................] - ETA: 30:58 - loss: 408616.5938 - bpp: 1.0507 - mse: 1596.1544"
     ]
    },
    {
     "name": "stderr",
     "output_type": "stream",
     "text": [
      "2022-01-28 21:36:36.907215: I tensorflow/core/profiler/lib/profiler_session.cc:126] Profiler session initializing.\n",
      "2022-01-28 21:36:36.907265: I tensorflow/core/profiler/lib/profiler_session.cc:141] Profiler session started.\n"
     ]
    },
    {
     "name": "stdout",
     "output_type": "stream",
     "text": [
      "  2/100 [..............................] - ETA: 1:54 - loss: 295965.9062 - bpp: 1.0436 - mse: 1156.1128 "
     ]
    },
    {
     "name": "stderr",
     "output_type": "stream",
     "text": [
      "2022-01-28 21:36:38.993412: I tensorflow/core/profiler/lib/profiler_session.cc:66] Profiler session collecting data.\n",
      "2022-01-28 21:36:39.014084: I tensorflow/core/profiler/internal/gpu/cupti_tracer.cc:1743] CUPTI activity buffer flushed\n",
      "2022-01-28 21:36:39.097146: I tensorflow/core/profiler/internal/gpu/cupti_collector.cc:673]  GpuTracer has collected 3372 callback api events and 3336 activity events. \n",
      "2022-01-28 21:36:39.204747: I tensorflow/core/profiler/lib/profiler_session.cc:159] Profiler session tear down.\n",
      "2022-01-28 21:36:39.334860: I tensorflow/core/profiler/rpc/client/save_profile.cc:137] Creating directory: backup/train/plugins/profile/2022_01_28_21_36_39\n",
      "2022-01-28 21:36:39.401234: I tensorflow/core/profiler/rpc/client/save_profile.cc:143] Dumped gzipped tool data for trace.json.gz to backup/train/plugins/profile/2022_01_28_21_36_39/ab0180b02496.trace.json.gz\n"
     ]
    },
    {
     "name": "stdout",
     "output_type": "stream",
     "text": [
      "  3/100 [..............................] - ETA: 2:53 - loss: 245082.4375 - bpp: 1.0357 - mse: 957.3493 "
     ]
    },
    {
     "name": "stderr",
     "output_type": "stream",
     "text": [
      "2022-01-28 21:36:39.582595: I tensorflow/core/profiler/rpc/client/save_profile.cc:137] Creating directory: backup/train/plugins/profile/2022_01_28_21_36_39\n",
      "2022-01-28 21:36:39.592341: I tensorflow/core/profiler/rpc/client/save_profile.cc:143] Dumped gzipped tool data for memory_profile.json.gz to backup/train/plugins/profile/2022_01_28_21_36_39/ab0180b02496.memory_profile.json.gz\n",
      "2022-01-28 21:36:39.601019: I tensorflow/core/profiler/rpc/client/capture_profile.cc:251] Creating directory: backup/train/plugins/profile/2022_01_28_21_36_39Dumped tool data for xplane.pb to backup/train/plugins/profile/2022_01_28_21_36_39/ab0180b02496.xplane.pb\n",
      "Dumped tool data for overview_page.pb to backup/train/plugins/profile/2022_01_28_21_36_39/ab0180b02496.overview_page.pb\n",
      "Dumped tool data for input_pipeline.pb to backup/train/plugins/profile/2022_01_28_21_36_39/ab0180b02496.input_pipeline.pb\n",
      "Dumped tool data for tensorflow_stats.pb to backup/train/plugins/profile/2022_01_28_21_36_39/ab0180b02496.tensorflow_stats.pb\n",
      "Dumped tool data for kernel_stats.pb to backup/train/plugins/profile/2022_01_28_21_36_39/ab0180b02496.kernel_stats.pb\n",
      "\n"
     ]
    },
    {
     "name": "stdout",
     "output_type": "stream",
     "text": [
      "  6/100 [>.............................] - ETA: 1:13 - loss: 258169.0781 - bpp: 1.0096 - mse: 1008.4691WARNING:tensorflow:Callback method `on_train_batch_end` is slow compared to the batch time (batch time: 0.1007s vs `on_train_batch_end` time: 0.5154s). Check your callbacks.\n",
      "100/100 [==============================] - 33s 142ms/step - loss: 71324.7734 - bpp: 0.8445 - mse: 278.6091\n",
      "[MemoryCallback]:  7739116\n",
      "\n",
      "Epoch 00001: loss improved from inf to 71324.77344, saving model to checkpoints_testME4_no_norm18/\n",
      "Epoch 2/10\n",
      "100/100 [==============================] - 10s 102ms/step - loss: 31953.7051 - bpp: 0.8090 - mse: 124.8160\n",
      "[MemoryCallback]:  7739116\n",
      "\n",
      "Epoch 00002: loss improved from 71324.77344 to 31953.70508, saving model to checkpoints_testME4_no_norm18/\n",
      "Epoch 3/10\n",
      "100/100 [==============================] - 10s 100ms/step - loss: 25751.1445 - bpp: 0.8128 - mse: 100.5872\n",
      "[MemoryCallback]:  7739116\n",
      "\n",
      "Epoch 00003: loss improved from 31953.70508 to 25751.14453, saving model to checkpoints_testME4_no_norm18/\n",
      "Epoch 4/10\n",
      "100/100 [==============================] - 10s 101ms/step - loss: 21854.9727 - bpp: 0.8155 - mse: 85.3678\n",
      "[MemoryCallback]:  7739116\n",
      "\n",
      "Epoch 00004: loss improved from 25751.14453 to 21854.97266, saving model to checkpoints_testME4_no_norm18/\n",
      "Epoch 5/10\n",
      "100/100 [==============================] - 10s 102ms/step - loss: 19109.4355 - bpp: 0.8174 - mse: 74.6430\n",
      "[MemoryCallback]:  7739116\n",
      "\n",
      "Epoch 00005: loss improved from 21854.97266 to 19109.43555, saving model to checkpoints_testME4_no_norm18/\n",
      "Epoch 6/10\n",
      "100/100 [==============================] - 10s 101ms/step - loss: 17038.1309 - bpp: 0.8179 - mse: 66.5520\n",
      "[MemoryCallback]:  7739116\n",
      "\n",
      "Epoch 00006: loss improved from 19109.43555 to 17038.13086, saving model to checkpoints_testME4_no_norm18/\n",
      "Epoch 7/10\n",
      "100/100 [==============================] - 10s 101ms/step - loss: 15376.1934 - bpp: 0.8174 - mse: 60.0600\n",
      "[MemoryCallback]:  7739116\n",
      "\n",
      "Epoch 00007: loss improved from 17038.13086 to 15376.19336, saving model to checkpoints_testME4_no_norm18/\n",
      "Epoch 8/10\n",
      "100/100 [==============================] - 10s 102ms/step - loss: 14103.7021 - bpp: 0.8156 - mse: 55.0894\n",
      "[MemoryCallback]:  7739116\n",
      "\n",
      "Epoch 00008: loss improved from 15376.19336 to 14103.70215, saving model to checkpoints_testME4_no_norm18/\n",
      "Epoch 9/10\n",
      "100/100 [==============================] - 9s 90ms/step - loss: 12980.7363 - bpp: 0.8144 - mse: 50.7028\n",
      "[MemoryCallback]:  7739116\n",
      "\n",
      "Epoch 00009: loss improved from 14103.70215 to 12980.73633, saving model to checkpoints_testME4_no_norm18/\n",
      "Epoch 10/10\n",
      "100/100 [==============================] - 10s 100ms/step - loss: 12061.5273 - bpp: 0.8123 - mse: 47.1122\n",
      "[MemoryCallback]:  7739116\n",
      "\n",
      "Epoch 00010: loss improved from 12980.73633 to 12061.52734, saving model to checkpoints_testME4_no_norm18/\n",
      "/mnt/WindowsDev/DataSets/vimeo_septuplet/sequences/00056/0387/im1.png\n",
      "compress\n",
      "in the compress\n",
      "in decompress\n",
      "* [Model compiled]...\n",
      "* [Loading dataset]...\n",
      "Loading weights\n",
      "Going to fit\n"
     ]
    },
    {
     "name": "stderr",
     "output_type": "stream",
     "text": [
      "2022-01-28 21:39:06.004399: I tensorflow/core/profiler/lib/profiler_session.cc:126] Profiler session initializing.\n",
      "2022-01-28 21:39:06.004463: I tensorflow/core/profiler/lib/profiler_session.cc:141] Profiler session started.\n",
      "2022-01-28 21:39:07.018240: I tensorflow/core/profiler/lib/profiler_session.cc:159] Profiler session tear down.\n",
      "2022-01-28 21:39:07.021016: I tensorflow/core/profiler/internal/gpu/cupti_tracer.cc:1743] CUPTI activity buffer flushed\n"
     ]
    },
    {
     "name": "stdout",
     "output_type": "stream",
     "text": [
      "Epoch 1/10\n",
      "  1/100 [..............................] - ETA: 36:37 - loss: 98906.6172 - bpp: 0.6140 - mse: 386.3516"
     ]
    },
    {
     "name": "stderr",
     "output_type": "stream",
     "text": [
      "2022-01-28 21:39:30.044600: I tensorflow/core/profiler/lib/profiler_session.cc:126] Profiler session initializing.\n",
      "2022-01-28 21:39:30.044668: I tensorflow/core/profiler/lib/profiler_session.cc:141] Profiler session started.\n"
     ]
    },
    {
     "name": "stdout",
     "output_type": "stream",
     "text": [
      "  2/100 [..............................] - ETA: 2:02 - loss: 78184.8594 - bpp: 0.6135 - mse: 305.4072 "
     ]
    },
    {
     "name": "stderr",
     "output_type": "stream",
     "text": [
      "2022-01-28 21:39:32.223917: I tensorflow/core/profiler/lib/profiler_session.cc:66] Profiler session collecting data.\n",
      "2022-01-28 21:39:32.247223: I tensorflow/core/profiler/internal/gpu/cupti_tracer.cc:1743] CUPTI activity buffer flushed\n",
      "2022-01-28 21:39:32.334891: I tensorflow/core/profiler/internal/gpu/cupti_collector.cc:673]  GpuTracer has collected 3372 callback api events and 3336 activity events. \n",
      "2022-01-28 21:39:32.443551: I tensorflow/core/profiler/lib/profiler_session.cc:159] Profiler session tear down.\n",
      "2022-01-28 21:39:32.574702: I tensorflow/core/profiler/rpc/client/save_profile.cc:137] Creating directory: backup/train/plugins/profile/2022_01_28_21_39_32\n",
      "2022-01-28 21:39:32.640722: I tensorflow/core/profiler/rpc/client/save_profile.cc:143] Dumped gzipped tool data for trace.json.gz to backup/train/plugins/profile/2022_01_28_21_39_32/ab0180b02496.trace.json.gz\n"
     ]
    },
    {
     "name": "stdout",
     "output_type": "stream",
     "text": [
      "  3/100 [..............................] - ETA: 2:59 - loss: 76781.4922 - bpp: 0.6186 - mse: 299.9253"
     ]
    },
    {
     "name": "stderr",
     "output_type": "stream",
     "text": [
      "2022-01-28 21:39:32.824637: I tensorflow/core/profiler/rpc/client/save_profile.cc:137] Creating directory: backup/train/plugins/profile/2022_01_28_21_39_32\n",
      "2022-01-28 21:39:32.834634: I tensorflow/core/profiler/rpc/client/save_profile.cc:143] Dumped gzipped tool data for memory_profile.json.gz to backup/train/plugins/profile/2022_01_28_21_39_32/ab0180b02496.memory_profile.json.gz\n",
      "2022-01-28 21:39:32.843253: I tensorflow/core/profiler/rpc/client/capture_profile.cc:251] Creating directory: backup/train/plugins/profile/2022_01_28_21_39_32Dumped tool data for xplane.pb to backup/train/plugins/profile/2022_01_28_21_39_32/ab0180b02496.xplane.pb\n",
      "Dumped tool data for overview_page.pb to backup/train/plugins/profile/2022_01_28_21_39_32/ab0180b02496.overview_page.pb\n",
      "Dumped tool data for input_pipeline.pb to backup/train/plugins/profile/2022_01_28_21_39_32/ab0180b02496.input_pipeline.pb\n",
      "Dumped tool data for tensorflow_stats.pb to backup/train/plugins/profile/2022_01_28_21_39_32/ab0180b02496.tensorflow_stats.pb\n",
      "Dumped tool data for kernel_stats.pb to backup/train/plugins/profile/2022_01_28_21_39_32/ab0180b02496.kernel_stats.pb\n",
      "\n"
     ]
    },
    {
     "name": "stdout",
     "output_type": "stream",
     "text": [
      "  6/100 [>.............................] - ETA: 1:14 - loss: 61094.5352 - bpp: 0.6163 - mse: 238.6481WARNING:tensorflow:Callback method `on_train_batch_end` is slow compared to the batch time (batch time: 0.0942s vs `on_train_batch_end` time: 0.5289s). Check your callbacks.\n",
      "100/100 [==============================] - 36s 144ms/step - loss: 17494.6270 - bpp: 0.5301 - mse: 68.3363\n",
      "[MemoryCallback]:  7823288\n",
      "\n",
      "Epoch 00001: loss improved from inf to 17494.62695, saving model to checkpoints_testME4_no_norm19/\n",
      "Epoch 2/10\n",
      "100/100 [==============================] - 10s 104ms/step - loss: 8549.9004 - bpp: 0.4937 - mse: 33.3961\n",
      "[MemoryCallback]:  7823288\n",
      "\n",
      "Epoch 00002: loss improved from 17494.62695 to 8549.90039, saving model to checkpoints_testME4_no_norm19/\n",
      "Epoch 3/10\n",
      "100/100 [==============================] - 9s 91ms/step - loss: 7554.8892 - bpp: 0.4931 - mse: 29.5094\n",
      "[MemoryCallback]:  7823288\n",
      "\n",
      "Epoch 00003: loss improved from 8549.90039 to 7554.88916, saving model to checkpoints_testME4_no_norm19/\n",
      "Epoch 4/10\n",
      "100/100 [==============================] - 10s 99ms/step - loss: 6712.8823 - bpp: 0.4967 - mse: 26.2203\n",
      "[MemoryCallback]:  7823288\n",
      "\n",
      "Epoch 00004: loss improved from 7554.88916 to 6712.88232, saving model to checkpoints_testME4_no_norm19/\n",
      "Epoch 5/10\n",
      "100/100 [==============================] - 10s 101ms/step - loss: 6580.3721 - bpp: 0.5033 - mse: 25.7026\n",
      "[MemoryCallback]:  7823288\n",
      "\n",
      "Epoch 00005: loss improved from 6712.88232 to 6580.37207, saving model to checkpoints_testME4_no_norm19/\n",
      "Epoch 6/10\n",
      "100/100 [==============================] - 9s 90ms/step - loss: 6026.7104 - bpp: 0.5089 - mse: 23.5399\n",
      "[MemoryCallback]:  7823288\n",
      "\n",
      "Epoch 00006: loss improved from 6580.37207 to 6026.71045, saving model to checkpoints_testME4_no_norm19/\n",
      "Epoch 7/10\n",
      "100/100 [==============================] - 10s 100ms/step - loss: 5745.0469 - bpp: 0.5137 - mse: 22.4396\n",
      "[MemoryCallback]:  7823288\n",
      "\n",
      "Epoch 00007: loss improved from 6026.71045 to 5745.04688, saving model to checkpoints_testME4_no_norm19/\n",
      "Epoch 8/10\n",
      "100/100 [==============================] - 10s 100ms/step - loss: 5372.7163 - bpp: 0.5197 - mse: 20.9851\n",
      "[MemoryCallback]:  7823288\n",
      "\n",
      "Epoch 00008: loss improved from 5745.04688 to 5372.71631, saving model to checkpoints_testME4_no_norm19/\n",
      "Epoch 9/10\n",
      "100/100 [==============================] - 10s 99ms/step - loss: 5124.1133 - bpp: 0.5253 - mse: 20.0140\n",
      "[MemoryCallback]:  7823288\n",
      "\n",
      "Epoch 00009: loss improved from 5372.71631 to 5124.11328, saving model to checkpoints_testME4_no_norm19/\n",
      "Epoch 10/10\n",
      "100/100 [==============================] - 10s 100ms/step - loss: 4978.4165 - bpp: 0.5300 - mse: 19.4449\n",
      "[MemoryCallback]:  7823288\n",
      "\n",
      "Epoch 00010: loss improved from 5124.11328 to 4978.41650, saving model to checkpoints_testME4_no_norm19/\n",
      "/mnt/WindowsDev/DataSets/vimeo_septuplet/sequences/00038/0641/im1.png\n",
      "compress\n",
      "in the compress\n",
      "in decompress\n",
      "* [Model compiled]...\n",
      "* [Loading dataset]...\n",
      "Loading weights\n",
      "Going to fit\n"
     ]
    },
    {
     "name": "stderr",
     "output_type": "stream",
     "text": [
      "2022-01-28 21:41:56.968479: I tensorflow/core/profiler/lib/profiler_session.cc:126] Profiler session initializing.\n",
      "2022-01-28 21:41:56.968529: I tensorflow/core/profiler/lib/profiler_session.cc:141] Profiler session started.\n",
      "2022-01-28 21:41:57.905968: I tensorflow/core/profiler/lib/profiler_session.cc:159] Profiler session tear down.\n",
      "2022-01-28 21:41:57.909910: I tensorflow/core/profiler/internal/gpu/cupti_tracer.cc:1743] CUPTI activity buffer flushed\n"
     ]
    },
    {
     "name": "stdout",
     "output_type": "stream",
     "text": [
      "Epoch 1/10\n",
      "  1/100 [..............................] - ETA: 36:56 - loss: 10119.8516 - bpp: 0.5752 - mse: 39.5284"
     ]
    },
    {
     "name": "stderr",
     "output_type": "stream",
     "text": [
      "2022-01-28 21:42:21.150645: I tensorflow/core/profiler/lib/profiler_session.cc:126] Profiler session initializing.\n",
      "2022-01-28 21:42:21.150696: I tensorflow/core/profiler/lib/profiler_session.cc:141] Profiler session started.\n"
     ]
    },
    {
     "name": "stdout",
     "output_type": "stream",
     "text": [
      "  2/100 [..............................] - ETA: 2:02 - loss: 10071.2812 - bpp: 0.5787 - mse: 39.3387 "
     ]
    },
    {
     "name": "stderr",
     "output_type": "stream",
     "text": [
      "2022-01-28 21:42:23.340909: I tensorflow/core/profiler/lib/profiler_session.cc:66] Profiler session collecting data.\n",
      "2022-01-28 21:42:23.364929: I tensorflow/core/profiler/internal/gpu/cupti_tracer.cc:1743] CUPTI activity buffer flushed\n",
      "2022-01-28 21:42:23.466224: I tensorflow/core/profiler/internal/gpu/cupti_collector.cc:673]  GpuTracer has collected 3372 callback api events and 3336 activity events. \n",
      "2022-01-28 21:42:23.580042: I tensorflow/core/profiler/lib/profiler_session.cc:159] Profiler session tear down.\n",
      "2022-01-28 21:42:23.719575: I tensorflow/core/profiler/rpc/client/save_profile.cc:137] Creating directory: backup/train/plugins/profile/2022_01_28_21_42_23\n",
      "2022-01-28 21:42:23.789459: I tensorflow/core/profiler/rpc/client/save_profile.cc:143] Dumped gzipped tool data for trace.json.gz to backup/train/plugins/profile/2022_01_28_21_42_23/ab0180b02496.trace.json.gz\n",
      "2022-01-28 21:42:23.980774: I tensorflow/core/profiler/rpc/client/save_profile.cc:137] Creating directory: backup/train/plugins/profile/2022_01_28_21_42_23\n",
      "2022-01-28 21:42:23.990877: I tensorflow/core/profiler/rpc/client/save_profile.cc:143] Dumped gzipped tool data for memory_profile.json.gz to backup/train/plugins/profile/2022_01_28_21_42_23/ab0180b02496.memory_profile.json.gz\n"
     ]
    },
    {
     "name": "stdout",
     "output_type": "stream",
     "text": [
      "  3/100 [..............................] - ETA: 3:02 - loss: 9395.9688 - bpp: 0.5803 - mse: 36.7007 "
     ]
    },
    {
     "name": "stderr",
     "output_type": "stream",
     "text": [
      "2022-01-28 21:42:24.000400: I tensorflow/core/profiler/rpc/client/capture_profile.cc:251] Creating directory: backup/train/plugins/profile/2022_01_28_21_42_23Dumped tool data for xplane.pb to backup/train/plugins/profile/2022_01_28_21_42_23/ab0180b02496.xplane.pb\n",
      "Dumped tool data for overview_page.pb to backup/train/plugins/profile/2022_01_28_21_42_23/ab0180b02496.overview_page.pb\n",
      "Dumped tool data for input_pipeline.pb to backup/train/plugins/profile/2022_01_28_21_42_23/ab0180b02496.input_pipeline.pb\n",
      "Dumped tool data for tensorflow_stats.pb to backup/train/plugins/profile/2022_01_28_21_42_23/ab0180b02496.tensorflow_stats.pb\n",
      "Dumped tool data for kernel_stats.pb to backup/train/plugins/profile/2022_01_28_21_42_23/ab0180b02496.kernel_stats.pb\n",
      "\n"
     ]
    },
    {
     "name": "stdout",
     "output_type": "stream",
     "text": [
      "  6/100 [>.............................] - ETA: 1:16 - loss: 7949.6948 - bpp: 0.5801 - mse: 31.0512WARNING:tensorflow:Callback method `on_train_batch_end` is slow compared to the batch time (batch time: 0.0998s vs `on_train_batch_end` time: 0.5399s). Check your callbacks.\n",
      "100/100 [==============================] - 37s 145ms/step - loss: 3356.1907 - bpp: 0.5300 - mse: 13.1081\n",
      "[MemoryCallback]:  7912324\n",
      "\n",
      "Epoch 00001: loss improved from inf to 3356.19067, saving model to checkpoints_testME4_no_norm20/\n",
      "Epoch 2/10\n",
      "100/100 [==============================] - 10s 102ms/step - loss: 1834.9574 - bpp: 0.4950 - mse: 7.1659\n",
      "[MemoryCallback]:  7912324\n",
      "\n",
      "Epoch 00002: loss improved from 3356.19067 to 1834.95740, saving model to checkpoints_testME4_no_norm20/\n",
      "Epoch 3/10\n",
      "100/100 [==============================] - 10s 103ms/step - loss: 1498.3616 - bpp: 0.4878 - mse: 5.8511\n",
      "[MemoryCallback]:  7912324\n",
      "\n",
      "Epoch 00003: loss improved from 1834.95740 to 1498.36157, saving model to checkpoints_testME4_no_norm20/\n",
      "Epoch 4/10\n",
      "100/100 [==============================] - 10s 103ms/step - loss: 1301.9098 - bpp: 0.4844 - mse: 5.0837\n",
      "[MemoryCallback]:  7912324\n",
      "\n",
      "Epoch 00004: loss improved from 1498.36157 to 1301.90979, saving model to checkpoints_testME4_no_norm20/\n",
      "Epoch 5/10\n",
      "100/100 [==============================] - 10s 101ms/step - loss: 1174.2120 - bpp: 0.4827 - mse: 4.5849\n",
      "[MemoryCallback]:  7912324\n",
      "\n",
      "Epoch 00005: loss improved from 1301.90979 to 1174.21204, saving model to checkpoints_testME4_no_norm20/\n",
      "Epoch 6/10\n",
      "100/100 [==============================] - 10s 100ms/step - loss: 1078.7317 - bpp: 0.4816 - mse: 4.2119\n",
      "[MemoryCallback]:  7912324\n",
      "\n",
      "Epoch 00006: loss improved from 1174.21204 to 1078.73169, saving model to checkpoints_testME4_no_norm20/\n",
      "Epoch 7/10\n",
      "100/100 [==============================] - 9s 91ms/step - loss: 995.3400 - bpp: 0.4806 - mse: 3.8862\n",
      "[MemoryCallback]:  7912324\n",
      "\n",
      "Epoch 00007: loss improved from 1078.73169 to 995.34003, saving model to checkpoints_testME4_no_norm20/\n",
      "Epoch 8/10\n",
      "100/100 [==============================] - 10s 100ms/step - loss: 941.0997 - bpp: 0.4800 - mse: 3.6743\n",
      "[MemoryCallback]:  7912324\n",
      "\n",
      "Epoch 00008: loss improved from 995.34003 to 941.09967, saving model to checkpoints_testME4_no_norm20/\n",
      "Epoch 9/10\n",
      "100/100 [==============================] - 10s 101ms/step - loss: 891.4924 - bpp: 0.4795 - mse: 3.4805\n",
      "[MemoryCallback]:  7912324\n",
      "\n",
      "Epoch 00009: loss improved from 941.09967 to 891.49237, saving model to checkpoints_testME4_no_norm20/\n",
      "Epoch 10/10\n",
      "100/100 [==============================] - 9s 93ms/step - loss: 843.6943 - bpp: 0.4789 - mse: 3.2938\n",
      "[MemoryCallback]:  7912324\n",
      "\n",
      "Epoch 00010: loss improved from 891.49237 to 843.69427, saving model to checkpoints_testME4_no_norm20/\n",
      "/mnt/WindowsDev/DataSets/vimeo_septuplet/sequences/00008/0143/im1.png\n",
      "compress\n",
      "in the compress\n",
      "in decompress\n",
      "* [Model compiled]...\n",
      "* [Loading dataset]...\n",
      "Loading weights\n",
      "Going to fit\n"
     ]
    },
    {
     "name": "stderr",
     "output_type": "stream",
     "text": [
      "2022-01-28 21:44:51.705429: I tensorflow/core/profiler/lib/profiler_session.cc:126] Profiler session initializing.\n",
      "2022-01-28 21:44:51.705511: I tensorflow/core/profiler/lib/profiler_session.cc:141] Profiler session started.\n",
      "2022-01-28 21:44:52.830101: I tensorflow/core/profiler/lib/profiler_session.cc:159] Profiler session tear down.\n",
      "2022-01-28 21:44:52.833265: I tensorflow/core/profiler/internal/gpu/cupti_tracer.cc:1743] CUPTI activity buffer flushed\n"
     ]
    },
    {
     "name": "stdout",
     "output_type": "stream",
     "text": [
      "Epoch 1/10\n",
      "  1/100 [..............................] - ETA: 39:39 - loss: 123407.3203 - bpp: 0.7648 - mse: 482.0569"
     ]
    },
    {
     "name": "stderr",
     "output_type": "stream",
     "text": [
      "2022-01-28 21:45:17.978170: I tensorflow/core/profiler/lib/profiler_session.cc:126] Profiler session initializing.\n",
      "2022-01-28 21:45:17.978590: I tensorflow/core/profiler/lib/profiler_session.cc:141] Profiler session started.\n"
     ]
    },
    {
     "name": "stdout",
     "output_type": "stream",
     "text": [
      "  2/100 [..............................] - ETA: 2:37 - loss: 102525.9688 - bpp: 0.7553 - mse: 400.4891 "
     ]
    },
    {
     "name": "stderr",
     "output_type": "stream",
     "text": [
      "2022-01-28 21:45:20.692651: I tensorflow/core/profiler/lib/profiler_session.cc:66] Profiler session collecting data.\n",
      "2022-01-28 21:45:20.727066: I tensorflow/core/profiler/internal/gpu/cupti_tracer.cc:1743] CUPTI activity buffer flushed\n",
      "2022-01-28 21:45:20.863150: I tensorflow/core/profiler/internal/gpu/cupti_collector.cc:673]  GpuTracer has collected 3372 callback api events and 3336 activity events. \n",
      "2022-01-28 21:45:20.990103: I tensorflow/core/profiler/lib/profiler_session.cc:159] Profiler session tear down.\n",
      "2022-01-28 21:45:21.185393: I tensorflow/core/profiler/rpc/client/save_profile.cc:137] Creating directory: backup/train/plugins/profile/2022_01_28_21_45_20\n",
      "2022-01-28 21:45:21.255518: I tensorflow/core/profiler/rpc/client/save_profile.cc:143] Dumped gzipped tool data for trace.json.gz to backup/train/plugins/profile/2022_01_28_21_45_20/ab0180b02496.trace.json.gz\n",
      "2022-01-28 21:45:21.504107: I tensorflow/core/profiler/rpc/client/save_profile.cc:137] Creating directory: backup/train/plugins/profile/2022_01_28_21_45_20\n",
      "2022-01-28 21:45:21.516347: I tensorflow/core/profiler/rpc/client/save_profile.cc:143] Dumped gzipped tool data for memory_profile.json.gz to backup/train/plugins/profile/2022_01_28_21_45_20/ab0180b02496.memory_profile.json.gz\n",
      "2022-01-28 21:45:21.528488: I tensorflow/core/profiler/rpc/client/capture_profile.cc:251] Creating directory: backup/train/plugins/profile/2022_01_28_21_45_20Dumped tool data for xplane.pb to backup/train/plugins/profile/2022_01_28_21_45_20/ab0180b02496.xplane.pb\n",
      "Dumped tool data for overview_page.pb to backup/train/plugins/profile/2022_01_28_21_45_20/ab0180b02496.overview_page.pb\n",
      "Dumped tool data for input_pipeline.pb to backup/train/plugins/profile/2022_01_28_21_45_20/ab0180b02496.input_pipeline.pb\n",
      "Dumped tool data for tensorflow_stats.pb to backup/train/plugins/profile/2022_01_28_21_45_20/ab0180b02496.tensorflow_stats.pb\n",
      "Dumped tool data for kernel_stats.pb to backup/train/plugins/profile/2022_01_28_21_45_20/ab0180b02496.kernel_stats.pb\n",
      "\n"
     ]
    },
    {
     "name": "stdout",
     "output_type": "stream",
     "text": [
      "  6/100 [>.............................] - ETA: 1:36 - loss: 68344.5938 - bpp: 0.7219 - mse: 266.9683WARNING:tensorflow:Callback method `on_train_batch_end` is slow compared to the batch time (batch time: 0.1144s vs `on_train_batch_end` time: 0.6879s). Check your callbacks.\n",
      "100/100 [==============================] - 39s 154ms/step - loss: 19091.3672 - bpp: 0.6145 - mse: 74.5732\n",
      "[MemoryCallback]:  8063040\n",
      "\n",
      "Epoch 00001: loss improved from inf to 19091.36719, saving model to checkpoints_testME4_no_norm21/\n",
      "Epoch 2/10\n",
      "100/100 [==============================] - 10s 104ms/step - loss: 7619.7627 - bpp: 0.6070 - mse: 29.7623\n",
      "[MemoryCallback]:  8063040\n",
      "\n",
      "Epoch 00002: loss improved from 19091.36719 to 7619.76270, saving model to checkpoints_testME4_no_norm21/\n",
      "Epoch 3/10\n",
      "100/100 [==============================] - 10s 100ms/step - loss: 6810.9136 - bpp: 0.6108 - mse: 26.6027\n",
      "[MemoryCallback]:  8063040\n",
      "\n",
      "Epoch 00003: loss improved from 7619.76270 to 6810.91357, saving model to checkpoints_testME4_no_norm21/\n",
      "Epoch 4/10\n",
      "100/100 [==============================] - 10s 99ms/step - loss: 6431.4062 - bpp: 0.6127 - mse: 25.1203\n",
      "[MemoryCallback]:  8063040\n",
      "\n",
      "Epoch 00004: loss improved from 6810.91357 to 6431.40625, saving model to checkpoints_testME4_no_norm21/\n",
      "Epoch 5/10\n",
      "100/100 [==============================] - 10s 100ms/step - loss: 5309.2612 - bpp: 0.6112 - mse: 20.7369\n",
      "[MemoryCallback]:  8063040\n",
      "\n",
      "Epoch 00005: loss improved from 6431.40625 to 5309.26123, saving model to checkpoints_testME4_no_norm21/\n",
      "Epoch 6/10\n",
      "100/100 [==============================] - 10s 99ms/step - loss: 4720.9536 - bpp: 0.6094 - mse: 18.4388\n",
      "[MemoryCallback]:  8063040\n",
      "\n",
      "Epoch 00006: loss improved from 5309.26123 to 4720.95361, saving model to checkpoints_testME4_no_norm21/\n",
      "Epoch 7/10\n",
      "100/100 [==============================] - 10s 100ms/step - loss: 3977.7163 - bpp: 0.6072 - mse: 15.5356\n",
      "[MemoryCallback]:  8063040\n",
      "\n",
      "Epoch 00007: loss improved from 4720.95361 to 3977.71631, saving model to checkpoints_testME4_no_norm21/\n",
      "Epoch 8/10\n",
      "100/100 [==============================] - 10s 99ms/step - loss: 4262.8438 - bpp: 0.6051 - mse: 16.6494\n",
      "[MemoryCallback]:  8063040\n",
      "\n",
      "Epoch 00008: loss did not improve from 3977.71631\n",
      "Epoch 9/10\n",
      "100/100 [==============================] - 9s 91ms/step - loss: 3711.0918 - bpp: 0.6025 - mse: 14.4941\n",
      "[MemoryCallback]:  8063040\n",
      "\n",
      "Epoch 00009: loss improved from 3977.71631 to 3711.09180, saving model to checkpoints_testME4_no_norm21/\n",
      "Epoch 10/10\n",
      "100/100 [==============================] - 10s 99ms/step - loss: 3476.5388 - bpp: 0.5994 - mse: 13.5779\n",
      "[MemoryCallback]:  8063040\n",
      "\n",
      "Epoch 00010: loss improved from 3711.09180 to 3476.53882, saving model to checkpoints_testME4_no_norm21/\n",
      "/mnt/WindowsDev/DataSets/vimeo_septuplet/sequences/00056/0918/im1.png\n",
      "compress\n",
      "in the compress\n",
      "in decompress\n",
      "* [Model compiled]...\n",
      "* [Loading dataset]...\n",
      "Loading weights\n",
      "Going to fit\n"
     ]
    },
    {
     "name": "stderr",
     "output_type": "stream",
     "text": [
      "2022-01-28 21:47:27.837433: I tensorflow/core/profiler/lib/profiler_session.cc:126] Profiler session initializing.\n",
      "2022-01-28 21:47:27.837484: I tensorflow/core/profiler/lib/profiler_session.cc:141] Profiler session started.\n",
      "2022-01-28 21:47:29.056813: I tensorflow/core/profiler/lib/profiler_session.cc:159] Profiler session tear down.\n",
      "2022-01-28 21:47:29.062795: I tensorflow/core/profiler/internal/gpu/cupti_tracer.cc:1743] CUPTI activity buffer flushed\n"
     ]
    },
    {
     "name": "stdout",
     "output_type": "stream",
     "text": [
      "Epoch 1/10\n",
      "  1/100 [..............................] - ETA: 30:51 - loss: 74135.0938 - bpp: 0.5122 - mse: 289.5882"
     ]
    },
    {
     "name": "stderr",
     "output_type": "stream",
     "text": [
      "2022-01-28 21:47:48.661237: I tensorflow/core/profiler/lib/profiler_session.cc:126] Profiler session initializing.\n",
      "2022-01-28 21:47:48.661288: I tensorflow/core/profiler/lib/profiler_session.cc:141] Profiler session started.\n"
     ]
    },
    {
     "name": "stdout",
     "output_type": "stream",
     "text": [
      "  2/100 [..............................] - ETA: 2:42 - loss: 67731.9844 - bpp: 0.5131 - mse: 264.5760 "
     ]
    },
    {
     "name": "stderr",
     "output_type": "stream",
     "text": [
      "2022-01-28 21:47:51.570625: I tensorflow/core/profiler/lib/profiler_session.cc:66] Profiler session collecting data.\n",
      "2022-01-28 21:47:51.598079: I tensorflow/core/profiler/internal/gpu/cupti_tracer.cc:1743] CUPTI activity buffer flushed\n",
      "2022-01-28 21:47:51.699814: I tensorflow/core/profiler/internal/gpu/cupti_collector.cc:673]  GpuTracer has collected 3372 callback api events and 3336 activity events. \n",
      "2022-01-28 21:47:51.821726: I tensorflow/core/profiler/lib/profiler_session.cc:159] Profiler session tear down.\n",
      "2022-01-28 21:47:51.976535: I tensorflow/core/profiler/rpc/client/save_profile.cc:137] Creating directory: backup/train/plugins/profile/2022_01_28_21_47_51\n",
      "2022-01-28 21:47:52.044679: I tensorflow/core/profiler/rpc/client/save_profile.cc:143] Dumped gzipped tool data for trace.json.gz to backup/train/plugins/profile/2022_01_28_21_47_51/ab0180b02496.trace.json.gz\n"
     ]
    },
    {
     "name": "stdout",
     "output_type": "stream",
     "text": [
      "  3/100 [..............................] - ETA: 3:41 - loss: 63192.3555 - bpp: 0.5125 - mse: 246.8431"
     ]
    },
    {
     "name": "stderr",
     "output_type": "stream",
     "text": [
      "2022-01-28 21:47:52.260610: I tensorflow/core/profiler/rpc/client/save_profile.cc:137] Creating directory: backup/train/plugins/profile/2022_01_28_21_47_51\n",
      "2022-01-28 21:47:52.271309: I tensorflow/core/profiler/rpc/client/save_profile.cc:143] Dumped gzipped tool data for memory_profile.json.gz to backup/train/plugins/profile/2022_01_28_21_47_51/ab0180b02496.memory_profile.json.gz\n",
      "2022-01-28 21:47:52.282094: I tensorflow/core/profiler/rpc/client/capture_profile.cc:251] Creating directory: backup/train/plugins/profile/2022_01_28_21_47_51Dumped tool data for xplane.pb to backup/train/plugins/profile/2022_01_28_21_47_51/ab0180b02496.xplane.pb\n",
      "Dumped tool data for overview_page.pb to backup/train/plugins/profile/2022_01_28_21_47_51/ab0180b02496.overview_page.pb\n",
      "Dumped tool data for input_pipeline.pb to backup/train/plugins/profile/2022_01_28_21_47_51/ab0180b02496.input_pipeline.pb\n",
      "Dumped tool data for tensorflow_stats.pb to backup/train/plugins/profile/2022_01_28_21_47_51/ab0180b02496.tensorflow_stats.pb\n",
      "Dumped tool data for kernel_stats.pb to backup/train/plugins/profile/2022_01_28_21_47_51/ab0180b02496.kernel_stats.pb\n",
      "\n"
     ]
    },
    {
     "name": "stdout",
     "output_type": "stream",
     "text": [
      "  6/100 [>.............................] - ETA: 1:32 - loss: 48650.6719 - bpp: 0.5189 - mse: 190.0396WARNING:tensorflow:Callback method `on_train_batch_begin` is slow compared to the batch time (batch time: 0.1043s vs `on_train_batch_begin` time: 0.1201s). Check your callbacks.\n",
      "WARNING:tensorflow:Callback method `on_train_batch_end` is slow compared to the batch time (batch time: 0.1043s vs `on_train_batch_end` time: 0.6112s). Check your callbacks.\n",
      "100/100 [==============================] - 34s 150ms/step - loss: 20412.5469 - bpp: 0.4820 - mse: 79.7346\n",
      "[MemoryCallback]:  8459228\n",
      "\n",
      "Epoch 00001: loss improved from inf to 20412.54688, saving model to checkpoints_testME4_no_norm22/\n",
      "Epoch 2/10\n",
      "100/100 [==============================] - 10s 103ms/step - loss: 8348.8184 - bpp: 0.4723 - mse: 32.6107\n",
      "[MemoryCallback]:  8459228\n",
      "\n",
      "Epoch 00002: loss improved from 20412.54688 to 8348.81836, saving model to checkpoints_testME4_no_norm22/\n",
      "Epoch 3/10\n",
      "100/100 [==============================] - 10s 103ms/step - loss: 6047.5894 - bpp: 0.4746 - mse: 23.6215\n",
      "[MemoryCallback]:  8459228\n",
      "\n",
      "Epoch 00003: loss improved from 8348.81836 to 6047.58936, saving model to checkpoints_testME4_no_norm22/\n",
      "Epoch 4/10\n",
      "100/100 [==============================] - 10s 102ms/step - loss: 5299.1343 - bpp: 0.4749 - mse: 20.6979\n",
      "[MemoryCallback]:  8459228\n",
      "\n",
      "Epoch 00004: loss improved from 6047.58936 to 5299.13428, saving model to checkpoints_testME4_no_norm22/\n",
      "Epoch 5/10\n",
      "100/100 [==============================] - 10s 102ms/step - loss: 4573.3682 - bpp: 0.4746 - mse: 17.8629\n",
      "[MemoryCallback]:  8459228\n",
      "\n",
      "Epoch 00005: loss improved from 5299.13428 to 4573.36816, saving model to checkpoints_testME4_no_norm22/\n",
      "Epoch 6/10\n",
      "100/100 [==============================] - 9s 93ms/step - loss: 4264.2529 - bpp: 0.4736 - mse: 16.6554\n",
      "[MemoryCallback]:  8459228\n",
      "\n",
      "Epoch 00006: loss improved from 4573.36816 to 4264.25293, saving model to checkpoints_testME4_no_norm22/\n",
      "Epoch 7/10\n",
      "100/100 [==============================] - 10s 101ms/step - loss: 3922.3003 - bpp: 0.4728 - mse: 15.3196\n",
      "[MemoryCallback]:  8459228\n",
      "\n",
      "Epoch 00007: loss improved from 4264.25293 to 3922.30029, saving model to checkpoints_testME4_no_norm22/\n",
      "Epoch 8/10\n",
      "100/100 [==============================] - 10s 102ms/step - loss: 4508.0854 - bpp: 0.4707 - mse: 17.6079\n",
      "[MemoryCallback]:  8459228\n",
      "\n",
      "Epoch 00008: loss did not improve from 3922.30029\n",
      "Epoch 9/10\n",
      "100/100 [==============================] - 9s 95ms/step - loss: 4169.0142 - bpp: 0.4682 - mse: 16.2834\n",
      "[MemoryCallback]:  8459228\n",
      "\n",
      "Epoch 00009: loss did not improve from 3922.30029\n",
      "Epoch 10/10\n",
      "100/100 [==============================] - 9s 94ms/step - loss: 3177.8569 - bpp: 0.4682 - mse: 12.4117\n",
      "[MemoryCallback]:  8459228\n",
      "\n",
      "Epoch 00010: loss improved from 3922.30029 to 3177.85693, saving model to checkpoints_testME4_no_norm22/\n",
      "/mnt/WindowsDev/DataSets/vimeo_septuplet/sequences/00058/0745/im1.png\n",
      "compress\n",
      "in the compress\n",
      "in decompress\n",
      "* [Model compiled]...\n",
      "* [Loading dataset]...\n",
      "Loading weights\n",
      "Going to fit\n"
     ]
    },
    {
     "name": "stderr",
     "output_type": "stream",
     "text": [
      "2022-01-28 21:50:20.773401: I tensorflow/core/profiler/lib/profiler_session.cc:126] Profiler session initializing.\n",
      "2022-01-28 21:50:20.773468: I tensorflow/core/profiler/lib/profiler_session.cc:141] Profiler session started.\n",
      "2022-01-28 21:50:22.030970: I tensorflow/core/profiler/lib/profiler_session.cc:159] Profiler session tear down.\n",
      "2022-01-28 21:50:22.053691: I tensorflow/core/profiler/internal/gpu/cupti_tracer.cc:1743] CUPTI activity buffer flushed\n"
     ]
    },
    {
     "name": "stdout",
     "output_type": "stream",
     "text": [
      "Epoch 1/10\n",
      "  1/100 [..............................] - ETA: 34:21 - loss: 70029.3438 - bpp: 0.5922 - mse: 273.5498"
     ]
    },
    {
     "name": "stderr",
     "output_type": "stream",
     "text": [
      "2022-01-28 21:50:43.967983: I tensorflow/core/profiler/lib/profiler_session.cc:126] Profiler session initializing.\n",
      "2022-01-28 21:50:43.968050: I tensorflow/core/profiler/lib/profiler_session.cc:141] Profiler session started.\n"
     ]
    },
    {
     "name": "stdout",
     "output_type": "stream",
     "text": [
      "  2/100 [..............................] - ETA: 2:26 - loss: 55133.8789 - bpp: 0.5727 - mse: 215.3645 "
     ]
    },
    {
     "name": "stderr",
     "output_type": "stream",
     "text": [
      "2022-01-28 21:50:46.588657: I tensorflow/core/profiler/lib/profiler_session.cc:66] Profiler session collecting data.\n",
      "2022-01-28 21:50:46.618279: I tensorflow/core/profiler/internal/gpu/cupti_tracer.cc:1743] CUPTI activity buffer flushed\n",
      "2022-01-28 21:50:46.740477: I tensorflow/core/profiler/internal/gpu/cupti_collector.cc:673]  GpuTracer has collected 3372 callback api events and 3336 activity events. \n",
      "2022-01-28 21:50:46.867440: I tensorflow/core/profiler/lib/profiler_session.cc:159] Profiler session tear down.\n",
      "2022-01-28 21:50:47.022265: I tensorflow/core/profiler/rpc/client/save_profile.cc:137] Creating directory: backup/train/plugins/profile/2022_01_28_21_50_46\n",
      "2022-01-28 21:50:47.092660: I tensorflow/core/profiler/rpc/client/save_profile.cc:143] Dumped gzipped tool data for trace.json.gz to backup/train/plugins/profile/2022_01_28_21_50_46/ab0180b02496.trace.json.gz\n"
     ]
    },
    {
     "name": "stdout",
     "output_type": "stream",
     "text": [
      "  3/100 [..............................] - ETA: 3:35 - loss: 50896.8906 - bpp: 0.5857 - mse: 198.8137"
     ]
    },
    {
     "name": "stderr",
     "output_type": "stream",
     "text": [
      "2022-01-28 21:50:47.317673: I tensorflow/core/profiler/rpc/client/save_profile.cc:137] Creating directory: backup/train/plugins/profile/2022_01_28_21_50_46\n",
      "2022-01-28 21:50:47.329411: I tensorflow/core/profiler/rpc/client/save_profile.cc:143] Dumped gzipped tool data for memory_profile.json.gz to backup/train/plugins/profile/2022_01_28_21_50_46/ab0180b02496.memory_profile.json.gz\n",
      "2022-01-28 21:50:47.340224: I tensorflow/core/profiler/rpc/client/capture_profile.cc:251] Creating directory: backup/train/plugins/profile/2022_01_28_21_50_46Dumped tool data for xplane.pb to backup/train/plugins/profile/2022_01_28_21_50_46/ab0180b02496.xplane.pb\n",
      "Dumped tool data for overview_page.pb to backup/train/plugins/profile/2022_01_28_21_50_46/ab0180b02496.overview_page.pb\n",
      "Dumped tool data for input_pipeline.pb to backup/train/plugins/profile/2022_01_28_21_50_46/ab0180b02496.input_pipeline.pb\n",
      "Dumped tool data for tensorflow_stats.pb to backup/train/plugins/profile/2022_01_28_21_50_46/ab0180b02496.tensorflow_stats.pb\n",
      "Dumped tool data for kernel_stats.pb to backup/train/plugins/profile/2022_01_28_21_50_46/ab0180b02496.kernel_stats.pb\n",
      "\n"
     ]
    },
    {
     "name": "stdout",
     "output_type": "stream",
     "text": [
      "  6/100 [>.............................] - ETA: 1:29 - loss: 42102.2656 - bpp: 0.5809 - mse: 164.4597WARNING:tensorflow:Callback method `on_train_batch_end` is slow compared to the batch time (batch time: 0.1140s vs `on_train_batch_end` time: 0.6296s). Check your callbacks.\n",
      "100/100 [==============================] - 36s 150ms/step - loss: 10563.5371 - bpp: 0.5339 - mse: 41.2617\n",
      "[MemoryCallback]:  8459228\n",
      "\n",
      "Epoch 00001: loss improved from inf to 10563.53711, saving model to checkpoints_testME4_no_norm23/\n",
      "Epoch 2/10\n",
      "100/100 [==============================] - 10s 102ms/step - loss: 3549.9026 - bpp: 0.5242 - mse: 13.8648\n",
      "[MemoryCallback]:  8459228\n",
      "\n",
      "Epoch 00002: loss improved from 10563.53711 to 3549.90259, saving model to checkpoints_testME4_no_norm23/\n",
      "Epoch 3/10\n",
      "100/100 [==============================] - 10s 102ms/step - loss: 2636.0789 - bpp: 0.5229 - mse: 10.2951\n",
      "[MemoryCallback]:  8459228\n",
      "\n",
      "Epoch 00003: loss improved from 3549.90259 to 2636.07886, saving model to checkpoints_testME4_no_norm23/\n",
      "Epoch 4/10\n",
      "100/100 [==============================] - 10s 103ms/step - loss: 2250.7881 - bpp: 0.5208 - mse: 8.7901\n",
      "[MemoryCallback]:  8459228\n",
      "\n",
      "Epoch 00004: loss improved from 2636.07886 to 2250.78809, saving model to checkpoints_testME4_no_norm23/\n",
      "Epoch 5/10\n",
      "100/100 [==============================] - 10s 99ms/step - loss: 2156.7156 - bpp: 0.5190 - mse: 8.4226\n",
      "[MemoryCallback]:  8459228\n",
      "\n",
      "Epoch 00005: loss improved from 2250.78809 to 2156.71558, saving model to checkpoints_testME4_no_norm23/\n",
      "Epoch 6/10\n",
      "100/100 [==============================] - 10s 104ms/step - loss: 2019.4664 - bpp: 0.5174 - mse: 7.8865\n",
      "[MemoryCallback]:  8459228\n",
      "\n",
      "Epoch 00006: loss improved from 2156.71558 to 2019.46643, saving model to checkpoints_testME4_no_norm23/\n",
      "Epoch 7/10\n",
      "100/100 [==============================] - 11s 105ms/step - loss: 1874.3538 - bpp: 0.5151 - mse: 7.3197\n",
      "[MemoryCallback]:  8459228\n",
      "\n",
      "Epoch 00007: loss improved from 2019.46643 to 1874.35376, saving model to checkpoints_testME4_no_norm23/\n",
      "Epoch 8/10\n",
      "100/100 [==============================] - 10s 104ms/step - loss: 1652.4058 - bpp: 0.5136 - mse: 6.4527\n",
      "[MemoryCallback]:  8459228\n",
      "\n",
      "Epoch 00008: loss improved from 1874.35376 to 1652.40576, saving model to checkpoints_testME4_no_norm23/\n",
      "Epoch 9/10\n",
      "100/100 [==============================] - 10s 101ms/step - loss: 1743.0597 - bpp: 0.5119 - mse: 6.8068\n",
      "[MemoryCallback]:  8459228\n",
      "\n",
      "Epoch 00009: loss did not improve from 1652.40576\n",
      "Epoch 10/10\n",
      "100/100 [==============================] - 9s 91ms/step - loss: 1585.8259 - bpp: 0.5102 - mse: 6.1926\n",
      "[MemoryCallback]:  8459228\n",
      "\n",
      "Epoch 00010: loss improved from 1652.40576 to 1585.82593, saving model to checkpoints_testME4_no_norm23/\n",
      "/mnt/WindowsDev/DataSets/vimeo_septuplet/sequences/00085/0036/im1.png\n",
      "compress\n",
      "in the compress\n",
      "in decompress\n",
      "* [Model compiled]...\n",
      "* [Loading dataset]...\n",
      "Loading weights\n",
      "Going to fit\n"
     ]
    },
    {
     "name": "stderr",
     "output_type": "stream",
     "text": [
      "2022-01-28 21:53:05.424717: I tensorflow/core/profiler/lib/profiler_session.cc:126] Profiler session initializing.\n",
      "2022-01-28 21:53:05.424764: I tensorflow/core/profiler/lib/profiler_session.cc:141] Profiler session started.\n",
      "2022-01-28 21:53:06.377180: I tensorflow/core/profiler/lib/profiler_session.cc:159] Profiler session tear down.\n",
      "2022-01-28 21:53:06.381559: I tensorflow/core/profiler/internal/gpu/cupti_tracer.cc:1743] CUPTI activity buffer flushed\n"
     ]
    },
    {
     "name": "stdout",
     "output_type": "stream",
     "text": [
      "Epoch 1/10\n",
      "  1/100 [..............................] - ETA: 37:07 - loss: 262259.6562 - bpp: 0.5551 - mse: 1024.4496"
     ]
    },
    {
     "name": "stderr",
     "output_type": "stream",
     "text": [
      "2022-01-28 21:53:29.715817: I tensorflow/core/profiler/lib/profiler_session.cc:126] Profiler session initializing.\n",
      "2022-01-28 21:53:29.715866: I tensorflow/core/profiler/lib/profiler_session.cc:141] Profiler session started.\n"
     ]
    },
    {
     "name": "stdout",
     "output_type": "stream",
     "text": [
      "  2/100 [..............................] - ETA: 2:07 - loss: 551460.5625 - bpp: 0.5733 - mse: 2154.1406 "
     ]
    },
    {
     "name": "stderr",
     "output_type": "stream",
     "text": [
      "2022-01-28 21:53:32.264137: I tensorflow/core/profiler/lib/profiler_session.cc:66] Profiler session collecting data.\n",
      "2022-01-28 21:53:32.293659: I tensorflow/core/profiler/internal/gpu/cupti_tracer.cc:1743] CUPTI activity buffer flushed\n",
      "2022-01-28 21:53:32.419750: I tensorflow/core/profiler/internal/gpu/cupti_collector.cc:673]  GpuTracer has collected 3372 callback api events and 3336 activity events. \n",
      "2022-01-28 21:53:32.549444: I tensorflow/core/profiler/lib/profiler_session.cc:159] Profiler session tear down.\n",
      "2022-01-28 21:53:32.711712: I tensorflow/core/profiler/rpc/client/save_profile.cc:137] Creating directory: backup/train/plugins/profile/2022_01_28_21_53_32\n",
      "2022-01-28 21:53:32.784894: I tensorflow/core/profiler/rpc/client/save_profile.cc:143] Dumped gzipped tool data for trace.json.gz to backup/train/plugins/profile/2022_01_28_21_53_32/ab0180b02496.trace.json.gz\n"
     ]
    },
    {
     "name": "stdout",
     "output_type": "stream",
     "text": [
      "  3/100 [..............................] - ETA: 3:29 - loss: 407349.2812 - bpp: 0.5728 - mse: 1591.2061"
     ]
    },
    {
     "name": "stderr",
     "output_type": "stream",
     "text": [
      "2022-01-28 21:53:33.064333: I tensorflow/core/profiler/rpc/client/save_profile.cc:137] Creating directory: backup/train/plugins/profile/2022_01_28_21_53_32\n",
      "2022-01-28 21:53:33.075058: I tensorflow/core/profiler/rpc/client/save_profile.cc:143] Dumped gzipped tool data for memory_profile.json.gz to backup/train/plugins/profile/2022_01_28_21_53_32/ab0180b02496.memory_profile.json.gz\n",
      "2022-01-28 21:53:33.087146: I tensorflow/core/profiler/rpc/client/capture_profile.cc:251] Creating directory: backup/train/plugins/profile/2022_01_28_21_53_32Dumped tool data for xplane.pb to backup/train/plugins/profile/2022_01_28_21_53_32/ab0180b02496.xplane.pb\n",
      "Dumped tool data for overview_page.pb to backup/train/plugins/profile/2022_01_28_21_53_32/ab0180b02496.overview_page.pb\n",
      "Dumped tool data for input_pipeline.pb to backup/train/plugins/profile/2022_01_28_21_53_32/ab0180b02496.input_pipeline.pb\n",
      "Dumped tool data for tensorflow_stats.pb to backup/train/plugins/profile/2022_01_28_21_53_32/ab0180b02496.tensorflow_stats.pb\n",
      "Dumped tool data for kernel_stats.pb to backup/train/plugins/profile/2022_01_28_21_53_32/ab0180b02496.kernel_stats.pb\n",
      "\n"
     ]
    },
    {
     "name": "stdout",
     "output_type": "stream",
     "text": [
      "  6/100 [>.............................] - ETA: 1:27 - loss: 412870.4062 - bpp: 0.5659 - mse: 1612.7729WARNING:tensorflow:Callback method `on_train_batch_end` is slow compared to the batch time (batch time: 0.1038s vs `on_train_batch_end` time: 0.6176s). Check your callbacks.\n",
      "100/100 [==============================] - 37s 149ms/step - loss: 56533.1016 - bpp: 0.4580 - mse: 220.8306\n",
      "[MemoryCallback]:  8459228\n",
      "\n",
      "Epoch 00001: loss improved from inf to 56533.10156, saving model to checkpoints_testME4_no_norm24/\n",
      "Epoch 2/10\n",
      "100/100 [==============================] - 10s 102ms/step - loss: 9389.8838 - bpp: 0.4074 - mse: 36.6777\n",
      "[MemoryCallback]:  8459228\n",
      "\n",
      "Epoch 00002: loss improved from 56533.10156 to 9389.88379, saving model to checkpoints_testME4_no_norm24/\n",
      "Epoch 3/10\n",
      "100/100 [==============================] - 10s 102ms/step - loss: 7522.4517 - bpp: 0.4045 - mse: 29.3830\n",
      "[MemoryCallback]:  8459228\n",
      "\n",
      "Epoch 00003: loss improved from 9389.88379 to 7522.45166, saving model to checkpoints_testME4_no_norm24/\n",
      "Epoch 4/10\n",
      "100/100 [==============================] - 10s 104ms/step - loss: 6237.9551 - bpp: 0.4041 - mse: 24.3654\n",
      "[MemoryCallback]:  8459228\n",
      "\n",
      "Epoch 00004: loss improved from 7522.45166 to 6237.95508, saving model to checkpoints_testME4_no_norm24/\n",
      "Epoch 5/10\n",
      "100/100 [==============================] - 9s 95ms/step - loss: 5675.8613 - bpp: 0.4040 - mse: 22.1698\n",
      "[MemoryCallback]:  8459228\n",
      "\n",
      "Epoch 00005: loss improved from 6237.95508 to 5675.86133, saving model to checkpoints_testME4_no_norm24/\n",
      "Epoch 6/10\n",
      "100/100 [==============================] - 9s 93ms/step - loss: 5076.3047 - bpp: 0.4038 - mse: 19.8277\n",
      "[MemoryCallback]:  8459228\n",
      "\n",
      "Epoch 00006: loss improved from 5675.86133 to 5076.30469, saving model to checkpoints_testME4_no_norm24/\n",
      "Epoch 7/10\n",
      "100/100 [==============================] - 10s 103ms/step - loss: 4764.4873 - bpp: 0.4038 - mse: 18.6097\n",
      "[MemoryCallback]:  8459228\n",
      "\n",
      "Epoch 00007: loss improved from 5076.30469 to 4764.48730, saving model to checkpoints_testME4_no_norm24/\n",
      "Epoch 8/10\n",
      "100/100 [==============================] - 11s 106ms/step - loss: 4374.8027 - bpp: 0.4041 - mse: 17.0875\n",
      "[MemoryCallback]:  8459228\n",
      "\n",
      "Epoch 00008: loss improved from 4764.48730 to 4374.80273, saving model to checkpoints_testME4_no_norm24/\n",
      "Epoch 9/10\n",
      "100/100 [==============================] - 10s 101ms/step - loss: 4094.7905 - bpp: 0.4040 - mse: 15.9937\n",
      "[MemoryCallback]:  8459228\n",
      "\n",
      "Epoch 00009: loss improved from 4374.80273 to 4094.79053, saving model to checkpoints_testME4_no_norm24/\n",
      "Epoch 10/10\n",
      "100/100 [==============================] - 10s 102ms/step - loss: 3848.2893 - bpp: 0.4040 - mse: 15.0308\n",
      "[MemoryCallback]:  8459228\n",
      "\n",
      "Epoch 00010: loss improved from 4094.79053 to 3848.28931, saving model to checkpoints_testME4_no_norm24/\n",
      "/mnt/WindowsDev/DataSets/vimeo_septuplet/sequences/00096/0760/im1.png\n",
      "compress\n",
      "in the compress\n",
      "in decompress\n",
      "* [Model compiled]...\n",
      "* [Loading dataset]...\n",
      "Loading weights\n",
      "Going to fit\n"
     ]
    },
    {
     "name": "stderr",
     "output_type": "stream",
     "text": [
      "2022-01-28 21:56:02.104786: I tensorflow/core/profiler/lib/profiler_session.cc:126] Profiler session initializing.\n",
      "2022-01-28 21:56:02.104840: I tensorflow/core/profiler/lib/profiler_session.cc:141] Profiler session started.\n",
      "2022-01-28 21:56:03.203958: I tensorflow/core/profiler/lib/profiler_session.cc:159] Profiler session tear down.\n",
      "2022-01-28 21:56:03.207778: I tensorflow/core/profiler/internal/gpu/cupti_tracer.cc:1743] CUPTI activity buffer flushed\n"
     ]
    },
    {
     "name": "stdout",
     "output_type": "stream",
     "text": [
      "Epoch 1/10\n",
      "  1/100 [..............................] - ETA: 31:59 - loss: 26634.8438 - bpp: 0.5502 - mse: 104.0402"
     ]
    },
    {
     "name": "stderr",
     "output_type": "stream",
     "text": [
      "2022-01-28 21:56:23.423598: I tensorflow/core/profiler/lib/profiler_session.cc:126] Profiler session initializing.\n",
      "2022-01-28 21:56:23.423679: I tensorflow/core/profiler/lib/profiler_session.cc:141] Profiler session started.\n"
     ]
    },
    {
     "name": "stdout",
     "output_type": "stream",
     "text": [
      "  2/100 [..............................] - ETA: 2:16 - loss: 19995.6055 - bpp: 0.5202 - mse: 78.1058  "
     ]
    },
    {
     "name": "stderr",
     "output_type": "stream",
     "text": [
      "2022-01-28 21:56:25.982232: I tensorflow/core/profiler/lib/profiler_session.cc:66] Profiler session collecting data.\n",
      "2022-01-28 21:56:26.001002: I tensorflow/core/profiler/internal/gpu/cupti_tracer.cc:1743] CUPTI activity buffer flushed\n",
      "2022-01-28 21:56:26.099825: I tensorflow/core/profiler/internal/gpu/cupti_collector.cc:673]  GpuTracer has collected 3372 callback api events and 3336 activity events. \n",
      "2022-01-28 21:56:26.233301: I tensorflow/core/profiler/lib/profiler_session.cc:159] Profiler session tear down.\n",
      "2022-01-28 21:56:26.466640: I tensorflow/core/profiler/rpc/client/save_profile.cc:137] Creating directory: backup/train/plugins/profile/2022_01_28_21_56_26\n",
      "2022-01-28 21:56:26.534498: I tensorflow/core/profiler/rpc/client/save_profile.cc:143] Dumped gzipped tool data for trace.json.gz to backup/train/plugins/profile/2022_01_28_21_56_26/ab0180b02496.trace.json.gz\n"
     ]
    },
    {
     "name": "stdout",
     "output_type": "stream",
     "text": [
      "  3/100 [..............................] - ETA: 3:24 - loss: 18010.1836 - bpp: 0.5155 - mse: 70.3503"
     ]
    },
    {
     "name": "stderr",
     "output_type": "stream",
     "text": [
      "2022-01-28 21:56:26.719118: I tensorflow/core/profiler/rpc/client/save_profile.cc:137] Creating directory: backup/train/plugins/profile/2022_01_28_21_56_26\n",
      "2022-01-28 21:56:26.729969: I tensorflow/core/profiler/rpc/client/save_profile.cc:143] Dumped gzipped tool data for memory_profile.json.gz to backup/train/plugins/profile/2022_01_28_21_56_26/ab0180b02496.memory_profile.json.gz\n",
      "2022-01-28 21:56:26.741327: I tensorflow/core/profiler/rpc/client/capture_profile.cc:251] Creating directory: backup/train/plugins/profile/2022_01_28_21_56_26Dumped tool data for xplane.pb to backup/train/plugins/profile/2022_01_28_21_56_26/ab0180b02496.xplane.pb\n",
      "Dumped tool data for overview_page.pb to backup/train/plugins/profile/2022_01_28_21_56_26/ab0180b02496.overview_page.pb\n",
      "Dumped tool data for input_pipeline.pb to backup/train/plugins/profile/2022_01_28_21_56_26/ab0180b02496.input_pipeline.pb\n",
      "Dumped tool data for tensorflow_stats.pb to backup/train/plugins/profile/2022_01_28_21_56_26/ab0180b02496.tensorflow_stats.pb\n",
      "Dumped tool data for kernel_stats.pb to backup/train/plugins/profile/2022_01_28_21_56_26/ab0180b02496.kernel_stats.pb\n",
      "\n"
     ]
    },
    {
     "name": "stdout",
     "output_type": "stream",
     "text": [
      "  6/100 [>.............................] - ETA: 1:25 - loss: 14546.6719 - bpp: 0.5083 - mse: 56.8210WARNING:tensorflow:Callback method `on_train_batch_end` is slow compared to the batch time (batch time: 0.1040s vs `on_train_batch_end` time: 0.5883s). Check your callbacks.\n",
      "100/100 [==============================] - 34s 149ms/step - loss: 3925.4109 - bpp: 0.4698 - mse: 15.3318\n",
      "[MemoryCallback]:  8459228\n",
      "\n",
      "Epoch 00001: loss improved from inf to 3925.41089, saving model to checkpoints_testME4_no_norm25/\n",
      "Epoch 2/10\n",
      "100/100 [==============================] - 11s 105ms/step - loss: 1595.2050 - bpp: 0.4323 - mse: 6.2296\n",
      "[MemoryCallback]:  8459228\n",
      "\n",
      "Epoch 00002: loss improved from 3925.41089 to 1595.20496, saving model to checkpoints_testME4_no_norm25/\n",
      "Epoch 3/10\n",
      "100/100 [==============================] - 10s 102ms/step - loss: 1358.0703 - bpp: 0.4249 - mse: 5.3033\n",
      "[MemoryCallback]:  8459228\n",
      "\n",
      "Epoch 00003: loss improved from 1595.20496 to 1358.07031, saving model to checkpoints_testME4_no_norm25/\n",
      "Epoch 4/10\n",
      "100/100 [==============================] - 10s 98ms/step - loss: 1226.8765 - bpp: 0.4229 - mse: 4.7908\n",
      "[MemoryCallback]:  8459228\n",
      "\n",
      "Epoch 00004: loss improved from 1358.07031 to 1226.87646, saving model to checkpoints_testME4_no_norm25/\n",
      "Epoch 5/10\n",
      "100/100 [==============================] - 10s 100ms/step - loss: 1130.0031 - bpp: 0.4219 - mse: 4.4124\n",
      "[MemoryCallback]:  8459228\n",
      "\n",
      "Epoch 00005: loss improved from 1226.87646 to 1130.00305, saving model to checkpoints_testME4_no_norm25/\n",
      "Epoch 6/10\n",
      "100/100 [==============================] - 10s 100ms/step - loss: 1083.2426 - bpp: 0.4216 - mse: 4.2298\n",
      "[MemoryCallback]:  8459228\n",
      "\n",
      "Epoch 00006: loss improved from 1130.00305 to 1083.24255, saving model to checkpoints_testME4_no_norm25/\n",
      "Epoch 7/10\n",
      "100/100 [==============================] - 10s 101ms/step - loss: 1021.6982 - bpp: 0.4218 - mse: 3.9894\n",
      "[MemoryCallback]:  8459228\n",
      "\n",
      "Epoch 00007: loss improved from 1083.24255 to 1021.69818, saving model to checkpoints_testME4_no_norm25/\n",
      "Epoch 8/10\n",
      "100/100 [==============================] - 10s 102ms/step - loss: 1022.2731 - bpp: 0.4217 - mse: 3.9916\n",
      "[MemoryCallback]:  8459228\n",
      "\n",
      "Epoch 00008: loss did not improve from 1021.69818\n",
      "Epoch 9/10\n",
      "100/100 [==============================] - 9s 93ms/step - loss: 938.6141 - bpp: 0.4221 - mse: 3.6648\n",
      "[MemoryCallback]:  8459228\n",
      "\n",
      "Epoch 00009: loss improved from 1021.69818 to 938.61414, saving model to checkpoints_testME4_no_norm25/\n",
      "Epoch 10/10\n",
      "100/100 [==============================] - 10s 100ms/step - loss: 1008.5867 - bpp: 0.4230 - mse: 3.9381\n",
      "[MemoryCallback]:  8459228\n",
      "\n",
      "Epoch 00010: loss did not improve from 938.61414\n",
      "/mnt/WindowsDev/DataSets/vimeo_septuplet/sequences/00091/0804/im1.png\n",
      "compress\n",
      "in the compress\n",
      "in decompress\n",
      "* [Model compiled]...\n",
      "* [Loading dataset]...\n",
      "Loading weights\n",
      "Going to fit\n"
     ]
    },
    {
     "name": "stderr",
     "output_type": "stream",
     "text": [
      "2022-01-28 21:58:39.443269: I tensorflow/core/profiler/lib/profiler_session.cc:126] Profiler session initializing.\n",
      "2022-01-28 21:58:39.443344: I tensorflow/core/profiler/lib/profiler_session.cc:141] Profiler session started.\n",
      "2022-01-28 21:58:40.518784: I tensorflow/core/profiler/lib/profiler_session.cc:159] Profiler session tear down.\n",
      "2022-01-28 21:58:40.531460: I tensorflow/core/profiler/internal/gpu/cupti_tracer.cc:1743] CUPTI activity buffer flushed\n"
     ]
    },
    {
     "name": "stdout",
     "output_type": "stream",
     "text": [
      "Epoch 1/10\n",
      "  1/100 [..............................] - ETA: 30:12 - loss: 14693.5645 - bpp: 0.4330 - mse: 57.3950"
     ]
    },
    {
     "name": "stderr",
     "output_type": "stream",
     "text": [
      "2022-01-28 21:58:59.699503: I tensorflow/core/profiler/lib/profiler_session.cc:126] Profiler session initializing.\n",
      "2022-01-28 21:58:59.699571: I tensorflow/core/profiler/lib/profiler_session.cc:141] Profiler session started.\n"
     ]
    },
    {
     "name": "stdout",
     "output_type": "stream",
     "text": [
      "  2/100 [..............................] - ETA: 1:55 - loss: 14817.2480 - bpp: 0.4321 - mse: 57.8782 "
     ]
    },
    {
     "name": "stderr",
     "output_type": "stream",
     "text": [
      "2022-01-28 21:59:01.831259: I tensorflow/core/profiler/lib/profiler_session.cc:66] Profiler session collecting data.\n",
      "2022-01-28 21:59:01.860647: I tensorflow/core/profiler/internal/gpu/cupti_tracer.cc:1743] CUPTI activity buffer flushed\n",
      "2022-01-28 21:59:01.978521: I tensorflow/core/profiler/internal/gpu/cupti_collector.cc:673]  GpuTracer has collected 3372 callback api events and 3336 activity events. \n",
      "2022-01-28 21:59:02.121710: I tensorflow/core/profiler/lib/profiler_session.cc:159] Profiler session tear down.\n",
      "2022-01-28 21:59:02.298174: I tensorflow/core/profiler/rpc/client/save_profile.cc:137] Creating directory: backup/train/plugins/profile/2022_01_28_21_59_02\n",
      "2022-01-28 21:59:02.371253: I tensorflow/core/profiler/rpc/client/save_profile.cc:143] Dumped gzipped tool data for trace.json.gz to backup/train/plugins/profile/2022_01_28_21_59_02/ab0180b02496.trace.json.gz\n",
      "2022-01-28 21:59:02.627200: I tensorflow/core/profiler/rpc/client/save_profile.cc:137] Creating directory: backup/train/plugins/profile/2022_01_28_21_59_02\n",
      "2022-01-28 21:59:02.639303: I tensorflow/core/profiler/rpc/client/save_profile.cc:143] Dumped gzipped tool data for memory_profile.json.gz to backup/train/plugins/profile/2022_01_28_21_59_02/ab0180b02496.memory_profile.json.gz\n",
      "2022-01-28 21:59:02.655355: I tensorflow/core/profiler/rpc/client/capture_profile.cc:251] Creating directory: backup/train/plugins/profile/2022_01_28_21_59_02Dumped tool data for xplane.pb to backup/train/plugins/profile/2022_01_28_21_59_02/ab0180b02496.xplane.pb\n",
      "Dumped tool data for overview_page.pb to backup/train/plugins/profile/2022_01_28_21_59_02/ab0180b02496.overview_page.pb\n",
      "Dumped tool data for input_pipeline.pb to backup/train/plugins/profile/2022_01_28_21_59_02/ab0180b02496.input_pipeline.pb\n",
      "Dumped tool data for tensorflow_stats.pb to backup/train/plugins/profile/2022_01_28_21_59_02/ab0180b02496.tensorflow_stats.pb\n",
      "Dumped tool data for kernel_stats.pb to backup/train/plugins/profile/2022_01_28_21_59_02/ab0180b02496.kernel_stats.pb\n",
      "\n"
     ]
    },
    {
     "name": "stdout",
     "output_type": "stream",
     "text": [
      "  6/100 [>.............................] - ETA: 1:20 - loss: 11660.3936 - bpp: 0.4332 - mse: 45.5467WARNING:tensorflow:Callback method `on_train_batch_end` is slow compared to the batch time (batch time: 0.1161s vs `on_train_batch_end` time: 0.5657s). Check your callbacks.\n",
      "100/100 [==============================] - 33s 146ms/step - loss: 4488.0957 - bpp: 0.4246 - mse: 17.5300\n",
      "[MemoryCallback]:  8459228\n",
      "\n",
      "Epoch 00001: loss improved from inf to 4488.09570, saving model to checkpoints_testME4_no_norm26/\n",
      "Epoch 2/10\n",
      "100/100 [==============================] - 10s 104ms/step - loss: 2546.6147 - bpp: 0.4192 - mse: 9.9461\n",
      "[MemoryCallback]:  8459228\n",
      "\n",
      "Epoch 00002: loss improved from 4488.09570 to 2546.61475, saving model to checkpoints_testME4_no_norm26/\n",
      "Epoch 3/10\n",
      "100/100 [==============================] - 9s 93ms/step - loss: 2225.1541 - bpp: 0.4210 - mse: 8.6904\n",
      "[MemoryCallback]:  8459228\n",
      "\n",
      "Epoch 00003: loss improved from 2546.61475 to 2225.15405, saving model to checkpoints_testME4_no_norm26/\n",
      "Epoch 4/10\n",
      "100/100 [==============================] - 10s 101ms/step - loss: 1968.2797 - bpp: 0.4240 - mse: 7.6869\n",
      "[MemoryCallback]:  8459228\n",
      "\n",
      "Epoch 00004: loss improved from 2225.15405 to 1968.27966, saving model to checkpoints_testME4_no_norm26/\n",
      "Epoch 5/10\n",
      "100/100 [==============================] - 10s 102ms/step - loss: 1839.6674 - bpp: 0.4268 - mse: 7.1845\n",
      "[MemoryCallback]:  8459228\n",
      "\n",
      "Epoch 00005: loss improved from 1968.27966 to 1839.66736, saving model to checkpoints_testME4_no_norm26/\n",
      "Epoch 6/10\n",
      "100/100 [==============================] - 10s 103ms/step - loss: 1703.4866 - bpp: 0.4296 - mse: 6.6526\n",
      "[MemoryCallback]:  8459228\n",
      "\n",
      "Epoch 00006: loss improved from 1839.66736 to 1703.48657, saving model to checkpoints_testME4_no_norm26/\n",
      "Epoch 7/10\n",
      "100/100 [==============================] - 10s 102ms/step - loss: 1604.4619 - bpp: 0.4322 - mse: 6.2657\n",
      "[MemoryCallback]:  8459228\n",
      "\n",
      "Epoch 00007: loss improved from 1703.48657 to 1604.46191, saving model to checkpoints_testME4_no_norm26/\n",
      "Epoch 8/10\n",
      "100/100 [==============================] - 9s 92ms/step - loss: 1541.5153 - bpp: 0.4355 - mse: 6.0198\n",
      "[MemoryCallback]:  8459228\n",
      "\n",
      "Epoch 00008: loss improved from 1604.46191 to 1541.51526, saving model to checkpoints_testME4_no_norm26/\n",
      "Epoch 9/10\n",
      "100/100 [==============================] - 10s 102ms/step - loss: 1595.0570 - bpp: 0.4379 - mse: 6.2290\n",
      "[MemoryCallback]:  8459228\n",
      "\n",
      "Epoch 00009: loss did not improve from 1541.51526\n",
      "Epoch 10/10\n",
      "100/100 [==============================] - 10s 97ms/step - loss: 1496.2266 - bpp: 0.4401 - mse: 5.8429\n",
      "[MemoryCallback]:  8459228\n",
      "\n",
      "Epoch 00010: loss improved from 1541.51526 to 1496.22656, saving model to checkpoints_testME4_no_norm26/\n",
      "/mnt/WindowsDev/DataSets/vimeo_septuplet/sequences/00053/0276/im1.png\n",
      "compress\n",
      "in the compress\n",
      "in decompress\n",
      "* [Model compiled]...\n",
      "* [Loading dataset]...\n",
      "Loading weights\n",
      "Going to fit\n"
     ]
    },
    {
     "name": "stderr",
     "output_type": "stream",
     "text": [
      "2022-01-28 22:01:28.463899: I tensorflow/core/profiler/lib/profiler_session.cc:126] Profiler session initializing.\n",
      "2022-01-28 22:01:28.463959: I tensorflow/core/profiler/lib/profiler_session.cc:141] Profiler session started.\n",
      "2022-01-28 22:01:29.375897: I tensorflow/core/profiler/lib/profiler_session.cc:159] Profiler session tear down.\n",
      "2022-01-28 22:01:29.379076: I tensorflow/core/profiler/internal/gpu/cupti_tracer.cc:1743] CUPTI activity buffer flushed\n"
     ]
    },
    {
     "name": "stdout",
     "output_type": "stream",
     "text": [
      "Epoch 1/10\n",
      "  1/100 [..............................] - ETA: 37:05 - loss: 109321.9688 - bpp: 0.4828 - mse: 427.0370"
     ]
    },
    {
     "name": "stderr",
     "output_type": "stream",
     "text": [
      "2022-01-28 22:01:52.756814: I tensorflow/core/profiler/lib/profiler_session.cc:126] Profiler session initializing.\n",
      "2022-01-28 22:01:52.756872: I tensorflow/core/profiler/lib/profiler_session.cc:141] Profiler session started.\n"
     ]
    },
    {
     "name": "stdout",
     "output_type": "stream",
     "text": [
      "  2/100 [..............................] - ETA: 2:11 - loss: 125232.1953 - bpp: 0.4900 - mse: 489.1863 "
     ]
    },
    {
     "name": "stderr",
     "output_type": "stream",
     "text": [
      "2022-01-28 22:01:55.007801: I tensorflow/core/profiler/lib/profiler_session.cc:66] Profiler session collecting data.\n",
      "2022-01-28 22:01:55.043090: I tensorflow/core/profiler/internal/gpu/cupti_tracer.cc:1743] CUPTI activity buffer flushed\n",
      "2022-01-28 22:01:55.158463: I tensorflow/core/profiler/internal/gpu/cupti_collector.cc:673]  GpuTracer has collected 3372 callback api events and 3336 activity events. \n",
      "2022-01-28 22:01:55.280482: I tensorflow/core/profiler/lib/profiler_session.cc:159] Profiler session tear down.\n",
      "2022-01-28 22:01:55.428940: I tensorflow/core/profiler/rpc/client/save_profile.cc:137] Creating directory: backup/train/plugins/profile/2022_01_28_22_01_55\n",
      "2022-01-28 22:01:55.496238: I tensorflow/core/profiler/rpc/client/save_profile.cc:143] Dumped gzipped tool data for trace.json.gz to backup/train/plugins/profile/2022_01_28_22_01_55/ab0180b02496.trace.json.gz\n"
     ]
    },
    {
     "name": "stdout",
     "output_type": "stream",
     "text": [
      "  3/100 [..............................] - ETA: 3:12 - loss: 106192.3984 - bpp: 0.4892 - mse: 414.8121"
     ]
    },
    {
     "name": "stderr",
     "output_type": "stream",
     "text": [
      "2022-01-28 22:01:55.712320: I tensorflow/core/profiler/rpc/client/save_profile.cc:137] Creating directory: backup/train/plugins/profile/2022_01_28_22_01_55\n",
      "2022-01-28 22:01:55.724183: I tensorflow/core/profiler/rpc/client/save_profile.cc:143] Dumped gzipped tool data for memory_profile.json.gz to backup/train/plugins/profile/2022_01_28_22_01_55/ab0180b02496.memory_profile.json.gz\n",
      "2022-01-28 22:01:55.734776: I tensorflow/core/profiler/rpc/client/capture_profile.cc:251] Creating directory: backup/train/plugins/profile/2022_01_28_22_01_55Dumped tool data for xplane.pb to backup/train/plugins/profile/2022_01_28_22_01_55/ab0180b02496.xplane.pb\n",
      "Dumped tool data for overview_page.pb to backup/train/plugins/profile/2022_01_28_22_01_55/ab0180b02496.overview_page.pb\n",
      "Dumped tool data for input_pipeline.pb to backup/train/plugins/profile/2022_01_28_22_01_55/ab0180b02496.input_pipeline.pb\n",
      "Dumped tool data for tensorflow_stats.pb to backup/train/plugins/profile/2022_01_28_22_01_55/ab0180b02496.tensorflow_stats.pb\n",
      "Dumped tool data for kernel_stats.pb to backup/train/plugins/profile/2022_01_28_22_01_55/ab0180b02496.kernel_stats.pb\n",
      "\n"
     ]
    },
    {
     "name": "stdout",
     "output_type": "stream",
     "text": [
      "  6/100 [>.............................] - ETA: 1:20 - loss: 87881.9453 - bpp: 0.4888 - mse: 343.2870WARNING:tensorflow:Callback method `on_train_batch_end` is slow compared to the batch time (batch time: 0.1036s vs `on_train_batch_end` time: 0.5698s). Check your callbacks.\n",
      "100/100 [==============================] - 37s 147ms/step - loss: 20789.2617 - bpp: 0.4383 - mse: 81.2063\n",
      "[MemoryCallback]:  8459228\n",
      "\n",
      "Epoch 00001: loss improved from inf to 20789.26172, saving model to checkpoints_testME4_no_norm27/\n",
      "Epoch 2/10\n",
      "100/100 [==============================] - 11s 105ms/step - loss: 8087.4375 - bpp: 0.4191 - mse: 31.5899\n",
      "[MemoryCallback]:  8459228\n",
      "\n",
      "Epoch 00002: loss improved from 20789.26172 to 8087.43750, saving model to checkpoints_testME4_no_norm27/\n",
      "Epoch 3/10\n",
      "100/100 [==============================] - 10s 104ms/step - loss: 6965.7529 - bpp: 0.4220 - mse: 27.2083\n",
      "[MemoryCallback]:  8459228\n",
      "\n",
      "Epoch 00003: loss improved from 8087.43750 to 6965.75293, saving model to checkpoints_testME4_no_norm27/\n",
      "Epoch 4/10\n",
      "100/100 [==============================] - 10s 101ms/step - loss: 6240.1226 - bpp: 0.4249 - mse: 24.3738\n",
      "[MemoryCallback]:  8459228\n",
      "\n",
      "Epoch 00004: loss improved from 6965.75293 to 6240.12256, saving model to checkpoints_testME4_no_norm27/\n",
      "Epoch 5/10\n",
      "100/100 [==============================] - 10s 104ms/step - loss: 5382.2529 - bpp: 0.4281 - mse: 21.0227\n",
      "[MemoryCallback]:  8459228\n",
      "\n",
      "Epoch 00005: loss improved from 6240.12256 to 5382.25293, saving model to checkpoints_testME4_no_norm27/\n",
      "Epoch 6/10\n",
      "100/100 [==============================] - 11s 107ms/step - loss: 4851.0039 - bpp: 0.4306 - mse: 18.9476\n",
      "[MemoryCallback]:  8459228\n",
      "\n",
      "Epoch 00006: loss improved from 5382.25293 to 4851.00391, saving model to checkpoints_testME4_no_norm27/\n",
      "Epoch 7/10\n",
      "100/100 [==============================] - 10s 101ms/step - loss: 5449.4883 - bpp: 0.4330 - mse: 21.2854\n",
      "[MemoryCallback]:  8459228\n",
      "\n",
      "Epoch 00007: loss did not improve from 4851.00391\n",
      "Epoch 8/10\n",
      "100/100 [==============================] - 9s 91ms/step - loss: 4675.6812 - bpp: 0.4353 - mse: 18.2627\n",
      "[MemoryCallback]:  8459228\n",
      "\n",
      "Epoch 00008: loss improved from 4851.00391 to 4675.68115, saving model to checkpoints_testME4_no_norm27/\n",
      "Epoch 9/10\n",
      "100/100 [==============================] - 10s 102ms/step - loss: 4857.5640 - bpp: 0.4378 - mse: 18.9732\n",
      "[MemoryCallback]:  8459228\n",
      "\n",
      "Epoch 00009: loss did not improve from 4675.68115\n",
      "Epoch 10/10\n",
      "100/100 [==============================] - 9s 93ms/step - loss: 4752.4707 - bpp: 0.4398 - mse: 18.5626\n",
      "[MemoryCallback]:  8459228\n",
      "\n",
      "Epoch 00010: loss did not improve from 4675.68115\n",
      "/mnt/WindowsDev/DataSets/vimeo_septuplet/sequences/00065/0490/im1.png\n",
      "compress\n",
      "in the compress\n",
      "in decompress\n",
      "* [Model compiled]...\n",
      "* [Loading dataset]...\n",
      "Loading weights\n",
      "Going to fit\n"
     ]
    },
    {
     "name": "stderr",
     "output_type": "stream",
     "text": [
      "2022-01-28 22:04:02.726361: I tensorflow/core/profiler/lib/profiler_session.cc:126] Profiler session initializing.\n",
      "2022-01-28 22:04:02.726412: I tensorflow/core/profiler/lib/profiler_session.cc:141] Profiler session started.\n",
      "2022-01-28 22:04:03.551365: I tensorflow/core/profiler/lib/profiler_session.cc:159] Profiler session tear down.\n",
      "2022-01-28 22:04:03.555608: I tensorflow/core/profiler/internal/gpu/cupti_tracer.cc:1743] CUPTI activity buffer flushed\n"
     ]
    },
    {
     "name": "stdout",
     "output_type": "stream",
     "text": [
      "Epoch 1/10\n",
      "  1/100 [..............................] - ETA: 29:06 - loss: 85626.8672 - bpp: 0.4510 - mse: 334.4782"
     ]
    },
    {
     "name": "stderr",
     "output_type": "stream",
     "text": [
      "2022-01-28 22:04:21.930875: I tensorflow/core/profiler/lib/profiler_session.cc:126] Profiler session initializing.\n",
      "2022-01-28 22:04:21.930932: I tensorflow/core/profiler/lib/profiler_session.cc:141] Profiler session started.\n"
     ]
    },
    {
     "name": "stdout",
     "output_type": "stream",
     "text": [
      "  2/100 [..............................] - ETA: 1:59 - loss: 55228.6133 - bpp: 0.4519 - mse: 215.7350 "
     ]
    },
    {
     "name": "stderr",
     "output_type": "stream",
     "text": [
      "2022-01-28 22:04:24.559816: I tensorflow/core/profiler/lib/profiler_session.cc:66] Profiler session collecting data.\n",
      "2022-01-28 22:04:24.584221: I tensorflow/core/profiler/internal/gpu/cupti_tracer.cc:1743] CUPTI activity buffer flushed\n",
      "2022-01-28 22:04:24.677840: I tensorflow/core/profiler/internal/gpu/cupti_collector.cc:673]  GpuTracer has collected 3372 callback api events and 3336 activity events. \n",
      "2022-01-28 22:04:24.813313: I tensorflow/core/profiler/lib/profiler_session.cc:159] Profiler session tear down.\n",
      "2022-01-28 22:04:24.991971: I tensorflow/core/profiler/rpc/client/save_profile.cc:137] Creating directory: backup/train/plugins/profile/2022_01_28_22_04_24\n",
      "2022-01-28 22:04:25.065533: I tensorflow/core/profiler/rpc/client/save_profile.cc:143] Dumped gzipped tool data for trace.json.gz to backup/train/plugins/profile/2022_01_28_22_04_24/ab0180b02496.trace.json.gz\n",
      "2022-01-28 22:04:25.312227: I tensorflow/core/profiler/rpc/client/save_profile.cc:137] Creating directory: backup/train/plugins/profile/2022_01_28_22_04_24\n",
      "2022-01-28 22:04:25.322238: I tensorflow/core/profiler/rpc/client/save_profile.cc:143] Dumped gzipped tool data for memory_profile.json.gz to backup/train/plugins/profile/2022_01_28_22_04_24/ab0180b02496.memory_profile.json.gz\n",
      "2022-01-28 22:04:25.332354: I tensorflow/core/profiler/rpc/client/capture_profile.cc:251] Creating directory: backup/train/plugins/profile/2022_01_28_22_04_24Dumped tool data for xplane.pb to backup/train/plugins/profile/2022_01_28_22_04_24/ab0180b02496.xplane.pb\n",
      "Dumped tool data for overview_page.pb to backup/train/plugins/profile/2022_01_28_22_04_24/ab0180b02496.overview_page.pb\n",
      "Dumped tool data for input_pipeline.pb to backup/train/plugins/profile/2022_01_28_22_04_24/ab0180b02496.input_pipeline.pb\n",
      "Dumped tool data for tensorflow_stats.pb to backup/train/plugins/profile/2022_01_28_22_04_24/ab0180b02496.tensorflow_stats.pb\n",
      "Dumped tool data for kernel_stats.pb to backup/train/plugins/profile/2022_01_28_22_04_24/ab0180b02496.kernel_stats.pb\n",
      "\n"
     ]
    },
    {
     "name": "stdout",
     "output_type": "stream",
     "text": [
      "  6/100 [>.............................] - ETA: 1:27 - loss: 42069.3398 - bpp: 0.4576 - mse: 164.3316WARNING:tensorflow:Callback method `on_train_batch_end` is slow compared to the batch time (batch time: 0.1238s vs `on_train_batch_end` time: 0.6051s). Check your callbacks.\n",
      "100/100 [==============================] - 32s 149ms/step - loss: 6398.2856 - bpp: 0.4235 - mse: 24.9916\n",
      "[MemoryCallback]:  8459228\n",
      "\n",
      "Epoch 00001: loss improved from inf to 6398.28564, saving model to checkpoints_testME4_no_norm28/\n",
      "Epoch 2/10\n",
      "100/100 [==============================] - 10s 101ms/step - loss: 1252.4929 - bpp: 0.4111 - mse: 4.8909\n",
      "[MemoryCallback]:  8459228\n",
      "\n",
      "Epoch 00002: loss improved from 6398.28564 to 1252.49292, saving model to checkpoints_testME4_no_norm28/\n",
      "Epoch 3/10\n",
      "100/100 [==============================] - 10s 104ms/step - loss: 1115.6068 - bpp: 0.4094 - mse: 4.3562\n",
      "[MemoryCallback]:  8459228\n",
      "\n",
      "Epoch 00003: loss improved from 1252.49292 to 1115.60681, saving model to checkpoints_testME4_no_norm28/\n",
      "Epoch 4/10\n",
      "100/100 [==============================] - 10s 103ms/step - loss: 1017.0748 - bpp: 0.4090 - mse: 3.9714\n",
      "[MemoryCallback]:  8459228\n",
      "\n",
      "Epoch 00004: loss improved from 1115.60681 to 1017.07477, saving model to checkpoints_testME4_no_norm28/\n",
      "Epoch 5/10\n",
      "100/100 [==============================] - 10s 102ms/step - loss: 951.7241 - bpp: 0.4095 - mse: 3.7161\n",
      "[MemoryCallback]:  8459228\n",
      "\n",
      "Epoch 00005: loss improved from 1017.07477 to 951.72412, saving model to checkpoints_testME4_no_norm28/\n",
      "Epoch 6/10\n",
      "100/100 [==============================] - 10s 101ms/step - loss: 939.8205 - bpp: 0.4104 - mse: 3.6696\n",
      "[MemoryCallback]:  8459228\n",
      "\n",
      "Epoch 00006: loss improved from 951.72412 to 939.82050, saving model to checkpoints_testME4_no_norm28/\n",
      "Epoch 7/10\n",
      "100/100 [==============================] - 10s 104ms/step - loss: 871.9327 - bpp: 0.4115 - mse: 3.4044\n",
      "[MemoryCallback]:  8459228\n",
      "\n",
      "Epoch 00007: loss improved from 939.82050 to 871.93274, saving model to checkpoints_testME4_no_norm28/\n",
      "Epoch 8/10\n",
      "100/100 [==============================] - 10s 101ms/step - loss: 852.3328 - bpp: 0.4125 - mse: 3.3278\n",
      "[MemoryCallback]:  8459228\n",
      "\n",
      "Epoch 00008: loss improved from 871.93274 to 852.33276, saving model to checkpoints_testME4_no_norm28/\n",
      "Epoch 9/10\n",
      "100/100 [==============================] - 10s 102ms/step - loss: 812.2059 - bpp: 0.4138 - mse: 3.1711\n",
      "[MemoryCallback]:  8459228\n",
      "\n",
      "Epoch 00009: loss improved from 852.33276 to 812.20593, saving model to checkpoints_testME4_no_norm28/\n",
      "Epoch 10/10\n",
      "100/100 [==============================] - 10s 100ms/step - loss: 809.1860 - bpp: 0.4153 - mse: 3.1593\n",
      "[MemoryCallback]:  8459228\n",
      "\n",
      "Epoch 00010: loss improved from 812.20593 to 809.18604, saving model to checkpoints_testME4_no_norm28/\n",
      "/mnt/WindowsDev/DataSets/vimeo_septuplet/sequences/00035/0071/im1.png\n",
      "compress\n",
      "in the compress\n",
      "in decompress\n",
      "* [Model compiled]...\n",
      "* [Loading dataset]...\n",
      "Loading weights\n",
      "Going to fit\n"
     ]
    },
    {
     "name": "stderr",
     "output_type": "stream",
     "text": [
      "2022-01-28 22:06:38.307965: I tensorflow/core/profiler/lib/profiler_session.cc:126] Profiler session initializing.\n",
      "2022-01-28 22:06:38.308027: I tensorflow/core/profiler/lib/profiler_session.cc:141] Profiler session started.\n",
      "2022-01-28 22:06:39.346962: I tensorflow/core/profiler/lib/profiler_session.cc:159] Profiler session tear down.\n",
      "2022-01-28 22:06:39.367529: I tensorflow/core/profiler/internal/gpu/cupti_tracer.cc:1743] CUPTI activity buffer flushed\n"
     ]
    },
    {
     "name": "stdout",
     "output_type": "stream",
     "text": [
      "Epoch 1/10\n",
      "  1/100 [..............................] - ETA: 34:19 - loss: 70889.5859 - bpp: 0.4655 - mse: 276.9106"
     ]
    },
    {
     "name": "stderr",
     "output_type": "stream",
     "text": [
      "2022-01-28 22:07:01.321052: I tensorflow/core/profiler/lib/profiler_session.cc:126] Profiler session initializing.\n",
      "2022-01-28 22:07:01.321118: I tensorflow/core/profiler/lib/profiler_session.cc:141] Profiler session started.\n"
     ]
    },
    {
     "name": "stdout",
     "output_type": "stream",
     "text": [
      "  2/100 [..............................] - ETA: 2:30 - loss: 59339.0391 - bpp: 0.4673 - mse: 231.7913 "
     ]
    },
    {
     "name": "stderr",
     "output_type": "stream",
     "text": [
      "2022-01-28 22:07:03.667516: I tensorflow/core/profiler/lib/profiler_session.cc:66] Profiler session collecting data.\n",
      "2022-01-28 22:07:03.694697: I tensorflow/core/profiler/internal/gpu/cupti_tracer.cc:1743] CUPTI activity buffer flushed\n",
      "2022-01-28 22:07:03.798363: I tensorflow/core/profiler/internal/gpu/cupti_collector.cc:673]  GpuTracer has collected 3372 callback api events and 3336 activity events. \n",
      "2022-01-28 22:07:03.909726: I tensorflow/core/profiler/lib/profiler_session.cc:159] Profiler session tear down.\n",
      "2022-01-28 22:07:04.046576: I tensorflow/core/profiler/rpc/client/save_profile.cc:137] Creating directory: backup/train/plugins/profile/2022_01_28_22_07_03\n",
      "2022-01-28 22:07:04.114195: I tensorflow/core/profiler/rpc/client/save_profile.cc:143] Dumped gzipped tool data for trace.json.gz to backup/train/plugins/profile/2022_01_28_22_07_03/ab0180b02496.trace.json.gz\n",
      "2022-01-28 22:07:04.313198: I tensorflow/core/profiler/rpc/client/save_profile.cc:137] Creating directory: backup/train/plugins/profile/2022_01_28_22_07_03\n"
     ]
    },
    {
     "name": "stdout",
     "output_type": "stream",
     "text": [
      "  3/100 [..............................] - ETA: 3:16 - loss: 43872.0938 - bpp: 0.4577 - mse: 171.3736"
     ]
    },
    {
     "name": "stderr",
     "output_type": "stream",
     "text": [
      "2022-01-28 22:07:04.323443: I tensorflow/core/profiler/rpc/client/save_profile.cc:143] Dumped gzipped tool data for memory_profile.json.gz to backup/train/plugins/profile/2022_01_28_22_07_03/ab0180b02496.memory_profile.json.gz\n",
      "2022-01-28 22:07:04.332797: I tensorflow/core/profiler/rpc/client/capture_profile.cc:251] Creating directory: backup/train/plugins/profile/2022_01_28_22_07_03Dumped tool data for xplane.pb to backup/train/plugins/profile/2022_01_28_22_07_03/ab0180b02496.xplane.pb\n",
      "Dumped tool data for overview_page.pb to backup/train/plugins/profile/2022_01_28_22_07_03/ab0180b02496.overview_page.pb\n",
      "Dumped tool data for input_pipeline.pb to backup/train/plugins/profile/2022_01_28_22_07_03/ab0180b02496.input_pipeline.pb\n",
      "Dumped tool data for tensorflow_stats.pb to backup/train/plugins/profile/2022_01_28_22_07_03/ab0180b02496.tensorflow_stats.pb\n",
      "Dumped tool data for kernel_stats.pb to backup/train/plugins/profile/2022_01_28_22_07_03/ab0180b02496.kernel_stats.pb\n",
      "\n"
     ]
    },
    {
     "name": "stdout",
     "output_type": "stream",
     "text": [
      "  6/100 [>.............................] - ETA: 1:21 - loss: 29713.7578 - bpp: 0.4575 - mse: 116.0676WARNING:tensorflow:Callback method `on_train_batch_end` is slow compared to the batch time (batch time: 0.0981s vs `on_train_batch_end` time: 0.5610s). Check your callbacks.\n",
      "100/100 [==============================] - 35s 147ms/step - loss: 7225.3774 - bpp: 0.4044 - mse: 28.2226\n",
      "[MemoryCallback]:  8459228\n",
      "\n",
      "Epoch 00001: loss improved from inf to 7225.37744, saving model to checkpoints_testME4_no_norm29/\n",
      "Epoch 2/10\n",
      "100/100 [==============================] - 10s 104ms/step - loss: 1472.8860 - bpp: 0.3810 - mse: 5.7520\n",
      "[MemoryCallback]:  8459228\n",
      "\n",
      "Epoch 00002: loss improved from 7225.37744 to 1472.88599, saving model to checkpoints_testME4_no_norm29/\n",
      "Epoch 3/10\n",
      "100/100 [==============================] - 10s 101ms/step - loss: 1012.8102 - bpp: 0.3779 - mse: 3.9548\n",
      "[MemoryCallback]:  8459228\n",
      "\n",
      "Epoch 00003: loss improved from 1472.88599 to 1012.81018, saving model to checkpoints_testME4_no_norm29/\n",
      "Epoch 4/10\n",
      "100/100 [==============================] - 10s 102ms/step - loss: 907.7020 - bpp: 0.3765 - mse: 3.5442\n",
      "[MemoryCallback]:  8459228\n",
      "\n",
      "Epoch 00004: loss improved from 1012.81018 to 907.70197, saving model to checkpoints_testME4_no_norm29/\n",
      "Epoch 5/10\n",
      "100/100 [==============================] - 10s 103ms/step - loss: 915.2816 - bpp: 0.3762 - mse: 3.5738\n",
      "[MemoryCallback]:  8459228\n",
      "\n",
      "Epoch 00005: loss did not improve from 907.70197\n",
      "Epoch 6/10\n",
      "100/100 [==============================] - 9s 94ms/step - loss: 881.1035 - bpp: 0.3753 - mse: 3.4403\n",
      "[MemoryCallback]:  8459228\n",
      "\n",
      "Epoch 00006: loss improved from 907.70197 to 881.10352, saving model to checkpoints_testME4_no_norm29/\n",
      "Epoch 7/10\n",
      "100/100 [==============================] - 10s 101ms/step - loss: 755.3558 - bpp: 0.3752 - mse: 2.9491\n",
      "[MemoryCallback]:  8459228\n",
      "\n",
      "Epoch 00007: loss improved from 881.10352 to 755.35577, saving model to checkpoints_testME4_no_norm29/\n",
      "Epoch 8/10\n",
      "100/100 [==============================] - 10s 103ms/step - loss: 848.2678 - bpp: 0.3754 - mse: 3.3121\n",
      "[MemoryCallback]:  8459228\n",
      "\n",
      "Epoch 00008: loss did not improve from 755.35577\n",
      "Epoch 9/10\n",
      "100/100 [==============================] - 9s 94ms/step - loss: 962.4023 - bpp: 0.3748 - mse: 3.7579\n",
      "[MemoryCallback]:  8459228\n",
      "\n",
      "Epoch 00009: loss did not improve from 755.35577\n",
      "Epoch 10/10\n",
      "100/100 [==============================] - 10s 95ms/step - loss: 782.1934 - bpp: 0.3743 - mse: 3.0540\n",
      "[MemoryCallback]:  8459228\n",
      "\n",
      "Epoch 00010: loss did not improve from 755.35577\n",
      "/mnt/WindowsDev/DataSets/vimeo_septuplet/sequences/00050/0719/im1.png\n",
      "compress\n",
      "in the compress\n",
      "in decompress\n",
      "* [Model compiled]...\n",
      "* [Loading dataset]...\n",
      "Loading weights\n",
      "Going to fit\n"
     ]
    },
    {
     "name": "stderr",
     "output_type": "stream",
     "text": [
      "2022-01-28 22:09:18.246162: I tensorflow/core/profiler/lib/profiler_session.cc:126] Profiler session initializing.\n",
      "2022-01-28 22:09:18.246236: I tensorflow/core/profiler/lib/profiler_session.cc:141] Profiler session started.\n",
      "2022-01-28 22:09:18.960881: I tensorflow/core/profiler/lib/profiler_session.cc:159] Profiler session tear down.\n",
      "2022-01-28 22:09:18.964332: I tensorflow/core/profiler/internal/gpu/cupti_tracer.cc:1743] CUPTI activity buffer flushed\n"
     ]
    },
    {
     "name": "stdout",
     "output_type": "stream",
     "text": [
      "Epoch 1/10\n",
      "  1/100 [..............................] - ETA: 29:03 - loss: 362415.3750 - bpp: 0.5920 - mse: 1415.6827"
     ]
    },
    {
     "name": "stderr",
     "output_type": "stream",
     "text": [
      "2022-01-28 22:09:37.307356: I tensorflow/core/profiler/lib/profiler_session.cc:126] Profiler session initializing.\n",
      "2022-01-28 22:09:37.307409: I tensorflow/core/profiler/lib/profiler_session.cc:141] Profiler session started.\n"
     ]
    },
    {
     "name": "stdout",
     "output_type": "stream",
     "text": [
      "  2/100 [..............................] - ETA: 1:54 - loss: 304910.1250 - bpp: 0.5983 - mse: 1191.0529 "
     ]
    },
    {
     "name": "stderr",
     "output_type": "stream",
     "text": [
      "2022-01-28 22:09:39.503147: I tensorflow/core/profiler/lib/profiler_session.cc:66] Profiler session collecting data.\n",
      "2022-01-28 22:09:39.522917: I tensorflow/core/profiler/internal/gpu/cupti_tracer.cc:1743] CUPTI activity buffer flushed\n",
      "2022-01-28 22:09:39.598680: I tensorflow/core/profiler/internal/gpu/cupti_collector.cc:673]  GpuTracer has collected 3372 callback api events and 3336 activity events. \n",
      "2022-01-28 22:09:39.713332: I tensorflow/core/profiler/lib/profiler_session.cc:159] Profiler session tear down.\n",
      "2022-01-28 22:09:39.840936: I tensorflow/core/profiler/rpc/client/save_profile.cc:137] Creating directory: backup/train/plugins/profile/2022_01_28_22_09_39\n",
      "2022-01-28 22:09:39.906464: I tensorflow/core/profiler/rpc/client/save_profile.cc:143] Dumped gzipped tool data for trace.json.gz to backup/train/plugins/profile/2022_01_28_22_09_39/ab0180b02496.trace.json.gz\n"
     ]
    },
    {
     "name": "stdout",
     "output_type": "stream",
     "text": [
      "  3/100 [..............................] - ETA: 2:54 - loss: 265856.5312 - bpp: 0.6003 - mse: 1038.4998"
     ]
    },
    {
     "name": "stderr",
     "output_type": "stream",
     "text": [
      "2022-01-28 22:09:40.084161: I tensorflow/core/profiler/rpc/client/save_profile.cc:137] Creating directory: backup/train/plugins/profile/2022_01_28_22_09_39\n",
      "2022-01-28 22:09:40.093650: I tensorflow/core/profiler/rpc/client/save_profile.cc:143] Dumped gzipped tool data for memory_profile.json.gz to backup/train/plugins/profile/2022_01_28_22_09_39/ab0180b02496.memory_profile.json.gz\n",
      "2022-01-28 22:09:40.101533: I tensorflow/core/profiler/rpc/client/capture_profile.cc:251] Creating directory: backup/train/plugins/profile/2022_01_28_22_09_39Dumped tool data for xplane.pb to backup/train/plugins/profile/2022_01_28_22_09_39/ab0180b02496.xplane.pb\n",
      "Dumped tool data for overview_page.pb to backup/train/plugins/profile/2022_01_28_22_09_39/ab0180b02496.overview_page.pb\n",
      "Dumped tool data for input_pipeline.pb to backup/train/plugins/profile/2022_01_28_22_09_39/ab0180b02496.input_pipeline.pb\n",
      "Dumped tool data for tensorflow_stats.pb to backup/train/plugins/profile/2022_01_28_22_09_39/ab0180b02496.tensorflow_stats.pb\n",
      "Dumped tool data for kernel_stats.pb to backup/train/plugins/profile/2022_01_28_22_09_39/ab0180b02496.kernel_stats.pb\n",
      "\n"
     ]
    },
    {
     "name": "stdout",
     "output_type": "stream",
     "text": [
      "  6/100 [>.............................] - ETA: 1:13 - loss: 213149.5469 - bpp: 0.6021 - mse: 832.6130WARNING:tensorflow:Callback method `on_train_batch_end` is slow compared to the batch time (batch time: 0.0999s vs `on_train_batch_end` time: 0.5036s). Check your callbacks.\n",
      "100/100 [==============================] - 32s 144ms/step - loss: 55816.3633 - bpp: 0.5444 - mse: 218.0305\n",
      "[MemoryCallback]:  8459228\n",
      "\n",
      "Epoch 00001: loss improved from inf to 55816.36328, saving model to checkpoints_testME4_no_norm30/\n",
      "Epoch 2/10\n",
      "100/100 [==============================] - 9s 94ms/step - loss: 17579.9766 - bpp: 0.5287 - mse: 68.6697\n",
      "[MemoryCallback]:  8459228\n",
      "\n",
      "Epoch 00002: loss improved from 55816.36328 to 17579.97656, saving model to checkpoints_testME4_no_norm30/\n",
      "Epoch 3/10\n",
      "100/100 [==============================] - 10s 103ms/step - loss: 13317.4121 - bpp: 0.5307 - mse: 52.0191\n",
      "[MemoryCallback]:  8459228\n",
      "\n",
      "Epoch 00003: loss improved from 17579.97656 to 13317.41211, saving model to checkpoints_testME4_no_norm30/\n",
      "Epoch 4/10\n",
      "100/100 [==============================] - 10s 103ms/step - loss: 11058.9902 - bpp: 0.5314 - mse: 43.1971\n",
      "[MemoryCallback]:  8459228\n",
      "\n",
      "Epoch 00004: loss improved from 13317.41211 to 11058.99023, saving model to checkpoints_testME4_no_norm30/\n",
      "Epoch 5/10\n",
      "100/100 [==============================] - 10s 101ms/step - loss: 9955.8418 - bpp: 0.5326 - mse: 38.8879\n",
      "[MemoryCallback]:  8459228\n",
      "\n",
      "Epoch 00005: loss improved from 11058.99023 to 9955.84180, saving model to checkpoints_testME4_no_norm30/\n",
      "Epoch 6/10\n",
      "100/100 [==============================] - 10s 103ms/step - loss: 9048.4590 - bpp: 0.5330 - mse: 35.3435\n",
      "[MemoryCallback]:  8459228\n",
      "\n",
      "Epoch 00006: loss improved from 9955.84180 to 9048.45898, saving model to checkpoints_testME4_no_norm30/\n",
      "Epoch 7/10\n",
      "100/100 [==============================] - 10s 101ms/step - loss: 8583.2881 - bpp: 0.5330 - mse: 33.5264\n",
      "[MemoryCallback]:  8459228\n",
      "\n",
      "Epoch 00007: loss improved from 9048.45898 to 8583.28809, saving model to checkpoints_testME4_no_norm30/\n",
      "Epoch 8/10\n",
      "100/100 [==============================] - 10s 101ms/step - loss: 7907.9951 - bpp: 0.5335 - mse: 30.8885\n",
      "[MemoryCallback]:  8459228\n",
      "\n",
      "Epoch 00008: loss improved from 8583.28809 to 7907.99512, saving model to checkpoints_testME4_no_norm30/\n",
      "Epoch 9/10\n",
      "100/100 [==============================] - 10s 103ms/step - loss: 7223.7524 - bpp: 0.5341 - mse: 28.2157\n",
      "[MemoryCallback]:  8459228\n",
      "\n",
      "Epoch 00009: loss improved from 7907.99512 to 7223.75244, saving model to checkpoints_testME4_no_norm30/\n",
      "Epoch 10/10\n",
      "100/100 [==============================] - 9s 92ms/step - loss: 7026.1006 - bpp: 0.5339 - mse: 27.4436\n",
      "[MemoryCallback]:  8459228\n",
      "\n",
      "Epoch 00010: loss improved from 7223.75244 to 7026.10059, saving model to checkpoints_testME4_no_norm30/\n",
      "/mnt/WindowsDev/DataSets/vimeo_septuplet/sequences/00095/0621/im1.png\n",
      "compress\n",
      "in the compress\n",
      "in decompress\n",
      "* [Model compiled]...\n",
      "* [Loading dataset]...\n",
      "Loading weights\n",
      "Going to fit\n"
     ]
    },
    {
     "name": "stderr",
     "output_type": "stream",
     "text": [
      "2022-01-28 22:12:07.438527: I tensorflow/core/profiler/lib/profiler_session.cc:126] Profiler session initializing.\n",
      "2022-01-28 22:12:07.438600: I tensorflow/core/profiler/lib/profiler_session.cc:141] Profiler session started.\n",
      "2022-01-28 22:12:08.538477: I tensorflow/core/profiler/lib/profiler_session.cc:159] Profiler session tear down.\n",
      "2022-01-28 22:12:08.555913: I tensorflow/core/profiler/internal/gpu/cupti_tracer.cc:1743] CUPTI activity buffer flushed\n"
     ]
    },
    {
     "name": "stdout",
     "output_type": "stream",
     "text": [
      "Epoch 1/10\n",
      "  1/100 [..............................] - ETA: 32:07 - loss: 184152.5156 - bpp: 0.5870 - mse: 719.3434"
     ]
    },
    {
     "name": "stderr",
     "output_type": "stream",
     "text": [
      "2022-01-28 22:12:28.931861: I tensorflow/core/profiler/lib/profiler_session.cc:126] Profiler session initializing.\n",
      "2022-01-28 22:12:28.931912: I tensorflow/core/profiler/lib/profiler_session.cc:141] Profiler session started.\n"
     ]
    },
    {
     "name": "stdout",
     "output_type": "stream",
     "text": [
      "  2/100 [..............................] - ETA: 2:05 - loss: 166663.4375 - bpp: 0.5884 - mse: 651.0267 "
     ]
    },
    {
     "name": "stderr",
     "output_type": "stream",
     "text": [
      "2022-01-28 22:12:31.275477: I tensorflow/core/profiler/lib/profiler_session.cc:66] Profiler session collecting data.\n",
      "2022-01-28 22:12:31.310998: I tensorflow/core/profiler/internal/gpu/cupti_tracer.cc:1743] CUPTI activity buffer flushed\n",
      "2022-01-28 22:12:31.419590: I tensorflow/core/profiler/internal/gpu/cupti_collector.cc:673]  GpuTracer has collected 3372 callback api events and 3336 activity events. \n",
      "2022-01-28 22:12:31.552568: I tensorflow/core/profiler/lib/profiler_session.cc:159] Profiler session tear down.\n",
      "2022-01-28 22:12:31.709683: I tensorflow/core/profiler/rpc/client/save_profile.cc:137] Creating directory: backup/train/plugins/profile/2022_01_28_22_12_31\n",
      "2022-01-28 22:12:31.776913: I tensorflow/core/profiler/rpc/client/save_profile.cc:143] Dumped gzipped tool data for trace.json.gz to backup/train/plugins/profile/2022_01_28_22_12_31/ab0180b02496.trace.json.gz\n",
      "2022-01-28 22:12:32.011299: I tensorflow/core/profiler/rpc/client/save_profile.cc:137] Creating directory: backup/train/plugins/profile/2022_01_28_22_12_31\n",
      "2022-01-28 22:12:32.022445: I tensorflow/core/profiler/rpc/client/save_profile.cc:143] Dumped gzipped tool data for memory_profile.json.gz to backup/train/plugins/profile/2022_01_28_22_12_31/ab0180b02496.memory_profile.json.gz\n",
      "2022-01-28 22:12:32.035167: I tensorflow/core/profiler/rpc/client/capture_profile.cc:251] Creating directory: backup/train/plugins/profile/2022_01_28_22_12_31Dumped tool data for xplane.pb to backup/train/plugins/profile/2022_01_28_22_12_31/ab0180b02496.xplane.pb\n",
      "Dumped tool data for overview_page.pb to backup/train/plugins/profile/2022_01_28_22_12_31/ab0180b02496.overview_page.pb\n",
      "Dumped tool data for input_pipeline.pb to backup/train/plugins/profile/2022_01_28_22_12_31/ab0180b02496.input_pipeline.pb\n",
      "Dumped tool data for tensorflow_stats.pb to backup/train/plugins/profile/2022_01_28_22_12_31/ab0180b02496.tensorflow_stats.pb\n",
      "Dumped tool data for kernel_stats.pb to backup/train/plugins/profile/2022_01_28_22_12_31/ab0180b02496.kernel_stats.pb\n",
      "\n"
     ]
    },
    {
     "name": "stdout",
     "output_type": "stream",
     "text": [
      "  6/100 [>.............................] - ETA: 1:22 - loss: 104716.4453 - bpp: 0.5907 - mse: 409.0463WARNING:tensorflow:Callback method `on_train_batch_end` is slow compared to the batch time (batch time: 0.1095s vs `on_train_batch_end` time: 0.5757s). Check your callbacks.\n",
      "100/100 [==============================] - 34s 149ms/step - loss: 26130.2305 - bpp: 0.5146 - mse: 102.0692\n",
      "[MemoryCallback]:  8459228\n",
      "\n",
      "Epoch 00001: loss improved from inf to 26130.23047, saving model to checkpoints_testME4_no_norm31/\n",
      "Epoch 2/10\n",
      "100/100 [==============================] - 10s 103ms/step - loss: 10653.0117 - bpp: 0.5065 - mse: 41.6113\n",
      "[MemoryCallback]:  8459228\n",
      "\n",
      "Epoch 00002: loss improved from 26130.23047 to 10653.01172, saving model to checkpoints_testME4_no_norm31/\n",
      "Epoch 3/10\n",
      "100/100 [==============================] - 10s 102ms/step - loss: 7722.0820 - bpp: 0.5149 - mse: 30.1624\n",
      "[MemoryCallback]:  8459228\n",
      "\n",
      "Epoch 00003: loss improved from 10653.01172 to 7722.08203, saving model to checkpoints_testME4_no_norm31/\n",
      "Epoch 4/10\n",
      "100/100 [==============================] - 10s 102ms/step - loss: 7031.1206 - bpp: 0.5210 - mse: 27.4633\n",
      "[MemoryCallback]:  8459228\n",
      "\n",
      "Epoch 00004: loss improved from 7722.08203 to 7031.12061, saving model to checkpoints_testME4_no_norm31/\n",
      "Epoch 5/10\n",
      "100/100 [==============================] - 10s 102ms/step - loss: 6480.2969 - bpp: 0.5268 - mse: 25.3116\n",
      "[MemoryCallback]:  8459228\n",
      "\n",
      "Epoch 00005: loss improved from 7031.12061 to 6480.29688, saving model to checkpoints_testME4_no_norm31/\n",
      "Epoch 6/10\n",
      "100/100 [==============================] - 10s 102ms/step - loss: 5185.6323 - bpp: 0.5305 - mse: 20.2543\n",
      "[MemoryCallback]:  8459228\n",
      "\n",
      "Epoch 00006: loss improved from 6480.29688 to 5185.63232, saving model to checkpoints_testME4_no_norm31/\n",
      "Epoch 7/10\n",
      "100/100 [==============================] - 10s 100ms/step - loss: 4970.5630 - bpp: 0.5333 - mse: 19.4142\n",
      "[MemoryCallback]:  8459228\n",
      "\n",
      "Epoch 00007: loss improved from 5185.63232 to 4970.56299, saving model to checkpoints_testME4_no_norm31/\n",
      "Epoch 8/10\n",
      "100/100 [==============================] - 9s 92ms/step - loss: 4690.8042 - bpp: 0.5361 - mse: 18.3214\n",
      "[MemoryCallback]:  8459228\n",
      "\n",
      "Epoch 00008: loss improved from 4970.56299 to 4690.80420, saving model to checkpoints_testME4_no_norm31/\n",
      "Epoch 9/10\n",
      "100/100 [==============================] - 10s 99ms/step - loss: 4637.3999 - bpp: 0.5381 - mse: 18.1127\n",
      "[MemoryCallback]:  8459228\n",
      "\n",
      "Epoch 00009: loss improved from 4690.80420 to 4637.39990, saving model to checkpoints_testME4_no_norm31/\n",
      "Epoch 10/10\n",
      "100/100 [==============================] - 10s 104ms/step - loss: 4220.7100 - bpp: 0.5405 - mse: 16.4850\n",
      "[MemoryCallback]:  8459228\n",
      "\n",
      "Epoch 00010: loss improved from 4637.39990 to 4220.70996, saving model to checkpoints_testME4_no_norm31/\n",
      "/mnt/WindowsDev/DataSets/vimeo_septuplet/sequences/00092/0642/im1.png\n",
      "compress\n",
      "in the compress\n",
      "in decompress\n",
      "* [Model compiled]...\n",
      "* [Loading dataset]...\n",
      "Loading weights\n",
      "Going to fit\n"
     ]
    },
    {
     "name": "stderr",
     "output_type": "stream",
     "text": [
      "2022-01-28 22:14:51.897599: I tensorflow/core/profiler/lib/profiler_session.cc:126] Profiler session initializing.\n",
      "2022-01-28 22:14:51.897663: I tensorflow/core/profiler/lib/profiler_session.cc:141] Profiler session started.\n",
      "2022-01-28 22:14:52.834260: I tensorflow/core/profiler/lib/profiler_session.cc:159] Profiler session tear down.\n",
      "2022-01-28 22:14:52.837503: I tensorflow/core/profiler/internal/gpu/cupti_tracer.cc:1743] CUPTI activity buffer flushed\n"
     ]
    },
    {
     "name": "stdout",
     "output_type": "stream",
     "text": [
      "Epoch 1/10\n",
      "  1/100 [..............................] - ETA: 31:37 - loss: 62423.2617 - bpp: 0.4345 - mse: 243.8392"
     ]
    },
    {
     "name": "stderr",
     "output_type": "stream",
     "text": [
      "2022-01-28 22:15:12.758227: I tensorflow/core/profiler/lib/profiler_session.cc:126] Profiler session initializing.\n",
      "2022-01-28 22:15:12.758290: I tensorflow/core/profiler/lib/profiler_session.cc:141] Profiler session started.\n"
     ]
    },
    {
     "name": "stdout",
     "output_type": "stream",
     "text": [
      "  2/100 [..............................] - ETA: 1:59 - loss: 64912.5703 - bpp: 0.4376 - mse: 253.5630 "
     ]
    },
    {
     "name": "stderr",
     "output_type": "stream",
     "text": [
      "2022-01-28 22:15:14.980081: I tensorflow/core/profiler/lib/profiler_session.cc:66] Profiler session collecting data.\n",
      "2022-01-28 22:15:14.999680: I tensorflow/core/profiler/internal/gpu/cupti_tracer.cc:1743] CUPTI activity buffer flushed\n",
      "2022-01-28 22:15:15.081445: I tensorflow/core/profiler/internal/gpu/cupti_collector.cc:673]  GpuTracer has collected 3372 callback api events and 3336 activity events. \n",
      "2022-01-28 22:15:15.209107: I tensorflow/core/profiler/lib/profiler_session.cc:159] Profiler session tear down.\n",
      "2022-01-28 22:15:15.356906: I tensorflow/core/profiler/rpc/client/save_profile.cc:137] Creating directory: backup/train/plugins/profile/2022_01_28_22_15_15\n",
      "2022-01-28 22:15:15.424147: I tensorflow/core/profiler/rpc/client/save_profile.cc:143] Dumped gzipped tool data for trace.json.gz to backup/train/plugins/profile/2022_01_28_22_15_15/ab0180b02496.trace.json.gz\n",
      "2022-01-28 22:15:15.608624: I tensorflow/core/profiler/rpc/client/save_profile.cc:137] Creating directory: backup/train/plugins/profile/2022_01_28_22_15_15\n",
      "2022-01-28 22:15:15.618953: I tensorflow/core/profiler/rpc/client/save_profile.cc:143] Dumped gzipped tool data for memory_profile.json.gz to backup/train/plugins/profile/2022_01_28_22_15_15/ab0180b02496.memory_profile.json.gz\n"
     ]
    },
    {
     "name": "stdout",
     "output_type": "stream",
     "text": [
      "  3/100 [..............................] - ETA: 2:59 - loss: 62260.4844 - bpp: 0.4370 - mse: 243.2033"
     ]
    },
    {
     "name": "stderr",
     "output_type": "stream",
     "text": [
      "2022-01-28 22:15:15.627940: I tensorflow/core/profiler/rpc/client/capture_profile.cc:251] Creating directory: backup/train/plugins/profile/2022_01_28_22_15_15Dumped tool data for xplane.pb to backup/train/plugins/profile/2022_01_28_22_15_15/ab0180b02496.xplane.pb\n",
      "Dumped tool data for overview_page.pb to backup/train/plugins/profile/2022_01_28_22_15_15/ab0180b02496.overview_page.pb\n",
      "Dumped tool data for input_pipeline.pb to backup/train/plugins/profile/2022_01_28_22_15_15/ab0180b02496.input_pipeline.pb\n",
      "Dumped tool data for tensorflow_stats.pb to backup/train/plugins/profile/2022_01_28_22_15_15/ab0180b02496.tensorflow_stats.pb\n",
      "Dumped tool data for kernel_stats.pb to backup/train/plugins/profile/2022_01_28_22_15_15/ab0180b02496.kernel_stats.pb\n",
      "\n"
     ]
    },
    {
     "name": "stdout",
     "output_type": "stream",
     "text": [
      "  6/100 [>.............................] - ETA: 1:14 - loss: 46578.6055 - bpp: 0.4367 - mse: 181.9460WARNING:tensorflow:Callback method `on_train_batch_end` is slow compared to the batch time (batch time: 0.0960s vs `on_train_batch_end` time: 0.5185s). Check your callbacks.\n",
      "100/100 [==============================] - 33s 142ms/step - loss: 11478.2598 - bpp: 0.4086 - mse: 44.8354\n",
      "[MemoryCallback]:  8459228\n",
      "\n",
      "Epoch 00001: loss improved from inf to 11478.25977, saving model to checkpoints_testME4_no_norm32/\n",
      "Epoch 2/10\n",
      "100/100 [==============================] - 9s 93ms/step - loss: 4320.5972 - bpp: 0.3841 - mse: 16.8758\n",
      "[MemoryCallback]:  8459228\n",
      "\n",
      "Epoch 00002: loss improved from 11478.25977 to 4320.59717, saving model to checkpoints_testME4_no_norm32/\n",
      "Epoch 3/10\n",
      "100/100 [==============================] - 10s 102ms/step - loss: 3912.3135 - bpp: 0.3726 - mse: 15.2810\n",
      "[MemoryCallback]:  8459228\n",
      "\n",
      "Epoch 00003: loss improved from 4320.59717 to 3912.31348, saving model to checkpoints_testME4_no_norm32/\n",
      "Epoch 4/10\n",
      "100/100 [==============================] - 10s 99ms/step - loss: 3498.0254 - bpp: 0.3638 - mse: 13.6627\n",
      "[MemoryCallback]:  8459228\n",
      "\n",
      "Epoch 00004: loss improved from 3912.31348 to 3498.02539, saving model to checkpoints_testME4_no_norm32/\n",
      "Epoch 5/10\n",
      "100/100 [==============================] - 10s 100ms/step - loss: 3883.3235 - bpp: 0.3557 - mse: 15.1678\n",
      "[MemoryCallback]:  8459228\n",
      "\n",
      "Epoch 00005: loss did not improve from 3498.02539\n",
      "Epoch 6/10\n",
      "100/100 [==============================] - 9s 92ms/step - loss: 3577.6348 - bpp: 0.3491 - mse: 13.9738\n",
      "[MemoryCallback]:  8459228\n",
      "\n",
      "Epoch 00006: loss did not improve from 3498.02539\n",
      "Epoch 7/10\n",
      "100/100 [==============================] - 9s 93ms/step - loss: 3396.9788 - bpp: 0.3431 - mse: 13.2681\n",
      "[MemoryCallback]:  8459228\n",
      "\n",
      "Epoch 00007: loss improved from 3498.02539 to 3396.97876, saving model to checkpoints_testME4_no_norm32/\n",
      "Epoch 8/10\n",
      "100/100 [==============================] - 10s 101ms/step - loss: 3657.3071 - bpp: 0.3374 - mse: 14.2850\n",
      "[MemoryCallback]:  8459228\n",
      "\n",
      "Epoch 00008: loss did not improve from 3396.97876\n",
      "Epoch 9/10\n",
      "100/100 [==============================] - 9s 93ms/step - loss: 2740.7368 - bpp: 0.3327 - mse: 10.7047\n",
      "[MemoryCallback]:  8459228\n",
      "\n",
      "Epoch 00009: loss improved from 3396.97876 to 2740.73682, saving model to checkpoints_testME4_no_norm32/\n",
      "Epoch 10/10\n",
      "100/100 [==============================] - 10s 100ms/step - loss: 2879.6482 - bpp: 0.3283 - mse: 11.2473\n",
      "[MemoryCallback]:  8459228\n",
      "\n",
      "Epoch 00010: loss did not improve from 2740.73682\n",
      "/mnt/WindowsDev/DataSets/vimeo_septuplet/sequences/00065/0201/im1.png\n",
      "compress\n",
      "in the compress\n",
      "in decompress\n",
      "* [Model compiled]...\n",
      "* [Loading dataset]...\n",
      "Loading weights\n",
      "Going to fit\n"
     ]
    },
    {
     "name": "stderr",
     "output_type": "stream",
     "text": [
      "2022-01-28 22:17:29.122963: I tensorflow/core/profiler/lib/profiler_session.cc:126] Profiler session initializing.\n",
      "2022-01-28 22:17:29.123015: I tensorflow/core/profiler/lib/profiler_session.cc:141] Profiler session started.\n",
      "2022-01-28 22:17:29.814558: I tensorflow/core/profiler/lib/profiler_session.cc:159] Profiler session tear down.\n",
      "2022-01-28 22:17:29.823008: I tensorflow/core/profiler/internal/gpu/cupti_tracer.cc:1743] CUPTI activity buffer flushed\n"
     ]
    },
    {
     "name": "stdout",
     "output_type": "stream",
     "text": [
      "Epoch 1/10\n",
      "  1/100 [..............................] - ETA: 30:29 - loss: 63504.6719 - bpp: 0.7169 - mse: 248.0623"
     ]
    },
    {
     "name": "stderr",
     "output_type": "stream",
     "text": [
      "2022-01-28 22:17:49.192712: I tensorflow/core/profiler/lib/profiler_session.cc:126] Profiler session initializing.\n",
      "2022-01-28 22:17:49.192775: I tensorflow/core/profiler/lib/profiler_session.cc:141] Profiler session started.\n"
     ]
    },
    {
     "name": "stdout",
     "output_type": "stream",
     "text": [
      "  2/100 [..............................] - ETA: 2:18 - loss: 60459.2344 - bpp: 0.7143 - mse: 236.1661 "
     ]
    },
    {
     "name": "stderr",
     "output_type": "stream",
     "text": [
      "2022-01-28 22:17:51.965644: I tensorflow/core/profiler/lib/profiler_session.cc:66] Profiler session collecting data.\n",
      "2022-01-28 22:17:52.002498: I tensorflow/core/profiler/internal/gpu/cupti_tracer.cc:1743] CUPTI activity buffer flushed\n",
      "2022-01-28 22:17:52.102987: I tensorflow/core/profiler/internal/gpu/cupti_collector.cc:673]  GpuTracer has collected 3372 callback api events and 3336 activity events. \n",
      "2022-01-28 22:17:52.245575: I tensorflow/core/profiler/lib/profiler_session.cc:159] Profiler session tear down.\n",
      "2022-01-28 22:17:52.440506: I tensorflow/core/profiler/rpc/client/save_profile.cc:137] Creating directory: backup/train/plugins/profile/2022_01_28_22_17_52\n",
      "2022-01-28 22:17:52.512284: I tensorflow/core/profiler/rpc/client/save_profile.cc:143] Dumped gzipped tool data for trace.json.gz to backup/train/plugins/profile/2022_01_28_22_17_52/ab0180b02496.trace.json.gz\n",
      "2022-01-28 22:17:52.793644: I tensorflow/core/profiler/rpc/client/save_profile.cc:137] Creating directory: backup/train/plugins/profile/2022_01_28_22_17_52\n",
      "2022-01-28 22:17:52.805695: I tensorflow/core/profiler/rpc/client/save_profile.cc:143] Dumped gzipped tool data for memory_profile.json.gz to backup/train/plugins/profile/2022_01_28_22_17_52/ab0180b02496.memory_profile.json.gz\n",
      "2022-01-28 22:17:52.819947: I tensorflow/core/profiler/rpc/client/capture_profile.cc:251] Creating directory: backup/train/plugins/profile/2022_01_28_22_17_52Dumped tool data for xplane.pb to backup/train/plugins/profile/2022_01_28_22_17_52/ab0180b02496.xplane.pb\n",
      "Dumped tool data for overview_page.pb to backup/train/plugins/profile/2022_01_28_22_17_52/ab0180b02496.overview_page.pb\n",
      "Dumped tool data for input_pipeline.pb to backup/train/plugins/profile/2022_01_28_22_17_52/ab0180b02496.input_pipeline.pb\n",
      "Dumped tool data for tensorflow_stats.pb to backup/train/plugins/profile/2022_01_28_22_17_52/ab0180b02496.tensorflow_stats.pb\n",
      "Dumped tool data for kernel_stats.pb to backup/train/plugins/profile/2022_01_28_22_17_52/ab0180b02496.kernel_stats.pb\n",
      "\n"
     ]
    },
    {
     "name": "stdout",
     "output_type": "stream",
     "text": [
      "  6/100 [>.............................] - ETA: 1:32 - loss: 46853.1094 - bpp: 0.7082 - mse: 183.0172WARNING:tensorflow:Callback method `on_train_batch_end` is slow compared to the batch time (batch time: 0.1088s vs `on_train_batch_end` time: 0.6542s). Check your callbacks.\n",
      "100/100 [==============================] - 34s 152ms/step - loss: 12908.7471 - bpp: 0.6186 - mse: 50.4224\n",
      "[MemoryCallback]:  8459228\n",
      "\n",
      "Epoch 00001: loss improved from inf to 12908.74707, saving model to checkpoints_testME4_no_norm33/\n",
      "Epoch 2/10\n",
      "100/100 [==============================] - 11s 106ms/step - loss: 5635.8257 - bpp: 0.5863 - mse: 22.0127\n",
      "[MemoryCallback]:  8459228\n",
      "\n",
      "Epoch 00002: loss improved from 12908.74707 to 5635.82568, saving model to checkpoints_testME4_no_norm33/\n",
      "Epoch 3/10\n",
      "100/100 [==============================] - 10s 103ms/step - loss: 4443.8408 - bpp: 0.5812 - mse: 17.3565\n",
      "[MemoryCallback]:  8459228\n",
      "\n",
      "Epoch 00003: loss improved from 5635.82568 to 4443.84082, saving model to checkpoints_testME4_no_norm33/\n",
      "Epoch 4/10\n",
      "100/100 [==============================] - 10s 101ms/step - loss: 3776.8887 - bpp: 0.5788 - mse: 14.7512\n",
      "[MemoryCallback]:  8459228\n",
      "\n",
      "Epoch 00004: loss improved from 4443.84082 to 3776.88867, saving model to checkpoints_testME4_no_norm33/\n",
      "Epoch 5/10\n",
      "100/100 [==============================] - 10s 102ms/step - loss: 3326.5879 - bpp: 0.5778 - mse: 12.9922\n",
      "[MemoryCallback]:  8459228\n",
      "\n",
      "Epoch 00005: loss improved from 3776.88867 to 3326.58789, saving model to checkpoints_testME4_no_norm33/\n",
      "Epoch 6/10\n",
      "100/100 [==============================] - 10s 102ms/step - loss: 2971.1841 - bpp: 0.5755 - mse: 11.6039\n",
      "[MemoryCallback]:  8459228\n",
      "\n",
      "Epoch 00006: loss improved from 3326.58789 to 2971.18408, saving model to checkpoints_testME4_no_norm33/\n",
      "Epoch 7/10\n",
      "100/100 [==============================] - 10s 100ms/step - loss: 2753.5796 - bpp: 0.5743 - mse: 10.7539\n",
      "[MemoryCallback]:  8459228\n",
      "\n",
      "Epoch 00007: loss improved from 2971.18408 to 2753.57959, saving model to checkpoints_testME4_no_norm33/\n",
      "Epoch 8/10\n",
      "100/100 [==============================] - 10s 104ms/step - loss: 2525.5500 - bpp: 0.5737 - mse: 9.8632\n",
      "[MemoryCallback]:  8459228\n",
      "\n",
      "Epoch 00008: loss improved from 2753.57959 to 2525.55005, saving model to checkpoints_testME4_no_norm33/\n",
      "Epoch 9/10\n",
      "100/100 [==============================] - 10s 103ms/step - loss: 2408.5298 - bpp: 0.5732 - mse: 9.4061\n",
      "[MemoryCallback]:  8459228\n",
      "\n",
      "Epoch 00009: loss improved from 2525.55005 to 2408.52979, saving model to checkpoints_testME4_no_norm33/\n",
      "Epoch 10/10\n",
      "100/100 [==============================] - 10s 103ms/step - loss: 2226.0842 - bpp: 0.5731 - mse: 8.6934\n",
      "[MemoryCallback]:  8459228\n",
      "\n",
      "Epoch 00010: loss improved from 2408.52979 to 2226.08423, saving model to checkpoints_testME4_no_norm33/\n",
      "/mnt/WindowsDev/DataSets/vimeo_septuplet/sequences/00084/0066/im1.png\n",
      "compress\n",
      "in the compress\n",
      "in decompress\n",
      "* [Model compiled]...\n",
      "* [Loading dataset]...\n",
      "Loading weights\n",
      "Going to fit\n"
     ]
    },
    {
     "name": "stderr",
     "output_type": "stream",
     "text": [
      "2022-01-28 22:20:01.526983: I tensorflow/core/profiler/lib/profiler_session.cc:126] Profiler session initializing.\n",
      "2022-01-28 22:20:01.527053: I tensorflow/core/profiler/lib/profiler_session.cc:141] Profiler session started.\n",
      "2022-01-28 22:20:02.525613: I tensorflow/core/profiler/lib/profiler_session.cc:159] Profiler session tear down.\n",
      "2022-01-28 22:20:02.528955: I tensorflow/core/profiler/internal/gpu/cupti_tracer.cc:1743] CUPTI activity buffer flushed\n"
     ]
    },
    {
     "name": "stdout",
     "output_type": "stream",
     "text": [
      "Epoch 1/10\n",
      "  1/100 [..............................] - ETA: 30:15 - loss: 89093.8516 - bpp: 0.6115 - mse: 348.0205"
     ]
    },
    {
     "name": "stderr",
     "output_type": "stream",
     "text": [
      "2022-01-28 22:20:27.284530: I tensorflow/core/profiler/lib/profiler_session.cc:126] Profiler session initializing.\n",
      "2022-01-28 22:20:27.284583: I tensorflow/core/profiler/lib/profiler_session.cc:141] Profiler session started.\n"
     ]
    },
    {
     "name": "stdout",
     "output_type": "stream",
     "text": [
      "  2/100 [..............................] - ETA: 11:42 - loss: 90386.7344 - bpp: 0.6099 - mse: 353.0708"
     ]
    },
    {
     "name": "stderr",
     "output_type": "stream",
     "text": [
      "2022-01-28 22:20:30.776100: I tensorflow/core/profiler/lib/profiler_session.cc:66] Profiler session collecting data.\n",
      "2022-01-28 22:20:30.831137: I tensorflow/core/profiler/internal/gpu/cupti_tracer.cc:1743] CUPTI activity buffer flushed\n",
      "2022-01-28 22:20:31.102594: I tensorflow/core/profiler/internal/gpu/cupti_collector.cc:673]  GpuTracer has collected 3372 callback api events and 3336 activity events. \n",
      "2022-01-28 22:20:31.262926: I tensorflow/core/profiler/lib/profiler_session.cc:159] Profiler session tear down.\n",
      "2022-01-28 22:20:31.482918: I tensorflow/core/profiler/rpc/client/save_profile.cc:137] Creating directory: backup/train/plugins/profile/2022_01_28_22_20_31\n",
      "2022-01-28 22:20:31.553535: I tensorflow/core/profiler/rpc/client/save_profile.cc:143] Dumped gzipped tool data for trace.json.gz to backup/train/plugins/profile/2022_01_28_22_20_31/ab0180b02496.trace.json.gz\n",
      "2022-01-28 22:20:31.888892: I tensorflow/core/profiler/rpc/client/save_profile.cc:137] Creating directory: backup/train/plugins/profile/2022_01_28_22_20_31\n",
      "2022-01-28 22:20:31.907012: I tensorflow/core/profiler/rpc/client/save_profile.cc:143] Dumped gzipped tool data for memory_profile.json.gz to backup/train/plugins/profile/2022_01_28_22_20_31/ab0180b02496.memory_profile.json.gz\n",
      "2022-01-28 22:20:31.930867: I tensorflow/core/profiler/rpc/client/capture_profile.cc:251] Creating directory: backup/train/plugins/profile/2022_01_28_22_20_31Dumped tool data for xplane.pb to backup/train/plugins/profile/2022_01_28_22_20_31/ab0180b02496.xplane.pb\n",
      "Dumped tool data for overview_page.pb to backup/train/plugins/profile/2022_01_28_22_20_31/ab0180b02496.overview_page.pb\n",
      "Dumped tool data for input_pipeline.pb to backup/train/plugins/profile/2022_01_28_22_20_31/ab0180b02496.input_pipeline.pb\n",
      "Dumped tool data for tensorflow_stats.pb to backup/train/plugins/profile/2022_01_28_22_20_31/ab0180b02496.tensorflow_stats.pb\n",
      "Dumped tool data for kernel_stats.pb to backup/train/plugins/profile/2022_01_28_22_20_31/ab0180b02496.kernel_stats.pb\n",
      "\n"
     ]
    },
    {
     "name": "stdout",
     "output_type": "stream",
     "text": [
      "  6/100 [>.............................] - ETA: 3:38 - loss: 86635.9609 - bpp: 0.6078 - mse: 338.4193WARNING:tensorflow:Callback method `on_train_batch_end` is slow compared to the batch time (batch time: 0.1188s vs `on_train_batch_end` time: 1.7223s). Check your callbacks.\n",
      "100/100 [==============================] - 40s 222ms/step - loss: 43372.3203 - bpp: 0.5596 - mse: 169.4210\n",
      "[MemoryCallback]:  8459228\n",
      "\n",
      "Epoch 00001: loss improved from inf to 43372.32031, saving model to checkpoints_testME4_no_norm34/\n",
      "Epoch 2/10\n",
      "100/100 [==============================] - 11s 106ms/step - loss: 22207.3672 - bpp: 0.5844 - mse: 86.7452\n",
      "[MemoryCallback]:  8459228\n",
      "\n",
      "Epoch 00002: loss improved from 43372.32031 to 22207.36719, saving model to checkpoints_testME4_no_norm34/\n",
      "Epoch 3/10\n",
      "100/100 [==============================] - 10s 103ms/step - loss: 16581.0566 - bpp: 0.5986 - mse: 64.7674\n",
      "[MemoryCallback]:  8459228\n",
      "\n",
      "Epoch 00003: loss improved from 22207.36719 to 16581.05664, saving model to checkpoints_testME4_no_norm34/\n",
      "Epoch 4/10\n",
      "100/100 [==============================] - 9s 93ms/step - loss: 13039.7402 - bpp: 0.6038 - mse: 50.9341\n",
      "[MemoryCallback]:  8459228\n",
      "\n",
      "Epoch 00004: loss improved from 16581.05664 to 13039.74023, saving model to checkpoints_testME4_no_norm34/\n",
      "Epoch 5/10\n",
      "100/100 [==============================] - 10s 101ms/step - loss: 10962.0488 - bpp: 0.6087 - mse: 42.8181\n",
      "[MemoryCallback]:  8459228\n",
      "\n",
      "Epoch 00005: loss improved from 13039.74023 to 10962.04883, saving model to checkpoints_testME4_no_norm34/\n",
      "Epoch 6/10\n",
      "100/100 [==============================] - 10s 103ms/step - loss: 10409.2520 - bpp: 0.6117 - mse: 40.6587\n",
      "[MemoryCallback]:  8459228\n",
      "\n",
      "Epoch 00006: loss improved from 10962.04883 to 10409.25195, saving model to checkpoints_testME4_no_norm34/\n",
      "Epoch 7/10\n",
      "100/100 [==============================] - 9s 93ms/step - loss: 9300.0078 - bpp: 0.6142 - mse: 36.3257\n",
      "[MemoryCallback]:  8459228\n",
      "\n",
      "Epoch 00007: loss improved from 10409.25195 to 9300.00781, saving model to checkpoints_testME4_no_norm34/\n",
      "Epoch 8/10\n",
      "100/100 [==============================] - 11s 105ms/step - loss: 8462.6133 - bpp: 0.6169 - mse: 33.0547\n",
      "[MemoryCallback]:  8459228\n",
      "\n",
      "Epoch 00008: loss improved from 9300.00781 to 8462.61328, saving model to checkpoints_testME4_no_norm34/\n",
      "Epoch 9/10\n",
      "100/100 [==============================] - 10s 104ms/step - loss: 7653.6963 - bpp: 0.6195 - mse: 29.8948\n",
      "[MemoryCallback]:  8459228\n",
      "\n",
      "Epoch 00009: loss improved from 8462.61328 to 7653.69629, saving model to checkpoints_testME4_no_norm34/\n",
      "Epoch 10/10\n",
      "100/100 [==============================] - 10s 100ms/step - loss: 8800.8809 - bpp: 0.6210 - mse: 34.3760\n",
      "[MemoryCallback]:  8459228\n",
      "\n",
      "Epoch 00010: loss did not improve from 7653.69629\n",
      "/mnt/WindowsDev/DataSets/vimeo_septuplet/sequences/00057/0260/im1.png\n",
      "compress\n",
      "in the compress\n",
      "in decompress\n",
      "* [Model compiled]...\n",
      "* [Loading dataset]...\n",
      "Loading weights\n",
      "Going to fit\n"
     ]
    },
    {
     "name": "stderr",
     "output_type": "stream",
     "text": [
      "2022-01-28 22:23:10.434189: I tensorflow/core/profiler/lib/profiler_session.cc:126] Profiler session initializing.\n",
      "2022-01-28 22:23:10.434252: I tensorflow/core/profiler/lib/profiler_session.cc:141] Profiler session started.\n",
      "2022-01-28 22:23:11.503635: I tensorflow/core/profiler/lib/profiler_session.cc:159] Profiler session tear down.\n",
      "2022-01-28 22:23:11.513669: I tensorflow/core/profiler/internal/gpu/cupti_tracer.cc:1743] CUPTI activity buffer flushed\n"
     ]
    },
    {
     "name": "stdout",
     "output_type": "stream",
     "text": [
      "Epoch 1/10\n",
      "  1/100 [..............................] - ETA: 33:08 - loss: 69940.1719 - bpp: 0.5695 - mse: 273.2016"
     ]
    },
    {
     "name": "stderr",
     "output_type": "stream",
     "text": [
      "2022-01-28 22:23:32.560813: I tensorflow/core/profiler/lib/profiler_session.cc:126] Profiler session initializing.\n",
      "2022-01-28 22:23:32.560870: I tensorflow/core/profiler/lib/profiler_session.cc:141] Profiler session started.\n"
     ]
    },
    {
     "name": "stdout",
     "output_type": "stream",
     "text": [
      "  2/100 [..............................] - ETA: 2:27 - loss: 64818.1719 - bpp: 0.5700 - mse: 253.1938 "
     ]
    },
    {
     "name": "stderr",
     "output_type": "stream",
     "text": [
      "2022-01-28 22:23:35.451339: I tensorflow/core/profiler/lib/profiler_session.cc:66] Profiler session collecting data.\n",
      "2022-01-28 22:23:35.487804: I tensorflow/core/profiler/internal/gpu/cupti_tracer.cc:1743] CUPTI activity buffer flushed\n",
      "2022-01-28 22:23:35.613080: I tensorflow/core/profiler/internal/gpu/cupti_collector.cc:673]  GpuTracer has collected 3372 callback api events and 3336 activity events. \n",
      "2022-01-28 22:23:35.756853: I tensorflow/core/profiler/lib/profiler_session.cc:159] Profiler session tear down.\n",
      "2022-01-28 22:23:35.943552: I tensorflow/core/profiler/rpc/client/save_profile.cc:137] Creating directory: backup/train/plugins/profile/2022_01_28_22_23_35\n",
      "2022-01-28 22:23:36.013985: I tensorflow/core/profiler/rpc/client/save_profile.cc:143] Dumped gzipped tool data for trace.json.gz to backup/train/plugins/profile/2022_01_28_22_23_35/ab0180b02496.trace.json.gz\n",
      "2022-01-28 22:23:36.286135: I tensorflow/core/profiler/rpc/client/save_profile.cc:137] Creating directory: backup/train/plugins/profile/2022_01_28_22_23_35\n",
      "2022-01-28 22:23:36.297771: I tensorflow/core/profiler/rpc/client/save_profile.cc:143] Dumped gzipped tool data for memory_profile.json.gz to backup/train/plugins/profile/2022_01_28_22_23_35/ab0180b02496.memory_profile.json.gz\n",
      "2022-01-28 22:23:36.310806: I tensorflow/core/profiler/rpc/client/capture_profile.cc:251] Creating directory: backup/train/plugins/profile/2022_01_28_22_23_35Dumped tool data for xplane.pb to backup/train/plugins/profile/2022_01_28_22_23_35/ab0180b02496.xplane.pb\n",
      "Dumped tool data for overview_page.pb to backup/train/plugins/profile/2022_01_28_22_23_35/ab0180b02496.overview_page.pb\n",
      "Dumped tool data for input_pipeline.pb to backup/train/plugins/profile/2022_01_28_22_23_35/ab0180b02496.input_pipeline.pb\n",
      "Dumped tool data for tensorflow_stats.pb to backup/train/plugins/profile/2022_01_28_22_23_35/ab0180b02496.tensorflow_stats.pb\n",
      "Dumped tool data for kernel_stats.pb to backup/train/plugins/profile/2022_01_28_22_23_35/ab0180b02496.kernel_stats.pb\n",
      "\n"
     ]
    },
    {
     "name": "stdout",
     "output_type": "stream",
     "text": [
      "  6/100 [>.............................] - ETA: 1:35 - loss: 48939.7852 - bpp: 0.5678 - mse: 191.1688WARNING:tensorflow:Callback method `on_train_batch_end` is slow compared to the batch time (batch time: 0.1077s vs `on_train_batch_end` time: 0.6741s). Check your callbacks.\n",
      "100/100 [==============================] - 36s 157ms/step - loss: 12157.6377 - bpp: 0.5304 - mse: 47.4887\n",
      "[MemoryCallback]:  8459228\n",
      "\n",
      "Epoch 00001: loss improved from inf to 12157.63770, saving model to checkpoints_testME4_no_norm35/\n",
      "Epoch 2/10\n",
      "100/100 [==============================] - 10s 105ms/step - loss: 4921.3232 - bpp: 0.5156 - mse: 19.2219\n",
      "[MemoryCallback]:  8459228\n",
      "\n",
      "Epoch 00002: loss improved from 12157.63770 to 4921.32324, saving model to checkpoints_testME4_no_norm35/\n",
      "Epoch 3/10\n",
      "100/100 [==============================] - 9s 94ms/step - loss: 4308.9458 - bpp: 0.5150 - mse: 16.8298\n",
      "[MemoryCallback]:  8459228\n",
      "\n",
      "Epoch 00003: loss improved from 4921.32324 to 4308.94580, saving model to checkpoints_testME4_no_norm35/\n",
      "Epoch 4/10\n",
      "100/100 [==============================] - 10s 105ms/step - loss: 3806.2112 - bpp: 0.5155 - mse: 14.8660\n",
      "[MemoryCallback]:  8459228\n",
      "\n",
      "Epoch 00004: loss improved from 4308.94580 to 3806.21118, saving model to checkpoints_testME4_no_norm35/\n",
      "Epoch 5/10\n",
      "100/100 [==============================] - 10s 102ms/step - loss: 4355.2173 - bpp: 0.5170 - mse: 17.0105\n",
      "[MemoryCallback]:  8459228\n",
      "\n",
      "Epoch 00005: loss did not improve from 3806.21118\n",
      "Epoch 6/10\n",
      "100/100 [==============================] - 9s 94ms/step - loss: 3197.4641 - bpp: 0.5183 - mse: 12.4881\n",
      "[MemoryCallback]:  8459228\n",
      "\n",
      "Epoch 00006: loss improved from 3806.21118 to 3197.46411, saving model to checkpoints_testME4_no_norm35/\n",
      "Epoch 7/10\n",
      "100/100 [==============================] - 10s 105ms/step - loss: 3323.9153 - bpp: 0.5191 - mse: 12.9820\n",
      "[MemoryCallback]:  8459228\n",
      "\n",
      "Epoch 00007: loss did not improve from 3197.46411\n",
      "Epoch 8/10\n",
      "100/100 [==============================] - 9s 94ms/step - loss: 2960.9651 - bpp: 0.5204 - mse: 11.5642\n",
      "[MemoryCallback]:  8459228\n",
      "\n",
      "Epoch 00008: loss improved from 3197.46411 to 2960.96509, saving model to checkpoints_testME4_no_norm35/\n",
      "Epoch 9/10\n",
      "100/100 [==============================] - 10s 100ms/step - loss: 2925.1130 - bpp: 0.5223 - mse: 11.4242\n",
      "[MemoryCallback]:  8459228\n",
      "\n",
      "Epoch 00009: loss improved from 2960.96509 to 2925.11304, saving model to checkpoints_testME4_no_norm35/\n",
      "Epoch 10/10\n",
      "100/100 [==============================] - 9s 92ms/step - loss: 2877.6494 - bpp: 0.5240 - mse: 11.2388\n",
      "[MemoryCallback]:  8459228\n",
      "\n",
      "Epoch 00010: loss improved from 2925.11304 to 2877.64941, saving model to checkpoints_testME4_no_norm35/\n",
      "/mnt/WindowsDev/DataSets/vimeo_septuplet/sequences/00075/0679/im1.png\n",
      "compress\n",
      "in the compress\n",
      "in decompress\n",
      "* [Model compiled]...\n",
      "* [Loading dataset]...\n",
      "Loading weights\n",
      "Going to fit\n"
     ]
    },
    {
     "name": "stderr",
     "output_type": "stream",
     "text": [
      "2022-01-28 22:26:01.750561: I tensorflow/core/profiler/lib/profiler_session.cc:126] Profiler session initializing.\n",
      "2022-01-28 22:26:01.750612: I tensorflow/core/profiler/lib/profiler_session.cc:141] Profiler session started.\n",
      "2022-01-28 22:26:02.750850: I tensorflow/core/profiler/lib/profiler_session.cc:159] Profiler session tear down.\n",
      "2022-01-28 22:26:02.753595: I tensorflow/core/profiler/internal/gpu/cupti_tracer.cc:1743] CUPTI activity buffer flushed\n"
     ]
    },
    {
     "name": "stdout",
     "output_type": "stream",
     "text": [
      "Epoch 1/10\n",
      "  1/100 [..............................] - ETA: 31:13 - loss: 32778.5664 - bpp: 0.6239 - mse: 128.0388"
     ]
    },
    {
     "name": "stderr",
     "output_type": "stream",
     "text": [
      "2022-01-28 22:26:22.463950: I tensorflow/core/profiler/lib/profiler_session.cc:126] Profiler session initializing.\n",
      "2022-01-28 22:26:22.464009: I tensorflow/core/profiler/lib/profiler_session.cc:141] Profiler session started.\n"
     ]
    },
    {
     "name": "stdout",
     "output_type": "stream",
     "text": [
      "  2/100 [..............................] - ETA: 2:18 - loss: 31622.3555 - bpp: 0.6236 - mse: 123.5224 "
     ]
    },
    {
     "name": "stderr",
     "output_type": "stream",
     "text": [
      "2022-01-28 22:26:24.728987: I tensorflow/core/profiler/lib/profiler_session.cc:66] Profiler session collecting data.\n",
      "2022-01-28 22:26:24.748739: I tensorflow/core/profiler/internal/gpu/cupti_tracer.cc:1743] CUPTI activity buffer flushed\n",
      "2022-01-28 22:26:24.829470: I tensorflow/core/profiler/internal/gpu/cupti_collector.cc:673]  GpuTracer has collected 3372 callback api events and 3336 activity events. \n",
      "2022-01-28 22:26:24.934777: I tensorflow/core/profiler/lib/profiler_session.cc:159] Profiler session tear down.\n",
      "2022-01-28 22:26:25.061005: I tensorflow/core/profiler/rpc/client/save_profile.cc:137] Creating directory: backup/train/plugins/profile/2022_01_28_22_26_24\n",
      "2022-01-28 22:26:25.126208: I tensorflow/core/profiler/rpc/client/save_profile.cc:143] Dumped gzipped tool data for trace.json.gz to backup/train/plugins/profile/2022_01_28_22_26_24/ab0180b02496.trace.json.gz\n"
     ]
    },
    {
     "name": "stdout",
     "output_type": "stream",
     "text": [
      "  3/100 [..............................] - ETA: 3:00 - loss: 29369.4141 - bpp: 0.6265 - mse: 114.7218"
     ]
    },
    {
     "name": "stderr",
     "output_type": "stream",
     "text": [
      "2022-01-28 22:26:25.299356: I tensorflow/core/profiler/rpc/client/save_profile.cc:137] Creating directory: backup/train/plugins/profile/2022_01_28_22_26_24\n",
      "2022-01-28 22:26:25.308597: I tensorflow/core/profiler/rpc/client/save_profile.cc:143] Dumped gzipped tool data for memory_profile.json.gz to backup/train/plugins/profile/2022_01_28_22_26_24/ab0180b02496.memory_profile.json.gz\n",
      "2022-01-28 22:26:25.316342: I tensorflow/core/profiler/rpc/client/capture_profile.cc:251] Creating directory: backup/train/plugins/profile/2022_01_28_22_26_24Dumped tool data for xplane.pb to backup/train/plugins/profile/2022_01_28_22_26_24/ab0180b02496.xplane.pb\n",
      "Dumped tool data for overview_page.pb to backup/train/plugins/profile/2022_01_28_22_26_24/ab0180b02496.overview_page.pb\n",
      "Dumped tool data for input_pipeline.pb to backup/train/plugins/profile/2022_01_28_22_26_24/ab0180b02496.input_pipeline.pb\n",
      "Dumped tool data for tensorflow_stats.pb to backup/train/plugins/profile/2022_01_28_22_26_24/ab0180b02496.tensorflow_stats.pb\n",
      "Dumped tool data for kernel_stats.pb to backup/train/plugins/profile/2022_01_28_22_26_24/ab0180b02496.kernel_stats.pb\n",
      "\n"
     ]
    },
    {
     "name": "stdout",
     "output_type": "stream",
     "text": [
      "  6/100 [>.............................] - ETA: 1:15 - loss: 26529.2188 - bpp: 0.6249 - mse: 103.6273WARNING:tensorflow:Callback method `on_train_batch_end` is slow compared to the batch time (batch time: 0.1031s vs `on_train_batch_end` time: 0.4957s). Check your callbacks.\n",
      "100/100 [==============================] - 33s 147ms/step - loss: 11714.9902 - bpp: 0.5782 - mse: 45.7594\n",
      "[MemoryCallback]:  8508740\n",
      "\n",
      "Epoch 00001: loss improved from inf to 11714.99023, saving model to checkpoints_testME4_no_norm36/\n",
      "Epoch 2/10\n",
      "100/100 [==============================] - 10s 95ms/step - loss: 5839.0273 - bpp: 0.5658 - mse: 22.8065\n",
      "[MemoryCallback]:  8508740\n",
      "\n",
      "Epoch 00002: loss improved from 11714.99023 to 5839.02734, saving model to checkpoints_testME4_no_norm36/\n",
      "Epoch 3/10\n",
      "100/100 [==============================] - 10s 105ms/step - loss: 4394.4683 - bpp: 0.5678 - mse: 17.1637\n",
      "[MemoryCallback]:  8508740\n",
      "\n",
      "Epoch 00003: loss improved from 5839.02734 to 4394.46826, saving model to checkpoints_testME4_no_norm36/\n",
      "Epoch 4/10\n",
      "100/100 [==============================] - 10s 103ms/step - loss: 3654.7166 - bpp: 0.5700 - mse: 14.2740\n",
      "[MemoryCallback]:  8508740\n",
      "\n",
      "Epoch 00004: loss improved from 4394.46826 to 3654.71655, saving model to checkpoints_testME4_no_norm36/\n",
      "Epoch 5/10\n",
      "100/100 [==============================] - 10s 104ms/step - loss: 3263.6741 - bpp: 0.5725 - mse: 12.7465\n",
      "[MemoryCallback]:  8508740\n",
      "\n",
      "Epoch 00005: loss improved from 3654.71655 to 3263.67407, saving model to checkpoints_testME4_no_norm36/\n",
      "Epoch 6/10\n",
      "100/100 [==============================] - 10s 100ms/step - loss: 2928.2480 - bpp: 0.5744 - mse: 11.4362\n",
      "[MemoryCallback]:  8508740\n",
      "\n",
      "Epoch 00006: loss improved from 3263.67407 to 2928.24805, saving model to checkpoints_testME4_no_norm36/\n",
      "Epoch 7/10\n",
      "100/100 [==============================] - 10s 100ms/step - loss: 2655.4106 - bpp: 0.5763 - mse: 10.3704\n",
      "[MemoryCallback]:  8508740\n",
      "\n",
      "Epoch 00007: loss improved from 2928.24805 to 2655.41064, saving model to checkpoints_testME4_no_norm36/\n",
      "Epoch 8/10\n",
      "100/100 [==============================] - 10s 102ms/step - loss: 2464.2661 - bpp: 0.5781 - mse: 9.6238\n",
      "[MemoryCallback]:  8508740\n",
      "\n",
      "Epoch 00008: loss improved from 2655.41064 to 2464.26611, saving model to checkpoints_testME4_no_norm36/\n",
      "Epoch 9/10\n",
      "100/100 [==============================] - 10s 100ms/step - loss: 2326.4255 - bpp: 0.5803 - mse: 9.0853\n",
      "[MemoryCallback]:  8508740\n",
      "\n",
      "Epoch 00009: loss improved from 2464.26611 to 2326.42554, saving model to checkpoints_testME4_no_norm36/\n",
      "Epoch 10/10\n",
      "100/100 [==============================] - 10s 102ms/step - loss: 2180.8677 - bpp: 0.5820 - mse: 8.5167\n",
      "[MemoryCallback]:  8508740\n",
      "\n",
      "Epoch 00010: loss improved from 2326.42554 to 2180.86768, saving model to checkpoints_testME4_no_norm36/\n",
      "/mnt/WindowsDev/DataSets/vimeo_septuplet/sequences/00025/0199/im1.png\n",
      "compress\n",
      "in the compress\n",
      "in decompress\n",
      "* [Model compiled]...\n",
      "* [Loading dataset]...\n",
      "Loading weights\n",
      "Going to fit\n"
     ]
    },
    {
     "name": "stderr",
     "output_type": "stream",
     "text": [
      "2022-01-28 22:28:43.777239: I tensorflow/core/profiler/lib/profiler_session.cc:126] Profiler session initializing.\n",
      "2022-01-28 22:28:43.777305: I tensorflow/core/profiler/lib/profiler_session.cc:141] Profiler session started.\n",
      "2022-01-28 22:28:44.915880: I tensorflow/core/profiler/lib/profiler_session.cc:159] Profiler session tear down.\n",
      "2022-01-28 22:28:44.933748: I tensorflow/core/profiler/internal/gpu/cupti_tracer.cc:1743] CUPTI activity buffer flushed\n"
     ]
    },
    {
     "name": "stdout",
     "output_type": "stream",
     "text": [
      "Epoch 1/10\n",
      "  1/100 [..............................] - ETA: 33:17 - loss: 10750.7227 - bpp: 0.5768 - mse: 41.9928"
     ]
    },
    {
     "name": "stderr",
     "output_type": "stream",
     "text": [
      "2022-01-28 22:29:06.320542: I tensorflow/core/profiler/lib/profiler_session.cc:126] Profiler session initializing.\n",
      "2022-01-28 22:29:06.320599: I tensorflow/core/profiler/lib/profiler_session.cc:141] Profiler session started.\n"
     ]
    },
    {
     "name": "stdout",
     "output_type": "stream",
     "text": [
      "  2/100 [..............................] - ETA: 2:43 - loss: 9928.0293 - bpp: 0.5775 - mse: 38.7791  "
     ]
    },
    {
     "name": "stderr",
     "output_type": "stream",
     "text": [
      "2022-01-28 22:29:09.254952: I tensorflow/core/profiler/lib/profiler_session.cc:66] Profiler session collecting data.\n",
      "2022-01-28 22:29:09.296145: I tensorflow/core/profiler/internal/gpu/cupti_tracer.cc:1743] CUPTI activity buffer flushed\n",
      "2022-01-28 22:29:09.436204: I tensorflow/core/profiler/internal/gpu/cupti_collector.cc:673]  GpuTracer has collected 3372 callback api events and 3336 activity events. \n",
      "2022-01-28 22:29:09.594158: I tensorflow/core/profiler/lib/profiler_session.cc:159] Profiler session tear down.\n",
      "2022-01-28 22:29:09.795204: I tensorflow/core/profiler/rpc/client/save_profile.cc:137] Creating directory: backup/train/plugins/profile/2022_01_28_22_29_09\n",
      "2022-01-28 22:29:09.870359: I tensorflow/core/profiler/rpc/client/save_profile.cc:143] Dumped gzipped tool data for trace.json.gz to backup/train/plugins/profile/2022_01_28_22_29_09/ab0180b02496.trace.json.gz\n",
      "2022-01-28 22:29:10.159539: I tensorflow/core/profiler/rpc/client/save_profile.cc:137] Creating directory: backup/train/plugins/profile/2022_01_28_22_29_09\n",
      "2022-01-28 22:29:10.171463: I tensorflow/core/profiler/rpc/client/save_profile.cc:143] Dumped gzipped tool data for memory_profile.json.gz to backup/train/plugins/profile/2022_01_28_22_29_09/ab0180b02496.memory_profile.json.gz\n",
      "2022-01-28 22:29:10.188353: I tensorflow/core/profiler/rpc/client/capture_profile.cc:251] Creating directory: backup/train/plugins/profile/2022_01_28_22_29_09Dumped tool data for xplane.pb to backup/train/plugins/profile/2022_01_28_22_29_09/ab0180b02496.xplane.pb\n",
      "Dumped tool data for overview_page.pb to backup/train/plugins/profile/2022_01_28_22_29_09/ab0180b02496.overview_page.pb\n",
      "Dumped tool data for input_pipeline.pb to backup/train/plugins/profile/2022_01_28_22_29_09/ab0180b02496.input_pipeline.pb\n",
      "Dumped tool data for tensorflow_stats.pb to backup/train/plugins/profile/2022_01_28_22_29_09/ab0180b02496.tensorflow_stats.pb\n",
      "Dumped tool data for kernel_stats.pb to backup/train/plugins/profile/2022_01_28_22_29_09/ab0180b02496.kernel_stats.pb\n",
      "\n"
     ]
    },
    {
     "name": "stdout",
     "output_type": "stream",
     "text": [
      "  6/100 [>.............................] - ETA: 1:43 - loss: 8295.8242 - bpp: 0.5717 - mse: 32.4033WARNING:tensorflow:Callback method `on_train_batch_end` is slow compared to the batch time (batch time: 0.1182s vs `on_train_batch_end` time: 0.7406s). Check your callbacks.\n",
      "100/100 [==============================] - 36s 162ms/step - loss: 2847.3545 - bpp: 0.5388 - mse: 11.1204\n",
      "[MemoryCallback]:  8508740\n",
      "\n",
      "Epoch 00001: loss improved from inf to 2847.35449, saving model to checkpoints_testME4_no_norm37/\n",
      "Epoch 2/10\n",
      "100/100 [==============================] - 11s 105ms/step - loss: 1470.7412 - bpp: 0.5220 - mse: 5.7430\n",
      "[MemoryCallback]:  8508740\n",
      "\n",
      "Epoch 00002: loss improved from 2847.35449 to 1470.74121, saving model to checkpoints_testME4_no_norm37/\n",
      "Epoch 3/10\n",
      "100/100 [==============================] - 10s 99ms/step - loss: 1254.4878 - bpp: 0.5178 - mse: 4.8983\n",
      "[MemoryCallback]:  8508740\n",
      "\n",
      "Epoch 00003: loss improved from 1470.74121 to 1254.48779, saving model to checkpoints_testME4_no_norm37/\n",
      "Epoch 4/10\n",
      "100/100 [==============================] - 10s 100ms/step - loss: 1134.6210 - bpp: 0.5164 - mse: 4.4301\n",
      "[MemoryCallback]:  8508740\n",
      "\n",
      "Epoch 00004: loss improved from 1254.48779 to 1134.62097, saving model to checkpoints_testME4_no_norm37/\n",
      "Epoch 5/10\n",
      "100/100 [==============================] - 10s 100ms/step - loss: 1043.1580 - bpp: 0.5165 - mse: 4.0728\n",
      "[MemoryCallback]:  8508740\n",
      "\n",
      "Epoch 00005: loss improved from 1134.62097 to 1043.15796, saving model to checkpoints_testME4_no_norm37/\n",
      "Epoch 6/10\n",
      "100/100 [==============================] - 9s 92ms/step - loss: 982.1584 - bpp: 0.5172 - mse: 3.8345\n",
      "[MemoryCallback]:  8508740\n",
      "\n",
      "Epoch 00006: loss improved from 1043.15796 to 982.15839, saving model to checkpoints_testME4_no_norm37/\n",
      "Epoch 7/10\n",
      "100/100 [==============================] - 10s 100ms/step - loss: 930.6215 - bpp: 0.5184 - mse: 3.6332\n",
      "[MemoryCallback]:  8508740\n",
      "\n",
      "Epoch 00007: loss improved from 982.15839 to 930.62146, saving model to checkpoints_testME4_no_norm37/\n",
      "Epoch 8/10\n",
      "100/100 [==============================] - 10s 99ms/step - loss: 876.8798 - bpp: 0.5202 - mse: 3.4233\n",
      "[MemoryCallback]:  8508740\n",
      "\n",
      "Epoch 00008: loss improved from 930.62146 to 876.87982, saving model to checkpoints_testME4_no_norm37/\n",
      "Epoch 9/10\n",
      "100/100 [==============================] - 10s 103ms/step - loss: 845.1646 - bpp: 0.5224 - mse: 3.2994\n",
      "[MemoryCallback]:  8508740\n",
      "\n",
      "Epoch 00009: loss improved from 876.87982 to 845.16455, saving model to checkpoints_testME4_no_norm37/\n",
      "Epoch 10/10\n",
      "100/100 [==============================] - 9s 93ms/step - loss: 815.4478 - bpp: 0.5249 - mse: 3.1833\n",
      "[MemoryCallback]:  8508740\n",
      "\n",
      "Epoch 00010: loss improved from 845.16455 to 815.44781, saving model to checkpoints_testME4_no_norm37/\n",
      "/mnt/WindowsDev/DataSets/vimeo_septuplet/sequences/00057/0926/im1.png\n",
      "compress\n",
      "in the compress\n",
      "in decompress\n",
      "* [Model compiled]...\n",
      "* [Loading dataset]...\n",
      "Loading weights\n",
      "Going to fit\n"
     ]
    },
    {
     "name": "stderr",
     "output_type": "stream",
     "text": [
      "2022-01-28 22:31:36.307585: I tensorflow/core/profiler/lib/profiler_session.cc:126] Profiler session initializing.\n",
      "2022-01-28 22:31:36.307647: I tensorflow/core/profiler/lib/profiler_session.cc:141] Profiler session started.\n",
      "2022-01-28 22:31:37.299786: I tensorflow/core/profiler/lib/profiler_session.cc:159] Profiler session tear down.\n",
      "2022-01-28 22:31:37.303516: I tensorflow/core/profiler/internal/gpu/cupti_tracer.cc:1743] CUPTI activity buffer flushed\n"
     ]
    },
    {
     "name": "stdout",
     "output_type": "stream",
     "text": [
      "Epoch 1/10\n",
      "  1/100 [..............................] - ETA: 29:10 - loss: 1069695.6250 - bpp: 0.5690 - mse: 4178.4961"
     ]
    },
    {
     "name": "stderr",
     "output_type": "stream",
     "text": [
      "2022-01-28 22:31:55.804611: I tensorflow/core/profiler/lib/profiler_session.cc:126] Profiler session initializing.\n",
      "2022-01-28 22:31:55.804678: I tensorflow/core/profiler/lib/profiler_session.cc:141] Profiler session started.\n"
     ]
    },
    {
     "name": "stdout",
     "output_type": "stream",
     "text": [
      "  2/100 [..............................] - ETA: 1:52 - loss: 613687.8750 - bpp: 0.5800 - mse: 2397.2158  "
     ]
    },
    {
     "name": "stderr",
     "output_type": "stream",
     "text": [
      "2022-01-28 22:31:57.946226: I tensorflow/core/profiler/lib/profiler_session.cc:66] Profiler session collecting data.\n",
      "2022-01-28 22:31:57.966887: I tensorflow/core/profiler/internal/gpu/cupti_tracer.cc:1743] CUPTI activity buffer flushed\n",
      "2022-01-28 22:31:58.053224: I tensorflow/core/profiler/internal/gpu/cupti_collector.cc:673]  GpuTracer has collected 3372 callback api events and 3336 activity events. \n",
      "2022-01-28 22:31:58.162827: I tensorflow/core/profiler/lib/profiler_session.cc:159] Profiler session tear down.\n",
      "2022-01-28 22:31:58.298074: I tensorflow/core/profiler/rpc/client/save_profile.cc:137] Creating directory: backup/train/plugins/profile/2022_01_28_22_31_58\n",
      "2022-01-28 22:31:58.366680: I tensorflow/core/profiler/rpc/client/save_profile.cc:143] Dumped gzipped tool data for trace.json.gz to backup/train/plugins/profile/2022_01_28_22_31_58/ab0180b02496.trace.json.gz\n",
      "2022-01-28 22:31:58.549772: I tensorflow/core/profiler/rpc/client/save_profile.cc:137] Creating directory: backup/train/plugins/profile/2022_01_28_22_31_58\n",
      "2022-01-28 22:31:58.560130: I tensorflow/core/profiler/rpc/client/save_profile.cc:143] Dumped gzipped tool data for memory_profile.json.gz to backup/train/plugins/profile/2022_01_28_22_31_58/ab0180b02496.memory_profile.json.gz\n"
     ]
    },
    {
     "name": "stdout",
     "output_type": "stream",
     "text": [
      "  3/100 [..............................] - ETA: 2:56 - loss: 999581.6875 - bpp: 0.5800 - mse: 3904.6133"
     ]
    },
    {
     "name": "stderr",
     "output_type": "stream",
     "text": [
      "2022-01-28 22:31:58.570385: I tensorflow/core/profiler/rpc/client/capture_profile.cc:251] Creating directory: backup/train/plugins/profile/2022_01_28_22_31_58Dumped tool data for xplane.pb to backup/train/plugins/profile/2022_01_28_22_31_58/ab0180b02496.xplane.pb\n",
      "Dumped tool data for overview_page.pb to backup/train/plugins/profile/2022_01_28_22_31_58/ab0180b02496.overview_page.pb\n",
      "Dumped tool data for input_pipeline.pb to backup/train/plugins/profile/2022_01_28_22_31_58/ab0180b02496.input_pipeline.pb\n",
      "Dumped tool data for tensorflow_stats.pb to backup/train/plugins/profile/2022_01_28_22_31_58/ab0180b02496.tensorflow_stats.pb\n",
      "Dumped tool data for kernel_stats.pb to backup/train/plugins/profile/2022_01_28_22_31_58/ab0180b02496.kernel_stats.pb\n",
      "\n"
     ]
    },
    {
     "name": "stdout",
     "output_type": "stream",
     "text": [
      "  6/100 [>.............................] - ETA: 1:14 - loss: 787688.5000 - bpp: 0.5721 - mse: 3076.9055WARNING:tensorflow:Callback method `on_train_batch_end` is slow compared to the batch time (batch time: 0.1037s vs `on_train_batch_end` time: 0.5282s). Check your callbacks.\n",
      "100/100 [==============================] - 32s 149ms/step - loss: 98054.5000 - bpp: 0.4918 - mse: 383.0235\n",
      "[MemoryCallback]:  8508740\n",
      "\n",
      "Epoch 00001: loss improved from inf to 98054.50000, saving model to checkpoints_testME4_no_norm38/\n",
      "Epoch 2/10\n",
      "100/100 [==============================] - 10s 102ms/step - loss: 12795.0088 - bpp: 0.4563 - mse: 49.9787\n",
      "[MemoryCallback]:  8508740\n",
      "\n",
      "Epoch 00002: loss improved from 98054.50000 to 12795.00879, saving model to checkpoints_testME4_no_norm38/\n",
      "Epoch 3/10\n",
      "100/100 [==============================] - 10s 104ms/step - loss: 10666.3047 - bpp: 0.4512 - mse: 41.6635\n",
      "[MemoryCallback]:  8508740\n",
      "\n",
      "Epoch 00003: loss improved from 12795.00879 to 10666.30469, saving model to checkpoints_testME4_no_norm38/\n",
      "Epoch 4/10\n",
      "100/100 [==============================] - 10s 100ms/step - loss: 9822.4648 - bpp: 0.4502 - mse: 38.3673\n",
      "[MemoryCallback]:  8508740\n",
      "\n",
      "Epoch 00004: loss improved from 10666.30469 to 9822.46484, saving model to checkpoints_testME4_no_norm38/\n",
      "Epoch 5/10\n",
      "100/100 [==============================] - 10s 101ms/step - loss: 8369.8320 - bpp: 0.4501 - mse: 32.6929\n",
      "[MemoryCallback]:  8508740\n",
      "\n",
      "Epoch 00005: loss improved from 9822.46484 to 8369.83203, saving model to checkpoints_testME4_no_norm38/\n",
      "Epoch 6/10\n",
      "100/100 [==============================] - 10s 100ms/step - loss: 8324.9121 - bpp: 0.4511 - mse: 32.5174\n",
      "[MemoryCallback]:  8508740\n",
      "\n",
      "Epoch 00006: loss improved from 8369.83203 to 8324.91211, saving model to checkpoints_testME4_no_norm38/\n",
      "Epoch 7/10\n",
      "100/100 [==============================] - 10s 100ms/step - loss: 7642.3789 - bpp: 0.4524 - mse: 29.8513\n",
      "[MemoryCallback]:  8508740\n",
      "\n",
      "Epoch 00007: loss improved from 8324.91211 to 7642.37891, saving model to checkpoints_testME4_no_norm38/\n",
      "Epoch 8/10\n",
      "100/100 [==============================] - 10s 99ms/step - loss: 7012.5874 - bpp: 0.4540 - mse: 27.3911\n",
      "[MemoryCallback]:  8508740\n",
      "\n",
      "Epoch 00008: loss improved from 7642.37891 to 7012.58740, saving model to checkpoints_testME4_no_norm38/\n",
      "Epoch 9/10\n",
      "100/100 [==============================] - 10s 99ms/step - loss: 7007.0767 - bpp: 0.4558 - mse: 27.3696\n",
      "[MemoryCallback]:  8508740\n",
      "\n",
      "Epoch 00009: loss improved from 7012.58740 to 7007.07666, saving model to checkpoints_testME4_no_norm38/\n",
      "Epoch 10/10\n",
      "100/100 [==============================] - 10s 102ms/step - loss: 6748.9868 - bpp: 0.4579 - mse: 26.3614\n",
      "[MemoryCallback]:  8508740\n",
      "\n",
      "Epoch 00010: loss improved from 7007.07666 to 6748.98682, saving model to checkpoints_testME4_no_norm38/\n",
      "/mnt/WindowsDev/DataSets/vimeo_septuplet/sequences/00044/0800/im1.png\n",
      "compress\n",
      "in the compress\n",
      "in decompress\n",
      "* [Model compiled]...\n",
      "* [Loading dataset]...\n",
      "Loading weights\n",
      "Going to fit\n"
     ]
    },
    {
     "name": "stderr",
     "output_type": "stream",
     "text": [
      "2022-01-28 22:34:08.483430: I tensorflow/core/profiler/lib/profiler_session.cc:126] Profiler session initializing.\n",
      "2022-01-28 22:34:08.483507: I tensorflow/core/profiler/lib/profiler_session.cc:141] Profiler session started.\n",
      "2022-01-28 22:34:09.361651: I tensorflow/core/profiler/lib/profiler_session.cc:159] Profiler session tear down.\n",
      "2022-01-28 22:34:09.364576: I tensorflow/core/profiler/internal/gpu/cupti_tracer.cc:1743] CUPTI activity buffer flushed\n"
     ]
    },
    {
     "name": "stdout",
     "output_type": "stream",
     "text": [
      "Epoch 1/10\n",
      "  1/100 [..............................] - ETA: 41:18 - loss: 303314.9062 - bpp: 0.6627 - mse: 1184.8213"
     ]
    },
    {
     "name": "stderr",
     "output_type": "stream",
     "text": [
      "2022-01-28 22:34:35.265497: I tensorflow/core/profiler/lib/profiler_session.cc:126] Profiler session initializing.\n",
      "2022-01-28 22:34:35.265546: I tensorflow/core/profiler/lib/profiler_session.cc:141] Profiler session started.\n"
     ]
    },
    {
     "name": "stdout",
     "output_type": "stream",
     "text": [
      "  2/100 [..............................] - ETA: 2:04 - loss: 219055.3125 - bpp: 0.6675 - mse: 855.6823  "
     ]
    },
    {
     "name": "stderr",
     "output_type": "stream",
     "text": [
      "2022-01-28 22:34:37.523152: I tensorflow/core/profiler/lib/profiler_session.cc:66] Profiler session collecting data.\n",
      "2022-01-28 22:34:37.548677: I tensorflow/core/profiler/internal/gpu/cupti_tracer.cc:1743] CUPTI activity buffer flushed\n",
      "2022-01-28 22:34:37.685697: I tensorflow/core/profiler/internal/gpu/cupti_collector.cc:673]  GpuTracer has collected 3372 callback api events and 3336 activity events. \n",
      "2022-01-28 22:34:37.868049: I tensorflow/core/profiler/lib/profiler_session.cc:159] Profiler session tear down.\n",
      "2022-01-28 22:34:38.007284: I tensorflow/core/profiler/rpc/client/save_profile.cc:137] Creating directory: backup/train/plugins/profile/2022_01_28_22_34_37\n",
      "2022-01-28 22:34:38.078779: I tensorflow/core/profiler/rpc/client/save_profile.cc:143] Dumped gzipped tool data for trace.json.gz to backup/train/plugins/profile/2022_01_28_22_34_37/ab0180b02496.trace.json.gz\n",
      "2022-01-28 22:34:38.279088: I tensorflow/core/profiler/rpc/client/save_profile.cc:137] Creating directory: backup/train/plugins/profile/2022_01_28_22_34_37\n"
     ]
    },
    {
     "name": "stdout",
     "output_type": "stream",
     "text": [
      "  3/100 [..............................] - ETA: 3:13 - loss: 206818.0781 - bpp: 0.6683 - mse: 807.8806"
     ]
    },
    {
     "name": "stderr",
     "output_type": "stream",
     "text": [
      "2022-01-28 22:34:38.289686: I tensorflow/core/profiler/rpc/client/save_profile.cc:143] Dumped gzipped tool data for memory_profile.json.gz to backup/train/plugins/profile/2022_01_28_22_34_37/ab0180b02496.memory_profile.json.gz\n",
      "2022-01-28 22:34:38.299743: I tensorflow/core/profiler/rpc/client/capture_profile.cc:251] Creating directory: backup/train/plugins/profile/2022_01_28_22_34_37Dumped tool data for xplane.pb to backup/train/plugins/profile/2022_01_28_22_34_37/ab0180b02496.xplane.pb\n",
      "Dumped tool data for overview_page.pb to backup/train/plugins/profile/2022_01_28_22_34_37/ab0180b02496.overview_page.pb\n",
      "Dumped tool data for input_pipeline.pb to backup/train/plugins/profile/2022_01_28_22_34_37/ab0180b02496.input_pipeline.pb\n",
      "Dumped tool data for tensorflow_stats.pb to backup/train/plugins/profile/2022_01_28_22_34_37/ab0180b02496.tensorflow_stats.pb\n",
      "Dumped tool data for kernel_stats.pb to backup/train/plugins/profile/2022_01_28_22_34_37/ab0180b02496.kernel_stats.pb\n",
      "\n"
     ]
    },
    {
     "name": "stdout",
     "output_type": "stream",
     "text": [
      "  6/100 [>.............................] - ETA: 1:20 - loss: 188808.5000 - bpp: 0.6685 - mse: 737.5306WARNING:tensorflow:Callback method `on_train_batch_end` is slow compared to the batch time (batch time: 0.0993s vs `on_train_batch_end` time: 0.5777s). Check your callbacks.\n",
      "100/100 [==============================] - 40s 147ms/step - loss: 56643.2617 - bpp: 0.6051 - mse: 221.2605\n",
      "[MemoryCallback]:  8508740\n",
      "\n",
      "Epoch 00001: loss improved from inf to 56643.26172, saving model to checkpoints_testME4_no_norm39/\n",
      "Epoch 2/10\n",
      "100/100 [==============================] - 10s 103ms/step - loss: 24774.2559 - bpp: 0.5939 - mse: 96.7721\n",
      "[MemoryCallback]:  8508740\n",
      "\n",
      "Epoch 00002: loss improved from 56643.26172 to 24774.25586, saving model to checkpoints_testME4_no_norm39/\n",
      "Epoch 3/10\n",
      "100/100 [==============================] - 10s 103ms/step - loss: 19755.5059 - bpp: 0.5984 - mse: 77.1676\n",
      "[MemoryCallback]:  8508740\n",
      "\n",
      "Epoch 00003: loss improved from 24774.25586 to 19755.50586, saving model to checkpoints_testME4_no_norm39/\n",
      "Epoch 4/10\n",
      "100/100 [==============================] - 10s 101ms/step - loss: 16719.7480 - bpp: 0.6016 - mse: 65.3092\n",
      "[MemoryCallback]:  8508740\n",
      "\n",
      "Epoch 00004: loss improved from 19755.50586 to 16719.74805, saving model to checkpoints_testME4_no_norm39/\n",
      "Epoch 5/10\n",
      "100/100 [==============================] - 10s 101ms/step - loss: 14615.8066 - bpp: 0.6044 - mse: 57.0906\n",
      "[MemoryCallback]:  8508740\n",
      "\n",
      "Epoch 00005: loss improved from 16719.74805 to 14615.80664, saving model to checkpoints_testME4_no_norm39/\n",
      "Epoch 6/10\n",
      "100/100 [==============================] - 10s 102ms/step - loss: 13300.9912 - bpp: 0.6066 - mse: 51.9546\n",
      "[MemoryCallback]:  8508740\n",
      "\n",
      "Epoch 00006: loss improved from 14615.80664 to 13300.99121, saving model to checkpoints_testME4_no_norm39/\n",
      "Epoch 7/10\n",
      "100/100 [==============================] - 10s 101ms/step - loss: 11990.6377 - bpp: 0.6090 - mse: 46.8360\n",
      "[MemoryCallback]:  8508740\n",
      "\n",
      "Epoch 00007: loss improved from 13300.99121 to 11990.63770, saving model to checkpoints_testME4_no_norm39/\n",
      "Epoch 8/10\n",
      "100/100 [==============================] - 10s 102ms/step - loss: 11072.3760 - bpp: 0.6105 - mse: 43.2491\n",
      "[MemoryCallback]:  8508740\n",
      "\n",
      "Epoch 00008: loss improved from 11990.63770 to 11072.37598, saving model to checkpoints_testME4_no_norm39/\n",
      "Epoch 9/10\n",
      "100/100 [==============================] - 10s 99ms/step - loss: 10564.9297 - bpp: 0.6125 - mse: 41.2669\n",
      "[MemoryCallback]:  8508740\n",
      "\n",
      "Epoch 00009: loss improved from 11072.37598 to 10564.92969, saving model to checkpoints_testME4_no_norm39/\n",
      "Epoch 10/10\n",
      "100/100 [==============================] - 10s 102ms/step - loss: 9774.7295 - bpp: 0.6145 - mse: 38.1801\n",
      "[MemoryCallback]:  8508740\n",
      "\n",
      "Epoch 00010: loss improved from 10564.92969 to 9774.72949, saving model to checkpoints_testME4_no_norm39/\n",
      "/mnt/WindowsDev/DataSets/vimeo_septuplet/sequences/00050/0407/im1.png\n",
      "compress\n",
      "in the compress\n",
      "in decompress\n",
      "* [Model compiled]...\n",
      "* [Loading dataset]...\n",
      "Loading weights\n",
      "Going to fit\n"
     ]
    },
    {
     "name": "stderr",
     "output_type": "stream",
     "text": [
      "2022-01-28 22:36:46.886993: I tensorflow/core/profiler/lib/profiler_session.cc:126] Profiler session initializing.\n",
      "2022-01-28 22:36:46.887060: I tensorflow/core/profiler/lib/profiler_session.cc:141] Profiler session started.\n",
      "2022-01-28 22:36:47.829478: I tensorflow/core/profiler/lib/profiler_session.cc:159] Profiler session tear down.\n",
      "2022-01-28 22:36:47.835192: I tensorflow/core/profiler/internal/gpu/cupti_tracer.cc:1743] CUPTI activity buffer flushed\n"
     ]
    },
    {
     "name": "stdout",
     "output_type": "stream",
     "text": [
      "Epoch 1/10\n",
      "  1/100 [..............................] - ETA: 32:51 - loss: 96781.4766 - bpp: 0.5980 - mse: 378.0503"
     ]
    },
    {
     "name": "stderr",
     "output_type": "stream",
     "text": [
      "2022-01-28 22:37:08.574050: I tensorflow/core/profiler/lib/profiler_session.cc:126] Profiler session initializing.\n",
      "2022-01-28 22:37:08.574108: I tensorflow/core/profiler/lib/profiler_session.cc:141] Profiler session started.\n"
     ]
    },
    {
     "name": "stdout",
     "output_type": "stream",
     "text": [
      "  2/100 [..............................] - ETA: 2:05 - loss: 83281.8984 - bpp: 0.6003 - mse: 325.3176 "
     ]
    },
    {
     "name": "stderr",
     "output_type": "stream",
     "text": [
      "2022-01-28 22:37:10.980509: I tensorflow/core/profiler/lib/profiler_session.cc:66] Profiler session collecting data.\n",
      "2022-01-28 22:37:11.002785: I tensorflow/core/profiler/internal/gpu/cupti_tracer.cc:1743] CUPTI activity buffer flushed\n",
      "2022-01-28 22:37:11.098023: I tensorflow/core/profiler/internal/gpu/cupti_collector.cc:673]  GpuTracer has collected 3372 callback api events and 3336 activity events. \n",
      "2022-01-28 22:37:11.231696: I tensorflow/core/profiler/lib/profiler_session.cc:159] Profiler session tear down.\n",
      "2022-01-28 22:37:11.389085: I tensorflow/core/profiler/rpc/client/save_profile.cc:137] Creating directory: backup/train/plugins/profile/2022_01_28_22_37_11\n",
      "2022-01-28 22:37:11.455314: I tensorflow/core/profiler/rpc/client/save_profile.cc:143] Dumped gzipped tool data for trace.json.gz to backup/train/plugins/profile/2022_01_28_22_37_11/ab0180b02496.trace.json.gz\n"
     ]
    },
    {
     "name": "stdout",
     "output_type": "stream",
     "text": [
      "  3/100 [..............................] - ETA: 3:15 - loss: 67631.1797 - bpp: 0.6000 - mse: 264.1819"
     ]
    },
    {
     "name": "stderr",
     "output_type": "stream",
     "text": [
      "2022-01-28 22:37:11.673568: I tensorflow/core/profiler/rpc/client/save_profile.cc:137] Creating directory: backup/train/plugins/profile/2022_01_28_22_37_11\n",
      "2022-01-28 22:37:11.684652: I tensorflow/core/profiler/rpc/client/save_profile.cc:143] Dumped gzipped tool data for memory_profile.json.gz to backup/train/plugins/profile/2022_01_28_22_37_11/ab0180b02496.memory_profile.json.gz\n",
      "2022-01-28 22:37:11.694235: I tensorflow/core/profiler/rpc/client/capture_profile.cc:251] Creating directory: backup/train/plugins/profile/2022_01_28_22_37_11Dumped tool data for xplane.pb to backup/train/plugins/profile/2022_01_28_22_37_11/ab0180b02496.xplane.pb\n",
      "Dumped tool data for overview_page.pb to backup/train/plugins/profile/2022_01_28_22_37_11/ab0180b02496.overview_page.pb\n",
      "Dumped tool data for input_pipeline.pb to backup/train/plugins/profile/2022_01_28_22_37_11/ab0180b02496.input_pipeline.pb\n",
      "Dumped tool data for tensorflow_stats.pb to backup/train/plugins/profile/2022_01_28_22_37_11/ab0180b02496.tensorflow_stats.pb\n",
      "Dumped tool data for kernel_stats.pb to backup/train/plugins/profile/2022_01_28_22_37_11/ab0180b02496.kernel_stats.pb\n",
      "\n"
     ]
    },
    {
     "name": "stdout",
     "output_type": "stream",
     "text": [
      "  6/100 [>.............................] - ETA: 1:21 - loss: 54336.5273 - bpp: 0.6012 - mse: 212.2497WARNING:tensorflow:Callback method `on_train_batch_end` is slow compared to the batch time (batch time: 0.1041s vs `on_train_batch_end` time: 0.5720s). Check your callbacks.\n",
      "100/100 [==============================] - 35s 148ms/step - loss: 14390.3936 - bpp: 0.5622 - mse: 56.2103\n",
      "[MemoryCallback]:  8508740\n",
      "\n",
      "Epoch 00001: loss improved from inf to 14390.39355, saving model to checkpoints_testME4_no_norm40/\n",
      "Epoch 2/10\n",
      "100/100 [==============================] - 10s 104ms/step - loss: 6050.1118 - bpp: 0.5436 - mse: 23.6311\n",
      "[MemoryCallback]:  8508740\n",
      "\n",
      "Epoch 00002: loss improved from 14390.39355 to 6050.11182, saving model to checkpoints_testME4_no_norm40/\n",
      "Epoch 3/10\n",
      "100/100 [==============================] - 10s 101ms/step - loss: 5246.3755 - bpp: 0.5408 - mse: 20.4915\n",
      "[MemoryCallback]:  8508740\n",
      "\n",
      "Epoch 00003: loss improved from 6050.11182 to 5246.37549, saving model to checkpoints_testME4_no_norm40/\n",
      "Epoch 4/10\n",
      "100/100 [==============================] - 10s 101ms/step - loss: 4810.0298 - bpp: 0.5408 - mse: 18.7871\n",
      "[MemoryCallback]:  8508740\n",
      "\n",
      "Epoch 00004: loss improved from 5246.37549 to 4810.02979, saving model to checkpoints_testME4_no_norm40/\n",
      "Epoch 5/10\n",
      "100/100 [==============================] - 10s 102ms/step - loss: 4430.5889 - bpp: 0.5423 - mse: 17.3049\n",
      "[MemoryCallback]:  8508740\n",
      "\n",
      "Epoch 00005: loss improved from 4810.02979 to 4430.58887, saving model to checkpoints_testME4_no_norm40/\n",
      "Epoch 6/10\n",
      "100/100 [==============================] - 10s 103ms/step - loss: 4176.1860 - bpp: 0.5439 - mse: 16.3111\n",
      "[MemoryCallback]:  8508740\n",
      "\n",
      "Epoch 00006: loss improved from 4430.58887 to 4176.18604, saving model to checkpoints_testME4_no_norm40/\n",
      "Epoch 7/10\n",
      "100/100 [==============================] - 10s 103ms/step - loss: 3928.0291 - bpp: 0.5465 - mse: 15.3417\n",
      "[MemoryCallback]:  8508740\n",
      "\n",
      "Epoch 00007: loss improved from 4176.18604 to 3928.02905, saving model to checkpoints_testME4_no_norm40/\n",
      "Epoch 8/10\n",
      "100/100 [==============================] - 9s 94ms/step - loss: 3750.4746 - bpp: 0.5490 - mse: 14.6481\n",
      "[MemoryCallback]:  8508740\n",
      "\n",
      "Epoch 00008: loss improved from 3928.02905 to 3750.47461, saving model to checkpoints_testME4_no_norm40/\n",
      "Epoch 9/10\n",
      "100/100 [==============================] - 10s 101ms/step - loss: 3552.0703 - bpp: 0.5514 - mse: 13.8731\n",
      "[MemoryCallback]:  8508740\n",
      "\n",
      "Epoch 00009: loss improved from 3750.47461 to 3552.07031, saving model to checkpoints_testME4_no_norm40/\n",
      "Epoch 10/10\n",
      "100/100 [==============================] - 10s 100ms/step - loss: 3398.1953 - bpp: 0.5539 - mse: 13.2720\n",
      "[MemoryCallback]:  8508740\n",
      "\n",
      "Epoch 00010: loss improved from 3552.07031 to 3398.19531, saving model to checkpoints_testME4_no_norm40/\n",
      "/mnt/WindowsDev/DataSets/vimeo_septuplet/sequences/00055/0564/im1.png\n",
      "compress\n",
      "in the compress\n",
      "in decompress\n",
      "* [Model compiled]...\n",
      "* [Loading dataset]...\n",
      "Loading weights\n",
      "Going to fit\n"
     ]
    },
    {
     "name": "stderr",
     "output_type": "stream",
     "text": [
      "2022-01-28 22:39:28.756643: I tensorflow/core/profiler/lib/profiler_session.cc:126] Profiler session initializing.\n",
      "2022-01-28 22:39:28.756718: I tensorflow/core/profiler/lib/profiler_session.cc:141] Profiler session started.\n",
      "2022-01-28 22:39:29.832276: I tensorflow/core/profiler/lib/profiler_session.cc:159] Profiler session tear down.\n",
      "2022-01-28 22:39:29.835274: I tensorflow/core/profiler/internal/gpu/cupti_tracer.cc:1743] CUPTI activity buffer flushed\n"
     ]
    },
    {
     "name": "stdout",
     "output_type": "stream",
     "text": [
      "Epoch 1/10\n",
      "  1/100 [..............................] - ETA: 42:46 - loss: 3790.9041 - bpp: 0.4685 - mse: 14.8064"
     ]
    },
    {
     "name": "stderr",
     "output_type": "stream",
     "text": [
      "2022-01-28 22:39:57.025880: I tensorflow/core/profiler/lib/profiler_session.cc:126] Profiler session initializing.\n",
      "2022-01-28 22:39:57.025940: I tensorflow/core/profiler/lib/profiler_session.cc:141] Profiler session started.\n"
     ]
    },
    {
     "name": "stdout",
     "output_type": "stream",
     "text": [
      "  2/100 [..............................] - ETA: 2:56 - loss: 3430.1479 - bpp: 0.4704 - mse: 13.3972 "
     ]
    },
    {
     "name": "stderr",
     "output_type": "stream",
     "text": [
      "2022-01-28 22:40:00.204769: I tensorflow/core/profiler/lib/profiler_session.cc:66] Profiler session collecting data.\n",
      "2022-01-28 22:40:00.251716: I tensorflow/core/profiler/internal/gpu/cupti_tracer.cc:1743] CUPTI activity buffer flushed\n",
      "2022-01-28 22:40:00.417531: I tensorflow/core/profiler/internal/gpu/cupti_collector.cc:673]  GpuTracer has collected 3372 callback api events and 3336 activity events. \n",
      "2022-01-28 22:40:00.574436: I tensorflow/core/profiler/lib/profiler_session.cc:159] Profiler session tear down.\n",
      "2022-01-28 22:40:00.750444: I tensorflow/core/profiler/rpc/client/save_profile.cc:137] Creating directory: backup/train/plugins/profile/2022_01_28_22_40_00\n",
      "2022-01-28 22:40:00.821055: I tensorflow/core/profiler/rpc/client/save_profile.cc:143] Dumped gzipped tool data for trace.json.gz to backup/train/plugins/profile/2022_01_28_22_40_00/ab0180b02496.trace.json.gz\n",
      "2022-01-28 22:40:01.119446: I tensorflow/core/profiler/rpc/client/save_profile.cc:137] Creating directory: backup/train/plugins/profile/2022_01_28_22_40_00\n",
      "2022-01-28 22:40:01.131032: I tensorflow/core/profiler/rpc/client/save_profile.cc:143] Dumped gzipped tool data for memory_profile.json.gz to backup/train/plugins/profile/2022_01_28_22_40_00/ab0180b02496.memory_profile.json.gz\n",
      "2022-01-28 22:40:01.145894: I tensorflow/core/profiler/rpc/client/capture_profile.cc:251] Creating directory: backup/train/plugins/profile/2022_01_28_22_40_00Dumped tool data for xplane.pb to backup/train/plugins/profile/2022_01_28_22_40_00/ab0180b02496.xplane.pb\n",
      "Dumped tool data for overview_page.pb to backup/train/plugins/profile/2022_01_28_22_40_00/ab0180b02496.overview_page.pb\n",
      "Dumped tool data for input_pipeline.pb to backup/train/plugins/profile/2022_01_28_22_40_00/ab0180b02496.input_pipeline.pb\n",
      "Dumped tool data for tensorflow_stats.pb to backup/train/plugins/profile/2022_01_28_22_40_00/ab0180b02496.tensorflow_stats.pb\n",
      "Dumped tool data for kernel_stats.pb to backup/train/plugins/profile/2022_01_28_22_40_00/ab0180b02496.kernel_stats.pb\n",
      "\n"
     ]
    },
    {
     "name": "stdout",
     "output_type": "stream",
     "text": [
      "  6/100 [>.............................] - ETA: 1:51 - loss: 2381.0427 - bpp: 0.4724 - mse: 9.2991WARNING:tensorflow:Callback method `on_train_batch_end` is slow compared to the batch time (batch time: 0.1230s vs `on_train_batch_end` time: 0.8058s). Check your callbacks.\n",
      "100/100 [==============================] - 42s 164ms/step - loss: 861.3516 - bpp: 0.4585 - mse: 3.3629\n",
      "[MemoryCallback]:  8508740\n",
      "\n",
      "Epoch 00001: loss improved from inf to 861.35162, saving model to checkpoints_testME4_no_norm41/\n",
      "Epoch 2/10\n",
      "100/100 [==============================] - 10s 96ms/step - loss: 523.4824 - bpp: 0.4407 - mse: 2.0431\n",
      "[MemoryCallback]:  8508740\n",
      "\n",
      "Epoch 00002: loss improved from 861.35162 to 523.48242, saving model to checkpoints_testME4_no_norm41/\n",
      "Epoch 3/10\n",
      "100/100 [==============================] - 10s 101ms/step - loss: 478.4604 - bpp: 0.4319 - mse: 1.8673\n",
      "[MemoryCallback]:  8508740\n",
      "\n",
      "Epoch 00003: loss improved from 523.48242 to 478.46042, saving model to checkpoints_testME4_no_norm41/\n",
      "Epoch 4/10\n",
      "100/100 [==============================] - 10s 100ms/step - loss: 449.1899 - bpp: 0.4248 - mse: 1.7530\n",
      "[MemoryCallback]:  8508740\n",
      "\n",
      "Epoch 00004: loss improved from 478.46042 to 449.18988, saving model to checkpoints_testME4_no_norm41/\n",
      "Epoch 5/10\n",
      "100/100 [==============================] - 9s 90ms/step - loss: 427.7626 - bpp: 0.4195 - mse: 1.6693\n",
      "[MemoryCallback]:  8508740\n",
      "\n",
      "Epoch 00005: loss improved from 449.18988 to 427.76257, saving model to checkpoints_testME4_no_norm41/\n",
      "Epoch 6/10\n",
      "100/100 [==============================] - 10s 102ms/step - loss: 414.9698 - bpp: 0.4150 - mse: 1.6194\n",
      "[MemoryCallback]:  8508740\n",
      "\n",
      "Epoch 00006: loss improved from 427.76257 to 414.96985, saving model to checkpoints_testME4_no_norm41/\n",
      "Epoch 7/10\n",
      "100/100 [==============================] - 10s 100ms/step - loss: 404.0484 - bpp: 0.4114 - mse: 1.5767\n",
      "[MemoryCallback]:  8508740\n",
      "\n",
      "Epoch 00007: loss improved from 414.96985 to 404.04840, saving model to checkpoints_testME4_no_norm41/\n",
      "Epoch 8/10\n",
      "100/100 [==============================] - 10s 100ms/step - loss: 390.3959 - bpp: 0.4083 - mse: 1.5234\n",
      "[MemoryCallback]:  8508740\n",
      "\n",
      "Epoch 00008: loss improved from 404.04840 to 390.39587, saving model to checkpoints_testME4_no_norm41/\n",
      "Epoch 9/10\n",
      "100/100 [==============================] - 10s 102ms/step - loss: 385.4362 - bpp: 0.4057 - mse: 1.5040\n",
      "[MemoryCallback]:  8508740\n",
      "\n",
      "Epoch 00009: loss improved from 390.39587 to 385.43622, saving model to checkpoints_testME4_no_norm41/\n",
      "Epoch 10/10\n",
      "100/100 [==============================] - 9s 92ms/step - loss: 374.7150 - bpp: 0.4037 - mse: 1.4622\n",
      "[MemoryCallback]:  8508740\n",
      "\n",
      "Epoch 00010: loss improved from 385.43622 to 374.71497, saving model to checkpoints_testME4_no_norm41/\n",
      "/mnt/WindowsDev/DataSets/vimeo_septuplet/sequences/00051/0236/im1.png\n",
      "compress\n",
      "in the compress\n",
      "in decompress\n",
      "* [Model compiled]...\n",
      "* [Loading dataset]...\n",
      "Loading weights\n",
      "Going to fit\n"
     ]
    },
    {
     "name": "stderr",
     "output_type": "stream",
     "text": [
      "2022-01-28 22:42:28.630943: I tensorflow/core/profiler/lib/profiler_session.cc:126] Profiler session initializing.\n",
      "2022-01-28 22:42:28.630990: I tensorflow/core/profiler/lib/profiler_session.cc:141] Profiler session started.\n",
      "2022-01-28 22:42:29.690488: I tensorflow/core/profiler/lib/profiler_session.cc:159] Profiler session tear down.\n",
      "2022-01-28 22:42:29.697975: I tensorflow/core/profiler/internal/gpu/cupti_tracer.cc:1743] CUPTI activity buffer flushed\n"
     ]
    },
    {
     "name": "stdout",
     "output_type": "stream",
     "text": [
      "Epoch 1/10\n",
      "  1/100 [..............................] - ETA: 31:22 - loss: 32728.0879 - bpp: 0.6313 - mse: 127.8416"
     ]
    },
    {
     "name": "stderr",
     "output_type": "stream",
     "text": [
      "2022-01-28 22:42:49.530037: I tensorflow/core/profiler/lib/profiler_session.cc:126] Profiler session initializing.\n",
      "2022-01-28 22:42:49.530521: I tensorflow/core/profiler/lib/profiler_session.cc:141] Profiler session started.\n"
     ]
    },
    {
     "name": "stdout",
     "output_type": "stream",
     "text": [
      "  2/100 [..............................] - ETA: 1:57 - loss: 27310.6250 - bpp: 0.6319 - mse: 106.6797 "
     ]
    },
    {
     "name": "stderr",
     "output_type": "stream",
     "text": [
      "2022-01-28 22:42:51.968486: I tensorflow/core/profiler/lib/profiler_session.cc:66] Profiler session collecting data.\n",
      "2022-01-28 22:42:51.996874: I tensorflow/core/profiler/internal/gpu/cupti_tracer.cc:1743] CUPTI activity buffer flushed\n",
      "2022-01-28 22:42:52.093729: I tensorflow/core/profiler/internal/gpu/cupti_collector.cc:673]  GpuTracer has collected 3372 callback api events and 3336 activity events. \n",
      "2022-01-28 22:42:52.222089: I tensorflow/core/profiler/lib/profiler_session.cc:159] Profiler session tear down.\n",
      "2022-01-28 22:42:52.392742: I tensorflow/core/profiler/rpc/client/save_profile.cc:137] Creating directory: backup/train/plugins/profile/2022_01_28_22_42_52\n",
      "2022-01-28 22:42:52.461855: I tensorflow/core/profiler/rpc/client/save_profile.cc:143] Dumped gzipped tool data for trace.json.gz to backup/train/plugins/profile/2022_01_28_22_42_52/ab0180b02496.trace.json.gz\n"
     ]
    },
    {
     "name": "stdout",
     "output_type": "stream",
     "text": [
      "  3/100 [..............................] - ETA: 3:19 - loss: 26284.1973 - bpp: 0.6319 - mse: 102.6702"
     ]
    },
    {
     "name": "stderr",
     "output_type": "stream",
     "text": [
      "2022-01-28 22:42:52.720692: I tensorflow/core/profiler/rpc/client/save_profile.cc:137] Creating directory: backup/train/plugins/profile/2022_01_28_22_42_52\n",
      "2022-01-28 22:42:52.730988: I tensorflow/core/profiler/rpc/client/save_profile.cc:143] Dumped gzipped tool data for memory_profile.json.gz to backup/train/plugins/profile/2022_01_28_22_42_52/ab0180b02496.memory_profile.json.gz\n",
      "2022-01-28 22:42:52.743306: I tensorflow/core/profiler/rpc/client/capture_profile.cc:251] Creating directory: backup/train/plugins/profile/2022_01_28_22_42_52Dumped tool data for xplane.pb to backup/train/plugins/profile/2022_01_28_22_42_52/ab0180b02496.xplane.pb\n",
      "Dumped tool data for overview_page.pb to backup/train/plugins/profile/2022_01_28_22_42_52/ab0180b02496.overview_page.pb\n",
      "Dumped tool data for input_pipeline.pb to backup/train/plugins/profile/2022_01_28_22_42_52/ab0180b02496.input_pipeline.pb\n",
      "Dumped tool data for tensorflow_stats.pb to backup/train/plugins/profile/2022_01_28_22_42_52/ab0180b02496.tensorflow_stats.pb\n",
      "Dumped tool data for kernel_stats.pb to backup/train/plugins/profile/2022_01_28_22_42_52/ab0180b02496.kernel_stats.pb\n",
      "\n"
     ]
    },
    {
     "name": "stdout",
     "output_type": "stream",
     "text": [
      "  6/100 [>.............................] - ETA: 1:23 - loss: 22891.6016 - bpp: 0.6276 - mse: 89.4179WARNING:tensorflow:Callback method `on_train_batch_end` is slow compared to the batch time (batch time: 0.1080s vs `on_train_batch_end` time: 0.5945s). Check your callbacks.\n",
      "100/100 [==============================] - 34s 150ms/step - loss: 9656.8105 - bpp: 0.5710 - mse: 37.7197\n",
      "[MemoryCallback]:  8508740\n",
      "\n",
      "Epoch 00001: loss improved from inf to 9656.81055, saving model to checkpoints_testME4_no_norm42/\n",
      "Epoch 2/10\n",
      "100/100 [==============================] - 11s 105ms/step - loss: 4962.3970 - bpp: 0.5460 - mse: 19.3822\n",
      "[MemoryCallback]:  8508740\n",
      "\n",
      "Epoch 00002: loss improved from 9656.81055 to 4962.39697, saving model to checkpoints_testME4_no_norm42/\n",
      "Epoch 3/10\n",
      "100/100 [==============================] - 10s 105ms/step - loss: 4140.9199 - bpp: 0.5450 - mse: 16.1733\n",
      "[MemoryCallback]:  8508740\n",
      "\n",
      "Epoch 00003: loss improved from 4962.39697 to 4140.91992, saving model to checkpoints_testME4_no_norm42/\n",
      "Epoch 4/10\n",
      "100/100 [==============================] - 10s 100ms/step - loss: 3907.3608 - bpp: 0.5471 - mse: 15.2610\n",
      "[MemoryCallback]:  8508740\n",
      "\n",
      "Epoch 00004: loss improved from 4140.91992 to 3907.36084, saving model to checkpoints_testME4_no_norm42/\n",
      "Epoch 5/10\n",
      "100/100 [==============================] - 10s 101ms/step - loss: 3593.6990 - bpp: 0.5493 - mse: 14.0357\n",
      "[MemoryCallback]:  8508740\n",
      "\n",
      "Epoch 00005: loss improved from 3907.36084 to 3593.69897, saving model to checkpoints_testME4_no_norm42/\n",
      "Epoch 6/10\n",
      "100/100 [==============================] - 10s 103ms/step - loss: 3422.2256 - bpp: 0.5512 - mse: 13.3659\n",
      "[MemoryCallback]:  8508740\n",
      "\n",
      "Epoch 00006: loss improved from 3593.69897 to 3422.22559, saving model to checkpoints_testME4_no_norm42/\n",
      "Epoch 7/10\n",
      "100/100 [==============================] - 10s 104ms/step - loss: 3445.5566 - bpp: 0.5536 - mse: 13.4570\n",
      "[MemoryCallback]:  8508740\n",
      "\n",
      "Epoch 00007: loss did not improve from 3422.22559\n",
      "Epoch 8/10\n",
      "100/100 [==============================] - 9s 93ms/step - loss: 3493.1750 - bpp: 0.5546 - mse: 13.6430\n",
      "[MemoryCallback]:  8508740\n",
      "\n",
      "Epoch 00008: loss did not improve from 3422.22559\n",
      "Epoch 9/10\n",
      "100/100 [==============================] - 9s 92ms/step - loss: 2737.1138 - bpp: 0.5565 - mse: 10.6897\n",
      "[MemoryCallback]:  8508740\n",
      "\n",
      "Epoch 00009: loss improved from 3422.22559 to 2737.11377, saving model to checkpoints_testME4_no_norm42/\n",
      "Epoch 10/10\n",
      "100/100 [==============================] - 10s 104ms/step - loss: 2869.2124 - bpp: 0.5587 - mse: 11.2057\n",
      "[MemoryCallback]:  8508740\n",
      "\n",
      "Epoch 00010: loss did not improve from 2737.11377\n",
      "/mnt/WindowsDev/DataSets/vimeo_septuplet/sequences/00063/0955/im1.png\n",
      "compress\n",
      "in the compress\n",
      "in decompress\n",
      "* [Model compiled]...\n",
      "* [Loading dataset]...\n",
      "Loading weights\n",
      "Going to fit\n"
     ]
    },
    {
     "name": "stderr",
     "output_type": "stream",
     "text": [
      "2022-01-28 22:44:57.638406: I tensorflow/core/profiler/lib/profiler_session.cc:126] Profiler session initializing.\n",
      "2022-01-28 22:44:57.638457: I tensorflow/core/profiler/lib/profiler_session.cc:141] Profiler session started.\n",
      "2022-01-28 22:44:58.542402: I tensorflow/core/profiler/lib/profiler_session.cc:159] Profiler session tear down.\n",
      "2022-01-28 22:44:58.545903: I tensorflow/core/profiler/internal/gpu/cupti_tracer.cc:1743] CUPTI activity buffer flushed\n"
     ]
    },
    {
     "name": "stdout",
     "output_type": "stream",
     "text": [
      "Epoch 1/10\n",
      "  1/100 [..............................] - ETA: 31:07 - loss: 17229.3164 - bpp: 0.6640 - mse: 67.2994"
     ]
    },
    {
     "name": "stderr",
     "output_type": "stream",
     "text": [
      "2022-01-28 22:45:18.225341: I tensorflow/core/profiler/lib/profiler_session.cc:126] Profiler session initializing.\n",
      "2022-01-28 22:45:18.225445: I tensorflow/core/profiler/lib/profiler_session.cc:141] Profiler session started.\n"
     ]
    },
    {
     "name": "stdout",
     "output_type": "stream",
     "text": [
      "  2/100 [..............................] - ETA: 2:22 - loss: 15468.3213 - bpp: 0.6631 - mse: 60.4205 "
     ]
    },
    {
     "name": "stderr",
     "output_type": "stream",
     "text": [
      "2022-01-28 22:45:20.810520: I tensorflow/core/profiler/lib/profiler_session.cc:66] Profiler session collecting data.\n",
      "2022-01-28 22:45:20.831063: I tensorflow/core/profiler/internal/gpu/cupti_tracer.cc:1743] CUPTI activity buffer flushed\n",
      "2022-01-28 22:45:20.933198: I tensorflow/core/profiler/internal/gpu/cupti_collector.cc:673]  GpuTracer has collected 3372 callback api events and 3336 activity events. \n",
      "2022-01-28 22:45:21.060760: I tensorflow/core/profiler/lib/profiler_session.cc:159] Profiler session tear down.\n",
      "2022-01-28 22:45:21.221200: I tensorflow/core/profiler/rpc/client/save_profile.cc:137] Creating directory: backup/train/plugins/profile/2022_01_28_22_45_21\n",
      "2022-01-28 22:45:21.291997: I tensorflow/core/profiler/rpc/client/save_profile.cc:143] Dumped gzipped tool data for trace.json.gz to backup/train/plugins/profile/2022_01_28_22_45_21/ab0180b02496.trace.json.gz\n",
      "2022-01-28 22:45:21.488808: I tensorflow/core/profiler/rpc/client/save_profile.cc:137] Creating directory: backup/train/plugins/profile/2022_01_28_22_45_21\n"
     ]
    },
    {
     "name": "stdout",
     "output_type": "stream",
     "text": [
      "  3/100 [..............................] - ETA: 3:22 - loss: 14450.2227 - bpp: 0.6639 - mse: 56.4436"
     ]
    },
    {
     "name": "stderr",
     "output_type": "stream",
     "text": [
      "2022-01-28 22:45:21.499106: I tensorflow/core/profiler/rpc/client/save_profile.cc:143] Dumped gzipped tool data for memory_profile.json.gz to backup/train/plugins/profile/2022_01_28_22_45_21/ab0180b02496.memory_profile.json.gz\n",
      "2022-01-28 22:45:21.509834: I tensorflow/core/profiler/rpc/client/capture_profile.cc:251] Creating directory: backup/train/plugins/profile/2022_01_28_22_45_21Dumped tool data for xplane.pb to backup/train/plugins/profile/2022_01_28_22_45_21/ab0180b02496.xplane.pb\n",
      "Dumped tool data for overview_page.pb to backup/train/plugins/profile/2022_01_28_22_45_21/ab0180b02496.overview_page.pb\n",
      "Dumped tool data for input_pipeline.pb to backup/train/plugins/profile/2022_01_28_22_45_21/ab0180b02496.input_pipeline.pb\n",
      "Dumped tool data for tensorflow_stats.pb to backup/train/plugins/profile/2022_01_28_22_45_21/ab0180b02496.tensorflow_stats.pb\n",
      "Dumped tool data for kernel_stats.pb to backup/train/plugins/profile/2022_01_28_22_45_21/ab0180b02496.kernel_stats.pb\n",
      "\n"
     ]
    },
    {
     "name": "stdout",
     "output_type": "stream",
     "text": [
      "  6/100 [>.............................] - ETA: 1:24 - loss: 11904.1416 - bpp: 0.6684 - mse: 46.4980WARNING:tensorflow:Callback method `on_train_batch_end` is slow compared to the batch time (batch time: 0.0994s vs `on_train_batch_end` time: 0.5689s). Check your callbacks.\n",
      "100/100 [==============================] - 34s 150ms/step - loss: 4262.4326 - bpp: 0.6119 - mse: 16.6477\n",
      "[MemoryCallback]:  8901040\n",
      "\n",
      "Epoch 00001: loss improved from inf to 4262.43262, saving model to checkpoints_testME4_no_norm43/\n",
      "Epoch 2/10\n",
      "100/100 [==============================] - 10s 102ms/step - loss: 2145.9590 - bpp: 0.5771 - mse: 8.3804\n",
      "[MemoryCallback]:  8901040\n",
      "\n",
      "Epoch 00002: loss improved from 4262.43262 to 2145.95898, saving model to checkpoints_testME4_no_norm43/\n",
      "Epoch 3/10\n",
      "100/100 [==============================] - 10s 101ms/step - loss: 1661.5992 - bpp: 0.5709 - mse: 6.4884\n",
      "[MemoryCallback]:  8901040\n",
      "\n",
      "Epoch 00003: loss improved from 2145.95898 to 1661.59924, saving model to checkpoints_testME4_no_norm43/\n",
      "Epoch 4/10\n",
      "100/100 [==============================] - 10s 105ms/step - loss: 1432.4756 - bpp: 0.5689 - mse: 5.5934\n",
      "[MemoryCallback]:  8901040\n",
      "\n",
      "Epoch 00004: loss improved from 1661.59924 to 1432.47559, saving model to checkpoints_testME4_no_norm43/\n",
      "Epoch 5/10\n",
      "100/100 [==============================] - 10s 101ms/step - loss: 1422.1958 - bpp: 0.5678 - mse: 5.5532\n",
      "[MemoryCallback]:  8901040\n",
      "\n",
      "Epoch 00005: loss improved from 1432.47559 to 1422.19580, saving model to checkpoints_testME4_no_norm43/\n",
      "Epoch 6/10\n",
      "100/100 [==============================] - 10s 103ms/step - loss: 1278.4879 - bpp: 0.5670 - mse: 4.9919\n",
      "[MemoryCallback]:  8901040\n",
      "\n",
      "Epoch 00006: loss improved from 1422.19580 to 1278.48792, saving model to checkpoints_testME4_no_norm43/\n",
      "Epoch 7/10\n",
      "100/100 [==============================] - 10s 99ms/step - loss: 1102.7671 - bpp: 0.5672 - mse: 4.3055\n",
      "[MemoryCallback]:  8901040\n",
      "\n",
      "Epoch 00007: loss improved from 1278.48792 to 1102.76709, saving model to checkpoints_testME4_no_norm43/\n",
      "Epoch 8/10\n",
      "100/100 [==============================] - 10s 101ms/step - loss: 1026.5426 - bpp: 0.5674 - mse: 4.0077\n",
      "[MemoryCallback]:  8901040\n",
      "\n",
      "Epoch 00008: loss improved from 1102.76709 to 1026.54260, saving model to checkpoints_testME4_no_norm43/\n",
      "Epoch 9/10\n",
      "100/100 [==============================] - 10s 102ms/step - loss: 1007.6872 - bpp: 0.5676 - mse: 3.9341\n",
      "[MemoryCallback]:  8901040\n",
      "\n",
      "Epoch 00009: loss improved from 1026.54260 to 1007.68719, saving model to checkpoints_testME4_no_norm43/\n",
      "Epoch 10/10\n",
      "100/100 [==============================] - 10s 103ms/step - loss: 1014.2499 - bpp: 0.5678 - mse: 3.9597\n",
      "[MemoryCallback]:  8901040\n",
      "\n",
      "Epoch 00010: loss did not improve from 1007.68719\n",
      "/mnt/WindowsDev/DataSets/vimeo_septuplet/sequences/00024/0425/im1.png\n",
      "compress\n",
      "in the compress\n",
      "in decompress\n",
      "* [Model compiled]...\n",
      "* [Loading dataset]...\n",
      "Loading weights\n",
      "Going to fit\n"
     ]
    },
    {
     "name": "stderr",
     "output_type": "stream",
     "text": [
      "2022-01-28 22:47:35.959226: I tensorflow/core/profiler/lib/profiler_session.cc:126] Profiler session initializing.\n",
      "2022-01-28 22:47:35.959293: I tensorflow/core/profiler/lib/profiler_session.cc:141] Profiler session started.\n",
      "2022-01-28 22:47:37.049934: I tensorflow/core/profiler/lib/profiler_session.cc:159] Profiler session tear down.\n",
      "2022-01-28 22:47:37.072344: I tensorflow/core/profiler/internal/gpu/cupti_tracer.cc:1743] CUPTI activity buffer flushed\n"
     ]
    },
    {
     "name": "stdout",
     "output_type": "stream",
     "text": [
      "Epoch 1/10\n",
      "  1/100 [..............................] - ETA: 32:06 - loss: 12133.5283 - bpp: 0.7438 - mse: 47.3937"
     ]
    },
    {
     "name": "stderr",
     "output_type": "stream",
     "text": [
      "2022-01-28 22:47:57.513616: I tensorflow/core/profiler/lib/profiler_session.cc:126] Profiler session initializing.\n",
      "2022-01-28 22:47:57.513669: I tensorflow/core/profiler/lib/profiler_session.cc:141] Profiler session started.\n"
     ]
    },
    {
     "name": "stdout",
     "output_type": "stream",
     "text": [
      "  2/100 [..............................] - ETA: 2:00 - loss: 10070.8340 - bpp: 0.7430 - mse: 39.3363 "
     ]
    },
    {
     "name": "stderr",
     "output_type": "stream",
     "text": [
      "2022-01-28 22:47:59.704403: I tensorflow/core/profiler/lib/profiler_session.cc:66] Profiler session collecting data.\n",
      "2022-01-28 22:47:59.733833: I tensorflow/core/profiler/internal/gpu/cupti_tracer.cc:1743] CUPTI activity buffer flushed\n",
      "2022-01-28 22:47:59.852448: I tensorflow/core/profiler/internal/gpu/cupti_collector.cc:673]  GpuTracer has collected 3372 callback api events and 3336 activity events. \n",
      "2022-01-28 22:47:59.981730: I tensorflow/core/profiler/lib/profiler_session.cc:159] Profiler session tear down.\n",
      "2022-01-28 22:48:00.132531: I tensorflow/core/profiler/rpc/client/save_profile.cc:137] Creating directory: backup/train/plugins/profile/2022_01_28_22_47_59\n",
      "2022-01-28 22:48:00.202221: I tensorflow/core/profiler/rpc/client/save_profile.cc:143] Dumped gzipped tool data for trace.json.gz to backup/train/plugins/profile/2022_01_28_22_47_59/ab0180b02496.trace.json.gz\n"
     ]
    },
    {
     "name": "stdout",
     "output_type": "stream",
     "text": [
      "  3/100 [..............................] - ETA: 3:07 - loss: 8738.8076 - bpp: 0.7398 - mse: 34.1331 "
     ]
    },
    {
     "name": "stderr",
     "output_type": "stream",
     "text": [
      "2022-01-28 22:48:00.405220: I tensorflow/core/profiler/rpc/client/save_profile.cc:137] Creating directory: backup/train/plugins/profile/2022_01_28_22_47_59\n",
      "2022-01-28 22:48:00.415338: I tensorflow/core/profiler/rpc/client/save_profile.cc:143] Dumped gzipped tool data for memory_profile.json.gz to backup/train/plugins/profile/2022_01_28_22_47_59/ab0180b02496.memory_profile.json.gz\n",
      "2022-01-28 22:48:00.424705: I tensorflow/core/profiler/rpc/client/capture_profile.cc:251] Creating directory: backup/train/plugins/profile/2022_01_28_22_47_59Dumped tool data for xplane.pb to backup/train/plugins/profile/2022_01_28_22_47_59/ab0180b02496.xplane.pb\n",
      "Dumped tool data for overview_page.pb to backup/train/plugins/profile/2022_01_28_22_47_59/ab0180b02496.overview_page.pb\n",
      "Dumped tool data for input_pipeline.pb to backup/train/plugins/profile/2022_01_28_22_47_59/ab0180b02496.input_pipeline.pb\n",
      "Dumped tool data for tensorflow_stats.pb to backup/train/plugins/profile/2022_01_28_22_47_59/ab0180b02496.tensorflow_stats.pb\n",
      "Dumped tool data for kernel_stats.pb to backup/train/plugins/profile/2022_01_28_22_47_59/ab0180b02496.kernel_stats.pb\n",
      "\n"
     ]
    },
    {
     "name": "stdout",
     "output_type": "stream",
     "text": [
      "  6/100 [>.............................] - ETA: 1:18 - loss: 7144.3862 - bpp: 0.7293 - mse: 27.9049WARNING:tensorflow:Callback method `on_train_batch_end` is slow compared to the batch time (batch time: 0.0998s vs `on_train_batch_end` time: 0.5617s). Check your callbacks.\n",
      "100/100 [==============================] - 34s 147ms/step - loss: 1685.7267 - bpp: 0.6619 - mse: 6.5823\n",
      "[MemoryCallback]:  8901040\n",
      "\n",
      "Epoch 00001: loss improved from inf to 1685.72668, saving model to checkpoints_testME4_no_norm44/\n",
      "Epoch 2/10\n",
      "100/100 [==============================] - 10s 103ms/step - loss: 669.1310 - bpp: 0.6391 - mse: 2.6113\n",
      "[MemoryCallback]:  8901040\n",
      "\n",
      "Epoch 00002: loss improved from 1685.72668 to 669.13104, saving model to checkpoints_testME4_no_norm44/\n",
      "Epoch 3/10\n",
      "100/100 [==============================] - 10s 101ms/step - loss: 545.6445 - bpp: 0.6346 - mse: 2.1289\n",
      "[MemoryCallback]:  8901040\n",
      "\n",
      "Epoch 00003: loss improved from 669.13104 to 545.64447, saving model to checkpoints_testME4_no_norm44/\n",
      "Epoch 4/10\n",
      "100/100 [==============================] - 10s 101ms/step - loss: 478.2289 - bpp: 0.6325 - mse: 1.8656\n",
      "[MemoryCallback]:  8901040\n",
      "\n",
      "Epoch 00004: loss improved from 545.64447 to 478.22888, saving model to checkpoints_testME4_no_norm44/\n",
      "Epoch 5/10\n",
      "100/100 [==============================] - 9s 91ms/step - loss: 432.6831 - bpp: 0.6318 - mse: 1.6877\n",
      "[MemoryCallback]:  8901040\n",
      "\n",
      "Epoch 00005: loss improved from 478.22888 to 432.68314, saving model to checkpoints_testME4_no_norm44/\n",
      "Epoch 6/10\n",
      "100/100 [==============================] - 10s 102ms/step - loss: 398.6965 - bpp: 0.6317 - mse: 1.5549\n",
      "[MemoryCallback]:  8901040\n",
      "\n",
      "Epoch 00006: loss improved from 432.68314 to 398.69647, saving model to checkpoints_testME4_no_norm44/\n",
      "Epoch 7/10\n",
      "100/100 [==============================] - 10s 100ms/step - loss: 371.1629 - bpp: 0.6319 - mse: 1.4474\n",
      "[MemoryCallback]:  8901040\n",
      "\n",
      "Epoch 00007: loss improved from 398.69647 to 371.16293, saving model to checkpoints_testME4_no_norm44/\n",
      "Epoch 8/10\n",
      "100/100 [==============================] - 10s 104ms/step - loss: 349.0407 - bpp: 0.6328 - mse: 1.3610\n",
      "[MemoryCallback]:  8901040\n",
      "\n",
      "Epoch 00008: loss improved from 371.16293 to 349.04074, saving model to checkpoints_testME4_no_norm44/\n",
      "Epoch 9/10\n",
      "100/100 [==============================] - 9s 92ms/step - loss: 330.9913 - bpp: 0.6336 - mse: 1.2905\n",
      "[MemoryCallback]:  8901040\n",
      "\n",
      "Epoch 00009: loss improved from 349.04074 to 330.99133, saving model to checkpoints_testME4_no_norm44/\n",
      "Epoch 10/10\n",
      "100/100 [==============================] - 10s 99ms/step - loss: 315.8330 - bpp: 0.6344 - mse: 1.2312\n",
      "[MemoryCallback]:  8901040\n",
      "\n",
      "Epoch 00010: loss improved from 330.99133 to 315.83301, saving model to checkpoints_testME4_no_norm44/\n",
      "/mnt/WindowsDev/DataSets/vimeo_septuplet/sequences/00009/0935/im1.png\n",
      "compress\n",
      "in the compress\n",
      "in decompress\n",
      "* [Model compiled]...\n",
      "* [Loading dataset]...\n",
      "Loading weights\n",
      "Going to fit\n"
     ]
    },
    {
     "name": "stderr",
     "output_type": "stream",
     "text": [
      "2022-01-28 22:50:27.589347: I tensorflow/core/profiler/lib/profiler_session.cc:126] Profiler session initializing.\n",
      "2022-01-28 22:50:27.589436: I tensorflow/core/profiler/lib/profiler_session.cc:141] Profiler session started.\n",
      "2022-01-28 22:50:28.841762: I tensorflow/core/profiler/lib/profiler_session.cc:159] Profiler session tear down.\n",
      "2022-01-28 22:50:28.847782: I tensorflow/core/profiler/internal/gpu/cupti_tracer.cc:1743] CUPTI activity buffer flushed\n"
     ]
    },
    {
     "name": "stdout",
     "output_type": "stream",
     "text": [
      "Epoch 1/10\n",
      "  1/100 [..............................] - ETA: 31:41 - loss: 149852.8594 - bpp: 0.6792 - mse: 585.3601"
     ]
    },
    {
     "name": "stderr",
     "output_type": "stream",
     "text": [
      "2022-01-28 22:50:48.919749: I tensorflow/core/profiler/lib/profiler_session.cc:126] Profiler session initializing.\n",
      "2022-01-28 22:50:48.920265: I tensorflow/core/profiler/lib/profiler_session.cc:141] Profiler session started.\n"
     ]
    },
    {
     "name": "stdout",
     "output_type": "stream",
     "text": [
      "  2/100 [..............................] - ETA: 1:59 - loss: 170440.0625 - bpp: 0.6863 - mse: 665.7788 "
     ]
    },
    {
     "name": "stderr",
     "output_type": "stream",
     "text": [
      "2022-01-28 22:50:51.141299: I tensorflow/core/profiler/lib/profiler_session.cc:66] Profiler session collecting data.\n",
      "2022-01-28 22:50:51.167540: I tensorflow/core/profiler/internal/gpu/cupti_tracer.cc:1743] CUPTI activity buffer flushed\n",
      "2022-01-28 22:50:51.259685: I tensorflow/core/profiler/internal/gpu/cupti_collector.cc:673]  GpuTracer has collected 3372 callback api events and 3336 activity events. \n",
      "2022-01-28 22:50:51.373313: I tensorflow/core/profiler/lib/profiler_session.cc:159] Profiler session tear down.\n",
      "2022-01-28 22:50:51.506602: I tensorflow/core/profiler/rpc/client/save_profile.cc:137] Creating directory: backup/train/plugins/profile/2022_01_28_22_50_51\n",
      "2022-01-28 22:50:51.573853: I tensorflow/core/profiler/rpc/client/save_profile.cc:143] Dumped gzipped tool data for trace.json.gz to backup/train/plugins/profile/2022_01_28_22_50_51/ab0180b02496.trace.json.gz\n"
     ]
    },
    {
     "name": "stdout",
     "output_type": "stream",
     "text": [
      "  3/100 [..............................] - ETA: 3:03 - loss: 133291.9219 - bpp: 0.6871 - mse: 520.6689"
     ]
    },
    {
     "name": "stderr",
     "output_type": "stream",
     "text": [
      "2022-01-28 22:50:51.770530: I tensorflow/core/profiler/rpc/client/save_profile.cc:137] Creating directory: backup/train/plugins/profile/2022_01_28_22_50_51\n",
      "2022-01-28 22:50:51.780895: I tensorflow/core/profiler/rpc/client/save_profile.cc:143] Dumped gzipped tool data for memory_profile.json.gz to backup/train/plugins/profile/2022_01_28_22_50_51/ab0180b02496.memory_profile.json.gz\n",
      "2022-01-28 22:50:51.790786: I tensorflow/core/profiler/rpc/client/capture_profile.cc:251] Creating directory: backup/train/plugins/profile/2022_01_28_22_50_51Dumped tool data for xplane.pb to backup/train/plugins/profile/2022_01_28_22_50_51/ab0180b02496.xplane.pb\n",
      "Dumped tool data for overview_page.pb to backup/train/plugins/profile/2022_01_28_22_50_51/ab0180b02496.overview_page.pb\n",
      "Dumped tool data for input_pipeline.pb to backup/train/plugins/profile/2022_01_28_22_50_51/ab0180b02496.input_pipeline.pb\n",
      "Dumped tool data for tensorflow_stats.pb to backup/train/plugins/profile/2022_01_28_22_50_51/ab0180b02496.tensorflow_stats.pb\n",
      "Dumped tool data for kernel_stats.pb to backup/train/plugins/profile/2022_01_28_22_50_51/ab0180b02496.kernel_stats.pb\n",
      "\n"
     ]
    },
    {
     "name": "stdout",
     "output_type": "stream",
     "text": [
      "  6/100 [>.............................] - ETA: 1:17 - loss: 118242.3750 - bpp: 0.6860 - mse: 461.8816WARNING:tensorflow:Callback method `on_train_batch_end` is slow compared to the batch time (batch time: 0.1063s vs `on_train_batch_end` time: 0.5479s). Check your callbacks.\n",
      "100/100 [==============================] - 34s 149ms/step - loss: 34304.7266 - bpp: 0.6363 - mse: 134.0003\n",
      "[MemoryCallback]:  8901040\n",
      "\n",
      "Epoch 00001: loss improved from inf to 34304.72656, saving model to checkpoints_testME4_no_norm45/\n",
      "Epoch 2/10\n",
      "100/100 [==============================] - 10s 103ms/step - loss: 14238.7412 - bpp: 0.6075 - mse: 55.6177\n",
      "[MemoryCallback]:  8901040\n",
      "\n",
      "Epoch 00002: loss improved from 34304.72656 to 14238.74121, saving model to checkpoints_testME4_no_norm45/\n",
      "Epoch 3/10\n",
      "100/100 [==============================] - 11s 110ms/step - loss: 10733.2012 - bpp: 0.6099 - mse: 41.9242\n",
      "[MemoryCallback]:  8901040\n",
      "\n",
      "Epoch 00003: loss improved from 14238.74121 to 10733.20117, saving model to checkpoints_testME4_no_norm45/\n",
      "Epoch 4/10\n",
      "100/100 [==============================] - 11s 106ms/step - loss: 8900.1211 - bpp: 0.6139 - mse: 34.7637\n",
      "[MemoryCallback]:  8901040\n",
      "\n",
      "Epoch 00004: loss improved from 10733.20117 to 8900.12109, saving model to checkpoints_testME4_no_norm45/\n",
      "Epoch 5/10\n",
      "100/100 [==============================] - 10s 105ms/step - loss: 7746.0112 - bpp: 0.6174 - mse: 30.2554\n",
      "[MemoryCallback]:  8901040\n",
      "\n",
      "Epoch 00005: loss improved from 8900.12109 to 7746.01123, saving model to checkpoints_testME4_no_norm45/\n",
      "Epoch 6/10\n",
      "100/100 [==============================] - 10s 103ms/step - loss: 6974.2754 - bpp: 0.6208 - mse: 27.2408\n",
      "[MemoryCallback]:  8901040\n",
      "\n",
      "Epoch 00006: loss improved from 7746.01123 to 6974.27539, saving model to checkpoints_testME4_no_norm45/\n",
      "Epoch 7/10\n",
      "100/100 [==============================] - 10s 101ms/step - loss: 6309.4102 - bpp: 0.6240 - mse: 24.6437\n",
      "[MemoryCallback]:  8901040\n",
      "\n",
      "Epoch 00007: loss improved from 6974.27539 to 6309.41016, saving model to checkpoints_testME4_no_norm45/\n",
      "Epoch 8/10\n",
      "100/100 [==============================] - 10s 100ms/step - loss: 6000.5371 - bpp: 0.6263 - mse: 23.4372\n",
      "[MemoryCallback]:  8901040\n",
      "\n",
      "Epoch 00008: loss improved from 6309.41016 to 6000.53711, saving model to checkpoints_testME4_no_norm45/\n",
      "Epoch 9/10\n",
      "100/100 [==============================] - 9s 92ms/step - loss: 5618.0938 - bpp: 0.6287 - mse: 21.9432\n",
      "[MemoryCallback]:  8901040\n",
      "\n",
      "Epoch 00009: loss improved from 6000.53711 to 5618.09375, saving model to checkpoints_testME4_no_norm45/\n",
      "Epoch 10/10\n",
      "100/100 [==============================] - 10s 104ms/step - loss: 5390.1133 - bpp: 0.6307 - mse: 21.0527\n",
      "[MemoryCallback]:  8901040\n",
      "\n",
      "Epoch 00010: loss improved from 5618.09375 to 5390.11328, saving model to checkpoints_testME4_no_norm45/\n",
      "/mnt/WindowsDev/DataSets/vimeo_septuplet/sequences/00034/0323/im1.png\n",
      "compress\n",
      "in the compress\n",
      "in decompress\n",
      "* [Model compiled]...\n",
      "* [Loading dataset]...\n",
      "Loading weights\n",
      "Going to fit\n"
     ]
    },
    {
     "name": "stderr",
     "output_type": "stream",
     "text": [
      "2022-01-28 22:53:12.162518: I tensorflow/core/profiler/lib/profiler_session.cc:126] Profiler session initializing.\n",
      "2022-01-28 22:53:12.162597: I tensorflow/core/profiler/lib/profiler_session.cc:141] Profiler session started.\n",
      "2022-01-28 22:53:13.362362: I tensorflow/core/profiler/lib/profiler_session.cc:159] Profiler session tear down.\n",
      "2022-01-28 22:53:13.366078: I tensorflow/core/profiler/internal/gpu/cupti_tracer.cc:1743] CUPTI activity buffer flushed\n"
     ]
    },
    {
     "name": "stdout",
     "output_type": "stream",
     "text": [
      "Epoch 1/10\n",
      "  1/100 [..............................] - ETA: 42:14 - loss: 33966.4023 - bpp: 0.7029 - mse: 132.6785"
     ]
    },
    {
     "name": "stderr",
     "output_type": "stream",
     "text": [
      "2022-01-28 22:53:40.055263: I tensorflow/core/profiler/lib/profiler_session.cc:126] Profiler session initializing.\n",
      "2022-01-28 22:53:40.055307: I tensorflow/core/profiler/lib/profiler_session.cc:141] Profiler session started.\n"
     ]
    },
    {
     "name": "stdout",
     "output_type": "stream",
     "text": [
      "  2/100 [..............................] - ETA: 2:50 - loss: 30382.4141 - bpp: 0.7011 - mse: 118.6786 "
     ]
    },
    {
     "name": "stderr",
     "output_type": "stream",
     "text": [
      "2022-01-28 22:53:43.083954: I tensorflow/core/profiler/lib/profiler_session.cc:66] Profiler session collecting data.\n",
      "2022-01-28 22:53:43.131529: I tensorflow/core/profiler/internal/gpu/cupti_tracer.cc:1743] CUPTI activity buffer flushed\n",
      "2022-01-28 22:53:43.297518: I tensorflow/core/profiler/internal/gpu/cupti_collector.cc:673]  GpuTracer has collected 3372 callback api events and 3336 activity events. \n",
      "2022-01-28 22:53:43.421201: I tensorflow/core/profiler/lib/profiler_session.cc:159] Profiler session tear down.\n",
      "2022-01-28 22:53:43.576721: I tensorflow/core/profiler/rpc/client/save_profile.cc:137] Creating directory: backup/train/plugins/profile/2022_01_28_22_53_43\n",
      "2022-01-28 22:53:43.642994: I tensorflow/core/profiler/rpc/client/save_profile.cc:143] Dumped gzipped tool data for trace.json.gz to backup/train/plugins/profile/2022_01_28_22_53_43/ab0180b02496.trace.json.gz\n"
     ]
    },
    {
     "name": "stdout",
     "output_type": "stream",
     "text": [
      "  3/100 [..............................] - ETA: 4:03 - loss: 26489.2754 - bpp: 0.7021 - mse: 103.4710"
     ]
    },
    {
     "name": "stderr",
     "output_type": "stream",
     "text": [
      "2022-01-28 22:53:43.872242: I tensorflow/core/profiler/rpc/client/save_profile.cc:137] Creating directory: backup/train/plugins/profile/2022_01_28_22_53_43\n",
      "2022-01-28 22:53:43.883059: I tensorflow/core/profiler/rpc/client/save_profile.cc:143] Dumped gzipped tool data for memory_profile.json.gz to backup/train/plugins/profile/2022_01_28_22_53_43/ab0180b02496.memory_profile.json.gz\n",
      "2022-01-28 22:53:43.893509: I tensorflow/core/profiler/rpc/client/capture_profile.cc:251] Creating directory: backup/train/plugins/profile/2022_01_28_22_53_43Dumped tool data for xplane.pb to backup/train/plugins/profile/2022_01_28_22_53_43/ab0180b02496.xplane.pb\n",
      "Dumped tool data for overview_page.pb to backup/train/plugins/profile/2022_01_28_22_53_43/ab0180b02496.overview_page.pb\n",
      "Dumped tool data for input_pipeline.pb to backup/train/plugins/profile/2022_01_28_22_53_43/ab0180b02496.input_pipeline.pb\n",
      "Dumped tool data for tensorflow_stats.pb to backup/train/plugins/profile/2022_01_28_22_53_43/ab0180b02496.tensorflow_stats.pb\n",
      "Dumped tool data for kernel_stats.pb to backup/train/plugins/profile/2022_01_28_22_53_43/ab0180b02496.kernel_stats.pb\n",
      "\n"
     ]
    },
    {
     "name": "stdout",
     "output_type": "stream",
     "text": [
      "  6/100 [>.............................] - ETA: 1:41 - loss: 26293.3730 - bpp: 0.6967 - mse: 102.7058WARNING:tensorflow:Callback method `on_train_batch_end` is slow compared to the batch time (batch time: 0.1187s vs `on_train_batch_end` time: 0.7042s). Check your callbacks.\n",
      "100/100 [==============================] - 42s 163ms/step - loss: 5616.4907 - bpp: 0.6324 - mse: 21.9369\n",
      "[MemoryCallback]:  8901040\n",
      "\n",
      "Epoch 00001: loss improved from inf to 5616.49072, saving model to checkpoints_testME4_no_norm46/\n",
      "Epoch 2/10\n",
      "100/100 [==============================] - 11s 114ms/step - loss: 1043.0364 - bpp: 0.5769 - mse: 4.0721\n",
      "[MemoryCallback]:  8901040\n",
      "\n",
      "Epoch 00002: loss improved from 5616.49072 to 1043.03638, saving model to checkpoints_testME4_no_norm46/\n",
      "Epoch 3/10\n",
      "100/100 [==============================] - 10s 104ms/step - loss: 805.4367 - bpp: 0.5602 - mse: 3.1440\n",
      "[MemoryCallback]:  8901040\n",
      "\n",
      "Epoch 00003: loss improved from 1043.03638 to 805.43671, saving model to checkpoints_testME4_no_norm46/\n",
      "Epoch 4/10\n",
      "100/100 [==============================] - 9s 93ms/step - loss: 684.4316 - bpp: 0.5523 - mse: 2.6714\n",
      "[MemoryCallback]:  8901040\n",
      "\n",
      "Epoch 00004: loss improved from 805.43671 to 684.43164, saving model to checkpoints_testME4_no_norm46/\n",
      "Epoch 5/10\n",
      "100/100 [==============================] - 10s 101ms/step - loss: 675.6437 - bpp: 0.5475 - mse: 2.6371\n",
      "[MemoryCallback]:  8901040\n",
      "\n",
      "Epoch 00005: loss improved from 684.43164 to 675.64374, saving model to checkpoints_testME4_no_norm46/\n",
      "Epoch 6/10\n",
      "100/100 [==============================] - 10s 102ms/step - loss: 646.2149 - bpp: 0.5441 - mse: 2.5222\n",
      "[MemoryCallback]:  8901040\n",
      "\n",
      "Epoch 00006: loss improved from 675.64374 to 646.21490, saving model to checkpoints_testME4_no_norm46/\n",
      "Epoch 7/10\n",
      "100/100 [==============================] - 10s 102ms/step - loss: 569.3262 - bpp: 0.5415 - mse: 2.2218\n",
      "[MemoryCallback]:  8901040\n",
      "\n",
      "Epoch 00007: loss improved from 646.21490 to 569.32623, saving model to checkpoints_testME4_no_norm46/\n",
      "Epoch 8/10\n",
      "100/100 [==============================] - 10s 102ms/step - loss: 564.5351 - bpp: 0.5397 - mse: 2.2031\n",
      "[MemoryCallback]:  8901040\n",
      "\n",
      "Epoch 00008: loss improved from 569.32623 to 564.53510, saving model to checkpoints_testME4_no_norm46/\n",
      "Epoch 9/10\n",
      "100/100 [==============================] - 10s 101ms/step - loss: 543.1106 - bpp: 0.5377 - mse: 2.1194\n",
      "[MemoryCallback]:  8901040\n",
      "\n",
      "Epoch 00009: loss improved from 564.53510 to 543.11060, saving model to checkpoints_testME4_no_norm46/\n",
      "Epoch 10/10\n",
      "100/100 [==============================] - 10s 101ms/step - loss: 517.4280 - bpp: 0.5367 - mse: 2.0191\n",
      "[MemoryCallback]:  8901040\n",
      "\n",
      "Epoch 00010: loss improved from 543.11060 to 517.42798, saving model to checkpoints_testME4_no_norm46/\n",
      "/mnt/WindowsDev/DataSets/vimeo_septuplet/sequences/00018/0109/im1.png\n",
      "compress\n",
      "in the compress\n",
      "in decompress\n",
      "* [Model compiled]...\n",
      "* [Loading dataset]...\n",
      "Loading weights\n",
      "Going to fit\n"
     ]
    },
    {
     "name": "stderr",
     "output_type": "stream",
     "text": [
      "2022-01-28 22:56:05.297885: I tensorflow/core/profiler/lib/profiler_session.cc:126] Profiler session initializing.\n",
      "2022-01-28 22:56:05.297958: I tensorflow/core/profiler/lib/profiler_session.cc:141] Profiler session started.\n",
      "2022-01-28 22:56:06.634786: I tensorflow/core/profiler/lib/profiler_session.cc:159] Profiler session tear down.\n",
      "2022-01-28 22:56:06.643561: I tensorflow/core/profiler/internal/gpu/cupti_tracer.cc:1743] CUPTI activity buffer flushed\n"
     ]
    },
    {
     "name": "stdout",
     "output_type": "stream",
     "text": [
      "Epoch 1/10\n",
      "  1/100 [..............................] - ETA: 33:49 - loss: 27266.2852 - bpp: 0.5777 - mse: 106.5067"
     ]
    },
    {
     "name": "stderr",
     "output_type": "stream",
     "text": [
      "2022-01-28 22:56:28.180941: I tensorflow/core/profiler/lib/profiler_session.cc:126] Profiler session initializing.\n",
      "2022-01-28 22:56:28.181007: I tensorflow/core/profiler/lib/profiler_session.cc:141] Profiler session started.\n"
     ]
    },
    {
     "name": "stdout",
     "output_type": "stream",
     "text": [
      "  2/100 [..............................] - ETA: 2:57 - loss: 22455.7969 - bpp: 0.5829 - mse: 87.7157  "
     ]
    },
    {
     "name": "stderr",
     "output_type": "stream",
     "text": [
      "2022-01-28 22:56:31.456849: I tensorflow/core/profiler/lib/profiler_session.cc:66] Profiler session collecting data.\n",
      "2022-01-28 22:56:31.487890: I tensorflow/core/profiler/internal/gpu/cupti_tracer.cc:1743] CUPTI activity buffer flushed\n",
      "2022-01-28 22:56:31.626023: I tensorflow/core/profiler/internal/gpu/cupti_collector.cc:673]  GpuTracer has collected 3372 callback api events and 3336 activity events. \n",
      "2022-01-28 22:56:31.771384: I tensorflow/core/profiler/lib/profiler_session.cc:159] Profiler session tear down.\n",
      "2022-01-28 22:56:31.957460: I tensorflow/core/profiler/rpc/client/save_profile.cc:137] Creating directory: backup/train/plugins/profile/2022_01_28_22_56_31\n",
      "2022-01-28 22:56:32.032114: I tensorflow/core/profiler/rpc/client/save_profile.cc:143] Dumped gzipped tool data for trace.json.gz to backup/train/plugins/profile/2022_01_28_22_56_31/ab0180b02496.trace.json.gz\n",
      "2022-01-28 22:56:32.307367: I tensorflow/core/profiler/rpc/client/save_profile.cc:137] Creating directory: backup/train/plugins/profile/2022_01_28_22_56_31\n",
      "2022-01-28 22:56:32.318541: I tensorflow/core/profiler/rpc/client/save_profile.cc:143] Dumped gzipped tool data for memory_profile.json.gz to backup/train/plugins/profile/2022_01_28_22_56_31/ab0180b02496.memory_profile.json.gz\n",
      "2022-01-28 22:56:32.330527: I tensorflow/core/profiler/rpc/client/capture_profile.cc:251] Creating directory: backup/train/plugins/profile/2022_01_28_22_56_31Dumped tool data for xplane.pb to backup/train/plugins/profile/2022_01_28_22_56_31/ab0180b02496.xplane.pb\n",
      "Dumped tool data for overview_page.pb to backup/train/plugins/profile/2022_01_28_22_56_31/ab0180b02496.overview_page.pb\n",
      "Dumped tool data for input_pipeline.pb to backup/train/plugins/profile/2022_01_28_22_56_31/ab0180b02496.input_pipeline.pb\n",
      "Dumped tool data for tensorflow_stats.pb to backup/train/plugins/profile/2022_01_28_22_56_31/ab0180b02496.tensorflow_stats.pb\n",
      "Dumped tool data for kernel_stats.pb to backup/train/plugins/profile/2022_01_28_22_56_31/ab0180b02496.kernel_stats.pb\n",
      "\n"
     ]
    },
    {
     "name": "stdout",
     "output_type": "stream",
     "text": [
      "  6/100 [>.............................] - ETA: 1:45 - loss: 20555.1406 - bpp: 0.5855 - mse: 80.2912WARNING:tensorflow:Callback method `on_train_batch_begin` is slow compared to the batch time (batch time: 0.1252s vs `on_train_batch_begin` time: 0.1280s). Check your callbacks.\n",
      "WARNING:tensorflow:Callback method `on_train_batch_end` is slow compared to the batch time (batch time: 0.1252s vs `on_train_batch_end` time: 0.7070s). Check your callbacks.\n",
      "100/100 [==============================] - 36s 159ms/step - loss: 4393.9580 - bpp: 0.5663 - mse: 17.1617\n",
      "[MemoryCallback]:  8901040\n",
      "\n",
      "Epoch 00001: loss improved from inf to 4393.95801, saving model to checkpoints_testME4_no_norm47/\n",
      "Epoch 2/10\n",
      "100/100 [==============================] - 10s 103ms/step - loss: 1595.5914 - bpp: 0.5577 - mse: 6.2306\n",
      "[MemoryCallback]:  8901040\n",
      "\n",
      "Epoch 00002: loss improved from 4393.95801 to 1595.59143, saving model to checkpoints_testME4_no_norm47/\n",
      "Epoch 3/10\n",
      "100/100 [==============================] - 10s 102ms/step - loss: 1249.7042 - bpp: 0.5626 - mse: 4.8795\n",
      "[MemoryCallback]:  8901040\n",
      "\n",
      "Epoch 00003: loss improved from 1595.59143 to 1249.70422, saving model to checkpoints_testME4_no_norm47/\n",
      "Epoch 4/10\n",
      "100/100 [==============================] - 10s 101ms/step - loss: 1087.6975 - bpp: 0.5666 - mse: 4.2466\n",
      "[MemoryCallback]:  8901040\n",
      "\n",
      "Epoch 00004: loss improved from 1249.70422 to 1087.69751, saving model to checkpoints_testME4_no_norm47/\n",
      "Epoch 5/10\n",
      "100/100 [==============================] - 10s 99ms/step - loss: 986.3054 - bpp: 0.5699 - mse: 3.8505\n",
      "[MemoryCallback]:  8901040\n",
      "\n",
      "Epoch 00005: loss improved from 1087.69751 to 986.30542, saving model to checkpoints_testME4_no_norm47/\n",
      "Epoch 6/10\n",
      "100/100 [==============================] - 10s 102ms/step - loss: 925.4261 - bpp: 0.5730 - mse: 3.6127\n",
      "[MemoryCallback]:  8901040\n",
      "\n",
      "Epoch 00006: loss improved from 986.30542 to 925.42609, saving model to checkpoints_testME4_no_norm47/\n",
      "Epoch 7/10\n",
      "100/100 [==============================] - 10s 99ms/step - loss: 834.4877 - bpp: 0.5756 - mse: 3.2575\n",
      "[MemoryCallback]:  8901040\n",
      "\n",
      "Epoch 00007: loss improved from 925.42609 to 834.48773, saving model to checkpoints_testME4_no_norm47/\n",
      "Epoch 8/10\n",
      "100/100 [==============================] - 10s 101ms/step - loss: 819.3635 - bpp: 0.5775 - mse: 3.1984\n",
      "[MemoryCallback]:  8901040\n",
      "\n",
      "Epoch 00008: loss improved from 834.48773 to 819.36346, saving model to checkpoints_testME4_no_norm47/\n",
      "Epoch 9/10\n",
      "100/100 [==============================] - 10s 101ms/step - loss: 704.0707 - bpp: 0.5797 - mse: 2.7480\n",
      "[MemoryCallback]:  8901040\n",
      "\n",
      "Epoch 00009: loss improved from 819.36346 to 704.07068, saving model to checkpoints_testME4_no_norm47/\n",
      "Epoch 10/10\n",
      "100/100 [==============================] - 9s 91ms/step - loss: 1030.0405 - bpp: 0.5818 - mse: 4.0213\n",
      "[MemoryCallback]:  8901040\n",
      "\n",
      "Epoch 00010: loss did not improve from 704.07068\n",
      "/mnt/WindowsDev/DataSets/vimeo_septuplet/sequences/00054/0413/im1.png\n",
      "compress\n",
      "in the compress\n",
      "in decompress\n",
      "* [Model compiled]...\n",
      "* [Loading dataset]...\n",
      "Loading weights\n",
      "Going to fit\n"
     ]
    },
    {
     "name": "stderr",
     "output_type": "stream",
     "text": [
      "2022-01-28 22:58:49.448152: I tensorflow/core/profiler/lib/profiler_session.cc:126] Profiler session initializing.\n",
      "2022-01-28 22:58:49.448245: I tensorflow/core/profiler/lib/profiler_session.cc:141] Profiler session started.\n",
      "2022-01-28 22:58:50.593689: I tensorflow/core/profiler/lib/profiler_session.cc:159] Profiler session tear down.\n",
      "2022-01-28 22:58:50.597495: I tensorflow/core/profiler/internal/gpu/cupti_tracer.cc:1743] CUPTI activity buffer flushed\n"
     ]
    },
    {
     "name": "stdout",
     "output_type": "stream",
     "text": [
      "Epoch 1/10\n",
      "  1/100 [..............................] - ETA: 32:50 - loss: 577390.2500 - bpp: 0.6119 - mse: 2255.4282"
     ]
    },
    {
     "name": "stderr",
     "output_type": "stream",
     "text": [
      "2022-01-28 22:59:11.251467: I tensorflow/core/profiler/lib/profiler_session.cc:126] Profiler session initializing.\n",
      "2022-01-28 22:59:11.251541: I tensorflow/core/profiler/lib/profiler_session.cc:141] Profiler session started.\n"
     ]
    },
    {
     "name": "stdout",
     "output_type": "stream",
     "text": [
      "  2/100 [..............................] - ETA: 2:47 - loss: 388905.1875 - bpp: 0.6158 - mse: 1519.1584 "
     ]
    },
    {
     "name": "stderr",
     "output_type": "stream",
     "text": [
      "2022-01-28 22:59:14.070468: I tensorflow/core/profiler/lib/profiler_session.cc:66] Profiler session collecting data.\n",
      "2022-01-28 22:59:14.086341: I tensorflow/core/profiler/internal/gpu/cupti_tracer.cc:1743] CUPTI activity buffer flushed\n",
      "2022-01-28 22:59:14.165883: I tensorflow/core/profiler/internal/gpu/cupti_collector.cc:673]  GpuTracer has collected 3372 callback api events and 3336 activity events. \n",
      "2022-01-28 22:59:14.270179: I tensorflow/core/profiler/lib/profiler_session.cc:159] Profiler session tear down.\n",
      "2022-01-28 22:59:14.398389: I tensorflow/core/profiler/rpc/client/save_profile.cc:137] Creating directory: backup/train/plugins/profile/2022_01_28_22_59_14\n",
      "2022-01-28 22:59:14.464637: I tensorflow/core/profiler/rpc/client/save_profile.cc:143] Dumped gzipped tool data for trace.json.gz to backup/train/plugins/profile/2022_01_28_22_59_14/ab0180b02496.trace.json.gz\n"
     ]
    },
    {
     "name": "stdout",
     "output_type": "stream",
     "text": [
      "  3/100 [..............................] - ETA: 3:25 - loss: 419892.0000 - bpp: 0.6179 - mse: 1640.2007"
     ]
    },
    {
     "name": "stderr",
     "output_type": "stream",
     "text": [
      "2022-01-28 22:59:14.640866: I tensorflow/core/profiler/rpc/client/save_profile.cc:137] Creating directory: backup/train/plugins/profile/2022_01_28_22_59_14\n",
      "2022-01-28 22:59:14.651169: I tensorflow/core/profiler/rpc/client/save_profile.cc:143] Dumped gzipped tool data for memory_profile.json.gz to backup/train/plugins/profile/2022_01_28_22_59_14/ab0180b02496.memory_profile.json.gz\n",
      "2022-01-28 22:59:14.660381: I tensorflow/core/profiler/rpc/client/capture_profile.cc:251] Creating directory: backup/train/plugins/profile/2022_01_28_22_59_14Dumped tool data for xplane.pb to backup/train/plugins/profile/2022_01_28_22_59_14/ab0180b02496.xplane.pb\n",
      "Dumped tool data for overview_page.pb to backup/train/plugins/profile/2022_01_28_22_59_14/ab0180b02496.overview_page.pb\n",
      "Dumped tool data for input_pipeline.pb to backup/train/plugins/profile/2022_01_28_22_59_14/ab0180b02496.input_pipeline.pb\n",
      "Dumped tool data for tensorflow_stats.pb to backup/train/plugins/profile/2022_01_28_22_59_14/ab0180b02496.tensorflow_stats.pb\n",
      "Dumped tool data for kernel_stats.pb to backup/train/plugins/profile/2022_01_28_22_59_14/ab0180b02496.kernel_stats.pb\n",
      "\n"
     ]
    },
    {
     "name": "stdout",
     "output_type": "stream",
     "text": [
      "  6/100 [>.............................] - ETA: 1:26 - loss: 284429.7188 - bpp: 0.6099 - mse: 1111.0513WARNING:tensorflow:Callback method `on_train_batch_begin` is slow compared to the batch time (batch time: 0.1075s vs `on_train_batch_begin` time: 0.1521s). Check your callbacks.\n",
      "WARNING:tensorflow:Callback method `on_train_batch_end` is slow compared to the batch time (batch time: 0.1075s vs `on_train_batch_end` time: 0.5225s). Check your callbacks.\n",
      "100/100 [==============================] - 34s 144ms/step - loss: 36017.6719 - bpp: 0.5852 - mse: 140.6917\n",
      "[MemoryCallback]:  9291812\n",
      "\n",
      "Epoch 00001: loss improved from inf to 36017.67188, saving model to checkpoints_testME4_no_norm48/\n",
      "Epoch 2/10\n",
      "100/100 [==============================] - 11s 106ms/step - loss: 5480.5698 - bpp: 0.5757 - mse: 21.4062\n",
      "[MemoryCallback]:  9291812\n",
      "\n",
      "Epoch 00002: loss improved from 36017.67188 to 5480.56982, saving model to checkpoints_testME4_no_norm48/\n",
      "Epoch 3/10\n",
      "100/100 [==============================] - 10s 101ms/step - loss: 4475.5908 - bpp: 0.5765 - mse: 17.4805\n",
      "[MemoryCallback]:  9291812\n",
      "\n",
      "Epoch 00003: loss improved from 5480.56982 to 4475.59082, saving model to checkpoints_testME4_no_norm48/\n",
      "Epoch 4/10\n",
      "100/100 [==============================] - 10s 102ms/step - loss: 4252.0625 - bpp: 0.5779 - mse: 16.6074\n",
      "[MemoryCallback]:  9291812\n",
      "\n",
      "Epoch 00004: loss improved from 4475.59082 to 4252.06250, saving model to checkpoints_testME4_no_norm48/\n",
      "Epoch 5/10\n",
      "100/100 [==============================] - 10s 105ms/step - loss: 3606.1919 - bpp: 0.5792 - mse: 14.0844\n",
      "[MemoryCallback]:  9291812\n",
      "\n",
      "Epoch 00005: loss improved from 4252.06250 to 3606.19189, saving model to checkpoints_testME4_no_norm48/\n",
      "Epoch 6/10\n",
      "100/100 [==============================] - 10s 104ms/step - loss: 3361.6387 - bpp: 0.5800 - mse: 13.1291\n",
      "[MemoryCallback]:  9291812\n",
      "\n",
      "Epoch 00006: loss improved from 3606.19189 to 3361.63867, saving model to checkpoints_testME4_no_norm48/\n",
      "Epoch 7/10\n",
      "100/100 [==============================] - 10s 102ms/step - loss: 3439.5928 - bpp: 0.5808 - mse: 13.4336\n",
      "[MemoryCallback]:  9291812\n",
      "\n",
      "Epoch 00007: loss did not improve from 3361.63867\n",
      "Epoch 8/10\n",
      "100/100 [==============================] - 9s 93ms/step - loss: 3155.9199 - bpp: 0.5814 - mse: 12.3255\n",
      "[MemoryCallback]:  9291812\n",
      "\n",
      "Epoch 00008: loss improved from 3361.63867 to 3155.91992, saving model to checkpoints_testME4_no_norm48/\n",
      "Epoch 9/10\n",
      "100/100 [==============================] - 10s 103ms/step - loss: 3353.6418 - bpp: 0.5828 - mse: 13.0979\n",
      "[MemoryCallback]:  9291812\n",
      "\n",
      "Epoch 00009: loss did not improve from 3155.91992\n",
      "Epoch 10/10\n",
      "100/100 [==============================] - 9s 93ms/step - loss: 2926.1907 - bpp: 0.5836 - mse: 11.4282\n",
      "[MemoryCallback]:  9291812\n",
      "\n",
      "Epoch 00010: loss improved from 3155.91992 to 2926.19067, saving model to checkpoints_testME4_no_norm48/\n",
      "/mnt/WindowsDev/DataSets/vimeo_septuplet/sequences/00058/0184/im1.png\n",
      "compress\n",
      "in the compress\n",
      "in decompress\n",
      "* [Model compiled]...\n",
      "* [Loading dataset]...\n",
      "Loading weights\n",
      "Going to fit\n"
     ]
    },
    {
     "name": "stderr",
     "output_type": "stream",
     "text": [
      "2022-01-28 23:01:21.994703: I tensorflow/core/profiler/lib/profiler_session.cc:126] Profiler session initializing.\n",
      "2022-01-28 23:01:21.994750: I tensorflow/core/profiler/lib/profiler_session.cc:141] Profiler session started.\n",
      "2022-01-28 23:01:22.803403: I tensorflow/core/profiler/lib/profiler_session.cc:159] Profiler session tear down.\n",
      "2022-01-28 23:01:22.806786: I tensorflow/core/profiler/internal/gpu/cupti_tracer.cc:1743] CUPTI activity buffer flushed\n"
     ]
    },
    {
     "name": "stdout",
     "output_type": "stream",
     "text": [
      "Epoch 1/10\n",
      "  1/100 [..............................] - ETA: 49:17 - loss: 263483.9375 - bpp: 0.6788 - mse: 1029.2314"
     ]
    },
    {
     "name": "stderr",
     "output_type": "stream",
     "text": [
      "2022-01-28 23:01:53.809282: I tensorflow/core/profiler/lib/profiler_session.cc:126] Profiler session initializing.\n",
      "2022-01-28 23:01:53.809860: I tensorflow/core/profiler/lib/profiler_session.cc:141] Profiler session started.\n"
     ]
    },
    {
     "name": "stdout",
     "output_type": "stream",
     "text": [
      "  2/100 [..............................] - ETA: 2:54 - loss: 209191.3438 - bpp: 0.6772 - mse: 817.1510  "
     ]
    },
    {
     "name": "stderr",
     "output_type": "stream",
     "text": [
      "2022-01-28 23:01:57.016898: I tensorflow/core/profiler/lib/profiler_session.cc:66] Profiler session collecting data.\n",
      "2022-01-28 23:01:57.066845: I tensorflow/core/profiler/internal/gpu/cupti_tracer.cc:1743] CUPTI activity buffer flushed\n",
      "2022-01-28 23:01:57.226159: I tensorflow/core/profiler/internal/gpu/cupti_collector.cc:673]  GpuTracer has collected 3372 callback api events and 3336 activity events. \n",
      "2022-01-28 23:01:57.361335: I tensorflow/core/profiler/lib/profiler_session.cc:159] Profiler session tear down.\n",
      "2022-01-28 23:01:57.521751: I tensorflow/core/profiler/rpc/client/save_profile.cc:137] Creating directory: backup/train/plugins/profile/2022_01_28_23_01_57\n",
      "2022-01-28 23:01:57.591273: I tensorflow/core/profiler/rpc/client/save_profile.cc:143] Dumped gzipped tool data for trace.json.gz to backup/train/plugins/profile/2022_01_28_23_01_57/ab0180b02496.trace.json.gz\n"
     ]
    },
    {
     "name": "stdout",
     "output_type": "stream",
     "text": [
      "  3/100 [..............................] - ETA: 4:14 - loss: 199016.0781 - bpp: 0.6794 - mse: 777.4038"
     ]
    },
    {
     "name": "stderr",
     "output_type": "stream",
     "text": [
      "2022-01-28 23:01:57.820831: I tensorflow/core/profiler/rpc/client/save_profile.cc:137] Creating directory: backup/train/plugins/profile/2022_01_28_23_01_57\n",
      "2022-01-28 23:01:57.832086: I tensorflow/core/profiler/rpc/client/save_profile.cc:143] Dumped gzipped tool data for memory_profile.json.gz to backup/train/plugins/profile/2022_01_28_23_01_57/ab0180b02496.memory_profile.json.gz\n",
      "2022-01-28 23:01:57.843817: I tensorflow/core/profiler/rpc/client/capture_profile.cc:251] Creating directory: backup/train/plugins/profile/2022_01_28_23_01_57Dumped tool data for xplane.pb to backup/train/plugins/profile/2022_01_28_23_01_57/ab0180b02496.xplane.pb\n",
      "Dumped tool data for overview_page.pb to backup/train/plugins/profile/2022_01_28_23_01_57/ab0180b02496.overview_page.pb\n",
      "Dumped tool data for input_pipeline.pb to backup/train/plugins/profile/2022_01_28_23_01_57/ab0180b02496.input_pipeline.pb\n",
      "Dumped tool data for tensorflow_stats.pb to backup/train/plugins/profile/2022_01_28_23_01_57/ab0180b02496.tensorflow_stats.pb\n",
      "Dumped tool data for kernel_stats.pb to backup/train/plugins/profile/2022_01_28_23_01_57/ab0180b02496.kernel_stats.pb\n",
      "\n"
     ]
    },
    {
     "name": "stdout",
     "output_type": "stream",
     "text": [
      "  6/100 [>.............................] - ETA: 1:45 - loss: 163710.3750 - bpp: 0.6800 - mse: 639.4909WARNING:tensorflow:Callback method `on_train_batch_end` is slow compared to the batch time (batch time: 0.1083s vs `on_train_batch_end` time: 0.7485s). Check your callbacks.\n",
      "100/100 [==============================] - 46s 163ms/step - loss: 42323.3750 - bpp: 0.6481 - mse: 165.3232\n",
      "[MemoryCallback]:  9291812\n",
      "\n",
      "Epoch 00001: loss improved from inf to 42323.37500, saving model to checkpoints_testME4_no_norm49/\n",
      "Epoch 2/10\n",
      "100/100 [==============================] - 11s 108ms/step - loss: 17622.6895 - bpp: 0.6364 - mse: 68.8362\n",
      "[MemoryCallback]:  9291812\n",
      "\n",
      "Epoch 00002: loss improved from 42323.37500 to 17622.68945, saving model to checkpoints_testME4_no_norm49/\n",
      "Epoch 3/10\n",
      "100/100 [==============================] - 11s 106ms/step - loss: 14900.4824 - bpp: 0.6392 - mse: 58.2025\n",
      "[MemoryCallback]:  9291812\n",
      "\n",
      "Epoch 00003: loss improved from 17622.68945 to 14900.48242, saving model to checkpoints_testME4_no_norm49/\n",
      "Epoch 4/10\n",
      "100/100 [==============================] - 11s 105ms/step - loss: 12579.8564 - bpp: 0.6423 - mse: 49.1376\n",
      "[MemoryCallback]:  9291812\n",
      "\n",
      "Epoch 00004: loss improved from 14900.48242 to 12579.85645, saving model to checkpoints_testME4_no_norm49/\n",
      "Epoch 5/10\n",
      "100/100 [==============================] - 11s 108ms/step - loss: 11250.1348 - bpp: 0.6454 - mse: 43.9433\n",
      "[MemoryCallback]:  9291812\n",
      "\n",
      "Epoch 00005: loss improved from 12579.85645 to 11250.13477, saving model to checkpoints_testME4_no_norm49/\n",
      "Epoch 6/10\n",
      "100/100 [==============================] - 11s 106ms/step - loss: 10362.6123 - bpp: 0.6481 - mse: 40.4764\n",
      "[MemoryCallback]:  9291812\n",
      "\n",
      "Epoch 00006: loss improved from 11250.13477 to 10362.61230, saving model to checkpoints_testME4_no_norm49/\n",
      "Epoch 7/10\n",
      "100/100 [==============================] - 11s 109ms/step - loss: 9617.3213 - bpp: 0.6505 - mse: 37.56511s - loss: 9687.7256 - bpp: 0.6503 \n",
      "[MemoryCallback]:  9291812\n",
      "\n",
      "Epoch 00007: loss improved from 10362.61230 to 9617.32129, saving model to checkpoints_testME4_no_norm49/\n",
      "Epoch 8/10\n",
      "100/100 [==============================] - 11s 105ms/step - loss: 9472.8057 - bpp: 0.6529 - mse: 37.0006\n",
      "[MemoryCallback]:  9291812\n",
      "\n",
      "Epoch 00008: loss improved from 9617.32129 to 9472.80566, saving model to checkpoints_testME4_no_norm49/\n",
      "Epoch 9/10\n",
      "100/100 [==============================] - 10s 104ms/step - loss: 8528.5410 - bpp: 0.6551 - mse: 33.3120\n",
      "[MemoryCallback]:  9291812\n",
      "\n",
      "Epoch 00009: loss improved from 9472.80566 to 8528.54102, saving model to checkpoints_testME4_no_norm49/\n",
      "Epoch 10/10\n",
      " 40/100 [===========>..................] - ETA: 6s - loss: 8710.9180 - bpp: 0.6558 - mse: 34.0245"
     ]
    }
   ],
   "source": [
    "batch_size = 1\n",
    "EPOCHS = 10\n",
    "Height = 240\n",
    "Width = 240\n",
    "Channel = 3\n",
    "lmbda = 256\n",
    "lr_init = 1e-4\n",
    "samples = 100\n",
    "I_QP=27\n",
    "\n",
    "args = OpenDVC.Arguments()\n",
    "model = OpenDVC.OpenDVC(width=Width, height=Height, batch_size=batch_size, num_filters=128, lmbda=lmbda)\n",
    "model.compile(\n",
    "    optimizer=tf.keras.optimizers.Adam(learning_rate=lr_init),\n",
    ")\n",
    "print(\"Loading weights\")\n",
    "model.load_weights(\"checkpoints_testME4_no_norm48\")\n",
    "last_stop = 49\n",
    "for i in range(100):\n",
    "    # checkponts_last_path = \"checkpoints_testME4_no_norm{}/\".format(last_stop+i)\n",
    "    checkponts_new_path = \"checkpoints_testME4_no_norm{}/\".format(last_stop+i+1)\n",
    "    \n",
    "    # model.summary()\n",
    "\n",
    "    print(\"* [Model compiled]...\")\n",
    "\n",
    "    print(\"* [Loading dataset]...\")\n",
    "    data = load.load_data_vimeo90k(\"/mnt/WindowsDev/Developer/tensorflow-wavelets/folder_cloud.npy\", samples, Height, Width, Channel, I_QP)\n",
    "\n",
    "    dataset = tf.data.Dataset.from_tensor_slices(data)\n",
    "    \n",
    "    \n",
    "    print(\"Going to fit\")\n",
    "\n",
    "    hist = model.fit(\n",
    "            dataset,\n",
    "            epochs=EPOCHS, \n",
    "            verbose=1, \n",
    "            callbacks=\n",
    "                [\n",
    "                OpenDVC.MemoryCallback(),\n",
    "                tf.keras.callbacks.ModelCheckpoint(filepath=checkponts_new_path, save_weights_only=True, save_freq='epoch',monitor=\"loss\",mode='min',  save_best_only=True, verbose=1), \n",
    "                tf.keras.callbacks.TerminateOnNaN(),\n",
    "                tf.keras.callbacks.TensorBoard(log_dir=args.backup_restore, histogram_freq=0, update_freq=\"epoch\"),            \n",
    "                ],\n",
    "\n",
    "            )  \n",
    "\n",
    "    path = load.load_random_path(\"/mnt/WindowsDev/Developer/tensorflow-wavelets/folder_cloud.npy\")\n",
    "    out_bin = \"/workspaces/tensorflow-wavelets/Development/OpenDVC/Test_com/test{}.bin\".format(i)\n",
    "    out_decom = \"/workspaces/tensorflow-wavelets/Development/OpenDVC/Test_com/testdcom{}.png\".format(i)\n",
    "    p_on_test = \"/workspaces/tensorflow-wavelets/Development/OpenDVC/Test_com/test_p_frame{}.png\".format(i)\n",
    "    i_on_test = \"/workspaces/tensorflow-wavelets/Development/OpenDVC/Test_com/test_i_frame{}.png\".format(i)\n",
    "\n",
    "    i_frame = path + 'im1' + '.png'\n",
    "    p_frame = path + 'im2' + '.png'\n",
    "    print(i_frame)\n",
    "\n",
    "    OpenDVC.write_png(p_on_test, OpenDVC.read_png_crop(p_frame, 240, 240))\n",
    "    OpenDVC.write_png(i_on_test, OpenDVC.read_png_crop(i_frame, 240, 240))\n",
    "\n",
    "    OpenDVC.compress(model, i_frame, p_frame, out_bin, 240, 240)\n",
    "    OpenDVC.decompress(model, i_frame, out_bin, out_decom, 240, 240)\n"
   ]
  }
 ],
 "metadata": {
  "interpreter": {
   "hash": "31f2aee4e71d21fbe5cf8b01ff0e069b9275f58929596ceb00d14d90e3e16cd6"
  },
  "kernelspec": {
   "display_name": "Python 3.8.10 64-bit",
   "language": "python",
   "name": "python3"
  },
  "language_info": {
   "codemirror_mode": {
    "name": "ipython",
    "version": 3
   },
   "file_extension": ".py",
   "mimetype": "text/x-python",
   "name": "python",
   "nbconvert_exporter": "python",
   "pygments_lexer": "ipython3",
   "version": "3.8.10"
  },
  "orig_nbformat": 4
 },
 "nbformat": 4,
 "nbformat_minor": 2
}
