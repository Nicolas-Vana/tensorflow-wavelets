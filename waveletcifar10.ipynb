{
 "cells": [
  {
   "cell_type": "code",
   "execution_count": 1,
   "metadata": {
    "id": "PKgXo17x3_hg"
   },
   "outputs": [
    {
     "name": "stderr",
     "output_type": "stream",
     "text": [
      "Using TensorFlow backend.\n"
     ]
    }
   ],
   "source": [
    "import os\n",
    "import pickle\n",
    "import datetime\n",
    "import numpy as np\n",
    "import tensorflow as tf\n",
    "import models.cifar10CNN\n",
    "import models.WaveletCifar10CNN\n",
    "\n",
    "from keras.datasets import cifar10\n",
    "from sklearn.model_selection import KFold\n",
    "from keras.optimizers import Adam, SGD, RMSprop\n",
    "from keras.callbacks import ModelCheckpoint, EarlyStopping\n",
    "from tensorflow.keras.utils import to_categorical, Sequence\n"
   ]
  },
  {
   "cell_type": "code",
   "execution_count": 2,
   "metadata": {
    "id": "TfvnzkdZSqli"
   },
   "outputs": [],
   "source": [
    "weights_filepath = 'weights'\n",
    "logs_filepath = 'logs'\n",
    "\n",
    "\n",
    "if not os.path.exists(weights_filepath):\n",
    "    os.makedirs(weights_filepath)\n",
    "\n",
    "if not os.path.exists(logs_filepath):\n",
    "    os.makedirs(logs_filepath)\n"
   ]
  },
  {
   "cell_type": "code",
   "execution_count": 3,
   "metadata": {
    "id": "i7Y0GE3jSqlj"
   },
   "outputs": [],
   "source": [
    "nb_classes = 10\n",
    "num_folds = 10\n",
    "batch_size = 32\n",
    "epochs = 30\n",
    "\n",
    "lr = 1e-4  # learning rate\n",
    "beta_1 = 0.9         # beta 1 - for adam optimizer\n",
    "beta_2 = 0.96        # beta 2 - for adam optimizer\n",
    "epsilon = 1e-7        # epsilon - for adam optimizer\n",
    "\n",
    "trainFactor = 0.8\n",
    "imageShape = (32, 32, 3)  # CIFAR-10 60,000 32X32 color\n"
   ]
  },
  {
   "cell_type": "code",
   "execution_count": 4,
   "metadata": {
    "id": "I9Sur-BnSqlj"
   },
   "outputs": [],
   "source": [
    "(x_train, y_train), (x_test, y_test) = cifar10.load_data()"
   ]
  },
  {
   "cell_type": "code",
   "execution_count": 5,
   "metadata": {
    "id": "tc2eXRu6Sqlj"
   },
   "outputs": [
    {
     "name": "stdout",
     "output_type": "stream",
     "text": [
      "WARNING:tensorflow:From C:\\Users\\Olya\\Anaconda3\\envs\\dwtcnn\\lib\\site-packages\\tensorflow_core\\python\\ops\\resource_variable_ops.py:1630: calling BaseResourceVariable.__init__ (from tensorflow.python.ops.resource_variable_ops) with constraint is deprecated and will be removed in a future version.\n",
      "Instructions for updating:\n",
      "If using Keras pass *_constraint arguments to layers.\n"
     ]
    }
   ],
   "source": [
    "optimizer = Adam(learning_rate=lr, beta_1=beta_1, beta_2=beta_2, epsilon=epsilon)  # SGD()"
   ]
  },
  {
   "cell_type": "code",
   "execution_count": 6,
   "metadata": {
    "id": "WHTWJQwwSqlj"
   },
   "outputs": [],
   "source": [
    "y_train = to_categorical(y_train)\n",
    "y_test = to_categorical(y_test)\n",
    "x_train = x_train.astype('float32') / 255.0\n",
    "x_test = x_test.astype('float32') / 255.0\n"
   ]
  },
  {
   "cell_type": "code",
   "execution_count": 7,
   "metadata": {
    "colab": {
     "base_uri": "https://localhost:8080/",
     "height": 374
    },
    "executionInfo": {
     "elapsed": 1528,
     "status": "error",
     "timestamp": 1619560564816,
     "user": {
      "displayName": "Timor Leiderman",
      "photoUrl": "",
      "userId": "08373872098763895641"
     },
     "user_tz": -180
    },
    "id": "BS6tyzZwSqlk",
    "outputId": "72496378-c9c1-4782-95ce-9a0803e0a851"
   },
   "outputs": [
    {
     "name": "stdout",
     "output_type": "stream",
     "text": [
      "WARNING:tensorflow:From C:\\Users\\Olya\\Anaconda3\\envs\\dwtcnn\\lib\\site-packages\\keras\\backend\\tensorflow_backend.py:422: The name tf.global_variables is deprecated. Please use tf.compat.v1.global_variables instead.\n",
      "\n",
      "Train on 40000 samples, validate on 10000 samples\n",
      "Epoch 1/30\n",
      " - 29s - loss: 2.4951 - accuracy: 0.1668 - val_loss: 1.8960 - val_accuracy: 0.2792\n",
      "Epoch 2/30\n",
      " - 28s - loss: 1.8783 - accuracy: 0.2975 - val_loss: 1.7341 - val_accuracy: 0.3787\n",
      "Epoch 3/30\n",
      " - 29s - loss: 1.7069 - accuracy: 0.3702 - val_loss: 1.4878 - val_accuracy: 0.4581\n",
      "Epoch 4/30\n",
      " - 28s - loss: 1.6103 - accuracy: 0.4083 - val_loss: 1.4079 - val_accuracy: 0.4943\n",
      "Epoch 5/30\n",
      " - 28s - loss: 1.5248 - accuracy: 0.4444 - val_loss: 1.3574 - val_accuracy: 0.5144\n",
      "Epoch 6/30\n",
      " - 29s - loss: 1.4767 - accuracy: 0.4617 - val_loss: 1.2811 - val_accuracy: 0.5417\n",
      "Epoch 7/30\n",
      " - 28s - loss: 1.4130 - accuracy: 0.4910 - val_loss: 1.2643 - val_accuracy: 0.5400\n",
      "Epoch 8/30\n",
      " - 28s - loss: 1.3668 - accuracy: 0.5089 - val_loss: 1.1882 - val_accuracy: 0.5764\n",
      "Epoch 9/30\n",
      " - 29s - loss: 1.3238 - accuracy: 0.5272 - val_loss: 1.1660 - val_accuracy: 0.5831\n",
      "Epoch 10/30\n",
      " - 29s - loss: 1.2713 - accuracy: 0.5464 - val_loss: 1.1710 - val_accuracy: 0.5826\n",
      "Epoch 11/30\n",
      " - 28s - loss: 1.2365 - accuracy: 0.5597 - val_loss: 1.1560 - val_accuracy: 0.6004\n",
      "Epoch 12/30\n",
      " - 28s - loss: 1.2034 - accuracy: 0.5727 - val_loss: 1.0536 - val_accuracy: 0.6260\n",
      "Epoch 13/30\n",
      " - 29s - loss: 1.1753 - accuracy: 0.5832 - val_loss: 1.0293 - val_accuracy: 0.6371\n",
      "Epoch 14/30\n",
      " - 29s - loss: 1.1351 - accuracy: 0.5975 - val_loss: 1.0402 - val_accuracy: 0.6427\n",
      "Epoch 15/30\n",
      " - 28s - loss: 1.1112 - accuracy: 0.6048 - val_loss: 0.9822 - val_accuracy: 0.6575\n",
      "Epoch 16/30\n",
      " - 29s - loss: 1.0817 - accuracy: 0.6174 - val_loss: 0.9689 - val_accuracy: 0.6718\n",
      "Epoch 17/30\n",
      " - 29s - loss: 1.0572 - accuracy: 0.6262 - val_loss: 0.9266 - val_accuracy: 0.6804\n",
      "Epoch 18/30\n",
      " - 29s - loss: 1.0361 - accuracy: 0.6336 - val_loss: 0.9257 - val_accuracy: 0.6855\n",
      "Epoch 19/30\n",
      " - 29s - loss: 1.0103 - accuracy: 0.6467 - val_loss: 0.9611 - val_accuracy: 0.6623\n",
      "Epoch 20/30\n",
      " - 29s - loss: 0.9881 - accuracy: 0.6533 - val_loss: 0.9436 - val_accuracy: 0.6792\n",
      "Epoch 21/30\n",
      " - 29s - loss: 0.9692 - accuracy: 0.6597 - val_loss: 0.8245 - val_accuracy: 0.7161\n",
      "Epoch 22/30\n",
      " - 29s - loss: 0.9423 - accuracy: 0.6704 - val_loss: 0.8069 - val_accuracy: 0.7191\n",
      "Epoch 23/30\n",
      " - 29s - loss: 0.9169 - accuracy: 0.6792 - val_loss: 0.8234 - val_accuracy: 0.7172\n",
      "Epoch 24/30\n",
      " - 29s - loss: 0.9014 - accuracy: 0.6845 - val_loss: 0.8261 - val_accuracy: 0.7131\n",
      "Epoch 25/30\n",
      " - 29s - loss: 0.8816 - accuracy: 0.6903 - val_loss: 0.7917 - val_accuracy: 0.7251\n",
      "Epoch 26/30\n",
      " - 29s - loss: 0.8643 - accuracy: 0.6970 - val_loss: 0.7733 - val_accuracy: 0.7337\n",
      "Epoch 27/30\n",
      " - 28s - loss: 0.8421 - accuracy: 0.7031 - val_loss: 0.7420 - val_accuracy: 0.7458\n",
      "Epoch 28/30\n",
      " - 28s - loss: 0.8248 - accuracy: 0.7119 - val_loss: 0.7413 - val_accuracy: 0.7468\n",
      "Epoch 29/30\n",
      " - 28s - loss: 0.8193 - accuracy: 0.7147 - val_loss: 0.7355 - val_accuracy: 0.7483\n",
      "Epoch 30/30\n",
      " - 29s - loss: 0.7995 - accuracy: 0.7213 - val_loss: 0.7817 - val_accuracy: 0.7311\n",
      "10000/10000 [==============================] - 2s 185us/step\n"
     ]
    }
   ],
   "source": [
    "\n",
    "# Create and Train the Model\n",
    "\n",
    "model = models.WaveletCifar10CNN.WaveletCNN(imageShape, nb_classes)\n",
    "history_file_path = \"trainHistoryWaveletCifar10CNN.txt\" # save loss and val loss\n",
    "\n",
    "# model.summary()\n",
    "\n",
    "model.compile(loss='categorical_crossentropy', optimizer=optimizer, metrics=[\"accuracy\"])\n",
    "\n",
    "h5_tmp = \"tmp.h5\"\n",
    "\n",
    "history = model.fit(x_train, y_train,\n",
    "                    validation_split=1 - trainFactor,\n",
    "                    epochs=epochs,\n",
    "                    batch_size=batch_size,\n",
    "                    verbose=2,\n",
    "                    callbacks=[\n",
    "                        ModelCheckpoint(h5_tmp, monitor='val_loss', verbose=0, save_best_only=True, mode='auto'),\n",
    "                        EarlyStopping(monitor='val_loss', min_delta=1e-3, patience=10, verbose=1, mode='auto')\n",
    "                        ],\n",
    "                    )\n",
    "\n",
    "model.load_weights(h5_tmp)\n",
    "weights_path = os.path.join(weights_filepath, \"WCNNN.h5\")\n",
    "model.save(weights_path)\n",
    "\n",
    "# Model Evaluation\n",
    "result = model.evaluate(x_test, y_test)\n",
    "\n",
    "with open(history_file_path, 'wb') as f:\n",
    "    pickle.dump(history.history, f)\n"
   ]
  },
  {
   "cell_type": "code",
   "execution_count": 1,
   "metadata": {
    "id": "GR7psEeUSqll"
   },
   "outputs": [
    {
     "data": {
      "image/png": "[encoded data removed]",
      "text/plain": [
       "<Figure size 432x288 with 1 Axes>"
      ]
     },
     "metadata": {
      "needs_background": "light"
     },
     "output_type": "display_data"
    }
   ],
   "source": [
    "import pickle\n",
    "import matplotlib.pyplot as plt\n",
    "\n",
    "history_file_path = r\"trainHistoryWaveletCifar10CNN.txt\"\n",
    "\n",
    "with open(history_file_path, 'rb') as pickle_file:\n",
    "    history = pickle.load(pickle_file)\n",
    "\n",
    "\n",
    "# plot train and validation loss\n",
    "plt.plot(history['loss'])\n",
    "plt.plot(history['val_loss'])\n",
    "plt.title('model loss')\n",
    "plt.ylabel('loss')\n",
    "plt.xlabel('epoch')\n",
    "plt.legend(['train', 'validation'], loc='upper left')\n",
    "\n",
    "plt.show()\n",
    "\n",
    "\n",
    "\n"
   ]
  },
  {
   "cell_type": "code",
   "execution_count": null,
   "metadata": {
    "id": "BaMMFzhOT7OM"
   },
   "outputs": [],
   "source": []
  }
 ],
 "metadata": {
  "accelerator": "GPU",
  "colab": {
   "collapsed_sections": [],
   "name": "waveletcifar10.ipynb",
   "provenance": []
  },
  "kernelspec": {
   "display_name": "Python 3",
   "language": "python",
   "name": "python3"
  },
  "language_info": {
   "codemirror_mode": {
    "name": "ipython",
    "version": 3
   },
   "file_extension": ".py",
   "mimetype": "text/x-python",
   "name": "python",
   "nbconvert_exporter": "python",
   "pygments_lexer": "ipython3",
   "version": "3.6.13"
  }
 },
 "nbformat": 4,
 "nbformat_minor": 1
}
