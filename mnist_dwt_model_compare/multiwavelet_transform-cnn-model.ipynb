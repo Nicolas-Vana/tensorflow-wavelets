{
 "cells": [
  {
   "cell_type": "code",
   "execution_count": 1,
   "id": "a177ec7d",
   "metadata": {},
   "outputs": [],
   "source": [
    "import numpy as np\n",
    "import tensorflow as tf\n",
    "from tensorflow import keras\n",
    "from tensorflow.keras import layers, Model\n",
    "from tensorflow.keras.utils import to_categorical\n",
    "\n",
    "import os\n",
    "import sys  \n",
    "sys.path.insert(0, 'G:\\\\My Drive\\\\Colab Notebooks\\\\MWCNN')\n",
    "\n",
    "from Layers.DMWT import *\n",
    "from tensorflow.keras.datasets import mnist\n",
    "from tensorflow.keras.optimizers import Adam, SGD"
   ]
  },
  {
   "cell_type": "code",
   "execution_count": 2,
   "id": "ba52173b",
   "metadata": {},
   "outputs": [],
   "source": [
    "nb_classes = 10\n",
    "batch_size = 32\n",
    "epochs = 40\n",
    "\n",
    "lr = 1e-4  # learning rate\n",
    "beta_1 = 0.9         # beta 1 - for adam optimizer\n",
    "beta_2 = 0.96        # beta 2 - for adam optimizer\n",
    "epsilon = 1e-7        # epsilon - for adam optimizer\n",
    "\n",
    "trainFactor = 0.8\n",
    "input_shape = (28, 28, 1)  # CIFAR-10 60,000 32X32 color\n",
    "\n",
    "# optimizer = Adam(learning_rate=lr, beta_1=beta_1, beta_2=beta_2, epsilon=epsilon)\n",
    "optimizer = SGD(lr=lr, momentum=beta_1)\n",
    "\n",
    "(x_train, y_train), (x_test, y_test) = mnist.load_data()\n",
    "\n",
    "y_train = to_categorical(y_train)\n",
    "y_test = to_categorical(y_test)\n",
    "x_train = x_train.astype('float32') / 255.0\n",
    "x_train = np.expand_dims(x_train, axis=-1)\n",
    "\n",
    "x_test = x_test.astype('float32') / 255.0\n",
    "x_test = np.expand_dims(x_test, axis=-1)\n"
   ]
  },
  {
   "cell_type": "code",
   "execution_count": 3,
   "id": "33273bbf",
   "metadata": {},
   "outputs": [
    {
     "name": "stdout",
     "output_type": "stream",
     "text": [
      "WARNING:tensorflow:From C:\\Users\\Olya\\Anaconda3\\envs\\dwtcnn\\lib\\site-packages\\tensorflow_core\\python\\ops\\resource_variable_ops.py:1630: calling BaseResourceVariable.__init__ (from tensorflow.python.ops.resource_variable_ops) with constraint is deprecated and will be removed in a future version.\n",
      "Instructions for updating:\n",
      "If using Keras pass *_constraint arguments to layers.\n",
      "Model: \"mymodel\"\n",
      "_________________________________________________________________\n",
      "Layer (type)                 Output Shape              Param #   \n",
      "=================================================================\n",
      "input_1 (InputLayer)         [(None, 28, 28, 1)]       0         \n",
      "_________________________________________________________________\n",
      "dmwt (DMWT)                  (None, 56, 56, 1)         0         \n",
      "_________________________________________________________________\n",
      "conv2d (Conv2D)              (None, 56, 56, 56)        560       \n",
      "_________________________________________________________________\n",
      "dropout (Dropout)            (None, 56, 56, 56)        0         \n",
      "_________________________________________________________________\n",
      "flatten (Flatten)            (None, 175616)            0         \n",
      "_________________________________________________________________\n",
      "dense (Dense)                (None, 10)                1756170   \n",
      "=================================================================\n",
      "Total params: 1,756,730\n",
      "Trainable params: 1,756,730\n",
      "Non-trainable params: 0\n",
      "_________________________________________________________________\n"
     ]
    }
   ],
   "source": [
    "# load DWT db2 model\n",
    "input_shape = (28, 28, 1)  # CIFAR-10 60,000 32X32 color\n",
    "\n",
    "x_input = layers.Input(shape=input_shape)\n",
    "x = DMWT()(x_input)\n",
    "x = layers.Conv2D(56, (3, 3), padding='same', activation=\"relu\")(x)\n",
    "x = layers.Dropout(0.5)(x)\n",
    "x = layers.Flatten()(x)\n",
    "x = layers.Dense(nb_classes, activation=\"softmax\")(x)\n",
    "\n",
    "model = Model(x_input, x, name=\"mymodel\")\n",
    "model.summary()\n",
    "\n"
   ]
  },
  {
   "cell_type": "code",
   "execution_count": 4,
   "id": "30715c34",
   "metadata": {},
   "outputs": [],
   "source": [
    "model.compile(loss=\"categorical_crossentropy\",\n",
    "              optimizer=optimizer, metrics=[\"accuracy\"])"
   ]
  },
  {
   "cell_type": "code",
   "execution_count": 5,
   "id": "178e4e7d",
   "metadata": {},
   "outputs": [
    {
     "name": "stdout",
     "output_type": "stream",
     "text": [
      "Train on 48000 samples, validate on 12000 samples\n",
      "Epoch 1/40\n",
      "48000/48000 - 28s - loss: 1.1471 - acc: 0.7677 - val_loss: 0.5164 - val_acc: 0.8744\n",
      "Epoch 2/40\n",
      "48000/48000 - 27s - loss: 0.4721 - acc: 0.8740 - val_loss: 0.3755 - val_acc: 0.8978\n",
      "Epoch 3/40\n",
      "48000/48000 - 27s - loss: 0.3932 - acc: 0.8898 - val_loss: 0.3358 - val_acc: 0.9058\n",
      "Epoch 4/40\n",
      "48000/48000 - 27s - loss: 0.3626 - acc: 0.8964 - val_loss: 0.3164 - val_acc: 0.9094\n",
      "Epoch 5/40\n",
      "48000/48000 - 27s - loss: 0.3425 - acc: 0.9014 - val_loss: 0.3019 - val_acc: 0.9133\n",
      "Epoch 6/40\n",
      "48000/48000 - 27s - loss: 0.3290 - acc: 0.9055 - val_loss: 0.2912 - val_acc: 0.9168\n",
      "Epoch 7/40\n",
      "48000/48000 - 27s - loss: 0.3169 - acc: 0.9093 - val_loss: 0.2824 - val_acc: 0.9193\n",
      "Epoch 8/40\n",
      "48000/48000 - 27s - loss: 0.3061 - acc: 0.9114 - val_loss: 0.2752 - val_acc: 0.9215\n",
      "Epoch 9/40\n",
      "48000/48000 - 27s - loss: 0.2979 - acc: 0.9140 - val_loss: 0.2670 - val_acc: 0.9247\n",
      "Epoch 10/40\n",
      "48000/48000 - 27s - loss: 0.2892 - acc: 0.9167 - val_loss: 0.2621 - val_acc: 0.9260\n",
      "Epoch 11/40\n",
      "48000/48000 - 27s - loss: 0.2809 - acc: 0.9193 - val_loss: 0.2545 - val_acc: 0.9283\n",
      "Epoch 12/40\n",
      "48000/48000 - 27s - loss: 0.2726 - acc: 0.9225 - val_loss: 0.2477 - val_acc: 0.9308\n",
      "Epoch 13/40\n",
      "48000/48000 - 27s - loss: 0.2650 - acc: 0.9240 - val_loss: 0.2406 - val_acc: 0.9318\n",
      "Epoch 14/40\n",
      "48000/48000 - 27s - loss: 0.2556 - acc: 0.9272 - val_loss: 0.2342 - val_acc: 0.9344\n",
      "Epoch 15/40\n",
      "48000/48000 - 27s - loss: 0.2497 - acc: 0.9297 - val_loss: 0.2278 - val_acc: 0.9358\n",
      "Epoch 16/40\n",
      "48000/48000 - 27s - loss: 0.2433 - acc: 0.9314 - val_loss: 0.2224 - val_acc: 0.9389\n",
      "Epoch 17/40\n",
      "48000/48000 - 27s - loss: 0.2362 - acc: 0.9339 - val_loss: 0.2165 - val_acc: 0.9397\n",
      "Epoch 18/40\n",
      "48000/48000 - 27s - loss: 0.2285 - acc: 0.9354 - val_loss: 0.2117 - val_acc: 0.9425\n",
      "Epoch 19/40\n",
      "48000/48000 - 27s - loss: 0.2208 - acc: 0.9381 - val_loss: 0.2040 - val_acc: 0.9442\n",
      "Epoch 20/40\n",
      "48000/48000 - 27s - loss: 0.2158 - acc: 0.9395 - val_loss: 0.1987 - val_acc: 0.9451\n",
      "Epoch 21/40\n",
      "48000/48000 - 27s - loss: 0.2113 - acc: 0.9408 - val_loss: 0.1935 - val_acc: 0.9479\n",
      "Epoch 22/40\n",
      "48000/48000 - 27s - loss: 0.2045 - acc: 0.9421 - val_loss: 0.1890 - val_acc: 0.9489\n",
      "Epoch 23/40\n",
      "48000/48000 - 27s - loss: 0.1984 - acc: 0.9447 - val_loss: 0.1841 - val_acc: 0.9511\n",
      "Epoch 24/40\n",
      "48000/48000 - 27s - loss: 0.1927 - acc: 0.9456 - val_loss: 0.1805 - val_acc: 0.9509\n",
      "Epoch 25/40\n",
      "48000/48000 - 27s - loss: 0.1877 - acc: 0.9473 - val_loss: 0.1756 - val_acc: 0.9535\n",
      "Epoch 26/40\n",
      "48000/48000 - 27s - loss: 0.1827 - acc: 0.9486 - val_loss: 0.1703 - val_acc: 0.9555\n",
      "Epoch 27/40\n",
      "48000/48000 - 27s - loss: 0.1772 - acc: 0.9498 - val_loss: 0.1664 - val_acc: 0.9556\n",
      "Epoch 28/40\n",
      "48000/48000 - 27s - loss: 0.1740 - acc: 0.9509 - val_loss: 0.1619 - val_acc: 0.9572\n",
      "Epoch 29/40\n",
      "48000/48000 - 27s - loss: 0.1687 - acc: 0.9528 - val_loss: 0.1592 - val_acc: 0.9579\n",
      "Epoch 30/40\n",
      "48000/48000 - 27s - loss: 0.1643 - acc: 0.9537 - val_loss: 0.1558 - val_acc: 0.9587\n",
      "Epoch 31/40\n",
      "48000/48000 - 27s - loss: 0.1610 - acc: 0.9552 - val_loss: 0.1526 - val_acc: 0.9597\n",
      "Epoch 32/40\n",
      "48000/48000 - 27s - loss: 0.1573 - acc: 0.9560 - val_loss: 0.1491 - val_acc: 0.9608\n",
      "Epoch 33/40\n",
      "48000/48000 - 27s - loss: 0.1538 - acc: 0.9570 - val_loss: 0.1466 - val_acc: 0.9615\n",
      "Epoch 34/40\n",
      "48000/48000 - 27s - loss: 0.1500 - acc: 0.9584 - val_loss: 0.1430 - val_acc: 0.9623\n",
      "Epoch 35/40\n",
      "48000/48000 - 27s - loss: 0.1469 - acc: 0.9602 - val_loss: 0.1402 - val_acc: 0.9629\n",
      "Epoch 36/40\n",
      "48000/48000 - 27s - loss: 0.1437 - acc: 0.9601 - val_loss: 0.1382 - val_acc: 0.9639\n",
      "Epoch 37/40\n",
      "48000/48000 - 27s - loss: 0.1400 - acc: 0.9615 - val_loss: 0.1349 - val_acc: 0.9645\n",
      "Epoch 38/40\n",
      "48000/48000 - 27s - loss: 0.1376 - acc: 0.9619 - val_loss: 0.1341 - val_acc: 0.9647\n",
      "Epoch 39/40\n",
      "48000/48000 - 27s - loss: 0.1349 - acc: 0.9628 - val_loss: 0.1311 - val_acc: 0.9653\n",
      "Epoch 40/40\n",
      "48000/48000 - 28s - loss: 0.1329 - acc: 0.9628 - val_loss: 0.1286 - val_acc: 0.9662\n"
     ]
    }
   ],
   "source": [
    "history = model.fit(x_train, y_train,\n",
    "                    validation_split=1 - trainFactor,\n",
    "                    epochs=epochs,\n",
    "                    batch_size=batch_size,\n",
    "                    verbose=2,\n",
    "                    )"
   ]
  },
  {
   "cell_type": "code",
   "execution_count": 6,
   "id": "376a481a",
   "metadata": {},
   "outputs": [
    {
     "data": {
      "image/png": "[encoded data removed]",
      "text/plain": [
       "<Figure size 432x288 with 1 Axes>"
      ]
     },
     "metadata": {
      "needs_background": "light"
     },
     "output_type": "display_data"
    }
   ],
   "source": [
    "import matplotlib.pyplot as plt\n",
    "plt.plot(history.history['loss'])\n",
    "plt.plot(history.history['val_loss'])\n",
    "plt.title('model loss')\n",
    "plt.ylabel('loss')\n",
    "plt.xlabel('epoch')\n",
    "plt.legend(['train', 'validation'], loc='upper left')\n",
    "\n",
    "plt.show()"
   ]
  },
  {
   "cell_type": "code",
   "execution_count": null,
   "id": "cc79c06b",
   "metadata": {},
   "outputs": [],
   "source": []
  }
 ],
 "metadata": {
  "kernelspec": {
   "display_name": "Python 3",
   "language": "python",
   "name": "python3"
  },
  "language_info": {
   "codemirror_mode": {
    "name": "ipython",
    "version": 3
   },
   "file_extension": ".py",
   "mimetype": "text/x-python",
   "name": "python",
   "nbconvert_exporter": "python",
   "pygments_lexer": "ipython3",
   "version": "3.6.13"
  }
 },
 "nbformat": 4,
 "nbformat_minor": 5
}
